{
  "nbformat": 4,
  "nbformat_minor": 0,
  "metadata": {
    "colab": {
      "name": "Customer_Segmentation.ipynb",
      "provenance": [],
      "collapsed_sections": []
    },
    "kernelspec": {
      "display_name": "Python 3",
      "name": "python3"
    }
  },
  "cells": [
    {
      "cell_type": "markdown",
      "metadata": {
        "id": "6K3CVf-XqW_K"
      },
      "source": [
        "## Data Collection"
      ]
    },
    {
      "cell_type": "markdown",
      "metadata": {
        "id": "vwYp2u3Pq0hL"
      },
      "source": [
        "### Import Modules"
      ]
    },
    {
      "cell_type": "code",
      "metadata": {
        "colab": {
          "base_uri": "https://localhost:8080/"
        },
        "id": "LcJY0TXB56e8",
        "outputId": "026d9133-bd7d-46af-b8b6-06dd42acacd1"
      },
      "source": [
        "from google.colab import drive\n",
        "drive.mount('/content/drive')"
      ],
      "execution_count": null,
      "outputs": [
        {
          "output_type": "stream",
          "text": [
            "Mounted at /content/drive\n"
          ],
          "name": "stdout"
        }
      ]
    },
    {
      "cell_type": "code",
      "metadata": {
        "id": "NTeh-5ckqw33"
      },
      "source": [
        "import pandas as pd\r\n",
        "import numpy as np\r\n",
        "import plotly.express as px\r\n",
        "import matplotlib.pyplot as plt\r\n",
        "import datetime as dt\r\n",
        "\r\n",
        "from wordcloud import WordCloud, STOPWORDS\r\n",
        "import plotly.offline as pyoff\r\n",
        "import plotly.graph_objs as go\r\n",
        "from sklearn.cluster import KMeans\r\n",
        "\r\n",
        "import warnings\r\n",
        "warnings.filterwarnings(\"ignore\")"
      ],
      "execution_count": null,
      "outputs": []
    },
    {
      "cell_type": "code",
      "metadata": {
        "colab": {
          "base_uri": "https://localhost:8080/",
          "height": 456
        },
        "id": "BKV_K4AN8ED_",
        "outputId": "44ee8188-c17d-48d5-9a27-db2bef455999"
      },
      "source": [
        "#load dataset\r\n",
        "sales = pd.read_excel(\"/content/drive/My Drive/Dataset_Literata/Dataset_Literata.xlsx\")\r\n",
        "sales"
      ],
      "execution_count": null,
      "outputs": [
        {
          "output_type": "execute_result",
          "data": {
            "text/html": [
              "<div>\n",
              "<style scoped>\n",
              "    .dataframe tbody tr th:only-of-type {\n",
              "        vertical-align: middle;\n",
              "    }\n",
              "\n",
              "    .dataframe tbody tr th {\n",
              "        vertical-align: top;\n",
              "    }\n",
              "\n",
              "    .dataframe thead th {\n",
              "        text-align: right;\n",
              "    }\n",
              "</style>\n",
              "<table border=\"1\" class=\"dataframe\">\n",
              "  <thead>\n",
              "    <tr style=\"text-align: right;\">\n",
              "      <th></th>\n",
              "      <th>No. Invoice</th>\n",
              "      <th>Tanggal Invoice</th>\n",
              "      <th>Kode Barang</th>\n",
              "      <th>Nama Customer</th>\n",
              "      <th>Nama Barang</th>\n",
              "      <th>Qty</th>\n",
              "      <th>Harga</th>\n",
              "      <th>Total</th>\n",
              "    </tr>\n",
              "  </thead>\n",
              "  <tbody>\n",
              "    <tr>\n",
              "      <th>0</th>\n",
              "      <td>INV/20200701/001</td>\n",
              "      <td>2020-07-01 09:10:20.000</td>\n",
              "      <td>15000001</td>\n",
              "      <td>Tilar Handayani</td>\n",
              "      <td>TAMA HEALTHY MASK - NON MEDICAL 3PLY, WHO RECO...</td>\n",
              "      <td>9</td>\n",
              "      <td>18750</td>\n",
              "      <td>168750</td>\n",
              "    </tr>\n",
              "    <tr>\n",
              "      <th>1</th>\n",
              "      <td>NaN</td>\n",
              "      <td>NaT</td>\n",
              "      <td>30000007</td>\n",
              "      <td>NaN</td>\n",
              "      <td>LIBI,  LEBAH KECIL YANG TAKUT - PENGARANG POPI...</td>\n",
              "      <td>9</td>\n",
              "      <td>43800</td>\n",
              "      <td>394200</td>\n",
              "    </tr>\n",
              "    <tr>\n",
              "      <th>2</th>\n",
              "      <td>NaN</td>\n",
              "      <td>NaT</td>\n",
              "      <td>61000008</td>\n",
              "      <td>NaN</td>\n",
              "      <td>BB L/L 100L B5 (50)</td>\n",
              "      <td>9</td>\n",
              "      <td>8900</td>\n",
              "      <td>80100</td>\n",
              "    </tr>\n",
              "    <tr>\n",
              "      <th>3</th>\n",
              "      <td>NaN</td>\n",
              "      <td>NaT</td>\n",
              "      <td>61000012</td>\n",
              "      <td>NaN</td>\n",
              "      <td>BB L/L A5 100 GREEN (50)</td>\n",
              "      <td>9</td>\n",
              "      <td>9400</td>\n",
              "      <td>84600</td>\n",
              "    </tr>\n",
              "    <tr>\n",
              "      <th>4</th>\n",
              "      <td>NaN</td>\n",
              "      <td>NaT</td>\n",
              "      <td>61000016</td>\n",
              "      <td>NaN</td>\n",
              "      <td>BB L/L A5 100 YELLOW (50)</td>\n",
              "      <td>9</td>\n",
              "      <td>9400</td>\n",
              "      <td>84600</td>\n",
              "    </tr>\n",
              "    <tr>\n",
              "      <th>...</th>\n",
              "      <td>...</td>\n",
              "      <td>...</td>\n",
              "      <td>...</td>\n",
              "      <td>...</td>\n",
              "      <td>...</td>\n",
              "      <td>...</td>\n",
              "      <td>...</td>\n",
              "      <td>...</td>\n",
              "    </tr>\n",
              "    <tr>\n",
              "      <th>8589</th>\n",
              "      <td>NaN</td>\n",
              "      <td>NaT</td>\n",
              "      <td>91000126</td>\n",
              "      <td>NaN</td>\n",
              "      <td>KIKY AMP MERPATI 90 60GR (70)</td>\n",
              "      <td>2</td>\n",
              "      <td>18900</td>\n",
              "      <td>37800</td>\n",
              "    </tr>\n",
              "    <tr>\n",
              "      <th>8590</th>\n",
              "      <td>NaN</td>\n",
              "      <td>NaT</td>\n",
              "      <td>91000145</td>\n",
              "      <td>NaN</td>\n",
              "      <td>KIKY B/KWARTO 200L (60)</td>\n",
              "      <td>1</td>\n",
              "      <td>23900</td>\n",
              "      <td>23900</td>\n",
              "    </tr>\n",
              "    <tr>\n",
              "      <th>8591</th>\n",
              "      <td>INV/20201130/7705</td>\n",
              "      <td>2020-11-30 17:28:20.995</td>\n",
              "      <td>91000186</td>\n",
              "      <td>Helvy</td>\n",
              "      <td>PAPER ONE HVS 70GR F4</td>\n",
              "      <td>2</td>\n",
              "      <td>45000</td>\n",
              "      <td>90000</td>\n",
              "    </tr>\n",
              "    <tr>\n",
              "      <th>8592</th>\n",
              "      <td>NaN</td>\n",
              "      <td>NaT</td>\n",
              "      <td>91000392</td>\n",
              "      <td>NaN</td>\n",
              "      <td>ZB SARASA CLIP 07 BLUE</td>\n",
              "      <td>1</td>\n",
              "      <td>19500</td>\n",
              "      <td>19500</td>\n",
              "    </tr>\n",
              "    <tr>\n",
              "      <th>8593</th>\n",
              "      <td>NaN</td>\n",
              "      <td>NaT</td>\n",
              "      <td>92000022</td>\n",
              "      <td>NaN</td>\n",
              "      <td>MG BP X7601 0.7</td>\n",
              "      <td>1</td>\n",
              "      <td>5000</td>\n",
              "      <td>5000</td>\n",
              "    </tr>\n",
              "  </tbody>\n",
              "</table>\n",
              "<p>8594 rows × 8 columns</p>\n",
              "</div>"
            ],
            "text/plain": [
              "            No. Invoice         Tanggal Invoice  ...  Harga    Total\n",
              "0      INV/20200701/001 2020-07-01 09:10:20.000  ...   18750  168750\n",
              "1                   NaN                     NaT  ...   43800  394200\n",
              "2                   NaN                     NaT  ...    8900   80100\n",
              "3                   NaN                     NaT  ...    9400   84600\n",
              "4                   NaN                     NaT  ...    9400   84600\n",
              "...                 ...                     ...  ...     ...     ...\n",
              "8589                NaN                     NaT  ...   18900   37800\n",
              "8590                NaN                     NaT  ...   23900   23900\n",
              "8591  INV/20201130/7705 2020-11-30 17:28:20.995  ...   45000   90000\n",
              "8592                NaN                     NaT  ...   19500   19500\n",
              "8593                NaN                     NaT  ...    5000    5000\n",
              "\n",
              "[8594 rows x 8 columns]"
            ]
          },
          "metadata": {
            "tags": []
          },
          "execution_count": 5
        }
      ]
    },
    {
      "cell_type": "code",
      "metadata": {
        "colab": {
          "base_uri": "https://localhost:8080/"
        },
        "id": "qCNmFNKRDAUS",
        "outputId": "ed3087de-04a9-4b27-fc59-b69b697563ac"
      },
      "source": [
        "sales.columns"
      ],
      "execution_count": null,
      "outputs": [
        {
          "output_type": "execute_result",
          "data": {
            "text/plain": [
              "Index(['No. Invoice', 'Tanggal Invoice', 'Kode Barang', 'Nama Customer ',\n",
              "       'Nama Barang ', 'Qty', 'Harga ', 'Total'],\n",
              "      dtype='object')"
            ]
          },
          "metadata": {
            "tags": []
          },
          "execution_count": 6
        }
      ]
    },
    {
      "cell_type": "code",
      "metadata": {
        "colab": {
          "base_uri": "https://localhost:8080/"
        },
        "id": "aVCKxOwQjHwC",
        "outputId": "c9c8072b-518b-41c3-82a6-32855b375794"
      },
      "source": [
        "# Ubah jadi tipe data tanggal\r\n",
        "sales[\"Tanggal Invoice\"] = pd.to_datetime(sales[\"Tanggal Invoice\"])\r\n",
        "sales.dtypes"
      ],
      "execution_count": null,
      "outputs": [
        {
          "output_type": "execute_result",
          "data": {
            "text/plain": [
              "No. Invoice                object\n",
              "Tanggal Invoice    datetime64[ns]\n",
              "Kode Barang                 int64\n",
              "Nama Customer              object\n",
              "Nama Barang                object\n",
              "Qty                         int64\n",
              "Harga                       int64\n",
              "Total                      object\n",
              "dtype: object"
            ]
          },
          "metadata": {
            "tags": []
          },
          "execution_count": 7
        }
      ]
    },
    {
      "cell_type": "markdown",
      "metadata": {
        "id": "OtytaRn8q9tQ"
      },
      "source": [
        "### Cleansing Data"
      ]
    },
    {
      "cell_type": "code",
      "metadata": {
        "colab": {
          "base_uri": "https://localhost:8080/"
        },
        "id": "sWmhX36OJ6sL",
        "outputId": "05793e83-c7c8-403d-c3a4-e7341a4aee1a"
      },
      "source": [
        "#Identifikasi Missing Value\n",
        "\n",
        "# memeriksa persentase nilai nan yang ada di setiap fitur\n",
        "# membuat daftar fitur yang memiliki missing value\n",
        "features_with_na=[features for features in sales.columns if sales[features].isnull().sum()>1]\n",
        "\n",
        "## cetak nama fitur dan persentase missing value\n",
        "for feature in features_with_na:\n",
        "    print(feature, np.round(sales[feature].isnull().mean(), 4), ' % missing values')"
      ],
      "execution_count": null,
      "outputs": [
        {
          "output_type": "stream",
          "text": [
            "No. Invoice 0.6542  % missing values\n",
            "Tanggal Invoice 0.6545  % missing values\n",
            "Nama Customer  0.6582  % missing values\n"
          ],
          "name": "stdout"
        }
      ]
    },
    {
      "cell_type": "code",
      "metadata": {
        "id": "R4nhsLz973f9"
      },
      "source": [
        "#forward fill missing value \r\n",
        "sales = sales.ffill()"
      ],
      "execution_count": null,
      "outputs": []
    },
    {
      "cell_type": "code",
      "metadata": {
        "colab": {
          "base_uri": "https://localhost:8080/"
        },
        "id": "pf7QqHBR7-1H",
        "outputId": "f87215a0-7e52-4d9f-b079-485622dc47fe"
      },
      "source": [
        "#check missing value \r\n",
        "sales.isnull().sum()"
      ],
      "execution_count": null,
      "outputs": [
        {
          "output_type": "execute_result",
          "data": {
            "text/plain": [
              "No. Invoice        0\n",
              "Tanggal Invoice    0\n",
              "Kode Barang        0\n",
              "Nama Customer      0\n",
              "Nama Barang        0\n",
              "Qty                0\n",
              "Harga              0\n",
              "Total              0\n",
              "dtype: int64"
            ]
          },
          "metadata": {
            "tags": []
          },
          "execution_count": 10
        }
      ]
    },
    {
      "cell_type": "code",
      "metadata": {
        "colab": {
          "base_uri": "https://localhost:8080/",
          "height": 590
        },
        "id": "Tn8EU92od6aG",
        "outputId": "7b5eaee9-b816-4b87-884c-b986d201ad33"
      },
      "source": [
        "sales"
      ],
      "execution_count": null,
      "outputs": [
        {
          "output_type": "execute_result",
          "data": {
            "text/html": [
              "<div>\n",
              "<style scoped>\n",
              "    .dataframe tbody tr th:only-of-type {\n",
              "        vertical-align: middle;\n",
              "    }\n",
              "\n",
              "    .dataframe tbody tr th {\n",
              "        vertical-align: top;\n",
              "    }\n",
              "\n",
              "    .dataframe thead th {\n",
              "        text-align: right;\n",
              "    }\n",
              "</style>\n",
              "<table border=\"1\" class=\"dataframe\">\n",
              "  <thead>\n",
              "    <tr style=\"text-align: right;\">\n",
              "      <th></th>\n",
              "      <th>No. Invoice</th>\n",
              "      <th>Tanggal Invoice</th>\n",
              "      <th>Kode Barang</th>\n",
              "      <th>Nama Customer</th>\n",
              "      <th>Nama Barang</th>\n",
              "      <th>Qty</th>\n",
              "      <th>Harga</th>\n",
              "      <th>Total</th>\n",
              "    </tr>\n",
              "  </thead>\n",
              "  <tbody>\n",
              "    <tr>\n",
              "      <th>0</th>\n",
              "      <td>INV/20200701/001</td>\n",
              "      <td>2020-07-01 09:10:20.000</td>\n",
              "      <td>15000001</td>\n",
              "      <td>Tilar Handayani</td>\n",
              "      <td>TAMA HEALTHY MASK - NON MEDICAL 3PLY, WHO RECO...</td>\n",
              "      <td>9</td>\n",
              "      <td>18750</td>\n",
              "      <td>168750</td>\n",
              "    </tr>\n",
              "    <tr>\n",
              "      <th>1</th>\n",
              "      <td>INV/20200701/001</td>\n",
              "      <td>2020-07-01 09:10:20.000</td>\n",
              "      <td>30000007</td>\n",
              "      <td>Tilar Handayani</td>\n",
              "      <td>LIBI,  LEBAH KECIL YANG TAKUT - PENGARANG POPI...</td>\n",
              "      <td>9</td>\n",
              "      <td>43800</td>\n",
              "      <td>394200</td>\n",
              "    </tr>\n",
              "    <tr>\n",
              "      <th>2</th>\n",
              "      <td>INV/20200701/001</td>\n",
              "      <td>2020-07-01 09:10:20.000</td>\n",
              "      <td>61000008</td>\n",
              "      <td>Tilar Handayani</td>\n",
              "      <td>BB L/L 100L B5 (50)</td>\n",
              "      <td>9</td>\n",
              "      <td>8900</td>\n",
              "      <td>80100</td>\n",
              "    </tr>\n",
              "    <tr>\n",
              "      <th>3</th>\n",
              "      <td>INV/20200701/001</td>\n",
              "      <td>2020-07-01 09:10:20.000</td>\n",
              "      <td>61000012</td>\n",
              "      <td>Tilar Handayani</td>\n",
              "      <td>BB L/L A5 100 GREEN (50)</td>\n",
              "      <td>9</td>\n",
              "      <td>9400</td>\n",
              "      <td>84600</td>\n",
              "    </tr>\n",
              "    <tr>\n",
              "      <th>4</th>\n",
              "      <td>INV/20200701/001</td>\n",
              "      <td>2020-07-01 09:10:20.000</td>\n",
              "      <td>61000016</td>\n",
              "      <td>Tilar Handayani</td>\n",
              "      <td>BB L/L A5 100 YELLOW (50)</td>\n",
              "      <td>9</td>\n",
              "      <td>9400</td>\n",
              "      <td>84600</td>\n",
              "    </tr>\n",
              "    <tr>\n",
              "      <th>...</th>\n",
              "      <td>...</td>\n",
              "      <td>...</td>\n",
              "      <td>...</td>\n",
              "      <td>...</td>\n",
              "      <td>...</td>\n",
              "      <td>...</td>\n",
              "      <td>...</td>\n",
              "      <td>...</td>\n",
              "    </tr>\n",
              "    <tr>\n",
              "      <th>8589</th>\n",
              "      <td>INV/20201130/7701</td>\n",
              "      <td>2020-11-30 16:42:16.995</td>\n",
              "      <td>91000126</td>\n",
              "      <td>Intane Jun Pyo</td>\n",
              "      <td>KIKY AMP MERPATI 90 60GR (70)</td>\n",
              "      <td>2</td>\n",
              "      <td>18900</td>\n",
              "      <td>37800</td>\n",
              "    </tr>\n",
              "    <tr>\n",
              "      <th>8590</th>\n",
              "      <td>INV/20201130/7701</td>\n",
              "      <td>2020-11-30 16:42:16.995</td>\n",
              "      <td>91000145</td>\n",
              "      <td>Intane Jun Pyo</td>\n",
              "      <td>KIKY B/KWARTO 200L (60)</td>\n",
              "      <td>1</td>\n",
              "      <td>23900</td>\n",
              "      <td>23900</td>\n",
              "    </tr>\n",
              "    <tr>\n",
              "      <th>8591</th>\n",
              "      <td>INV/20201130/7705</td>\n",
              "      <td>2020-11-30 17:28:20.995</td>\n",
              "      <td>91000186</td>\n",
              "      <td>Helvy</td>\n",
              "      <td>PAPER ONE HVS 70GR F4</td>\n",
              "      <td>2</td>\n",
              "      <td>45000</td>\n",
              "      <td>90000</td>\n",
              "    </tr>\n",
              "    <tr>\n",
              "      <th>8592</th>\n",
              "      <td>INV/20201130/7705</td>\n",
              "      <td>2020-11-30 17:28:20.995</td>\n",
              "      <td>91000392</td>\n",
              "      <td>Helvy</td>\n",
              "      <td>ZB SARASA CLIP 07 BLUE</td>\n",
              "      <td>1</td>\n",
              "      <td>19500</td>\n",
              "      <td>19500</td>\n",
              "    </tr>\n",
              "    <tr>\n",
              "      <th>8593</th>\n",
              "      <td>INV/20201130/7705</td>\n",
              "      <td>2020-11-30 17:28:20.995</td>\n",
              "      <td>92000022</td>\n",
              "      <td>Helvy</td>\n",
              "      <td>MG BP X7601 0.7</td>\n",
              "      <td>1</td>\n",
              "      <td>5000</td>\n",
              "      <td>5000</td>\n",
              "    </tr>\n",
              "  </tbody>\n",
              "</table>\n",
              "<p>8594 rows × 8 columns</p>\n",
              "</div>"
            ],
            "text/plain": [
              "            No. Invoice         Tanggal Invoice  ...  Harga    Total\n",
              "0      INV/20200701/001 2020-07-01 09:10:20.000  ...   18750  168750\n",
              "1      INV/20200701/001 2020-07-01 09:10:20.000  ...   43800  394200\n",
              "2      INV/20200701/001 2020-07-01 09:10:20.000  ...    8900   80100\n",
              "3      INV/20200701/001 2020-07-01 09:10:20.000  ...    9400   84600\n",
              "4      INV/20200701/001 2020-07-01 09:10:20.000  ...    9400   84600\n",
              "...                 ...                     ...  ...     ...     ...\n",
              "8589  INV/20201130/7701 2020-11-30 16:42:16.995  ...   18900   37800\n",
              "8590  INV/20201130/7701 2020-11-30 16:42:16.995  ...   23900   23900\n",
              "8591  INV/20201130/7705 2020-11-30 17:28:20.995  ...   45000   90000\n",
              "8592  INV/20201130/7705 2020-11-30 17:28:20.995  ...   19500   19500\n",
              "8593  INV/20201130/7705 2020-11-30 17:28:20.995  ...    5000    5000\n",
              "\n",
              "[8594 rows x 8 columns]"
            ]
          },
          "metadata": {
            "tags": []
          },
          "execution_count": 11
        }
      ]
    },
    {
      "cell_type": "markdown",
      "metadata": {
        "id": "auhLcfbtrF_Y"
      },
      "source": [
        "### Random Labelling"
      ]
    },
    {
      "cell_type": "code",
      "metadata": {
        "colab": {
          "base_uri": "https://localhost:8080/",
          "height": 590
        },
        "id": "BgWX8V5DjOP8",
        "outputId": "97caadef-ce4b-41ad-e007-460a5ce66e85"
      },
      "source": [
        "sales[\"Nama Customer \"] = sales[\"Nama Customer \"].astype('category')\r\n",
        "sales[\"CustomerID\"] = sales[\"Nama Customer \"].cat.codes\r\n",
        "sales"
      ],
      "execution_count": null,
      "outputs": [
        {
          "output_type": "execute_result",
          "data": {
            "text/html": [
              "<div>\n",
              "<style scoped>\n",
              "    .dataframe tbody tr th:only-of-type {\n",
              "        vertical-align: middle;\n",
              "    }\n",
              "\n",
              "    .dataframe tbody tr th {\n",
              "        vertical-align: top;\n",
              "    }\n",
              "\n",
              "    .dataframe thead th {\n",
              "        text-align: right;\n",
              "    }\n",
              "</style>\n",
              "<table border=\"1\" class=\"dataframe\">\n",
              "  <thead>\n",
              "    <tr style=\"text-align: right;\">\n",
              "      <th></th>\n",
              "      <th>No. Invoice</th>\n",
              "      <th>Tanggal Invoice</th>\n",
              "      <th>Kode Barang</th>\n",
              "      <th>Nama Customer</th>\n",
              "      <th>Nama Barang</th>\n",
              "      <th>Qty</th>\n",
              "      <th>Harga</th>\n",
              "      <th>Total</th>\n",
              "      <th>CustomerID</th>\n",
              "    </tr>\n",
              "  </thead>\n",
              "  <tbody>\n",
              "    <tr>\n",
              "      <th>0</th>\n",
              "      <td>INV/20200701/001</td>\n",
              "      <td>2020-07-01 09:10:20.000</td>\n",
              "      <td>15000001</td>\n",
              "      <td>Tilar Handayani</td>\n",
              "      <td>TAMA HEALTHY MASK - NON MEDICAL 3PLY, WHO RECO...</td>\n",
              "      <td>9</td>\n",
              "      <td>18750</td>\n",
              "      <td>168750</td>\n",
              "      <td>1416</td>\n",
              "    </tr>\n",
              "    <tr>\n",
              "      <th>1</th>\n",
              "      <td>INV/20200701/001</td>\n",
              "      <td>2020-07-01 09:10:20.000</td>\n",
              "      <td>30000007</td>\n",
              "      <td>Tilar Handayani</td>\n",
              "      <td>LIBI,  LEBAH KECIL YANG TAKUT - PENGARANG POPI...</td>\n",
              "      <td>9</td>\n",
              "      <td>43800</td>\n",
              "      <td>394200</td>\n",
              "      <td>1416</td>\n",
              "    </tr>\n",
              "    <tr>\n",
              "      <th>2</th>\n",
              "      <td>INV/20200701/001</td>\n",
              "      <td>2020-07-01 09:10:20.000</td>\n",
              "      <td>61000008</td>\n",
              "      <td>Tilar Handayani</td>\n",
              "      <td>BB L/L 100L B5 (50)</td>\n",
              "      <td>9</td>\n",
              "      <td>8900</td>\n",
              "      <td>80100</td>\n",
              "      <td>1416</td>\n",
              "    </tr>\n",
              "    <tr>\n",
              "      <th>3</th>\n",
              "      <td>INV/20200701/001</td>\n",
              "      <td>2020-07-01 09:10:20.000</td>\n",
              "      <td>61000012</td>\n",
              "      <td>Tilar Handayani</td>\n",
              "      <td>BB L/L A5 100 GREEN (50)</td>\n",
              "      <td>9</td>\n",
              "      <td>9400</td>\n",
              "      <td>84600</td>\n",
              "      <td>1416</td>\n",
              "    </tr>\n",
              "    <tr>\n",
              "      <th>4</th>\n",
              "      <td>INV/20200701/001</td>\n",
              "      <td>2020-07-01 09:10:20.000</td>\n",
              "      <td>61000016</td>\n",
              "      <td>Tilar Handayani</td>\n",
              "      <td>BB L/L A5 100 YELLOW (50)</td>\n",
              "      <td>9</td>\n",
              "      <td>9400</td>\n",
              "      <td>84600</td>\n",
              "      <td>1416</td>\n",
              "    </tr>\n",
              "    <tr>\n",
              "      <th>...</th>\n",
              "      <td>...</td>\n",
              "      <td>...</td>\n",
              "      <td>...</td>\n",
              "      <td>...</td>\n",
              "      <td>...</td>\n",
              "      <td>...</td>\n",
              "      <td>...</td>\n",
              "      <td>...</td>\n",
              "      <td>...</td>\n",
              "    </tr>\n",
              "    <tr>\n",
              "      <th>8589</th>\n",
              "      <td>INV/20201130/7701</td>\n",
              "      <td>2020-11-30 16:42:16.995</td>\n",
              "      <td>91000126</td>\n",
              "      <td>Intane Jun Pyo</td>\n",
              "      <td>KIKY AMP MERPATI 90 60GR (70)</td>\n",
              "      <td>2</td>\n",
              "      <td>18900</td>\n",
              "      <td>37800</td>\n",
              "      <td>745</td>\n",
              "    </tr>\n",
              "    <tr>\n",
              "      <th>8590</th>\n",
              "      <td>INV/20201130/7701</td>\n",
              "      <td>2020-11-30 16:42:16.995</td>\n",
              "      <td>91000145</td>\n",
              "      <td>Intane Jun Pyo</td>\n",
              "      <td>KIKY B/KWARTO 200L (60)</td>\n",
              "      <td>1</td>\n",
              "      <td>23900</td>\n",
              "      <td>23900</td>\n",
              "      <td>745</td>\n",
              "    </tr>\n",
              "    <tr>\n",
              "      <th>8591</th>\n",
              "      <td>INV/20201130/7705</td>\n",
              "      <td>2020-11-30 17:28:20.995</td>\n",
              "      <td>91000186</td>\n",
              "      <td>Helvy</td>\n",
              "      <td>PAPER ONE HVS 70GR F4</td>\n",
              "      <td>2</td>\n",
              "      <td>45000</td>\n",
              "      <td>90000</td>\n",
              "      <td>648</td>\n",
              "    </tr>\n",
              "    <tr>\n",
              "      <th>8592</th>\n",
              "      <td>INV/20201130/7705</td>\n",
              "      <td>2020-11-30 17:28:20.995</td>\n",
              "      <td>91000392</td>\n",
              "      <td>Helvy</td>\n",
              "      <td>ZB SARASA CLIP 07 BLUE</td>\n",
              "      <td>1</td>\n",
              "      <td>19500</td>\n",
              "      <td>19500</td>\n",
              "      <td>648</td>\n",
              "    </tr>\n",
              "    <tr>\n",
              "      <th>8593</th>\n",
              "      <td>INV/20201130/7705</td>\n",
              "      <td>2020-11-30 17:28:20.995</td>\n",
              "      <td>92000022</td>\n",
              "      <td>Helvy</td>\n",
              "      <td>MG BP X7601 0.7</td>\n",
              "      <td>1</td>\n",
              "      <td>5000</td>\n",
              "      <td>5000</td>\n",
              "      <td>648</td>\n",
              "    </tr>\n",
              "  </tbody>\n",
              "</table>\n",
              "<p>8594 rows × 9 columns</p>\n",
              "</div>"
            ],
            "text/plain": [
              "            No. Invoice         Tanggal Invoice  ...   Total CustomerID\n",
              "0      INV/20200701/001 2020-07-01 09:10:20.000  ...  168750       1416\n",
              "1      INV/20200701/001 2020-07-01 09:10:20.000  ...  394200       1416\n",
              "2      INV/20200701/001 2020-07-01 09:10:20.000  ...   80100       1416\n",
              "3      INV/20200701/001 2020-07-01 09:10:20.000  ...   84600       1416\n",
              "4      INV/20200701/001 2020-07-01 09:10:20.000  ...   84600       1416\n",
              "...                 ...                     ...  ...     ...        ...\n",
              "8589  INV/20201130/7701 2020-11-30 16:42:16.995  ...   37800        745\n",
              "8590  INV/20201130/7701 2020-11-30 16:42:16.995  ...   23900        745\n",
              "8591  INV/20201130/7705 2020-11-30 17:28:20.995  ...   90000        648\n",
              "8592  INV/20201130/7705 2020-11-30 17:28:20.995  ...   19500        648\n",
              "8593  INV/20201130/7705 2020-11-30 17:28:20.995  ...    5000        648\n",
              "\n",
              "[8594 rows x 9 columns]"
            ]
          },
          "metadata": {
            "tags": []
          },
          "execution_count": 12
        }
      ]
    },
    {
      "cell_type": "code",
      "metadata": {
        "colab": {
          "base_uri": "https://localhost:8080/",
          "height": 287
        },
        "id": "rNlu4uBmBBu4",
        "outputId": "5a970605-9c7f-41d0-f4cd-3b24f1646e8d"
      },
      "source": [
        "#preview data distribution\n",
        "sales.describe()"
      ],
      "execution_count": null,
      "outputs": [
        {
          "output_type": "execute_result",
          "data": {
            "text/html": [
              "<div>\n",
              "<style scoped>\n",
              "    .dataframe tbody tr th:only-of-type {\n",
              "        vertical-align: middle;\n",
              "    }\n",
              "\n",
              "    .dataframe tbody tr th {\n",
              "        vertical-align: top;\n",
              "    }\n",
              "\n",
              "    .dataframe thead th {\n",
              "        text-align: right;\n",
              "    }\n",
              "</style>\n",
              "<table border=\"1\" class=\"dataframe\">\n",
              "  <thead>\n",
              "    <tr style=\"text-align: right;\">\n",
              "      <th></th>\n",
              "      <th>Kode Barang</th>\n",
              "      <th>Qty</th>\n",
              "      <th>Harga</th>\n",
              "      <th>CustomerID</th>\n",
              "    </tr>\n",
              "  </thead>\n",
              "  <tbody>\n",
              "    <tr>\n",
              "      <th>count</th>\n",
              "      <td>8.594000e+03</td>\n",
              "      <td>8594.000000</td>\n",
              "      <td>8594.000000</td>\n",
              "      <td>8594.000000</td>\n",
              "    </tr>\n",
              "    <tr>\n",
              "      <th>mean</th>\n",
              "      <td>7.054470e+07</td>\n",
              "      <td>5.680009</td>\n",
              "      <td>15248.584478</td>\n",
              "      <td>768.740982</td>\n",
              "    </tr>\n",
              "    <tr>\n",
              "      <th>std</th>\n",
              "      <td>1.507259e+07</td>\n",
              "      <td>109.112681</td>\n",
              "      <td>22879.632104</td>\n",
              "      <td>443.057847</td>\n",
              "    </tr>\n",
              "    <tr>\n",
              "      <th>min</th>\n",
              "      <td>6.601000e+03</td>\n",
              "      <td>0.000000</td>\n",
              "      <td>1000.000000</td>\n",
              "      <td>0.000000</td>\n",
              "    </tr>\n",
              "    <tr>\n",
              "      <th>25%</th>\n",
              "      <td>6.100041e+07</td>\n",
              "      <td>2.000000</td>\n",
              "      <td>4000.000000</td>\n",
              "      <td>386.250000</td>\n",
              "    </tr>\n",
              "    <tr>\n",
              "      <th>50%</th>\n",
              "      <td>6.300020e+07</td>\n",
              "      <td>4.000000</td>\n",
              "      <td>7800.000000</td>\n",
              "      <td>777.000000</td>\n",
              "    </tr>\n",
              "    <tr>\n",
              "      <th>75%</th>\n",
              "      <td>8.200001e+07</td>\n",
              "      <td>6.000000</td>\n",
              "      <td>17500.000000</td>\n",
              "      <td>1139.000000</td>\n",
              "    </tr>\n",
              "    <tr>\n",
              "      <th>max</th>\n",
              "      <td>9.200006e+07</td>\n",
              "      <td>10110.000000</td>\n",
              "      <td>270000.000000</td>\n",
              "      <td>1550.000000</td>\n",
              "    </tr>\n",
              "  </tbody>\n",
              "</table>\n",
              "</div>"
            ],
            "text/plain": [
              "        Kode Barang           Qty         Harga    CustomerID\n",
              "count  8.594000e+03   8594.000000    8594.000000  8594.000000\n",
              "mean   7.054470e+07      5.680009   15248.584478   768.740982\n",
              "std    1.507259e+07    109.112681   22879.632104   443.057847\n",
              "min    6.601000e+03      0.000000    1000.000000     0.000000\n",
              "25%    6.100041e+07      2.000000    4000.000000   386.250000\n",
              "50%    6.300020e+07      4.000000    7800.000000   777.000000\n",
              "75%    8.200001e+07      6.000000   17500.000000  1139.000000\n",
              "max    9.200006e+07  10110.000000  270000.000000  1550.000000"
            ]
          },
          "metadata": {
            "tags": []
          },
          "execution_count": 13
        }
      ]
    },
    {
      "cell_type": "markdown",
      "metadata": {
        "id": "rAlG5-8DBxTu"
      },
      "source": [
        "**Dengan melihat perbedaan angka antara median (50%) dan Mean yang tidak terlalu jauh, disimpulkan : Jumlah transaksi sedikit beragam dan tidak terdapat anomali *antar* pelanggan.**"
      ]
    },
    {
      "cell_type": "code",
      "metadata": {
        "colab": {
          "base_uri": "https://localhost:8080/"
        },
        "id": "1hf2QnhDBb5m",
        "outputId": "182247c1-64af-42ba-9ff8-5dfff23b0e40"
      },
      "source": [
        "#inspect null value\n",
        "sales.info()"
      ],
      "execution_count": null,
      "outputs": [
        {
          "output_type": "stream",
          "text": [
            "<class 'pandas.core.frame.DataFrame'>\n",
            "RangeIndex: 8594 entries, 0 to 8593\n",
            "Data columns (total 9 columns):\n",
            " #   Column           Non-Null Count  Dtype         \n",
            "---  ------           --------------  -----         \n",
            " 0   No. Invoice      8594 non-null   object        \n",
            " 1   Tanggal Invoice  8594 non-null   datetime64[ns]\n",
            " 2   Kode Barang      8594 non-null   int64         \n",
            " 3   Nama Customer    8594 non-null   category      \n",
            " 4   Nama Barang      8594 non-null   object        \n",
            " 5   Qty              8594 non-null   int64         \n",
            " 6   Harga            8594 non-null   int64         \n",
            " 7   Total            8594 non-null   object        \n",
            " 8   CustomerID       8594 non-null   int16         \n",
            "dtypes: category(1), datetime64[ns](1), int16(1), int64(3), object(3)\n",
            "memory usage: 555.8+ KB\n"
          ],
          "name": "stdout"
        }
      ]
    },
    {
      "cell_type": "code",
      "metadata": {
        "id": "7dT_WoM7fk7Z"
      },
      "source": [
        "sales.to_excel(\"/content/drive/My Drive/Dataset_Literata/1. Hasil_Cleansing.xlsx\", index=False)"
      ],
      "execution_count": null,
      "outputs": []
    },
    {
      "cell_type": "markdown",
      "metadata": {
        "id": "I9gQWs4MB7rS"
      },
      "source": [
        "# **Data Understanding**"
      ]
    },
    {
      "cell_type": "markdown",
      "metadata": {
        "id": "5pRJFH-TCYJr"
      },
      "source": [
        "***Initial Check***\n",
        "\n",
        "1. How many unique customers\n",
        "2. How many products per invoice?\n",
        "3. What kind of products, how many product item?\n",
        "4. Time bound\n",
        "\n",
        "***Exploratory Data Analysis*** **bold text**\n",
        "1. How many product sold every month, nd how much every customer spend money every month\n",
        "2. New Customer every month\n",
        "3. Retention rate every month\n",
        "4. Jarak rata-rata antar transaksi"
      ]
    },
    {
      "cell_type": "code",
      "metadata": {
        "colab": {
          "base_uri": "https://localhost:8080/"
        },
        "id": "0sypGRM6CTY1",
        "outputId": "f7cf2a22-ca01-4c07-b125-7a7ace8d3d29"
      },
      "source": [
        "#Delete data with no CustomerID\n",
        "sales = sales.loc[sales[\"CustomerID\"].isna()==False]\n",
        "sales.shape"
      ],
      "execution_count": null,
      "outputs": [
        {
          "output_type": "execute_result",
          "data": {
            "text/plain": [
              "(8594, 9)"
            ]
          },
          "metadata": {
            "tags": []
          },
          "execution_count": 16
        }
      ]
    },
    {
      "cell_type": "markdown",
      "metadata": {
        "id": "jGYIoqCVClw3"
      },
      "source": [
        "**1. How many unique customers?**"
      ]
    },
    {
      "cell_type": "code",
      "metadata": {
        "colab": {
          "base_uri": "https://localhost:8080/"
        },
        "id": "eyorAo-ZCim0",
        "outputId": "4dcb7c5a-345b-402c-cc97-6042f99c06b0"
      },
      "source": [
        "sales[\"CustomerID\"].nunique() "
      ],
      "execution_count": null,
      "outputs": [
        {
          "output_type": "execute_result",
          "data": {
            "text/plain": [
              "1551"
            ]
          },
          "metadata": {
            "tags": []
          },
          "execution_count": 17
        }
      ]
    },
    {
      "cell_type": "markdown",
      "metadata": {
        "id": "kU8t5otYCsJb"
      },
      "source": [
        "**2. How many product per invoice?**"
      ]
    },
    {
      "cell_type": "code",
      "metadata": {
        "colab": {
          "base_uri": "https://localhost:8080/",
          "height": 406
        },
        "id": "pBF9qr6rCn_D",
        "outputId": "d043f5b6-291a-4bac-c4bf-1d19f5948251"
      },
      "source": [
        "sales.groupby(\"No. Invoice\", as_index=False)[[\"Kode Barang\"]].count()"
      ],
      "execution_count": null,
      "outputs": [
        {
          "output_type": "execute_result",
          "data": {
            "text/html": [
              "<div>\n",
              "<style scoped>\n",
              "    .dataframe tbody tr th:only-of-type {\n",
              "        vertical-align: middle;\n",
              "    }\n",
              "\n",
              "    .dataframe tbody tr th {\n",
              "        vertical-align: top;\n",
              "    }\n",
              "\n",
              "    .dataframe thead th {\n",
              "        text-align: right;\n",
              "    }\n",
              "</style>\n",
              "<table border=\"1\" class=\"dataframe\">\n",
              "  <thead>\n",
              "    <tr style=\"text-align: right;\">\n",
              "      <th></th>\n",
              "      <th>No. Invoice</th>\n",
              "      <th>Kode Barang</th>\n",
              "    </tr>\n",
              "  </thead>\n",
              "  <tbody>\n",
              "    <tr>\n",
              "      <th>0</th>\n",
              "      <td></td>\n",
              "      <td>1</td>\n",
              "    </tr>\n",
              "    <tr>\n",
              "      <th>1</th>\n",
              "      <td>INV/20200701/001</td>\n",
              "      <td>5</td>\n",
              "    </tr>\n",
              "    <tr>\n",
              "      <th>2</th>\n",
              "      <td>INV/20200701/0010</td>\n",
              "      <td>1</td>\n",
              "    </tr>\n",
              "    <tr>\n",
              "      <th>3</th>\n",
              "      <td>INV/20200701/0011</td>\n",
              "      <td>1</td>\n",
              "    </tr>\n",
              "    <tr>\n",
              "      <th>4</th>\n",
              "      <td>INV/20200701/0012</td>\n",
              "      <td>1</td>\n",
              "    </tr>\n",
              "    <tr>\n",
              "      <th>...</th>\n",
              "      <td>...</td>\n",
              "      <td>...</td>\n",
              "    </tr>\n",
              "    <tr>\n",
              "      <th>2967</th>\n",
              "      <td>INV/20201130/7693</td>\n",
              "      <td>3</td>\n",
              "    </tr>\n",
              "    <tr>\n",
              "      <th>2968</th>\n",
              "      <td>INV/20201130/7696</td>\n",
              "      <td>3</td>\n",
              "    </tr>\n",
              "    <tr>\n",
              "      <th>2969</th>\n",
              "      <td>INV/20201130/7699</td>\n",
              "      <td>2</td>\n",
              "    </tr>\n",
              "    <tr>\n",
              "      <th>2970</th>\n",
              "      <td>INV/20201130/7701</td>\n",
              "      <td>4</td>\n",
              "    </tr>\n",
              "    <tr>\n",
              "      <th>2971</th>\n",
              "      <td>INV/20201130/7705</td>\n",
              "      <td>3</td>\n",
              "    </tr>\n",
              "  </tbody>\n",
              "</table>\n",
              "<p>2972 rows × 2 columns</p>\n",
              "</div>"
            ],
            "text/plain": [
              "            No. Invoice  Kode Barang\n",
              "0                                  1\n",
              "1      INV/20200701/001            5\n",
              "2     INV/20200701/0010            1\n",
              "3     INV/20200701/0011            1\n",
              "4     INV/20200701/0012            1\n",
              "...                 ...          ...\n",
              "2967  INV/20201130/7693            3\n",
              "2968  INV/20201130/7696            3\n",
              "2969  INV/20201130/7699            2\n",
              "2970  INV/20201130/7701            4\n",
              "2971  INV/20201130/7705            3\n",
              "\n",
              "[2972 rows x 2 columns]"
            ]
          },
          "metadata": {
            "tags": []
          },
          "execution_count": 18
        }
      ]
    },
    {
      "cell_type": "markdown",
      "metadata": {
        "id": "m4D7y3LFC-T1"
      },
      "source": [
        "**3. Produk apa saja yang dijual?**"
      ]
    },
    {
      "cell_type": "code",
      "metadata": {
        "id": "IrBozovmC08L"
      },
      "source": [
        "products_desc = '|'.join(sales[\"Nama Barang \"].unique())"
      ],
      "execution_count": null,
      "outputs": []
    },
    {
      "cell_type": "code",
      "metadata": {
        "colab": {
          "base_uri": "https://localhost:8080/",
          "height": 160
        },
        "id": "QQ_5pPgIDDmp",
        "outputId": "fc3c33b6-f886-4d2a-f0f6-7430cf3f6aa1"
      },
      "source": [
        "products_desc\n",
        "#some products : PaperOne A4, Joyko, Kiky etc"
      ],
      "execution_count": null,
      "outputs": [
        {
          "output_type": "execute_result",
          "data": {
            "application/vnd.google.colaboratory.intrinsic+json": {
              "type": "string"
            },
            "text/plain": [
              "'TAMA HEALTHY MASK - NON MEDICAL 3PLY, WHO RECOMMENDED|LIBI,  LEBAH KECIL YANG TAKUT - PENGARANG POPIE LARASATI|BB L/L 100L B5 (50)|BB L/L A5 100 GREEN (50)|BB L/L A5 100 YELLOW (50)|BB L/L B5 100 RAINBOW(25)|BTF BUSUR 180/10 (960)|BTF MST 15CM (2400)|BTF MST 30CM WARNA (1200)|BTF MST 30CM(1200)|BTF MST 40CM (480)|BTF MST BT 8000|BTF MST CLASSIC CLEAR 30 CM|BTF SEGITIGA NO.6 (192)|DAI DCS C/SLEEVES A4 1 CLAS RED|JOYKO CT-507 TIPP-EX ROL(720)|JOYKO CT-553 CORECTION TAPE (432)|JOYKO ER 110 ERASER|K/MINYAK KUNING (500)|K/SAMSON HALUS 80GR|KIKY SKETCHBOOK 50 A5 (60)|KIKY STOP MAP BATIK (500)|B/BOSS B/TULIS EB 42B/6 LUCU(24)|KENKO GLUE STICK GS02, 15G NET.|KIKY B/TULIS DIKTAT 40L/5 (50)|KISTOCK KWARTO (200)|IMAIE MST YS-683 30CM|CNC  CVR LAID 80539 F4 220G/10L GOLD YELLOW|DAIMARU D/TAPE 1/2\"\" 12Y(240)|FBC 115851 P/WARNA 12C CLASIC|JOYKO GL-R35 GLUE (576)|JOYKO INDEX MEMO IM-32 (1080)|JOYKO KR6 KEY RING (200)|JOYKO TRIGONAL  CLIP NO.1|KIKY B/GAMBAR 20X30 (240)|KIKY B/GAMBAR B (200)|KIKY B/GAMBAR TG (400)|KIKY B/LATIHAN MEWARNA 4D|TITI TI-P-12/S O/PASTEL PP CASE (144)|@VERSO ACCESORIES|SDU HVS 80 GR A4|BANTEX 8073 MULTIHOLES ZIPP POCKET B5|FOX LEM FP-150GR PUTIH (48)|GUNIN MPO 200 MULTI PURPOSE|INTERX BUSS FILE F4 BFX 100F YLW(480)|INTERX CLIP FILE CFX 100F CFX 100F YLW(144)|ASTURO K/LIPAT 12X12/50|DAIMARU PB OPP 2 \"\" 100 TRAN(72)|DAIMARU PVC ELECTRIC 19*20M(120)|DAIMARU SOLASI 1X72(144)|T&J FLAG 44-SH|PPL EV 110 PPS (40)|PPL KWITANSI 40 MINI(400)|SDU K/KADO GW K (500)|SPECTRA STRFOAM PLS WHITE|BP FASTER C6 RETRAK|BP FASTER C6 RETRAK/3|FBC 151399 OHP MARKER F BLACK|JOYKO JK-100 BP KING JELLER (1728)|K/ROTI 32GR (500)|KIKY AMP MERPATI VISIT 80/DUS (150)|KIKY AMP MERPATI VISIT 80GR/20 (750)|PAPER ONE HVS 70GR A4|ZB B-1000 SEM.GEL BK S12|ZB SARASA CLIP 05 BL.BLK|ZB SARASA CLIP 07 BLACK|IM171 GP V-5 SUPER GRIP|DAI DPR BUSINESS FILE A4 TOSC BL|DAI DPR BUSINESS FILE A4 YELLOW|DAI DPR S/POCKET A5 PRO PINK|FBC 1000510 S3 COLOUR ERASER|FBC 111832 TRI GRAPHITE 2B BLACK BOX 12|FBC 115LV SHAREPNER (40)|FBC 117100 PENCIL HB|FBC 117102 PENCIL 2B|FBC 117110 PENCIL F|FBC 119043 PENCIL 2B SET3|FBC 127520 RF PCL 05 2B|DAIMARU M/TAPE 1\"\"(96)|DAIMARU M/TAPE 1/2\"\"(192)|FBC 117108 PENCIL 8B|FBC 119053 PAKET UJIAN GRIP|FBC 127525 RF PCL 05 HB|FBC 189020 STIP OVAL GRIP|JOYKO A-96 SHARPENER (72)|JOYKO B-85 SLEPER(1728)|JOYKO CFP-211 TIPP EX PEN PLASTIK(576)|JOYKO L/L A5 100 (96)|JOYKO PN-30 PUSH PIN|JOYKO SC-828 GUNTING (144)|JOYKO SC-838SG GUNTING SOFT GRIP (144)|JOYKO SC-848 GUNTING (144)|JOYKO SC-848SG GUNTING (144)|KIKY B/NOTE (200)|KIKY KWITANSI MINI (640)|SDU B/TULIS EB 58L(240)|JOYKO WE-2 WHITE BOARD ERASER (360)|SNOWMAN FSP-12 SILVER FINE (1440)|SNOWMAN FGP-12 GOLD FINE (1440)|IMAIO P/C KLG 625-21|DAIMARU D/TAPE 1\"\"(120)|FBC 114462 P/WARNA 12W PJ|FBC 115852 P/WARNA 12C PJ|JOYKO L-500 CUTTER (288)|K/MANILA PUTIH 140GR|KIKY B/LATIHAN MEWARNA KC (240)|MASTONA KOAS NYLON 579-NO 5|BANTEX 1326.10 R/BINDER B5|GUNIN MPO 215 MULTI PURPOSE|GUNIN MPO 275 MULTI PURPOSE|3M 654 POST IT AC BLUE|3M 654 POST IT AC PINK|JOYKO 526 B20 STIP (1000)|JOYKO A-100 RF CUTTER K (1440)|JOYKO B/CLIP 155/12(240)|JOYKO B/CLIP 200/12(120)|KIKY REPORT PAD A5 (200)|KIKY SEMINAR PAD 25 (400)|BANTEX 8871 75X75 FLEXI NOTE|DAIMARU PB LINEN 2\"\" HITAM(60)|PPL EV 110 APS (40)|PPL EV 90 APS (30)|DISPENSER LION 50NEW|FBC 54709912 BP TRIPEN 0.7 MIX BAREL BLK|PAPER ONE HVS 70GR F4|PILOT FRIXION FX CC300 IF CLICK 0.5|FBC 127720 RF PCL 07 2B|FBC 127725 RF PCL 07 HB|FBC 130RV SHARPENER (30)|FBC 163504 MATHEMATIC DRAW SET|FBC 169452R C/TAPEQJR 506 PINK W/REFILL|FBC 169454R C/TAPEQJR 506 BLUE W/REFILL|FBC 169455R C/TAPEQJR 506 GREEN W/REFILL|FBC 171220 MST SCALA 30CM|FBC 187019 SEAWORLD ERASER|FBC 187171 DUST FREE ERASER (30)|FBC 1871994 SMALL DUST FREE SET 4|FBC 500700 ORIGAMI 16X16|JOYKO 526 B40 ERASER PUTIH (2000)|JOYKO A-19A SLEPER (KERETA)|JOYKO 526 B40 ERASER HITAM (2000)|JOYKO B/NOTE A5 BESI (72)|JOYKO B/NOTE B5 BESI (72)|JOYKO ER-20 BL|JOYKO RF PENCIL PL-05 2B (1728)|JOYKO STAMP TANGGAL D3 (480)|KIKY L/L A5 100 (100)|PTL RF PENCIL 50/09|PTL RF PENCIL C205/05|JOYKO HL 1-5 (5 WARNA)|IMAEA MARKER C123 GMM508 GYASP|IM165 ERASER CS-5967 MPERIAL CROWN|IMAEA SHARPENER XG322 RELAX & EASY|JOYKO GS-100 GLUE STICK 8GR (864)|JOYKO HD-10 MINI STAPLER (300)|KANVAS 35 X 45|JOYKO BR-6 NO.3 (2880)|SDU HVS 70 GR A4|FOX LEM FP-450GR D-KOL (48)|INTERX CARRY CASE 4CM CCX 100F TRAN(20)|KB DESK SET P3158 ORGANISER|3M 654 POST IT AC ORANGE|ASTURO K/STIKER FL 16 RED 32X52|ASTURO K/STIKER FL WHITE 32X52|DAIMARU PB OPP 2 \"\" 100 CKLT(72)|DAIMARU SAT PREMIUM 12MMX72Y|E-PRINT GLOSSY A4 (ALUM PACK)180GR@20|JOYKO B/STAMP NO.00 (1440)|BANTEX 9330 STAPLER|LION DISPENSER 100 (12)|PPL EV 90 PPS (30)|JOYKO STAPLES NO.10N (1000)|IM171 P/BAG 16E01B NEVY|IMATO PB AMS03 MISS RABBIT KC|FBC 135101 M/PENCIL 07 OPQ|JOYKO A2A SLEPER FANCY(96)|JOYKO B-84 SLEPER|JOYKO CF-S221 TIPP EX PEN (576)|JOYKO MS-25 JANGKA SET (288)|JOYKO P-100 2B (4320)|JOYKO P-101 PENCIL 2B (4320)|JOYKO P-103 PENCIL 2B (4320)|KIKY B/TULIS BOXY 40L|LG NB A5 LG-20364 LIFE AND ART|LG NB B5 LG-21221 CACTUS|ASTURO W/BASED 100CC WHITE|ASTURO W/BASED 20CC 05 RED|ASTURO W/BASED 50CC 06 PINK|BAMBI 1014.10 BLACK ORDNER 5CM F4|DAI DPR S/POCKET FC PRO RED|FBC 114464 P/WARNA 24W PJ|JOYKO TRIGONAL  CLIP NO.5 (JUMBO) (200)|KIKY B/LATIHAN MEWARNA TG (200)|MASTONA KOAS NYLON 579-NO 3|SDU HVS 80 GR F4|E-PRINT STICKER MATTE A4 100GR@20|GUNIN P/HAPUS W/BOARD 803|INTERX B/NOTE BNX 100A A5(72)|INTERX MAP KANCING BATIK DBX 600F MIX(300)|3M 656 POST IT AC ORANGE|SDU MILIMITER BLOCK A3(100)|ALTECO LEM 1|INTERX MAP KANCING SP OPQ DBX 500F BL(240)|UHU 140806 ALL PURPOSE NO 10 7ML|SDU K/KADO GW K BATIK (500)|FBC 12872032 GRIP S/FINE 0.5 2B PINK|JOYKO BP-184 CULTURE (1728)|JOYKO GS-09 GLUE STICK 9GR (768)|KIKY AMP CK 309/10 125 (80)|KIKY AMP MERPATI 90 60GR/20 (350)|PAPER ONE HVS 80GR A3|SNOWMAN SPD 12 W (144)|ZB B-1000 SEM.GEL BK D(1728)|ZB KOKORO GEL 05 BL D(864)|ZB KOKORO5 L. GR D(864)|ZB PENCILTIC L.BLUE D(864)|ZB PENCILTIC PK D(864)|ZB SARASA CLIP 1.0 BLACK|M&G GP GP1163 R3 0.5MM|JOYKO P-88 PENCIL 2B (4320)|JOYKO SC-838 GUNTING (144)|KIKY B/TULIS 100L 58GR|KIKY B/TULIS 38L|KIKY B/TULIS DIKTAT KULIAH 40L|KIKY B/TULIS HALUS 38L (320)|KIKY C/BOARD (100)|KIKY DFG 10L (360)|KIKY MAGNETIC P/CASE MINI (140)|KIKY NOTA KONTAN B3 (120)|KIKY NOTA KONTAN K3 (240)|DAI DCS C/SLEEVES FC 1 POP CLEAR|DAI DPR BUSINESS FILE A4 LGREEN|FBC 104002 DRAWING BOOK A4 FISH|FBC 117106 PENCIL 6B|JOYKO CF-S201PT TIPP-EX(576)|JOYKO L/L A5 50 (192)|KIKY MEMO GARIS (480)|KIKY NEW BINDER SET A5 (48)|KIKY SKETCHBOOK 50 A4 (60)|PTL CORRECTION PEN ZL72W|IMAEA MST YS8016 18CM|IMAEA POST IT HT1210-366 TRAVELING|IMATO POST IT 9582|ASTURO W/BASED 20CC 01 YELLOW|ASTURO W/BASED 20CC 10 BLUE|ASTURO W/BASED 20CC 11 BLUE|ASTURO W/BASED 20CC WHITE|CNC  PPR LAID 80208 A4 90G/20L SILVER|FBC 125011 WATER COLOUR CAKE 12|KIKY B/GAMBAR A3 (100)|MASTONA KOAS NYLON 579-NO 11|MASTONA KOAS NYLON 579-NO 7|PTL W/COLOR WFR-12|TITI TI-P-18/S O/PASTEL PP CASE (72)|JOYKO BR-6 NO.0 (2880)|BAMBI 2526ID INDEX&DEVIDER B5|BANTEX 8072 08 MULTIHOLE ZIP POCKET PP A5|GUNIN MPO 250 MULTI PURPOSE|INTERX BUSS FILE F4 BFX 100F GREY|INTERX BUSS FILE F4 BFX 100F WHITE|DB CH MT-30-27 A430 RED|CNC  CVR LAID 80231 A4 220G/10L L YELLOW|JOYKO BULLDOG CLIP 6-145 ( 240 )|BANTEX 8871 75X100 FLEXI NOTE|JOYKO 30XL PUNCH (120)|T&J LABEL HARGA NO.125|IMAEA WOOD CLIP FASHION|MAX STAPLES NO 3-1M|PTL CORRECTION PEN ZL112|PTL CORRECTION PEN ZLC31W|SDU B/HLS G3 38L(320)|SDU B/KTK EB 38L(320)|SDU B/TULIS EB 100L(100)|SAMPUL KRAFT /25 Q|SAMPUL KRAFT BOXY/25|SAMPUL PLASTIK BOXY/25 RJWLI|SAMPUL PLASTIK/25 Q RJWLI|SDU B/TULIS EB 38L/10(32)|FBC 116503  3PRE SCHOOL GRIP|FBC 169437R CORR TAPE 506 VIOLET|FBC 551512L CALLIGRAPHY BRUSH PEN (50)|JOYKO JK-01 CORRECTION FLUID (576)|STD 100 PCL MARS 2B S12|KIKY B/TUIS BOXY 40L/10 OKEY (20)|BOLA PLASTISIN/LILIN MAINAN LSPR.022-IDN, KECIL|SNOWMAN GP-12 GOLD MED (1200)|IMATO C/BOARD DOFF MST MIX|IMATO PC PLS MGNT 5183|B/BOSS B/TULIS EB/42L(240)|FBC 121004N W/COLOR|K/KARTON TIPIS (140)|KANVAS 30 X 50|GUNIN GUNTING SPL LEMPENG|INTERX BRIEF CASE BCX 100F BL(60)|3M 656 POST IT AC BLUE|DAIMARU SOLASI 1/2X72(288)|INTERX MAP KANCING W/SPINE DBX 200F GRN(300)|INTERX MAP KANCING W/SPINE DBX 200F RED(300)|UHU 199 STICK MAGIC SMURF 8.2 G|T&J LABEL HARGA NO.111|JAM PIONER - SMALL  2029|JAM PIONER - LARGE 806|KIKY MEMO MINI LUX (420)|JOYKO BP-192 BP LEGEND(1728)|SNOWMAN BP S-1 SEMI GEL BR (1728)|ZB PIC KNOCK 07 BL D(1728)|ZB PICCOLO SEM.GEL BK 0.5 D(1728)|IMATO PCL 109 TODAY\\'S SPECIAL|MG BP X7601 0.7|SDU B/TULIS EB 58L/10(24)|KIKY B/TULIS 38L/10 OKEY (32)|KIKY B/TULIS 58L/10 OKEY (20)|IM161 PC SLET ZM3444 ANIMAL|IMAEA PC SLET BD82537|IMAEO MST 710|IMAEO SHARPENER 372|IMAEO SHARPENER 379|IMAEO SHARPENER 387|IMAIE FAN MINI 881-31 PIG|JOYKO A-111 SLEPER MEJA (96)|JOYKO MX-5500M 8D LABELER (20)|IMAEO MINI FAN KD093 CACTUS|JOYKO INDEX MEMO IM-31 (1080)|JOYKO LB-2RL 1BARIS LABEL ROL (1000)|MEJA GAMBAR LIPAT PENDEK|BANTEX 8871 40X50 FLEXI NOTE|BTF TUSUKAN BON CROCK COLOUR|T&J LABEL HARGA NO.99|UHU 140759 ALL PURPOSE NO 12 35 ML|IMATO RAMBUT KERTAS SET BS|FBC 15165112 MARKING PEN NEW COMB BLUE BOX 12|FBC 15166312 MARKING PEN NEW COMB GR BOX 12|FBC 152521 OHP M.MARK M PERM RED|KIKY B/KWARTO 100L OKEY (100)|MILLENNIUM W/BOARD 45X60 GT|PAPER ONE HVS 80GR A4|SNOWMAN BP V1 BR (1728)|SNOWMAN RF BP V1/V2 FINE (7200)|SNOWMAN SPD BG-12 W/BOARD BR (720)|SNOWMAN SPD BG-12 W/BOARD MRH (720)|SNOWMAN SPD BG-12 W/BOARD VIOLET (720)|SNOWMAN SPD G-12 MARKER BR (720)|SNOWMAN SPD G-12 MARKER MRH (720)|STABILO BOSS ORI PASTEL WALLET S4|ZB ROCKETER HL ROCK GOY D(1728)|ZB SARASA CLIP 1.0 BLUE.|STABILO FLASH BLUE|IMAIE MST YS-605 15CM|IMAIE PC SLET TZ-1187 NATURAL|IMATO ERASER 17063 TOCHAIN|M&G CORR PEN ACF60303|M&G CORR PEN ACF70505|M&G CORR TAPE ACT54801|TQ C/BOARD 10181 A4 COLOR|IMATO PC PLS MGNT 9535P KRTK|BTF PALET BADUT (144)|BTF SABLON HA-250|DAIMARU ISOLASI TAPE MINI 12MX25Y|LION DISPENSER 20 (|IMATO POST IT QL-3368|PPL NOTA K3 NCR(240)|ASTURO W/BASED 20CC 36 PURPLE|K/CRAFT PAYUNG|KANVAS 15 X 30|DAIMARU PB LINEN 1\"\"(120)|PPL NOTA K1(240)|UHU 140756 ALL PURPOSE NO 12 20ML|T&J LABEL HARGA NO.105|KIKY K/KADO BIASA KC (1000)|BP FASTER CX-600 NEW|FBC 547463 TRIPEN GREEN|JOYKO BP-186 GLOW(1728)|JOYKO BP-208 BATIQUE4 (1728)|KIKY B/KAS 80SC Q (140)|KIKY B/KWARTO 200L OKEY (80)|PTL M/PENCIL A105 SET|ZB KOKORO PLUS RED|ZB SARASA CLIP 05 PINK.|ZB SARASA CLIP 05 RD|FBC 114461 P/WARNA 12W PD|FBC 115828 P/WARNA 36W BTL|FBC 120040 CRAYON JUMBO|FBC 120043 CRAYON 12|FBC 120050 REGULAR CRAYON 75MM|JOYKO INDEX MEMO IM-30 (1080)|JOYKO INDEX MEMO IM-33 (1080)|JOYKO TD2 DISPENSER|JOYKO TRIGONAL  CLIP NO.3|K/KADO KACA MOTIF (500)|FBC 80202 SHARP TRIANGULAR/PENCIL|SDU B/TULIS EB 38L(320)|KIKY B/TULIS DKTAT KULIAH 40L|BTF PALET BINTANG LAUT (192)|CNC  PPR LAID 80201 A4 90G/20L WHITE|KANVAS 30 X 40|WC 120 GUITAR(144)|JOYKO BR-6 NO.2 (2880)|FOX LEM FS-6.5GR STICK(144)|FOX LEM FSP-60GR PVAC BTDIN (144)|ASTURO K/SCOTLITE FL 10 BLUE 40X60|ASTURO K/SCOTLITE FL 23 YELLOW 40X60|SDU K/LIPAT16X16 100 BS(120)|PPL B/OKTAVO A6 HC 100L (200)|IMATO PITA MIX S6 6C|TAS REMAJA N+A|KACA MISS MIRRO|FBC 154654 TEXLINER 46 ROSE|JOYKO MP-21 M/PENCIL 2.0 (1728)|KIKY AMP CK 311/10 125GR (80)|PTL MP A105M-PX METTALIC PINK|SNOWMAN BP V5 HTM (1728)|SNOWMAN BP V5 MRH (1728)|ZB MILDLINER GEL VIO|ZB PENCILTIC BL D(864)|ZB PENCILTIC BRW D(864)|IMAEO GP E-8065 UNICORN|IMATO PCL ZC111|M&G GP AGP13604 1.0MM|TITI TI-P-24/S O/PASTEL PP CASE (48)|TITI TI-P-48/S O/PASTEL PP CASE (24)|DAI DCS C/SLEEVES FC 1 CLASS BLUE|DAI DCS C/SLEEVES FC 1 CLASS RED|BANTEX 1326.09 R/BINDER B5|FOX LEM FK-70 GR KALENG (72)|GUNIN CUTTER SC-9A KC|INTERX BRIEF CASE BCX 100F RED(60)|DB C/HOLDER FC 20 BL|TQ NAME TAG TALI LEATHER U021 V|KB DESK SET P3157 MULTI FUN|DAI ZIPPER BAG SRB2065 B6 BIRU|ASTURO K/LIPAT 16X16/50|ASTURO K/LIPAT 20X20/50|E-PRINT GLOSSY PHOTO PAPER 4R-A6 200GR@20|KIKY K/LIPAT 14X14 @100 ATP (120)|KIKY K/LIPAT 14X14 @20 ATP (600)|SDU K/LIPAT 12X12 100 KC(120)|SDU K/LIPAT 25 B 16X16(400)|SDU K/LIPAT14X14 100 TG(120)|JOYKO A-63 SLEPER ROBOT (72)|KIKY REPORT PAD A4 (200)|PPL PF A4 R/PAD (120)|BTF PALET APEL (288)|FBC 11150A CONNECTOR PEN S10|FBC 1314121 GRIP BRUSH W/COLOR|LUNA 136 C12TH PRMNT PW 12 PJ (80)|MASTONA KOAS NYLON 579-NO 8|MASTONA KOAS NYLON 579-NO 9|FBC 180771 SCISSORS 1871|FOX LEM FPL-20GR PLUS (144)|BTF BT 123B|KIKY STOP MAP PLS L (500)|PPL B/FOLIO HC 300L (20)|PPL B/KWARTO HC 100L (100)|PPL B/KWARTO HC 200L (60)|T&J LABEL HARGA NO.108|T&J LABEL HARGA NO.121|UHU 140180 GLUE PEN 50 ML|T&J LABEL HARGA NO.127|T&J LABEL HARGA TRANS NO.103|JOYKO NO.10S STAPLES (1000)|JOYKO A-18 SLEPER PENGUIN(48)|JOYKO A-71 SLEEPER MIRING(96)|JOYKO P-90 2B PENCIL (4320)|IM145 NB DL0878-C2296 COUNTRY|IM168 DIARY NB LG-9442 WORKING|IMATO DIARY NBP032 LOVE IN PARIS|ASTURO W/BASED 50CC WHITE|JOYKO HD-10-D STAPLER (240)|BANTEX 1450 06 ORDNER A4|GUNIN GUNTING SSS LEMPENG|DB-MT-10-49-RDA4 CLEAR BOOK|DAI ZIPPER BAG SRB2064 A5 BIRU|JOYKO B/CLIP 111 /12 (360)|BINDEX 777.10 BLACK KWIT|INTERX MAP KANCING DBX 100F GRN(300)|INTERX MAP KANCING DBX 100F TRANS(300)|INTERX MAP L (CL SLEEV) LFX 100A A4 TRANS(600)|PPL EV 104 APS (50)|IM168 BTL MINUM 16CM PLS PONGDANG|IM171 FF WHITE 7739 152X203MM|IMAEA WEKER HWF5230|IMAEA WOOD CLIP HAMSTER|IMAEA WOOD CLIP UNICORN CAKE|PPL TS 7565 / 2PLY(100)|IMPSA BTL MINUM PLS 37821 BE NICE|IMAEO PB 2346M SUMMER|GUNIN SULING GDS23 TRANSPARAN|KIKY K/KADO KCL BATIK (1000)|KIKY TAS TALI C (100)|SPECTRA K/KADO NON EMBOSS 15 GREY|SPECTRA STRFOAM GLITER 06 PINK|BTF MST 20CM(1200)|BTF SEGITIGA NO.8 (96)|FBC 100LV SLEPER W/O CONTAINER|JOYKO ER30W STIP B30 (1500)|PTL CORRECTION PEN ZLC1W|MATERAI TEMPEL 6.000|MASTONA KOAS NYLON 579-NO 4|DB-MT-20R-71-YWA4 CLEAR BOOK|TQ NAMETAG TQ901 B1 VERTIKAL TBL WARNA (20)|T&J LABEL HARGA NO.98|UHU 1424003 SUPER GLUE JUMBO 3G (12)|FACESHIELD KACAMATA|SNOWMAN BP BP-7 HTM S3 (576)|ZB KOKORO GEL 05 BLK D(864)|STABILO FLASH YELLOW|HB FACESHIELD ANAK|TAS RENAJA BTS|TAS REMAJA A GLOW IN|TAS REMAJA BLACK PINK|LS FACE SHIELD ANTI-OIL MASK|BP FASTER CX-600 NEW/3|FBC 134301 M/PENCIL 07 TRAN|FBC 140106/547006 TRIPEN SET 6+1|FBC 152599 OHP MARKER M PERM.BL|FBC 154807 TEXTLINER OPQ YELLOW (10)|FBC 154863 TEXTLINER OPQ GREEN (10)|FBC 187205 COLOUR ERASER (48)|JOYKO CT-534TIPP-EX ROLL|JOYKO ER-107 ERASER ANIMAL (1500)|KIKY MAGNETIC P/CASE (80)|KIKY SKETCHBOOK 50 A3 (30)|IMAEA MARKER C84 GMM508 GYASP|LG NB A5 LG-20395 FRUIT CANDY|ASTURO W/BASED 50CC 05 RED|JOYKO L-150 RF CUTTER BS (480)|K/MANILA MERAH (125)|PTL W/COLOR WFR-25/24|ASTURO K/LIPAT 15X15/50|PPL B/KWARTO HC 300L (40)|PPL NOTA B2 NCR (120)|JOYKO CC-15 ACALCULATOR(20)|T&J LABEL HARGA NO.110|FBC 152551 OHP M.MARK M PERM BLUE|FBC 54311510 BP SLICX ORANGE BARREL B 10|FBC 552999 W/BOARD MARKER PEN ECO BLACK INK|JOYKO MP-15 M/PENCIL CRYSTAL 0.5 (2304)|JOYKO MP-22 M/PENCIL MINI 0.5 (1440)|K/MINYAK MERAH (500)|KIKY AMP AM 310/10 125 (80)|KIKY AMP MERPATI 90 60GR (70)|KIKY AMP MERPATI SLK 104 80GR DUS (90)|KIKY B/FOLIO EXP 100L (80)|KIKY B/FOLIO KAS 3K 100 (40)|MILLENNIUM W/BOARD 30X45 GT|FBC 520612 TWIST CRAYON 12|MGS 3A 01SL PRIA|IMAEO MINI FAN Q25 PINEAPPLE|LG NB A5 LG-21245 ANIMAL|K/MANILA HITAM (125)|BANTEX 4010.09 BOX FILE|INTERX BRIEF CASE BCX 200F POLK RED(60)|BTF TUSUKAN BON STAINLESS STEEL|IMAEO BTL MINUM PLS LESS-3770-2 540ML|KIKY TAS TALI B (200)|INTERX FACE SHIELD KIDS S|FBC 120064OC HEXA O/PASTEL 18W|FBC 5450004 GRIP XP5 SET 4|MGS 3A 02SL WANITA|MGS 3A 08 GESER KANAN M/P|SNOWMAN SPD 24 W (72)|ZX GP G-521 EXAM (12)|PILOT BP BPTP BL|PILOT BP BPTP BLK|PILOT FRIXION FX CC300 IF CLICK 0.7|PTL GP BL107-AX INK BLK|PTL M/PENCIL AX105 SET|SNOWMAN BP V1 MRH (1728)|SNOWMAN BP V3 S3 BP MIX (576)|SNOWMAN BP V3 S6 BP MIX (288)|SNOWMAN BP V5 BR (1728)|SNOWMAN BP V5 S3 BP MIX (576)|SNOWMAN DRAWING PEN 0.2 (1440)|FBC 169451R RF CORR TAPE SR 506 BLUE|FBC 169463R CORR TAPE 506 GREEN|JOYKO NO.10 STAPLES (1000)|JOYKO STAMP PAD INK SPI-12 BLUE(144)|IMATO POST IT AN1705-331 ANGOO|BAMBI 1010.10 BK ORDNER 7CM F4|CNC  CVR LAID 80533 F4 220G/10L PINK|BAMBI 44201 DOC/HOLDER FC MIX|BANTEX 4011F BOX FILE|INTERX MAP 2 KANCING DBX 400F TRANS(240)|IM171 N/TAG U-016V UCARD|TQ TALI GANTUNGAN 8011 KAIL|ASTURO K/LIPAT 14X14/50|SDU MILIMITER BLOCK F4(200)|STOP MAP BIOLA(500)|T&J LABEL HARGA NO.113|T&J LABEL HARGA NO.114|KIKY AMP MERPATI SLK 104/20 (450)|SNOWMAN SPD 6W (288)|SNOWMAN SPD BG-12 W/BOARD HTM (720)|SNOWMAN SPD G-12 MARKER HTM (720)|SNOWMAN SPD LOOS HTM (1728)|ZB HANA 4C 0.5 WHITE D(864)|ZB MILDLINER GEL GRY|ZB PIC KNOCK 07 BK D(1728)|FBC 309001-8 DECO PAPER TAPE|JOYKO EB30 CO ERASER|KIKY BINDER SET B5 EXCLUSIVE (48)|KIKY L/L B5 50 (200)|KIKY NOTA KONTAN K2 (240)|STD 100 PCL MARS 2B|KIKY B/TAMU EXCLUSIVE (100)|IMAEO SHARPENER DMS-077|PPL NOTA K2 NCR(240)|JOYKO HD-10-MP STAPLER (300)|INTERX MAP 2 KANCING DBX 400F BL(240)|INTERX MAP TALI (ENV BAG S) EBX 100F TRANS(360)|FBC 151699 MARKING PEN NEW COMBINE BLACK|PILOT BL-5M B/LINER|PTL PERMANENT MARKER N450 BLACK|PTL RF PENCIL C505/05|SNOWMAN BP S-1 SEMI GEL MRH (1728)|SNOWMAN BP V2 BR (1728)|SNOWMAN BP V3 GEL PEN HTM (1728)|ZB PIC KNOCK 07 RD D(1728)|ZB ROCKETER HL ROCK BOY D(1728)|ZB SARASA CLIP 05 BLK|ZB SARASA CLIP 05 BLUE|JOYKO PM-17 PERMANENT MARKER (576)|IMAEA MP LT8331 MAEGEE|IMATO GP CS8617 0.5MM|IMATO MP BL-507 BAILE|M&G BP BP8106 HI LINE|M&G GP K-39 0.7MM|STABILO BOSS PASTEL CREAMY PEACH 70/126|STABILO BOSS PASTEL LILAC HAZE 70/155|STABILO BOSS PASTEL PINK BLUSH 70/129|STABILO SWING COOL WALLET S6|JOYKO CF-S209 TIPP-EX(432)|JOYKO STAMP LUNAS S68 (240)|JOYKO STAMP PAD INK SPI-11 VIOLET(144)|MAX STAPLER HD-10|BOLA PLASTISIN/LILIN MAINAN LSPR.023-IDN, BESAR|BAMBI 1033.10 BK BOX FILE JUMBO|BAMBI 2021 R/BINDER 2 25MM FC|FBC 120063OC HEXA O/PASTEL 12W|PTL W/COLOR WFR-15|JOYKO BR-6 NO.5 (2880)|BAMBI 2221 R/BINDER 2 25MM A5|BAMBI 2520ID INDEX&DEVIDER A5|BANTEX 4012.01 A4 BOX FILE|JOYKO B/CLIP 107/12(600)|JOYKO B/STAMP NO.0 (576)|JOYKO 40XL PUNCH (60)|DODO B/GBR DB 8 A3 SPR(100)|JOYKO CT-522 TIPP-EX(720)|JOYKO GS-15 GLUE STICK 15G (648)|JOYKO L/L B5 100 (80)|JOYKO L/L B5 50 (160)|KIKY KWITANSI 100L (160)|KIKY STOP MAP PLASTIK KANCING (500)|FBC 115854 P/WARNA 24C PJ|FBC 120089A HEXA O/PASTEL 24 NEW ACCS|FBC 120090N HEXA O/PASTEL 48W|TITI TI-P-36/S O/PASTEL PP CASE (36)|FBC 317002P GRIP PCL 2001 SET 2|GUNIN GUNTING MM LEMPENG|INTERX B/NOTE BNX 100B B5(72)|3M 654 SSJ POST IT SUPER STICKY PINK|T&J STICKY SIGN HERE|DAIMARU M/TAPE 2\"\"(48)|INTERX MAP KANCING DBX 100F BL(300)|INTERX MAP KANCING DBX 100F RED(300)|T&J LABEL HARGA NO.103|FBC 154656 TEXLINER 46 PASTEL LILACK|FBC 154828 TEXTLINER OPQ PINK (10)|FBC 545000G99 GRIP XP5 BLACK BRL GREEN|FBC 545000V99 GRIP XP5 BLACK BRL VIOLET|JOYKO GP-168 CHUBBY BEAR (1728)|JOYKO MP-47 SAFARI (1728)|PTL GP BLN105-PAX BODY PINK INK BLK|PTL MP A105-T TRANSPARANT|PTL MP PD105T-A|ZB SARASA CLIP 05 PALE BLUE|ZB SARASA CLIP 07 BROWN|STABILO BOSS PASTEL HINT OF MINT 70/116|STABILO BOSS PASTEL TOUCH OF TURQOUES 70/113|STABILO SWING COOL PSTL LILAC HAZE 275/155-8|STABILO SWING COOL PSTL TOUCH OF TUQUOISE 275/113-8|BTF MST SABLON BT-9150 (480)|DAI DPR S/POCKET FC PRO DBLUE|FBC 116572 RF JUNIOR GRIP|FBC 181510 CLIC&GO WATER CUP|FBC 182702 SLEEVE SHARPENER|FBC 183703 ERASER SHARPENER MIX|FBC 187120 ERASER DUST FREE|INTERX MAP L (CL SLEEV) LFX 100F F4 YLW(600)|JOYKO CT-527 TIPP-EX ROLL+ERASER(720)|JOYKO JK-101 TIPP-EX (576)|JOYKO MS-18 JANGKA SET (288)|JOYKO P-97 PENCIL 2B(4320)|IMAEO MINI FAN 83010 SMILING FACE|IMAEO STIP 6005|IMATO DIARY 36108-6150|IMATO PC SLET 30550 UNICORN|M&G CORR TAPE ACT54501|KIKY AGD LISTMAS (80)|SDU B/GBR DB 10 A3(100)|T&J FLAG 77-A|BANTEX 9355 REMOVER STAPLER|IMAEA LAMP PLS CACTUS|IMAEA LAMP PLS FLAMINGO KC|IMATO TALI KERTAS BS MIX|IMATO TALI KERTAS ROL BS MIX|GUNIN SULING GDS23 SOLID|DAI DPR CH FC20 PRO TOSCA BL|FBC 136200 MP TRI CLICK MIX|JOYKO MP-49 M/PENCIL (1728)|KIKY BP MA (1728)|PTL MP A105-P PINK|PTL MP AZ125R-P PINK|SNOWMAN SPD LOOS MRH (1728)|STABILO BOSS ORI WALLET S4|ZB KOKORO SWEET GEL 05 BARREL|IMATO GP 0.5 159 SNOW WHITE|M&G GP AGPA1702 0.5MM WOOTS|STABILO BOSS ORIGINAL 70/24|KASIH IBU - PENGARANG TUL SUWANNAKIT|123 ANGKA PETAMAKU - PENGARANG POPPIE LARASATI|DAI DPR S/POCKET A5 PRO LGRN|KIKY B/KOTAK BSR 38L (320)|KIKY BUSINES FILE (300)|KIKY MAGNETIC P/CASE LARGE (80)|IMAEO PC SLET 6178|CNC  PPR LAID 80209 A4 90G/20L L GREEN|CNC  PPR LAID 80210 A4 90G/20L GOLD YELLOW|FBC 11150050CC CONN PEN SET 50 BUCKET|GUNIN GUNTING LL LEMPENG|INTERX BUSS FILE A4 BFX 100A BL(480)|INTERX BUSS FILE F4 BFX 100F GRN(480)|INTERX BUSS FILE F4 BFX 100F ORANGE(480)|INTERX BUSS FILE F4 BFX 100F RED(480)|DB C/HOLDER FC 40 GRN|TQ N/TAG SX6018 SHUXIN VERTIKAL|T&J FLAG 33-4|BINDEX 5721 PP POCKET F4 WMH|BINDEX 777.15 MED BLUE KWIT|PPL KWITANSI 40 TGG(240)|SPECTRA STRFOAM GLITER 12 BLACK|FBC 154658 TEXLINER 46 PASTEL TURQUOISE|FBC 154851 TEXTLINER OPQ BLUE (10)|FBC 548551 STRIPE PEN VERNATE 0.7 GREEN BRL|KIKY AMP MERPATI SLK 104AM/DUS (90)|KIKY B/FOLIO 100L (40)|KIKY B/KWARTO 200L (60)|PTL MP A105M-CX METTALIC BL|ZB KOKORO GEL 05 RD D(864)|ZB PENCILTIC ORG D(864)|ZB PIC KNOCK 07 BK S6|IM161 GP TP100 0.5MM CLASSIC PEN|IMAEA RF 6042 CORN|STABILO SWING  COOL PSTL HONT OF MINT 275/116-8|STABILO SWING COOL PSTL PINK BLUSH 275/129-8|BB L/L B5 100 PINK(25)|DAIMARU D/TAPE FOAM 24MM*6M (96)|PTL RF C275S-2B SET|IM168 DIARY NB LG-9443 LOVELY ANIMAL|IMAEA PC SLET 7808 MAKE TODAY|M&G CORR TAPE ACT55701|BAMBI 1033.04 GRN BOX FILE JUMBO|GUNIN CUTTER A-18 BS|JOYKO A300A CUTTER AUTO(576)|KIKY K/LIPAT 16X16 @100 ATP (120)|T&J FLAG 99-A|T&J LABEL HARGA NO.109|JOYKO CC-30 CALCULATOR(60)|TAS SEKOLAH SD IMPORT MIX|ZB MILDLINER GEL BL|ZB PENCILTIC GR D(864)|IMATO GP 171203 HELLO RABBIT|M&G MP 39903 0.7MM LISA|STABILO SWING COOL PASTEL SET 6|BB L/L 50L A5 (50)|BB L/L A5 50 BLUE (100)|BTF MST CLASSIC WARNA 30 CM|DAI DCS C/SLEEVES F4 3 POP|JOYKO A-20 SLEPER RUMAH(48)|JOYKO B/CLIP 105/12(720)|JOYKO EB30 STIP HT (1500)|KIKY MAGNETIC P/CASE ORNMN (80)|PTL RF PENCIL 50/07|IMATO DIARY 6112 CAT|CNC  CVR LAID 80538 F4 220G/10L L GREEN|KANVAS 20 X 20|KANVAS 25 X 35|GUNIN GUNTING XL LEMPENG|BANTEX LR9210.260 A4 SCHETBOOK 30L|BINDEX 1034B BOX FILE BINDEX|DAIMARU PB LINEN 2\"\" HIJAU(60)|PPL EV 104 PPS (50)|JOYKO MP-07 M/PENCIL 0.5 (1440)|STABILO FLASH GREEN|STABILO SWING COOL ORIGINAL BLUE 275/31|BTF MST BT-9450|FBC 117116 PENCIL 6H|FBC 169453R C/TAPEQJR 506 PRUPLE W/REFILL|DAIMARU PB LINEN 2\"\" MERAH(60)|MGS 3B-13 RUANGAN INI DIAWASI CCTV|MGS D1 SL S/BOARD IND-ENG|ZB MILDLINER GEL YLW|IM171 Â\\xa0GP G-539 ONE 7 LOVE IN|BB L/L B5 100 YELLOW(25)|FBC 117104 PENCIL 4B|FBC 171516 ORIGAMI 15X15 (20)|KIKY B/MATEMATIKA 100L (140)|KIKY L/L B5 100 (100)|M&G CORR TAPE ACT55901|PPL PF A5 R/PAD (240)|ASTURO W/BASED 50CC 11 BLUE|JOYKO K-200 CUTTER (576)|KANVAS 15 X 15|PTL W/COLOR WFR-18|GUNIN P/HAPUS W/BOARD 802|BTF BT 123A|INTERX MAP KANCING W/SPINE DBX 200F BL(300)|JOYKO CC-12CO CALCULATOR(20)|IM171 MUG SP1080 HELLO|IMATO TALI RAMI MIX S6|STICKY NOTE 70X70/75 SHEET|BTF SABLON HA-300|FBC 126512 SUPER FINE LEADS 0.5 2B ECO|KIKY B/KWARTO 100L (80)|PTL MP A105-D GRN|SNOWMAN BP BP-7 HTM (1728)|BB L/L 100L A5 (50)|DAI DCS C/SLEEVES A4 1 POP CLEAR|FBC 117113 PENCIL 3H|MGS 2A 23GD MUSHOLLA|FBC 115856 P/WARNA 36 C PJ|JOYKO GSP A4-230 GLOSSY PAPPER (50)|JOYKO HD-10 STAPLER (240)|BAMBI 2220 R/BINDER 2 20MM A5|BANTEX 1324.10 A5 EXC  R/BINDER|DB-MT-20R-71-RDA4 CLEAR BOOK|BTF BT 2009 (144)|PPL B/FOLIO HC 100L (50)|FBC 547310 TRIPEN GLITER GOLD|FBC 547351 TRIPEN GLITER BLUE|FBC 547363 TRIPEN GLITER  GREEN|FBC 547428 TRIPEN PINK|MGS D2 GD S/BOARD ENG-JPN|ZB MILDLINER GEL PK|BB L/L 50L B5 (50)|KIKY NOTA KONTAN K1 (240)|PPL TS 5848 GR(100)|ASTURO W/BASED 50CC 01 YELLOW|INTERX BRIEF CASE BCX 100F GRN(60)|TQ NAMETAG B001 B1 PREPET V|PPL NOTA B1(120)|KIKY AMP CK 310/10 125 (80)|KIKY B/FOLIO 200L (30)|PTL MP AZ125R-S SKY BL|SNOWMAN BP V1 HTM (1728)|SNOWMAN BP V2 HTM (1728)|IMAEA RF 6036 CARROT|PPL TS 7565 1 PLAY(100)|DAI DPR S/POCKET A5 PRO RED|JOYKO CORRECTION TAPE  CF-S203A (576)|FBC 131423 GRIP BRUSH A/COLOR|BAMBI 2120 R/BINDER 2 20MM A4|ASTURO K/LIPAT 10X10/50|JOYKO CC-8 CO CALCULATOR|IMAEA LAMP PLS WATERMELON|STABILO SWING COOL ORIGINAL RED 27/40|FBC 117112 PENCIL 2H|MASTONA KOAS NYLON 579-NO 2|JOYKO BR-6 NO.7 (2880)|KIKY K/LIPAT 16X16 @20 ATP (600)|BINDEX 717.10 BLACK F4 7CM|SNEEL MAP BIOLA(500)|IMATH WEKER R SA011-KE COLOR BS|SNOWMAN BP BP-7 BR (1728)|JOYKO GSP A4-210 GLOSSY PAPPER|BANTEX 8865 11 ID CARD POTR +LAN CBLUE|E-PRINT T-SHIRT TRANSFER PAPER LIGHT A4 150@5|PPL B/EXPD HC 100L (100)|IMATO TAMBANG PERAK KC|FBC 156531 MARKING PEN SET3. BLACK|SNOWMAN BP S1 BP S3 MIX (576)|STABILO BOSS PASTEL MILKY YELLOW 70/144|BANTEX LR9211260 RF SKETCH BOOK A4|DAI DCS C/SLEEVES A4 1 CLASSIC GREEN|JOYKO NO.3 STAPLES (500)|MAX STAPLER HD-50|BAMBI 1012.02 LBL ORDNER 7CM A5 (KWT)|BANTEX 8211 GLUE STICK|FBC 187052 TACK IT 50GR GREEN|INTERX CARRY CASE 4CM CCX 100F RED(20)|DB C/HOLDER FC 20 RD|DB C/HOLDER FC 20 YLW|3M 656 POST IT AC GREEN|BB L/L A5 50 GREEN (100)|BB L/L A5 50 YELLOW (100)|DAIMARU ISOLASI TAPE MINI 12MX10Y|IMATO NB 64K BLS-22142 MY MELODY|K/MANILA BIRU (125)|MASTONA KOAS NYLON 579-NO 10|CNC  CVR LAID 80531 F4 220G/10L L YELLOW|FBC 172863 COMPASS|M&G N/TAG V AWT90973|MAX STAPLER HD-10D|SPECTRA K/KADO NON EMBOSS 08 GREEN|NOTE BOOK ELGAN|SNOWMAN BP V7 HTM (1728)|ZB MILDLINER GEL BRW|ZB MILDLINER GEL ORG|ZB SARASA CLIP 07 BLUE|JOYKO P-93 PENSIL 2B (4320)|E-PRINT DOUBLE SIDE MATTE INKJET P A4 220@20|PPL KWITANSI 50 BS(240)|FBC 154666 TEXLINER 46 PASEL L.GREEN|JOYKO GP-190 BP PINO GEL (1728)|ZB A-4C BP MULTI PK D(864)|JOYKO PM-34RF PER/MARKER BLK (576)|BTF MST BT-845|BTF MST SABLON BT-9550|FBC 1844763 SHARPENER GREEN|KIKY BINDER SET A5 EXCLUSIVE (48)|PTL CORRECTION BTL ZL1S6|SNOWMAN W/BOAR INK HTM (240)|IMAEA WOOD CLIP CUTE CATS|KIKY B/FOLIO 50L (60)|KIKY B/KWARTO 50L (140)|KIKY BP MAJESTY (1728)|SNOWMAN MARKING INK BR (720)|ZB PICCOLO7 SEM.GEL 0.7 BL|STABILO BOSS ORIGINAL LILAC 70/58|MASAKAN ISTIMEWA GAGA - PENERBIT ENY DK|BB L/L A5 100 POLOS (50)|IMAEA STAMP EX25076|CNC  PPR LAID 80207 A4 90G/20L PINK|DB CH MT-30-27 A4 30 BL|BINDEX 727.15 MED BLUE F4 5CM|SNOWMAN SPD LOOS BR (1728)|TITI OIL PASTEL 12  COLOR|SDU KS 25 K HVS 12X12|FACE SHALE|TEBAK APA ITU? - PENGARANG TUL SUWANNAKIT|DAIMARU D/TAPE 2\"\" 12Y(60)|JOYKO CFS-205 PT TIPP-EX(576)|JOYKO PF-50 WARNA PAPER FASTENER (100)|INFRABOARD 3MM, 50X75CM|IMAEA MARKER C99 GMM508 GYASP|INTERX CLIP FILE CFX 100F CFX 100F BL(144)|INTERX SPRING FILE SFX 100F ORANGE(144)|BINDEX 717.15 MED BLUE F4 7CM|BTF SPONGE CUBE|DAIMARU PB LINEN 1 1/2\"\"(80)|IMAEA BTL MINUM GLASS MY BOTTLE|TAS TK SEOUNTRA|FBC 170640 MST SCALA 15CM|MGS 3C 10WT TG TDK BERKPNTNG DLRG M|SNOWMAN BP S-1 SEMI GEL HTM (1728)|DAI DPR CASE ELAST A440 PRO YLW|FBC 117115 PENCIL 5H|FBC 187230 ERASER SMALLWHITE NW|IMATO PB AMS04 HELLO KC|STABILO BOSS PASTEL S2 PB+T|FBC 264500 STIP COW (30)|MGS 2A 06GD NO SMOKING|LG NB B5 LG-21192 PAJAMA PARTY|IM171 N/TAG U-013V UCARD|M&G YOYO AWT92002 750MM|IMATO PAJ P1058-59 HAT GRAN FA|IMATO PAJ P1058-59 HAT GRAN MA|IMATO VASE 1709 BOTTLE F NECK L|MY FRAME TF3361 WHITE|FBC 122531 ERASABLE CRAYON SET 24|FBC 133802 M/PENCIL OPAQUE|MGS 3A-26 MATIKAN LAMPU DAN TUTUP KRAN AIR|ZB MILDLINER GEL MAGENTA|K/MAS EMAS (250)|K/MAS HIJAU (250)|SNOWMAN SP-12 SILVER MED (1440)|ASTURO W/BASED 100CC 01 YELLOW|ASTURO W/BASED 100CC 05 RED|ASTURO W/BASED 100CC 09 GREEN|K/MAS BIRU (250)|BAMBI 5135 ZIPPER POCKET F4|JOYKO CC-8 A CALCULATOR(20)|FBC 552951 ECO WB MARKER II BL.INK|JOYKO STAMP PAD INK SPI-14 RED(144)|CNC  CVR LAID 80232 A4 220G/10L SKY BLUE|AKU TIDAK MAU BERBOHONG LAGI - PENGARANG ENY DK|LIHAT! APA WARNAKU? - PENGARANG TUL SUWANNAKIT|DAI DPR S/POCKET A4 PRO LBLUE|FBC 115858 P/WARNA 48C|BANTEX 4012.10 A4 BOX FILE|FOX LEM STYROFOAM 100GR|INTERX BUSS FILE F4 BFX 100F BL(480)|TQ NAMETAG TQ904 B4 VERTIKAL|KIKY AMP CK 312/10 125GR (80)|PTL GP BLN105-FAX BODY ORG INK BLK|PTL GP BLN105-KAX BODY L GRN INK BLK|PTL SPD W/BOARDMARKER MW45 C BLUE|STABILO SWING COOL ORIGINAL PINK 275/56|PTL SPD W/BOARDMARKER MW45 A BLACK|PTL SPD W/BOARDMARKER MW45 B RED|BAMBI 2026 R/BINDER 2 16MM FC|BB L/L B5 50 PINK(50)|JOYKO CC-25 CALCULATOR (80)|INTERX FACE SHIELD KIDS L|PTL GP BLN105-CX INK BL|TQ N/TAG SX6016 SHUXIN VERTIKAL|FBC 549199 SUPER TRUE GEL PEN 0.7 BLK|BB L/L A5 50 POLOS (50)|FOX LEM STIK 436 BS(12)|E-PRINT CASH REGISTER 57X50(120)|KIKY TAS TALI A (240)|BANTEX LR9211290 RF SKETCH BOOK A3|BB L/L B5 50 GREEN(50)|KIKY B/TULIS DIKTAT KULIAH UNIVERSITY 40L/5B|M&G ERASER AXP96429|KIKY AMP AM 303/10 125 (160)|JOYKO BR-6 NO.6 (2880)|INTERX MAP KANCING DBX 100F YLW(300)|SPECTRA K/KADO EMBOSS 05 RED|SPECTRA K/KADO EMBOSS 09 GREEN|KIKY AMP CK 303/10 125 TALI|IM165 Â\\xa015011 COUNTRY|PTL M/PENCIL PD105 SET|BB L/L B5 50 BLUE(50)|FBC 171516 ORGM W/PAPER ANIMAL|DAI DPR S/POCKET A4 PRO TSC BL|FBC 180770 SCISSORS 1870|INTERX BUSS FILE F4 BFX 100F BK(480)|E-PRINT GLOSSY A4 (ALUM PACK)230GR@20|ABC BIRU R-14/2 (72)|KIKY B/KWARTO KAS 2K 100 (80)|FBC 547321 TRIPEN GLITER RED|JOYKO PM-19 PER/MARKER RED (576)|STABILO BOSS ORIGINAL ORANGE 70/54|ASTURO W/BASED 50CC 08 GREEN|BANTEX 1446F 09 LEVER ARCH FILE|FUN DOH 28033 COMBO 6 (60)|FUN-DOH 28009 250 GRM (36)|FUN-DOH 28098 CLASSYC (50)|FUN-DOH 28099 SCOPPY (50)|BTF SEGITIGA NO.12 (96)|FBC 189024 STIP SEGI3 GRIP|IMAEA MARKER C104 GMM508 GYASP|FUN-DOH 280033 MIX 4 (65)|TAS SD NON LPS|MGS 2A 20SL JGL KEBERSIHAN|ASTURO K/STIKER FL 36 PURPLE 32X52|T&J FLAG 33-Z|DAIMARU PB LINEN 2\"\" BIRU(60)|SNOWMAN BP V6 HTM (1728)|STABILO SWING COOL PASTEL CREAMY PEACH 275/126-8|FBC 122530 ERASABLE CRAYONS SET-12|IMATO TALI KERTAS KC MIX|TAS SD KANVAS|KIKY AMP CK 304/10 125 (160)|LG NB B5 LG-20779|FBC 115827 P/WARNA 24W BTL|BANTEX 4010.11 BOX FILE|FBC 133800 M/PENCIL TRANSPARAN|MGS 2A 19SL GBR PANAH|K/KARTON TEBAL (30)|IMAIE FLOWER VASE ROUND WHITE MIX|ABC BIRU R-6 / 4 (72)|SPECTRA STRFOAM GLITER 07 PINK|STABILO SWING COOL ORGININAL ORANGE 275/54|FBC 117114 PENCIL 4H|WC 110 GUITAR(144)|FBC 187299 ERASER DUST FREE BLACK NW|KIAMANO PLASTIK (60)|BANTEX 1326.01 R/BINDER B5|3M 656 POST IT AC PINK|FBC 117111 PENCIL H|JOYKO STAMP PAD INK SPI-13 BLACK(144)|E-PRINT BULK INK 100ML EPSON BK (120)|ZB SARASA CLIP 1.0 BL.BLK|INTERX MAP TALI (ENV BAG S) EBX 100F YLW(360)|COIN HOLDER FASHION|KIKY AMP AM 308/10 125 (120)|BANTEX 4010.10 BOX FILE|DB C/HOLDER FC 60 GRN|KB C/BOOK A4540 A4 40POCKET|FBC 154615 TEXLINER TRANSLUCENT ORANGE|ZB PENCILTIC B.GREEN D(864)|BANTEX 8870 FLEXI TAB 5 NEON CLR|TQ NAMETAG TQ901 B1 VERTIKAL TPS (20)|DINGLI PEN STAND 802 JRG|3M 654 SSJ POST IT SUPER STICKY GREEN|ABC ALK LR-03 (144)|FBC 547407 TRIPEN YELLOW|MGS 3B-14 HARAP HEMAT PAKAI AIR|BANTEX 8865 19 ID CARD POTR +LAN PINK|BANTEX 8865 64 ID CARD POTR +LAN MANGO|E-PRINT STIKER  GLOSSY PP A4 135GR@20|SPECTRA STRFOAM PLS 01 YELLOW|FACE SHIELD ANAK DORAEMON|TAS SPUNBOND 30X40|KIKY KAS BON 100L (180)|E-PRINT BULK INK 100ML EPSON CYAN  (120)|E-PRINT BULK INK 100ML EPSON MGNTA (120)|E-PRINT BULK INK 100ML EPSON YLW (120)|FACE SHIELD ANAK HELLOKITY|FBC 169312 CORR PEN 8ML TRIANGULAR|XLJ P/C PLST 3515 EVERYTIME U SMILE|FUN-DOH 28015 HAPPY FACTORY BOX(22)|E-PRINT CASH REGISTER 57X30(120)|E-PRINT CASH REGISTER 57X34 EDC(160)|TAS SEKOLAH TK IMPORT|JOYKO B/CLIP 260/12(60)|DAI DPR S/POCKET A4 PRO YLW|FBC 169428R CORR TAPE 506 PINK|CNC  CVR LAID 80233 A4 220G/10L PINK|IM171 C/HOLDER 95033 30 A4|INTERX MAP L (CL SLEEV) LFX 100F F4 BL(600)|E-PRINT BULK INK 100ML CANON BK (120)|FUN-DOH 28096 O\\'CREAMY (52)|KIKY B/FOLIO EXP 200L (45)|ZB B-1000 SEM.GEL BL S12|IMATO C/BOARD 76-110-07|BANTEX 1324.04 A5 EXC  R/BINDER|BANTEX 1401 01 F ORDNER CARTON|INTERX MAP L (CL SLEEV) LFX 100F F4 TRANS(600)|KIKY NEW BINDER B5 UNIV (48)|ZB PICCOLOR SEM.GEL 0.7 (1728)|BANTEX 8865 65 ID CARD POTR +LAN LIME|DINGLI PENSTAND B3342|ZB B-1000 SEM.GEL BL D(1728)|FBC 169507R CORR TAPE 506 YLW|JOYKO PF-50 PUTIH PAPER FASTENER(100)|IMPSA NB A5 NA580055 OWL|ASTURO W/BASED 100CC BLACK|INTERX CARRY CASE 4CM CCX 100F BL(20)|ASTURO K/SCOTLITE FL GOLD 40X60|FACE SHIELD DEWASA|MGS 2A 06SL NO SMOKING|MGS 2A 22SL HRP TUTUP PINTU|K/SAMSON CKLT HLS 80GR|BAMBI 5136 ZIPPER POCKET A4|LMB BX 42L ALZ|GRAND COVER BUFFALO F4 150GR 100SHEET - GRN|GRAND COVER BUFFALO F4 150GR 100SHEET - BLK|GRAND COVER BUFFALO F4 150GR 100SHEET - YLW|GRAND COVER BUFFALO F4 150GR 100SHEET - WHT|BENEX ORDNER 927-FC HITAM|GRAND COVER BUFFALO F4 150GR 100SHEET - RD|DB-MT-10-49-GNA4 CLEAR BOOK|FBC 154821 TEXTLINER OPQ RED (10)|PTL GP BL110-CX|JOYKO NUMBER STAMP  N7 (480)|MEJA LIPAT KARAKTER MINIMALIS|E-PRINT MATTE INKJET PA A4 110@100|INTERX FACE SHIELD KIDS M|IMAEO BTL MINUM PLS FQ-1802-3 600ML|KIKY B/FOLIO 300L (18)|DAI DPR BUSINESS FILE F4 LGREEN|BAMBI 1013.06 YLW BOX FILE STD|IMAEO SHARPENER XL-385|BAMBI 1012.09 RED ORDNER 7CM A5 (KWT)|BAMBI 1013.05 GRY BOX FILE STD|BAMBI 2121 R/BINDER 2 25MM A4|BANTEX 8870 01 FLEXI TAB 3 NEON CLR|M&G PEN STAND ABT98403 JARING BULAT|MGS D1 GD S/BOARD IND-ENG|MGS E1 SL S/BOARD IND-ENG|KANVAS 20 X 30|BANTEX 1450 11 ORDNER A4|IMAIE WEKER BS FG2697 ROUND ANIMAL|FBC 548221 BLT PEN METAL REDMARON BRL|PTL GP BL107-KAX BODY L GRN INK BLK|SNOWMAN BP BP-7 BP S3 MIX (576)|BANTEX 8865 07 ID CARD POTR +LAN WHITE|KB PEN STAND P6102|ASTURO K/SCOTLITE FL 03 ORANGE 40X60|ASTURO K/SCOTLITE FL 40 YELLOW 40X60|T&J LABEL HARGA NO.97|SPECTRA STRFOAM PLS 04 RED|FBC 154607 TEXLINER TRANSLUCENT YELLOW|FBC 154667 TEXLINER 46 VANILA INK|IQRA JUZ AMMA BANDEL BESAR HVS|KIKY KWITANSI 50L (280)|INTERX CLIP FILE CFX 100F CFX 100F BK(144)|FUN-DOH 28001 WORDS MIKA HANGING (30)|FUN-DOH 28002 NUMBERS MIKA HANGING(30)|FBC 119055 FBC PAKET UJIAN MANTAP 125LV GREEN|GUNIN GUNTING SPM LEMPENG|UHU 140790 PATAFIX PROPOWER|TAS REMAJA MINI CAT PINK|K/DUPLEK CUT 310GR|MGS 3A 07SL DORONG|FUN-DOH 28058 MINI DONUT (36)|MGS D2 SL S/BOARD ENG-JPN|FBC 117107 PENCIL 7B|KIKY B/MATEMATIKA 38L (320)|LG NB A5 LG-20367 FABLETOWN|IMAEA MUG 0370-13/16 LOVE GOLD|IMAEA PAJ CRAMIC 14001A OWL BS|IMAEO PAJ 9837 GIRL MOUSE CHEF WELCOME|INTERX CARRY CASE 4CM CCX 100F GRN(20)|KIKY AMP AM 309/10 125 (80)|BANTEX 1401 10 F ORDNER CARTON|INTERX MAP L (CL SLEEV) LFX 100F F4 GRN(600)|KIKY BUKTI KAS 100L (180)|ASTURO K/SCOTLITE FL 43 PINK 40X60|ASTURO K/SCOTLITE FL WHITE 40X61|IMAEA LAMP PLS SHELLFISH|BTF BUSUR 180/12 (960)|BTF SEGITIGA NO.10 (96)|LG NB B5 LG-21187 CUTE STAR|T&J LABEL HARGA NO.101|BAMBI 4216 INS DOC HOLDER A4|ASTURO K/SCOTLITE FL BLACK 40X60|FUN-DOH 28020 AMAZING FOOD BOX (36)|MGS 3A-25 KIBLAT|IM145 NB DL0879-C5096 COUNTRY|POTENSI BESAR BETERNAK KAMBING BOERKA|IM168 PENSTAND 804 SQUARE|SPECTRA STRFOAM GLITER 02 YELLOW|SPECTRA K/KADO NON EMBOSS 06 PINK|GIRA SAKIT GIGI|LIFE STORY NOT JOB TITLE|FBC 120065OC O/PASTEL 24|MEJA LIPAT SERBAGUNA|T&J LABEL HARGA NO.120|INTERX MAP TALI (ENV BAG S) EBX 100F BL(360)|KANVAS 25 X 30|TERJEMAH JUZ AMMA BESAR HVS|FBC 115844 P/WARNA TIN CCP 12L|DIAMOND STOP MAP|PPL THERMAL RR 5750(100)|BANTEX 8866 ID CARD HOLDER 07 WHITE|KIKY AMP CK 305/10 125 (120)|STABILO BOSS ORIGINAL LAVENDER 70/55|FBC 133810 M/PENCIL 0.5 TRANSPARENT|DAI DPR S/ POCKET FC PRO YLW|BAMBI 44200 DOC/ HOLDER A4 MIX|IMAEA PC JRNG BT121|FBC 154815 TEXTLINER OPQ ORANGE (10)|TQ TALI GANTUNGAN 8010 JEPIT TIPIS|IQRA BANDEL BESAR HVS|500 EVERYDAYS QUESTION ABOUT WORKPLACE|DAI DPR S/POCKET A5 PRO DBLUE|PAKET KADO B B/TULIS, ALT TULIS|JOYKO HD-30 STAPLER (120)|KANVAS 35 X 50|ASTURO K/SCOTLITE FL 08 GREEN 40X60|FUN-DOH 28017 ICE CREAM BARS BOX (80)|BANTEX 1466 01 F4 ORDNER|DAI DCS C/SLEEVES A4 1 CLASSIC BLUE|INTERX MAP TALI (ENV BAG S) EBX 100F GRN(360)|IMAEA MARKER C6 GMM508 GYASP|IMAEA MARKER C65 GMM508 GYASP|IMAEA MARKER CG4 GMM508 GYASP|BAMBI 1033.01 BL BOX FILE JUMBO|ASTURO K/SCOTLITE FL 07 PINK 40X60|ASTURO K/SCOTLITE FL 21 PINK 40X60|BINDEX 727.10 BLACK F4 5CM|INTERX MAP L (CL SLEEV) LFX 100A A4 BL(600)|IMAEA VASE JYHMJ-1017C ANIMAL FLOWERS|SPECTRA STRFOAM GLITER 01 YELLOW|ES PS 4045|ES RHINE 706/7401|ES RHINE 706|INTERX SPRING FILE SFX 100F GREEN(144)|FBC 547415 TRIPEN ORANGE|BAMBI 1014.01 BL ORDNER 5CM F4|A4 75GR PAPERONE/500 S|DAIMARU SAT PREMIUM 24MMX72Y|T&J LABEL HARGA NO.107|PTL GP BLN105-AX INK BLK|BAMBI 1014.19 PAST GRN ORDNER 5CM F4|DAI DPR CASE ELAST FC40 PRO LGRN|BAMBI 1013.09 RED BOX FILE STD|PTL GP BLN 75TL-A BLACK|M&G ERASER AXP96447 2B|LUNA 136 C36TH PERMNT PW 36(24)|INTERX BRIEF CASE BCX 200F POLK YLW(60)|ASTURO K/SCOTLITE FL 02 YELLOW 40X60|ASTURO K/STIKER FL BLACK 32X52|FBC 154399 ECO PERMANENT MARKER BLACK INK|PTL GP BL110-AX|IMATO GP 5002-4 STYNO|BB L/L B5 100 BLUE (25)|ASTURO K/SCOTLITE FL 09 GREEN 40X60|ASTURO K/SCOTLITE FL 16 RED 40X60|ASTURO K/SCOTLITE FL 34 GREEN 40X60|DAI DPR S/POCKET A4 PRO RED|BAMBI 1010.09 RED ORDNER 7CM F4|BAMBI 1013.10 BK BOX FILE STD|INTERX CARRY FILE 3CM CFX 130F TRAN(30)|TQ CARD STAND K-389 A5 148X210MM|TQ N/PLATE FT601 MRG ID CARD|SPECTRA K/KADO EMBOSS 03 ORANGE|SPECTRA K/KADO EMBOSS 11 BLUE|SPECTRA STRFOAM GLITER 09 GREEN|ES BPP 162|GOOSEBUMPS : TEROR ORANG-ORANGAN SAWAH|GOOSEBUMPS : MANUSIA SERIGALA RAWA DENDAM|CNC  PPR LAID 80204 A4 90G/20L SKY BLUE|FUN-DOH 28004 MIX 10 (26)|PTL SPD W/BOARDMARKER MW45 D GREEN|INTERX BRIEF CASE BCX 100F YLW(60)|CNC  PPR LAID 80205 A4 90G/20L NAVY BLUE|BANTEX 1326.11 R/BINDER B5|INTERX MAP L (CL SLEEV) LFX 100A A4 GRN(600)|INTERX MAP L (CL SLEEV) LFX 100A A4 RED(600)|CNC  PPR LAID 80501 F4 90G/20L WHITE|DAI DPR S/POCKET A4 PRO DBLUE|IMAEA MARKER GOLD GMM508 GYASP|ES R 6230|ES DS 9597|KANVAS 30 X 30|BANTEX 1324.01 A5 EXC  R/BINDER|ES GP U599|TQ NAME TAG TALI LEATHER U020 H|FBC 317002 GRIP 2001 PENCIL (12)|BANTEX 8212 GLUE STICK|ASTURO K/STIKER FL PERAK 32X52|ES FP C100 03'"
            ]
          },
          "metadata": {
            "tags": []
          },
          "execution_count": 20
        }
      ]
    },
    {
      "cell_type": "markdown",
      "metadata": {
        "id": "4y0vAYUoDKTj"
      },
      "source": [
        "**Draw into wordcloud**"
      ]
    },
    {
      "cell_type": "code",
      "metadata": {
        "colab": {
          "base_uri": "https://localhost:8080/",
          "height": 391
        },
        "id": "FUHGKKwKDGHx",
        "outputId": "0c71b951-b848-4b93-cac0-94e4549c4cf3"
      },
      "source": [
        "wcloud = WordCloud(width=800, height=800,background_color=\"white\",stopwords=STOPWORDS,max_words=200 ).generate(products_desc)\n",
        "plt.figure(figsize = (5,5), facecolor = None) \n",
        "plt.imshow(wcloud) \n",
        "plt.axis(\"off\") \n",
        "plt.tight_layout(pad = 0) \n",
        "\n",
        "plt.show()"
      ],
      "execution_count": null,
      "outputs": [
        {
          "output_type": "display_data",
          "data": {
            "image/png": "[encoded data removed]",
            "text/plain": [
              "<Figure size 360x360 with 1 Axes>"
            ]
          },
          "metadata": {
            "tags": [],
            "needs_background": "light"
          }
        }
      ]
    },
    {
      "cell_type": "markdown",
      "metadata": {
        "id": "z2Ivv6slDY7a"
      },
      "source": [
        "**How many unique product**"
      ]
    },
    {
      "cell_type": "code",
      "metadata": {
        "colab": {
          "base_uri": "https://localhost:8080/"
        },
        "id": "kXqsFpKiDOxA",
        "outputId": "76c25c53-00d0-4ef5-c2da-e421b8c5d1f7"
      },
      "source": [
        "sales[\"Kode Barang\"].nunique()"
      ],
      "execution_count": null,
      "outputs": [
        {
          "output_type": "execute_result",
          "data": {
            "text/plain": [
              "1318"
            ]
          },
          "metadata": {
            "tags": []
          },
          "execution_count": 22
        }
      ]
    },
    {
      "cell_type": "markdown",
      "metadata": {
        "id": "Y7IikwQlDm1T"
      },
      "source": [
        "**4. Timebound Data**"
      ]
    },
    {
      "cell_type": "code",
      "metadata": {
        "colab": {
          "base_uri": "https://localhost:8080/"
        },
        "id": "3X3I9SmvDYFx",
        "outputId": "b2b7e101-883a-4358-f87e-a08032be510c"
      },
      "source": [
        "#timebound\n",
        "print(sales[\"Tanggal Invoice\"].min())\n",
        "print(sales[\"Tanggal Invoice\"].max())\n",
        "print(\"The data is from 5 month transaction\")"
      ],
      "execution_count": null,
      "outputs": [
        {
          "output_type": "stream",
          "text": [
            "2020-07-01 09:10:20\n",
            "2020-11-30 17:28:20.995000\n",
            "The data is from 5 month transaction\n"
          ],
          "name": "stdout"
        }
      ]
    },
    {
      "cell_type": "markdown",
      "metadata": {
        "id": "xj1Oy-gnEuC8"
      },
      "source": [
        "## Exploratory Data Analysis"
      ]
    },
    {
      "cell_type": "code",
      "metadata": {
        "id": "kICftSjlEcaX"
      },
      "source": [
        "sales['month-Year'] = sales[\"Tanggal Invoice\"].apply(lambda x: 100*x.year + x.month)\n",
        "sales['Total'] = sales['Qty'] * sales['Harga '] "
      ],
      "execution_count": null,
      "outputs": []
    },
    {
      "cell_type": "code",
      "metadata": {
        "colab": {
          "base_uri": "https://localhost:8080/"
        },
        "id": "vAySzT3hEzH0",
        "outputId": "3ebaea6f-a3c1-44a7-8154-7f71d467ddaf"
      },
      "source": [
        "sales['month-Year'].unique()"
      ],
      "execution_count": null,
      "outputs": [
        {
          "output_type": "execute_result",
          "data": {
            "text/plain": [
              "array([202007, 202008, 202009, 202010, 202011])"
            ]
          },
          "metadata": {
            "tags": []
          },
          "execution_count": 25
        }
      ]
    },
    {
      "cell_type": "code",
      "metadata": {
        "colab": {
          "base_uri": "https://localhost:8080/",
          "height": 342
        },
        "id": "rFwBccJ6FBqt",
        "outputId": "c4a2ba08-a64f-453f-b50b-443da0496df3"
      },
      "source": [
        "sales.groupby(\"month-Year\")[\"Total\"].sum().plot(kind=\"bar\")\n",
        "plt.title(\"Total Transaksi Per Bulan\",fontsize=15)"
      ],
      "execution_count": null,
      "outputs": [
        {
          "output_type": "execute_result",
          "data": {
            "text/plain": [
              "Text(0.5, 1.0, 'Total Transaksi Per Bulan')"
            ]
          },
          "metadata": {
            "tags": []
          },
          "execution_count": 26
        },
        {
          "output_type": "display_data",
          "data": {
            "image/png": "[encoded data removed]",
            "text/plain": [
              "<Figure size 432x288 with 1 Axes>"
            ]
          },
          "metadata": {
            "tags": [],
            "needs_background": "light"
          }
        }
      ]
    },
    {
      "cell_type": "markdown",
      "metadata": {
        "id": "QvJnHr3RGCOn"
      },
      "source": [
        "**1. How many products sold, and transaction every month?**"
      ]
    },
    {
      "cell_type": "code",
      "metadata": {
        "colab": {
          "base_uri": "https://localhost:8080/",
          "height": 400
        },
        "id": "3fZcgnKYFcMb",
        "outputId": "7437954d-9446-4091-f05c-00581d7e4601"
      },
      "source": [
        "sales.groupby(\"month-Year\")[\"Kode Barang\"].nunique().plot(kind=\"bar\",figsize=(9,5))\n",
        "plt.title(\"Number of Sold Product By Month\",fontsize=18)"
      ],
      "execution_count": null,
      "outputs": [
        {
          "output_type": "execute_result",
          "data": {
            "text/plain": [
              "Text(0.5, 1.0, 'Number of Sold Product By Month')"
            ]
          },
          "metadata": {
            "tags": []
          },
          "execution_count": 27
        },
        {
          "output_type": "display_data",
          "data": {
            "image/png": "[encoded data removed]",
            "text/plain": [
              "<Figure size 648x360 with 1 Axes>"
            ]
          },
          "metadata": {
            "tags": [],
            "needs_background": "light"
          }
        }
      ]
    },
    {
      "cell_type": "code",
      "metadata": {
        "colab": {
          "base_uri": "https://localhost:8080/",
          "height": 400
        },
        "id": "rSPRyZi7GHXQ",
        "outputId": "345c476f-123a-4c7f-cc14-6edc4fb558fa"
      },
      "source": [
        "(sales.groupby(\"month-Year\")[\"Kode Barang\"].nunique()/sales[\"Kode Barang\"].nunique()).plot(kind=\"bar\",figsize=(9,5))\n",
        "plt.title(\"Percentage of sold product\",fontsize=18)"
      ],
      "execution_count": null,
      "outputs": [
        {
          "output_type": "execute_result",
          "data": {
            "text/plain": [
              "Text(0.5, 1.0, 'Percentage of sold product')"
            ]
          },
          "metadata": {
            "tags": []
          },
          "execution_count": 30
        },
        {
          "output_type": "display_data",
          "data": {
            "image/png": "[encoded data removed]",
            "text/plain": [
              "<Figure size 648x360 with 1 Axes>"
            ]
          },
          "metadata": {
            "tags": [],
            "needs_background": "light"
          }
        }
      ]
    },
    {
      "cell_type": "code",
      "metadata": {
        "colab": {
          "base_uri": "https://localhost:8080/",
          "height": 400
        },
        "id": "Dp6nWk9KGJHY",
        "outputId": "d3fa076c-a782-41a0-db81-88ce345f4b79"
      },
      "source": [
        "sales.groupby(\"month-Year\",as_index=True)[\"No. Invoice\"].nunique().plot(kind=\"bar\",figsize=(9,5))\n",
        "plt.title(\"Number of Transaction By Month\",fontsize=18)"
      ],
      "execution_count": null,
      "outputs": [
        {
          "output_type": "execute_result",
          "data": {
            "text/plain": [
              "Text(0.5, 1.0, 'Number of Transaction By Month')"
            ]
          },
          "metadata": {
            "tags": []
          },
          "execution_count": 31
        },
        {
          "output_type": "display_data",
          "data": {
            "image/png": "[encoded data removed]",
            "text/plain": [
              "<Figure size 648x360 with 1 Axes>"
            ]
          },
          "metadata": {
            "tags": [],
            "needs_background": "light"
          }
        }
      ]
    },
    {
      "cell_type": "markdown",
      "metadata": {
        "id": "_SRUwtSIGV1z"
      },
      "source": [
        "**2. How many new customer every month**"
      ]
    },
    {
      "cell_type": "code",
      "metadata": {
        "id": "dhPpOIOIZkQe"
      },
      "source": [
        "sales= sales.rename(columns={\"Tanggal Invoice\": \"Tanggal_Invoice\"})"
      ],
      "execution_count": null,
      "outputs": []
    },
    {
      "cell_type": "code",
      "metadata": {
        "colab": {
          "base_uri": "https://localhost:8080/",
          "height": 623
        },
        "id": "6QRZfSLuGW8s",
        "outputId": "142264de-3982-44cd-9912-036fb2b72a56"
      },
      "source": [
        "sales_new = sales.groupby(\"CustomerID\").Tanggal_Invoice.min().reset_index()\n",
        "sales_new.columns = [\"CustomerID\",\"FirstPurchase\"]\n",
        "sales = pd.merge(sales, sales_new,on=\"CustomerID\")\n",
        "sales"
      ],
      "execution_count": null,
      "outputs": [
        {
          "output_type": "execute_result",
          "data": {
            "text/html": [
              "<div>\n",
              "<style scoped>\n",
              "    .dataframe tbody tr th:only-of-type {\n",
              "        vertical-align: middle;\n",
              "    }\n",
              "\n",
              "    .dataframe tbody tr th {\n",
              "        vertical-align: top;\n",
              "    }\n",
              "\n",
              "    .dataframe thead th {\n",
              "        text-align: right;\n",
              "    }\n",
              "</style>\n",
              "<table border=\"1\" class=\"dataframe\">\n",
              "  <thead>\n",
              "    <tr style=\"text-align: right;\">\n",
              "      <th></th>\n",
              "      <th>No. Invoice</th>\n",
              "      <th>Tanggal_Invoice</th>\n",
              "      <th>Kode Barang</th>\n",
              "      <th>Nama Customer</th>\n",
              "      <th>Nama Barang</th>\n",
              "      <th>Qty</th>\n",
              "      <th>Harga</th>\n",
              "      <th>Total</th>\n",
              "      <th>CustomerID</th>\n",
              "      <th>month-Year</th>\n",
              "      <th>FirstPurchase</th>\n",
              "    </tr>\n",
              "  </thead>\n",
              "  <tbody>\n",
              "    <tr>\n",
              "      <th>0</th>\n",
              "      <td>INV/20200701/001</td>\n",
              "      <td>2020-07-01 09:10:20.000</td>\n",
              "      <td>15000001</td>\n",
              "      <td>Tilar Handayani</td>\n",
              "      <td>TAMA HEALTHY MASK - NON MEDICAL 3PLY, WHO RECO...</td>\n",
              "      <td>9</td>\n",
              "      <td>18750</td>\n",
              "      <td>168750</td>\n",
              "      <td>1416</td>\n",
              "      <td>202007</td>\n",
              "      <td>2020-07-01 09:10:20.000</td>\n",
              "    </tr>\n",
              "    <tr>\n",
              "      <th>1</th>\n",
              "      <td>INV/20200701/001</td>\n",
              "      <td>2020-07-01 09:10:20.000</td>\n",
              "      <td>30000007</td>\n",
              "      <td>Tilar Handayani</td>\n",
              "      <td>LIBI,  LEBAH KECIL YANG TAKUT - PENGARANG POPI...</td>\n",
              "      <td>9</td>\n",
              "      <td>43800</td>\n",
              "      <td>394200</td>\n",
              "      <td>1416</td>\n",
              "      <td>202007</td>\n",
              "      <td>2020-07-01 09:10:20.000</td>\n",
              "    </tr>\n",
              "    <tr>\n",
              "      <th>2</th>\n",
              "      <td>INV/20200701/001</td>\n",
              "      <td>2020-07-01 09:10:20.000</td>\n",
              "      <td>61000008</td>\n",
              "      <td>Tilar Handayani</td>\n",
              "      <td>BB L/L 100L B5 (50)</td>\n",
              "      <td>9</td>\n",
              "      <td>8900</td>\n",
              "      <td>80100</td>\n",
              "      <td>1416</td>\n",
              "      <td>202007</td>\n",
              "      <td>2020-07-01 09:10:20.000</td>\n",
              "    </tr>\n",
              "    <tr>\n",
              "      <th>3</th>\n",
              "      <td>INV/20200701/001</td>\n",
              "      <td>2020-07-01 09:10:20.000</td>\n",
              "      <td>61000012</td>\n",
              "      <td>Tilar Handayani</td>\n",
              "      <td>BB L/L A5 100 GREEN (50)</td>\n",
              "      <td>9</td>\n",
              "      <td>9400</td>\n",
              "      <td>84600</td>\n",
              "      <td>1416</td>\n",
              "      <td>202007</td>\n",
              "      <td>2020-07-01 09:10:20.000</td>\n",
              "    </tr>\n",
              "    <tr>\n",
              "      <th>4</th>\n",
              "      <td>INV/20200701/001</td>\n",
              "      <td>2020-07-01 09:10:20.000</td>\n",
              "      <td>61000016</td>\n",
              "      <td>Tilar Handayani</td>\n",
              "      <td>BB L/L A5 100 YELLOW (50)</td>\n",
              "      <td>9</td>\n",
              "      <td>9400</td>\n",
              "      <td>84600</td>\n",
              "      <td>1416</td>\n",
              "      <td>202007</td>\n",
              "      <td>2020-07-01 09:10:20.000</td>\n",
              "    </tr>\n",
              "    <tr>\n",
              "      <th>...</th>\n",
              "      <td>...</td>\n",
              "      <td>...</td>\n",
              "      <td>...</td>\n",
              "      <td>...</td>\n",
              "      <td>...</td>\n",
              "      <td>...</td>\n",
              "      <td>...</td>\n",
              "      <td>...</td>\n",
              "      <td>...</td>\n",
              "      <td>...</td>\n",
              "      <td>...</td>\n",
              "    </tr>\n",
              "    <tr>\n",
              "      <th>8589</th>\n",
              "      <td>INV/20201130/7701</td>\n",
              "      <td>2020-11-30 16:42:16.995</td>\n",
              "      <td>91000126</td>\n",
              "      <td>Intane Jun Pyo</td>\n",
              "      <td>KIKY AMP MERPATI 90 60GR (70)</td>\n",
              "      <td>2</td>\n",
              "      <td>18900</td>\n",
              "      <td>37800</td>\n",
              "      <td>745</td>\n",
              "      <td>202011</td>\n",
              "      <td>2020-11-30 16:42:16.995</td>\n",
              "    </tr>\n",
              "    <tr>\n",
              "      <th>8590</th>\n",
              "      <td>INV/20201130/7701</td>\n",
              "      <td>2020-11-30 16:42:16.995</td>\n",
              "      <td>91000145</td>\n",
              "      <td>Intane Jun Pyo</td>\n",
              "      <td>KIKY B/KWARTO 200L (60)</td>\n",
              "      <td>1</td>\n",
              "      <td>23900</td>\n",
              "      <td>23900</td>\n",
              "      <td>745</td>\n",
              "      <td>202011</td>\n",
              "      <td>2020-11-30 16:42:16.995</td>\n",
              "    </tr>\n",
              "    <tr>\n",
              "      <th>8591</th>\n",
              "      <td>INV/20201130/7705</td>\n",
              "      <td>2020-11-30 17:28:20.995</td>\n",
              "      <td>91000186</td>\n",
              "      <td>Helvy</td>\n",
              "      <td>PAPER ONE HVS 70GR F4</td>\n",
              "      <td>2</td>\n",
              "      <td>45000</td>\n",
              "      <td>90000</td>\n",
              "      <td>648</td>\n",
              "      <td>202011</td>\n",
              "      <td>2020-11-30 17:28:20.995</td>\n",
              "    </tr>\n",
              "    <tr>\n",
              "      <th>8592</th>\n",
              "      <td>INV/20201130/7705</td>\n",
              "      <td>2020-11-30 17:28:20.995</td>\n",
              "      <td>91000392</td>\n",
              "      <td>Helvy</td>\n",
              "      <td>ZB SARASA CLIP 07 BLUE</td>\n",
              "      <td>1</td>\n",
              "      <td>19500</td>\n",
              "      <td>19500</td>\n",
              "      <td>648</td>\n",
              "      <td>202011</td>\n",
              "      <td>2020-11-30 17:28:20.995</td>\n",
              "    </tr>\n",
              "    <tr>\n",
              "      <th>8593</th>\n",
              "      <td>INV/20201130/7705</td>\n",
              "      <td>2020-11-30 17:28:20.995</td>\n",
              "      <td>92000022</td>\n",
              "      <td>Helvy</td>\n",
              "      <td>MG BP X7601 0.7</td>\n",
              "      <td>1</td>\n",
              "      <td>5000</td>\n",
              "      <td>5000</td>\n",
              "      <td>648</td>\n",
              "      <td>202011</td>\n",
              "      <td>2020-11-30 17:28:20.995</td>\n",
              "    </tr>\n",
              "  </tbody>\n",
              "</table>\n",
              "<p>8594 rows × 11 columns</p>\n",
              "</div>"
            ],
            "text/plain": [
              "            No. Invoice  ...           FirstPurchase\n",
              "0      INV/20200701/001  ... 2020-07-01 09:10:20.000\n",
              "1      INV/20200701/001  ... 2020-07-01 09:10:20.000\n",
              "2      INV/20200701/001  ... 2020-07-01 09:10:20.000\n",
              "3      INV/20200701/001  ... 2020-07-01 09:10:20.000\n",
              "4      INV/20200701/001  ... 2020-07-01 09:10:20.000\n",
              "...                 ...  ...                     ...\n",
              "8589  INV/20201130/7701  ... 2020-11-30 16:42:16.995\n",
              "8590  INV/20201130/7701  ... 2020-11-30 16:42:16.995\n",
              "8591  INV/20201130/7705  ... 2020-11-30 17:28:20.995\n",
              "8592  INV/20201130/7705  ... 2020-11-30 17:28:20.995\n",
              "8593  INV/20201130/7705  ... 2020-11-30 17:28:20.995\n",
              "\n",
              "[8594 rows x 11 columns]"
            ]
          },
          "metadata": {
            "tags": []
          },
          "execution_count": 33
        }
      ]
    },
    {
      "cell_type": "code",
      "metadata": {
        "colab": {
          "base_uri": "https://localhost:8080/",
          "height": 471
        },
        "id": "BGHzrJdAGYUK",
        "outputId": "504300c3-9ea4-4fb0-a18d-2b1900b1d8a0"
      },
      "source": [
        "sales[\"Class\"] = \"New\"\n",
        "sales.loc[sales[\"Tanggal_Invoice\"]>sales[\"FirstPurchase\"],\"Class\"] = \"Existing\"\n",
        "sales.head(8)"
      ],
      "execution_count": null,
      "outputs": [
        {
          "output_type": "execute_result",
          "data": {
            "text/html": [
              "<div>\n",
              "<style scoped>\n",
              "    .dataframe tbody tr th:only-of-type {\n",
              "        vertical-align: middle;\n",
              "    }\n",
              "\n",
              "    .dataframe tbody tr th {\n",
              "        vertical-align: top;\n",
              "    }\n",
              "\n",
              "    .dataframe thead th {\n",
              "        text-align: right;\n",
              "    }\n",
              "</style>\n",
              "<table border=\"1\" class=\"dataframe\">\n",
              "  <thead>\n",
              "    <tr style=\"text-align: right;\">\n",
              "      <th></th>\n",
              "      <th>No. Invoice</th>\n",
              "      <th>Tanggal_Invoice</th>\n",
              "      <th>Kode Barang</th>\n",
              "      <th>Nama Customer</th>\n",
              "      <th>Nama Barang</th>\n",
              "      <th>Qty</th>\n",
              "      <th>Harga</th>\n",
              "      <th>Total</th>\n",
              "      <th>CustomerID</th>\n",
              "      <th>month-Year</th>\n",
              "      <th>FirstPurchase</th>\n",
              "      <th>Class</th>\n",
              "    </tr>\n",
              "  </thead>\n",
              "  <tbody>\n",
              "    <tr>\n",
              "      <th>0</th>\n",
              "      <td>INV/20200701/001</td>\n",
              "      <td>2020-07-01 09:10:20</td>\n",
              "      <td>15000001</td>\n",
              "      <td>Tilar Handayani</td>\n",
              "      <td>TAMA HEALTHY MASK - NON MEDICAL 3PLY, WHO RECO...</td>\n",
              "      <td>9</td>\n",
              "      <td>18750</td>\n",
              "      <td>168750</td>\n",
              "      <td>1416</td>\n",
              "      <td>202007</td>\n",
              "      <td>2020-07-01 09:10:20</td>\n",
              "      <td>New</td>\n",
              "    </tr>\n",
              "    <tr>\n",
              "      <th>1</th>\n",
              "      <td>INV/20200701/001</td>\n",
              "      <td>2020-07-01 09:10:20</td>\n",
              "      <td>30000007</td>\n",
              "      <td>Tilar Handayani</td>\n",
              "      <td>LIBI,  LEBAH KECIL YANG TAKUT - PENGARANG POPI...</td>\n",
              "      <td>9</td>\n",
              "      <td>43800</td>\n",
              "      <td>394200</td>\n",
              "      <td>1416</td>\n",
              "      <td>202007</td>\n",
              "      <td>2020-07-01 09:10:20</td>\n",
              "      <td>New</td>\n",
              "    </tr>\n",
              "    <tr>\n",
              "      <th>2</th>\n",
              "      <td>INV/20200701/001</td>\n",
              "      <td>2020-07-01 09:10:20</td>\n",
              "      <td>61000008</td>\n",
              "      <td>Tilar Handayani</td>\n",
              "      <td>BB L/L 100L B5 (50)</td>\n",
              "      <td>9</td>\n",
              "      <td>8900</td>\n",
              "      <td>80100</td>\n",
              "      <td>1416</td>\n",
              "      <td>202007</td>\n",
              "      <td>2020-07-01 09:10:20</td>\n",
              "      <td>New</td>\n",
              "    </tr>\n",
              "    <tr>\n",
              "      <th>3</th>\n",
              "      <td>INV/20200701/001</td>\n",
              "      <td>2020-07-01 09:10:20</td>\n",
              "      <td>61000012</td>\n",
              "      <td>Tilar Handayani</td>\n",
              "      <td>BB L/L A5 100 GREEN (50)</td>\n",
              "      <td>9</td>\n",
              "      <td>9400</td>\n",
              "      <td>84600</td>\n",
              "      <td>1416</td>\n",
              "      <td>202007</td>\n",
              "      <td>2020-07-01 09:10:20</td>\n",
              "      <td>New</td>\n",
              "    </tr>\n",
              "    <tr>\n",
              "      <th>4</th>\n",
              "      <td>INV/20200701/001</td>\n",
              "      <td>2020-07-01 09:10:20</td>\n",
              "      <td>61000016</td>\n",
              "      <td>Tilar Handayani</td>\n",
              "      <td>BB L/L A5 100 YELLOW (50)</td>\n",
              "      <td>9</td>\n",
              "      <td>9400</td>\n",
              "      <td>84600</td>\n",
              "      <td>1416</td>\n",
              "      <td>202007</td>\n",
              "      <td>2020-07-01 09:10:20</td>\n",
              "      <td>New</td>\n",
              "    </tr>\n",
              "    <tr>\n",
              "      <th>5</th>\n",
              "      <td>INV/20200701/002</td>\n",
              "      <td>2020-07-01 10:16:20</td>\n",
              "      <td>61000027</td>\n",
              "      <td>Ika Kurniawati</td>\n",
              "      <td>BB L/L B5 100 RAINBOW(25)</td>\n",
              "      <td>9</td>\n",
              "      <td>15000</td>\n",
              "      <td>135000</td>\n",
              "      <td>709</td>\n",
              "      <td>202007</td>\n",
              "      <td>2020-07-01 10:16:20</td>\n",
              "      <td>New</td>\n",
              "    </tr>\n",
              "    <tr>\n",
              "      <th>6</th>\n",
              "      <td>INV/20200701/002</td>\n",
              "      <td>2020-07-01 10:16:20</td>\n",
              "      <td>61000035</td>\n",
              "      <td>Ika Kurniawati</td>\n",
              "      <td>BTF BUSUR 180/10 (960)</td>\n",
              "      <td>9</td>\n",
              "      <td>2200</td>\n",
              "      <td>19800</td>\n",
              "      <td>709</td>\n",
              "      <td>202007</td>\n",
              "      <td>2020-07-01 10:16:20</td>\n",
              "      <td>New</td>\n",
              "    </tr>\n",
              "    <tr>\n",
              "      <th>7</th>\n",
              "      <td>INV/20200701/002</td>\n",
              "      <td>2020-07-01 10:16:20</td>\n",
              "      <td>61000045</td>\n",
              "      <td>Ika Kurniawati</td>\n",
              "      <td>BTF MST 15CM (2400)</td>\n",
              "      <td>9</td>\n",
              "      <td>1700</td>\n",
              "      <td>15300</td>\n",
              "      <td>709</td>\n",
              "      <td>202007</td>\n",
              "      <td>2020-07-01 10:16:20</td>\n",
              "      <td>New</td>\n",
              "    </tr>\n",
              "  </tbody>\n",
              "</table>\n",
              "</div>"
            ],
            "text/plain": [
              "        No. Invoice     Tanggal_Invoice  ...       FirstPurchase Class\n",
              "0  INV/20200701/001 2020-07-01 09:10:20  ... 2020-07-01 09:10:20   New\n",
              "1  INV/20200701/001 2020-07-01 09:10:20  ... 2020-07-01 09:10:20   New\n",
              "2  INV/20200701/001 2020-07-01 09:10:20  ... 2020-07-01 09:10:20   New\n",
              "3  INV/20200701/001 2020-07-01 09:10:20  ... 2020-07-01 09:10:20   New\n",
              "4  INV/20200701/001 2020-07-01 09:10:20  ... 2020-07-01 09:10:20   New\n",
              "5  INV/20200701/002 2020-07-01 10:16:20  ... 2020-07-01 10:16:20   New\n",
              "6  INV/20200701/002 2020-07-01 10:16:20  ... 2020-07-01 10:16:20   New\n",
              "7  INV/20200701/002 2020-07-01 10:16:20  ... 2020-07-01 10:16:20   New\n",
              "\n",
              "[8 rows x 12 columns]"
            ]
          },
          "metadata": {
            "tags": []
          },
          "execution_count": 34
        }
      ]
    },
    {
      "cell_type": "code",
      "metadata": {
        "id": "9lyk-rwnkc14"
      },
      "source": [
        "sales.to_excel(\"/content/drive/My Drive/Dataset_Literata/2. Hasil_Labelling.xlsx\", index=False)"
      ],
      "execution_count": null,
      "outputs": []
    },
    {
      "cell_type": "code",
      "metadata": {
        "colab": {
          "base_uri": "https://localhost:8080/"
        },
        "id": "aE9i_VC3Garl",
        "outputId": "b1b6409b-30cf-45de-d1e2-7fd6b86d68a2"
      },
      "source": [
        "sales[\"Class\"].unique()"
      ],
      "execution_count": null,
      "outputs": [
        {
          "output_type": "execute_result",
          "data": {
            "text/plain": [
              "array(['New', 'Existing'], dtype=object)"
            ]
          },
          "metadata": {
            "tags": []
          },
          "execution_count": 37
        }
      ]
    },
    {
      "cell_type": "code",
      "metadata": {
        "colab": {
          "base_uri": "https://localhost:8080/",
          "height": 452
        },
        "id": "aEENCg_WGrgc",
        "outputId": "f6cc10fd-4774-4708-e5f6-f62ea255d798"
      },
      "source": [
        "sales.loc[sales[\"Class\"]==\"New\"].groupby(\"month-Year\")[\"CustomerID\"].nunique().plot(kind=\"bar\", figsize=(8,6))\n",
        "plt.title(\"Number of New Customer Per Month\", fontsize=15)"
      ],
      "execution_count": null,
      "outputs": [
        {
          "output_type": "execute_result",
          "data": {
            "text/plain": [
              "Text(0.5, 1.0, 'Number of New Customer Per Month')"
            ]
          },
          "metadata": {
            "tags": []
          },
          "execution_count": 38
        },
        {
          "output_type": "display_data",
          "data": {
            "image/png": "[encoded data removed]",
            "text/plain": [
              "<Figure size 576x432 with 1 Axes>"
            ]
          },
          "metadata": {
            "tags": [],
            "needs_background": "light"
          }
        }
      ]
    },
    {
      "cell_type": "markdown",
      "metadata": {
        "id": "p_vK1SJAHdjh"
      },
      "source": [
        "**3. Retention Rate Setiap Bulan**\r\n",
        "\r\n",
        "(tingkat atau rata - rata jumlah pelanggan lama yang tetap bertahan untuk membeli produk)"
      ]
    },
    {
      "cell_type": "code",
      "metadata": {
        "colab": {
          "base_uri": "https://localhost:8080/",
          "height": 452
        },
        "id": "d5exXOc6GtoH",
        "outputId": "866a5bf9-8ebd-427b-c18b-ad3473ab3042"
      },
      "source": [
        "(sales.loc[sales[\"Class\"]==\"Existing\"].groupby(\"month-Year\")[\"CustomerID\"].nunique()/sales.groupby(\"month-Year\")[\"CustomerID\"].nunique()*100).plot(kind=\"bar\", figsize=(8,6))\n",
        "plt.title(\"Retention Rate By Month\", fontsize=15)"
      ],
      "execution_count": null,
      "outputs": [
        {
          "output_type": "execute_result",
          "data": {
            "text/plain": [
              "Text(0.5, 1.0, 'Retention Rate By Month')"
            ]
          },
          "metadata": {
            "tags": []
          },
          "execution_count": 39
        },
        {
          "output_type": "display_data",
          "data": {
            "image/png": "[encoded data removed]",
            "text/plain": [
              "<Figure size 576x432 with 1 Axes>"
            ]
          },
          "metadata": {
            "tags": [],
            "needs_background": "light"
          }
        }
      ]
    },
    {
      "cell_type": "markdown",
      "metadata": {
        "id": "ZhQ6G5E4Hzc8"
      },
      "source": [
        "**Retention Rate setiap bulan terus mengalami kenaikan. Pada November 2020 mengalami penurunan yang signifikan...**"
      ]
    },
    {
      "cell_type": "markdown",
      "metadata": {
        "id": "YUo6KpsoH4Qs"
      },
      "source": [
        "**4 italicized text. Jarak rata-rata antar transaksi per pelanggan**"
      ]
    },
    {
      "cell_type": "code",
      "metadata": {
        "id": "BWeqMOx3HlsN"
      },
      "source": [
        "sales_dist = sales.sort_values(by=[\"CustomerID\",\"Tanggal_Invoice\"], axis=0, inplace=False)\n",
        "sales_dist = sales_dist.drop_duplicates(subset=\"No. Invoice\")"
      ],
      "execution_count": null,
      "outputs": []
    },
    {
      "cell_type": "code",
      "metadata": {
        "id": "aupX8mQWH7Hs"
      },
      "source": [
        "ids = []\n",
        "distc = []\n",
        "t = \"\"\n",
        "\n",
        "for index, row in sales_dist.iterrows():\n",
        "    if row[\"CustomerID\"] in ids:\n",
        "        distc.append(round((row[\"Tanggal_Invoice\"] - t).total_seconds()/86400,2))\n",
        "        t = row[\"Tanggal_Invoice\"]\n",
        "    else:\n",
        "        ids.append(row[\"CustomerID\"])\n",
        "        t = row[\"Tanggal_Invoice\"]\n",
        "        distc.append(0)"
      ],
      "execution_count": null,
      "outputs": []
    },
    {
      "cell_type": "code",
      "metadata": {
        "id": "ssPXDewcH8j_"
      },
      "source": [
        "sales_dist[\"between_trans\"] = distc\n",
        "sales_avg_dist = sales_dist.groupby(\"CustomerID\").between_trans.median().reset_index()\n",
        "sales_avg_dist.columns=[\"CustomerID\",\"avgDistance\"]"
      ],
      "execution_count": null,
      "outputs": []
    },
    {
      "cell_type": "code",
      "metadata": {
        "colab": {
          "base_uri": "https://localhost:8080/"
        },
        "id": "iPsyFSVIIBpH",
        "outputId": "f4f51978-08cc-4952-ec9d-670c81faff8e"
      },
      "source": [
        "sales_avg_dist.loc[sales_avg_dist[\"avgDistance\"]>0][\"avgDistance\"].describe()"
      ],
      "execution_count": null,
      "outputs": [
        {
          "output_type": "execute_result",
          "data": {
            "text/plain": [
              "count    809.000000\n",
              "mean      22.410216\n",
              "std       12.549306\n",
              "min        0.010000\n",
              "25%       14.010000\n",
              "50%       21.140000\n",
              "75%       35.910000\n",
              "max       40.940000\n",
              "Name: avgDistance, dtype: float64"
            ]
          },
          "metadata": {
            "tags": []
          },
          "execution_count": 43
        }
      ]
    },
    {
      "cell_type": "code",
      "metadata": {
        "colab": {
          "base_uri": "https://localhost:8080/",
          "height": 542
        },
        "id": "ul7YQNvrIDPR",
        "outputId": "5a2630cf-2ff4-4457-af72-8c475d4f00df"
      },
      "source": [
        "plot_data = [\n",
        "    go.Histogram(\n",
        "        x=sales_avg_dist.loc[sales_avg_dist[\"avgDistance\"]>0][\"avgDistance\"]\n",
        "    )\n",
        "]\n",
        "\n",
        "plot_layout = go.Layout(\n",
        "        title='Avg. Days Between Transaction'\n",
        "    )\n",
        "fig = go.Figure(data=plot_data, layout=plot_layout)\n",
        "pyoff.iplot(fig)"
      ],
      "execution_count": null,
      "outputs": [
        {
          "output_type": "display_data",
          "data": {
            "text/html": [
              "<html>\n",
              "<head><meta charset=\"utf-8\" /></head>\n",
              "<body>\n",
              "    <div>\n",
              "            <script src=\"https://cdnjs.cloudflare.com/ajax/libs/mathjax/2.7.5/MathJax.js?config=TeX-AMS-MML_SVG\"></script><script type=\"text/javascript\">if (window.MathJax) {MathJax.Hub.Config({SVG: {font: \"STIX-Web\"}});}</script>\n",
              "                <script type=\"text/javascript\">window.PlotlyConfig = {MathJaxConfig: 'local'};</script>\n",
              "        <script src=\"https://cdn.plot.ly/plotly-latest.min.js\"></script>    \n",
              "            <div id=\"978e3686-dbdd-4c46-bfc9-2b4b69bcc292\" class=\"plotly-graph-div\" style=\"height:525px; width:100%;\"></div>\n",
              "            <script type=\"text/javascript\">\n",
              "                \n",
              "                    window.PLOTLYENV=window.PLOTLYENV || {};\n",
              "                    \n",
              "                if (document.getElementById(\"978e3686-dbdd-4c46-bfc9-2b4b69bcc292\")) {\n",
              "                    Plotly.newPlot(\n",
              "                        '978e3686-dbdd-4c46-bfc9-2b4b69bcc292',\n",
              "                        [{\"type\": \"histogram\", \"x\": [7.53, 40.535, 12.615, 3.06, 22.45, 39.205, 27.99, 15.88, 3.12, 24.0, 3.54, 3.71, 3.67, 17.025, 40.57, 39.525, 14.97, 23.99, 39.265, 32.16, 15.025, 40.615, 32.86, 8.67, 39.415, 40.53, 23.995, 21.174999999999997, 3.69, 35.47, 11.49, 10.07, 38.56, 8.08, 1.0, 14.715, 24.64, 35.9, 24.605, 22.515, 38.24, 14.97, 13.725, 39.19, 40.595, 3.05, 11.12, 24.405, 25.565, 34.04, 14.73, 35.89, 16.975, 5.34, 16.79, 35.41, 38.895, 38.15, 38.65, 15.065, 1.85, 38.55, 21.535, 38.19, 3.55, 25.535, 3.79, 38.13, 24.39, 14.01, 3.03, 16.465, 21.87, 7.5, 0.025, 19.09, 38.23, 32.15, 38.91, 39.12, 14.025, 7.485, 3.72, 3.19, 17.35, 14.12, 32.56, 15.0, 38.9, 24.87, 9.03, 7.52, 4.9, 38.19, 38.14, 14.92, 1.97, 14.02, 18.08, 12.885, 3.06, 40.49, 3.06, 16.095, 24.0, 40.91, 3.14, 8.01, 39.545, 11.195, 9.405, 3.12, 16.82, 22.35, 32.17, 17.925, 15.0, 13.98, 23.47, 38.575, 15.06, 7.54, 18.955, 20.12, 22.13, 38.23, 22.63, 24.865, 40.6, 3.65, 40.185, 23.01, 38.855, 16.165, 0.985, 35.42, 38.905, 38.22, 16.74, 38.65, 39.585, 39.53, 15.05, 39.005, 38.855, 40.545, 32.91, 3.15, 20.63, 7.465, 40.51, 31.51, 34.04, 13.995, 3.3, 22.9, 17.02, 35.42, 15.05, 12.645, 39.515, 22.61, 17.810000000000002, 38.86, 1.54, 34.05, 22.95, 38.9, 14.96, 40.55, 40.585, 22.96, 25.53, 8.4, 8.125, 14.98, 40.54, 21.2, 14.015, 28.04, 7.325, 14.14, 26.16, 16.985, 17.015, 32.21, 24.6, 40.58, 24.385, 21.015, 7.475, 39.545, 39.185, 38.22, 33.03, 24.915, 40.52, 38.905, 3.12, 14.005, 22.439999999999998, 8.975, 40.54, 10.04, 14.97, 24.9, 21.07, 35.45, 17.24, 17.935000000000002, 38.895, 16.29, 14.95, 15.05, 4.9, 20.98, 3.12, 3.27, 39.03, 35.43, 23.545, 40.605, 38.21, 17.02, 14.69, 20.57, 16.06, 22.93, 39.42, 7.305, 18.565, 38.98, 16.98, 28.015, 40.93, 14.92, 23.63, 16.28, 40.845, 16.2, 14.89, 3.01, 33.05, 1.84, 16.065, 18.96, 3.06, 33.04, 3.23, 7.955, 13.995, 2.98, 16.08, 40.94, 20.06, 35.97, 7.52, 21.945, 40.495, 8.31, 37.15, 16.56, 22.0, 32.94, 38.23, 3.02, 8.01, 23.515, 8.935, 32.11, 35.98, 27.93, 3.28, 11.135, 15.04, 14.02, 23.035, 22.46, 38.875, 0.01, 0.055, 15.025, 15.03, 40.845, 3.16, 32.2, 38.19, 24.75, 16.1, 12.63, 21.1, 40.585, 16.22, 38.17, 3.06, 38.21, 32.12, 14.01, 11.82, 17.15, 7.985, 21.060000000000002, 30.04, 39.095, 40.185, 15.99, 29.98, 24.565, 3.67, 16.13, 40.52, 16.085, 14.79, 31.51, 21.810000000000002, 15.03, 24.88, 16.47, 34.04, 10.07, 21.935, 26.18, 35.96, 3.05, 27.045, 24.02, 7.49, 40.92, 10.05, 14.73, 40.495, 39.005, 35.91, 25.3, 15.05, 17.035, 16.23, 23.655, 40.52, 38.56, 35.89, 30.05, 14.88, 3.05, 12.535, 14.02, 40.885, 27.935, 7.465, 25.93, 39.15, 38.88, 22.445, 13.69, 27.105, 7.25, 23.84, 22.16, 27.04, 17.21, 33.03, 40.48, 40.18, 7.505, 14.9, 23.515, 39.0, 20.04, 38.21, 21.490000000000002, 2.96, 24.91, 23.815, 38.615, 3.67, 21.76, 39.095, 40.505, 14.96, 2.98, 40.84, 38.885, 27.07, 6.775, 14.93, 16.065, 17.01, 18.54, 16.035, 11.19, 16.9, 11.43, 8.595, 20.23, 16.115, 39.53, 13.085, 10.805, 24.92, 24.035, 34.02, 14.96, 12.49, 25.98, 16.04, 40.585, 15.035, 40.565, 3.25, 25.25, 38.61, 15.05, 22.435000000000002, 23.035, 21.765, 39.495, 8.585, 9.025, 3.06, 14.67, 16.07, 10.12, 16.61, 24.395, 40.43, 38.915, 23.545, 3.66, 32.93, 3.7, 20.01, 25.97, 16.475, 21.060000000000002, 28.12, 14.005, 40.62, 40.84, 40.84, 14.98, 7.535, 17.18, 9.67, 40.845, 16.18, 39.55, 7.955, 27.03, 3.19, 33.93, 40.365, 39.195, 40.475, 34.03, 38.57, 8.095, 40.895, 10.06, 14.67, 3.14, 24.885, 14.085, 38.17, 3.17, 38.985, 27.05, 24.6, 40.855, 17.21, 20.92, 33.72, 16.22, 22.37, 25.51, 13.975, 40.545, 39.115, 8.215, 14.14, 40.92, 40.45, 8.86, 38.57, 34.0, 27.08, 39.47, 40.53, 11.11, 20.895, 20.01, 15.57, 16.34, 38.555, 13.625, 9.025, 14.96, 25.81, 24.885, 3.05, 10.725000000000001, 27.06, 17.015, 27.92, 15.025, 37.47, 3.18, 15.93, 12.985, 38.19, 3.16, 14.005, 0.02, 7.455, 40.94, 30.12, 14.66, 14.97, 16.06, 19.4, 40.55, 16.2, 40.55, 23.81, 12.965, 10.615, 15.05, 3.08, 16.78, 40.595, 38.845, 15.0, 23.665, 23.475, 22.53, 8.7, 9.969999999999999, 16.99, 40.545, 1.525, 35.97, 16.06, 15.05, 3.13, 39.015, 15.535, 23.01, 14.59, 3.16, 40.6, 18.06, 39.015, 32.94, 21.32, 3.01, 27.92, 8.11, 9.95, 30.04, 3.22, 35.91, 22.439999999999998, 16.165, 3.2, 40.48, 35.43, 39.925, 39.28, 24.605, 3.75, 0.955, 26.35, 18.645, 40.43, 37.955, 10.07, 39.12, 15.01, 12.17, 23.575000000000003, 20.04, 38.82, 15.83, 0.09, 35.9, 16.25, 40.57, 39.0, 16.08, 20.23, 16.08, 39.125, 15.06, 35.94, 3.06, 38.15, 9.755, 23.46, 27.97, 39.48, 20.39, 20.0, 40.505, 14.005, 27.965, 33.94, 8.905, 23.1, 16.44, 38.565, 14.11, 3.05, 3.09, 3.7, 24.005, 3.68, 40.89, 17.455000000000002, 39.15, 30.0, 16.24, 17.36, 3.65, 23.465, 16.18, 18.87, 23.53, 3.13, 40.585, 23.6, 37.45, 32.09, 40.85, 33.02, 24.575, 28.15, 8.995000000000001, 3.05, 24.0, 10.295, 40.545, 15.0, 35.43, 16.78, 16.37, 35.95, 36.0, 14.89, 10.08, 18.595, 16.24, 19.08, 39.105, 36.755, 8.09, 8.13, 40.495, 24.01, 12.68, 39.525, 32.17, 30.04, 8.585, 39.205, 39.15, 39.155, 30.05, 15.04, 16.2, 40.525, 28.02, 26.7, 27.93, 28.0, 40.52, 17.03, 9.975, 24.065, 16.02, 16.99, 33.91, 39.27, 14.89, 22.91, 27.925, 38.21, 13.995, 40.505, 16.42, 29.5, 15.0, 7.915, 22.22, 0.525, 14.74, 35.92, 16.05, 9.04, 16.1, 39.42, 8.42, 16.075, 25.84, 24.025, 40.565, 35.97, 40.485, 30.03, 3.17, 23.985, 3.09, 8.12, 39.025, 35.46, 7.965, 18.924999999999997, 7.44, 16.34, 3.12, 3.05, 8.115, 3.15, 38.24, 7.485, 3.12, 14.62, 19.295, 40.47, 16.07, 37.975, 15.04, 14.09, 40.545, 40.605, 22.83, 24.515, 17.015, 35.95, 8.405, 17.21, 2.99, 3.7, 22.195, 38.56, 38.86, 21.14, 22.485, 16.14, 37.955, 8.51, 27.035, 16.715, 0.55, 25.25, 40.86, 24.49, 10.0, 35.9, 40.51, 25.5, 18.595, 35.94, 3.1, 38.555, 40.545, 39.15, 28.35, 1.9, 35.46, 39.57, 15.445, 14.85, 15.02, 3.67, 39.205, 30.1, 8.09, 30.04, 39.205, 12.965, 26.18, 17.025, 16.22, 23.81, 9.715, 14.66, 34.04, 38.63, 8.605, 28.03, 3.08, 39.125, 23.58, 11.525, 14.76, 1.97, 39.535, 23.98, 15.94, 15.02, 16.085, 16.93, 16.875, 39.045, 38.65, 16.985, 33.9, 14.005, 38.9, 37.975]}],\n",
              "                        {\"template\": {\"data\": {\"bar\": [{\"error_x\": {\"color\": \"#2a3f5f\"}, \"error_y\": {\"color\": \"#2a3f5f\"}, \"marker\": {\"line\": {\"color\": \"#E5ECF6\", \"width\": 0.5}}, \"type\": \"bar\"}], \"barpolar\": [{\"marker\": {\"line\": {\"color\": \"#E5ECF6\", \"width\": 0.5}}, \"type\": \"barpolar\"}], \"carpet\": [{\"aaxis\": {\"endlinecolor\": \"#2a3f5f\", \"gridcolor\": \"white\", \"linecolor\": \"white\", \"minorgridcolor\": \"white\", \"startlinecolor\": \"#2a3f5f\"}, \"baxis\": {\"endlinecolor\": \"#2a3f5f\", \"gridcolor\": \"white\", \"linecolor\": \"white\", \"minorgridcolor\": \"white\", \"startlinecolor\": \"#2a3f5f\"}, \"type\": \"carpet\"}], \"choropleth\": [{\"colorbar\": {\"outlinewidth\": 0, \"ticks\": \"\"}, \"type\": \"choropleth\"}], \"contour\": [{\"colorbar\": {\"outlinewidth\": 0, \"ticks\": \"\"}, \"colorscale\": [[0.0, \"#0d0887\"], [0.1111111111111111, \"#46039f\"], [0.2222222222222222, \"#7201a8\"], [0.3333333333333333, \"#9c179e\"], [0.4444444444444444, \"#bd3786\"], [0.5555555555555556, \"#d8576b\"], [0.6666666666666666, \"#ed7953\"], [0.7777777777777778, \"#fb9f3a\"], [0.8888888888888888, \"#fdca26\"], [1.0, \"#f0f921\"]], \"type\": \"contour\"}], \"contourcarpet\": [{\"colorbar\": {\"outlinewidth\": 0, \"ticks\": \"\"}, \"type\": \"contourcarpet\"}], \"heatmap\": [{\"colorbar\": {\"outlinewidth\": 0, \"ticks\": \"\"}, \"colorscale\": [[0.0, \"#0d0887\"], [0.1111111111111111, \"#46039f\"], [0.2222222222222222, \"#7201a8\"], [0.3333333333333333, \"#9c179e\"], [0.4444444444444444, \"#bd3786\"], [0.5555555555555556, \"#d8576b\"], [0.6666666666666666, \"#ed7953\"], [0.7777777777777778, \"#fb9f3a\"], [0.8888888888888888, \"#fdca26\"], [1.0, \"#f0f921\"]], \"type\": \"heatmap\"}], \"heatmapgl\": [{\"colorbar\": {\"outlinewidth\": 0, \"ticks\": \"\"}, \"colorscale\": [[0.0, \"#0d0887\"], [0.1111111111111111, \"#46039f\"], [0.2222222222222222, \"#7201a8\"], [0.3333333333333333, \"#9c179e\"], [0.4444444444444444, \"#bd3786\"], [0.5555555555555556, \"#d8576b\"], [0.6666666666666666, \"#ed7953\"], [0.7777777777777778, \"#fb9f3a\"], [0.8888888888888888, \"#fdca26\"], [1.0, \"#f0f921\"]], \"type\": \"heatmapgl\"}], \"histogram\": [{\"marker\": {\"colorbar\": {\"outlinewidth\": 0, \"ticks\": \"\"}}, \"type\": \"histogram\"}], \"histogram2d\": [{\"colorbar\": {\"outlinewidth\": 0, \"ticks\": \"\"}, \"colorscale\": [[0.0, \"#0d0887\"], [0.1111111111111111, \"#46039f\"], [0.2222222222222222, \"#7201a8\"], [0.3333333333333333, \"#9c179e\"], [0.4444444444444444, \"#bd3786\"], [0.5555555555555556, \"#d8576b\"], [0.6666666666666666, \"#ed7953\"], [0.7777777777777778, \"#fb9f3a\"], [0.8888888888888888, \"#fdca26\"], [1.0, \"#f0f921\"]], \"type\": \"histogram2d\"}], \"histogram2dcontour\": [{\"colorbar\": {\"outlinewidth\": 0, \"ticks\": \"\"}, \"colorscale\": [[0.0, \"#0d0887\"], [0.1111111111111111, \"#46039f\"], [0.2222222222222222, \"#7201a8\"], [0.3333333333333333, \"#9c179e\"], [0.4444444444444444, \"#bd3786\"], [0.5555555555555556, \"#d8576b\"], [0.6666666666666666, \"#ed7953\"], [0.7777777777777778, \"#fb9f3a\"], [0.8888888888888888, \"#fdca26\"], [1.0, \"#f0f921\"]], \"type\": \"histogram2dcontour\"}], \"mesh3d\": [{\"colorbar\": {\"outlinewidth\": 0, \"ticks\": \"\"}, \"type\": \"mesh3d\"}], \"parcoords\": [{\"line\": {\"colorbar\": {\"outlinewidth\": 0, \"ticks\": \"\"}}, \"type\": \"parcoords\"}], \"pie\": [{\"automargin\": true, \"type\": \"pie\"}], \"scatter\": [{\"marker\": {\"colorbar\": {\"outlinewidth\": 0, \"ticks\": \"\"}}, \"type\": \"scatter\"}], \"scatter3d\": [{\"line\": {\"colorbar\": {\"outlinewidth\": 0, \"ticks\": \"\"}}, \"marker\": {\"colorbar\": {\"outlinewidth\": 0, \"ticks\": \"\"}}, \"type\": \"scatter3d\"}], \"scattercarpet\": [{\"marker\": {\"colorbar\": {\"outlinewidth\": 0, \"ticks\": \"\"}}, \"type\": \"scattercarpet\"}], \"scattergeo\": [{\"marker\": {\"colorbar\": {\"outlinewidth\": 0, \"ticks\": \"\"}}, \"type\": \"scattergeo\"}], \"scattergl\": [{\"marker\": {\"colorbar\": {\"outlinewidth\": 0, \"ticks\": \"\"}}, \"type\": \"scattergl\"}], \"scattermapbox\": [{\"marker\": {\"colorbar\": {\"outlinewidth\": 0, \"ticks\": \"\"}}, \"type\": \"scattermapbox\"}], \"scatterpolar\": [{\"marker\": {\"colorbar\": {\"outlinewidth\": 0, \"ticks\": \"\"}}, \"type\": \"scatterpolar\"}], \"scatterpolargl\": [{\"marker\": {\"colorbar\": {\"outlinewidth\": 0, \"ticks\": \"\"}}, \"type\": \"scatterpolargl\"}], \"scatterternary\": [{\"marker\": {\"colorbar\": {\"outlinewidth\": 0, \"ticks\": \"\"}}, \"type\": \"scatterternary\"}], \"surface\": [{\"colorbar\": {\"outlinewidth\": 0, \"ticks\": \"\"}, \"colorscale\": [[0.0, \"#0d0887\"], [0.1111111111111111, \"#46039f\"], [0.2222222222222222, \"#7201a8\"], [0.3333333333333333, \"#9c179e\"], [0.4444444444444444, \"#bd3786\"], [0.5555555555555556, \"#d8576b\"], [0.6666666666666666, \"#ed7953\"], [0.7777777777777778, \"#fb9f3a\"], [0.8888888888888888, \"#fdca26\"], [1.0, \"#f0f921\"]], \"type\": \"surface\"}], \"table\": [{\"cells\": {\"fill\": {\"color\": \"#EBF0F8\"}, \"line\": {\"color\": \"white\"}}, \"header\": {\"fill\": {\"color\": \"#C8D4E3\"}, \"line\": {\"color\": \"white\"}}, \"type\": \"table\"}]}, \"layout\": {\"annotationdefaults\": {\"arrowcolor\": \"#2a3f5f\", \"arrowhead\": 0, \"arrowwidth\": 1}, \"coloraxis\": {\"colorbar\": {\"outlinewidth\": 0, \"ticks\": \"\"}}, \"colorscale\": {\"diverging\": [[0, \"#8e0152\"], [0.1, \"#c51b7d\"], [0.2, \"#de77ae\"], [0.3, \"#f1b6da\"], [0.4, \"#fde0ef\"], [0.5, \"#f7f7f7\"], [0.6, \"#e6f5d0\"], [0.7, \"#b8e186\"], [0.8, \"#7fbc41\"], [0.9, \"#4d9221\"], [1, \"#276419\"]], \"sequential\": [[0.0, \"#0d0887\"], [0.1111111111111111, \"#46039f\"], [0.2222222222222222, \"#7201a8\"], [0.3333333333333333, \"#9c179e\"], [0.4444444444444444, \"#bd3786\"], [0.5555555555555556, \"#d8576b\"], [0.6666666666666666, \"#ed7953\"], [0.7777777777777778, \"#fb9f3a\"], [0.8888888888888888, \"#fdca26\"], [1.0, \"#f0f921\"]], \"sequentialminus\": [[0.0, \"#0d0887\"], [0.1111111111111111, \"#46039f\"], [0.2222222222222222, \"#7201a8\"], [0.3333333333333333, \"#9c179e\"], [0.4444444444444444, \"#bd3786\"], [0.5555555555555556, \"#d8576b\"], [0.6666666666666666, \"#ed7953\"], [0.7777777777777778, \"#fb9f3a\"], [0.8888888888888888, \"#fdca26\"], [1.0, \"#f0f921\"]]}, \"colorway\": [\"#636efa\", \"#EF553B\", \"#00cc96\", \"#ab63fa\", \"#FFA15A\", \"#19d3f3\", \"#FF6692\", \"#B6E880\", \"#FF97FF\", \"#FECB52\"], \"font\": {\"color\": \"#2a3f5f\"}, \"geo\": {\"bgcolor\": \"white\", \"lakecolor\": \"white\", \"landcolor\": \"#E5ECF6\", \"showlakes\": true, \"showland\": true, \"subunitcolor\": \"white\"}, \"hoverlabel\": {\"align\": \"left\"}, \"hovermode\": \"closest\", \"mapbox\": {\"style\": \"light\"}, \"paper_bgcolor\": \"white\", \"plot_bgcolor\": \"#E5ECF6\", \"polar\": {\"angularaxis\": {\"gridcolor\": \"white\", \"linecolor\": \"white\", \"ticks\": \"\"}, \"bgcolor\": \"#E5ECF6\", \"radialaxis\": {\"gridcolor\": \"white\", \"linecolor\": \"white\", \"ticks\": \"\"}}, \"scene\": {\"xaxis\": {\"backgroundcolor\": \"#E5ECF6\", \"gridcolor\": \"white\", \"gridwidth\": 2, \"linecolor\": \"white\", \"showbackground\": true, \"ticks\": \"\", \"zerolinecolor\": \"white\"}, \"yaxis\": {\"backgroundcolor\": \"#E5ECF6\", \"gridcolor\": \"white\", \"gridwidth\": 2, \"linecolor\": \"white\", \"showbackground\": true, \"ticks\": \"\", \"zerolinecolor\": \"white\"}, \"zaxis\": {\"backgroundcolor\": \"#E5ECF6\", \"gridcolor\": \"white\", \"gridwidth\": 2, \"linecolor\": \"white\", \"showbackground\": true, \"ticks\": \"\", \"zerolinecolor\": \"white\"}}, \"shapedefaults\": {\"line\": {\"color\": \"#2a3f5f\"}}, \"ternary\": {\"aaxis\": {\"gridcolor\": \"white\", \"linecolor\": \"white\", \"ticks\": \"\"}, \"baxis\": {\"gridcolor\": \"white\", \"linecolor\": \"white\", \"ticks\": \"\"}, \"bgcolor\": \"#E5ECF6\", \"caxis\": {\"gridcolor\": \"white\", \"linecolor\": \"white\", \"ticks\": \"\"}}, \"title\": {\"x\": 0.05}, \"xaxis\": {\"automargin\": true, \"gridcolor\": \"white\", \"linecolor\": \"white\", \"ticks\": \"\", \"title\": {\"standoff\": 15}, \"zerolinecolor\": \"white\", \"zerolinewidth\": 2}, \"yaxis\": {\"automargin\": true, \"gridcolor\": \"white\", \"linecolor\": \"white\", \"ticks\": \"\", \"title\": {\"standoff\": 15}, \"zerolinecolor\": \"white\", \"zerolinewidth\": 2}}}, \"title\": {\"text\": \"Avg. Days Between Transaction\"}},\n",
              "                        {\"responsive\": true}\n",
              "                    ).then(function(){\n",
              "                            \n",
              "var gd = document.getElementById('978e3686-dbdd-4c46-bfc9-2b4b69bcc292');\n",
              "var x = new MutationObserver(function (mutations, observer) {{\n",
              "        var display = window.getComputedStyle(gd).display;\n",
              "        if (!display || display === 'none') {{\n",
              "            console.log([gd, 'removed!']);\n",
              "            Plotly.purge(gd);\n",
              "            observer.disconnect();\n",
              "        }}\n",
              "}});\n",
              "\n",
              "// Listen for the removal of the full notebook cells\n",
              "var notebookContainer = gd.closest('#notebook-container');\n",
              "if (notebookContainer) {{\n",
              "    x.observe(notebookContainer, {childList: true});\n",
              "}}\n",
              "\n",
              "// Listen for the clearing of the current output cell\n",
              "var outputEl = gd.closest('.output');\n",
              "if (outputEl) {{\n",
              "    x.observe(outputEl, {childList: true});\n",
              "}}\n",
              "\n",
              "                        })\n",
              "                };\n",
              "                \n",
              "            </script>\n",
              "        </div>\n",
              "</body>\n",
              "</html>"
            ]
          },
          "metadata": {
            "tags": []
          }
        }
      ]
    },
    {
      "cell_type": "markdown",
      "metadata": {
        "id": "opBPLqZ3IG-k"
      },
      "source": [
        "# RFM - AR Analysis"
      ]
    },
    {
      "cell_type": "code",
      "metadata": {
        "id": "wOrLKL07IEt7"
      },
      "source": [
        "#Take only non minus data\n",
        "sales_minus = sales.loc[sales[\"Total\"]<=0]\n",
        "sales_non_minus = sales.loc[sales[\"Total\"]>0]"
      ],
      "execution_count": null,
      "outputs": []
    },
    {
      "cell_type": "code",
      "metadata": {
        "id": "v1jmuj4DIWKV"
      },
      "source": [
        "sales_non_minus_id = pd.DataFrame(sales_non_minus[\"CustomerID\"].unique())\n",
        "sales_non_minus_id.columns = [\"CustomerID\"] "
      ],
      "execution_count": null,
      "outputs": []
    },
    {
      "cell_type": "code",
      "metadata": {
        "id": "d2u0SrUTIZw2"
      },
      "source": [
        "sales_max_purchase = sales_non_minus.groupby(\"CustomerID\").Tanggal_Invoice.max().reset_index(name=\"LastPurchaseDate\")"
      ],
      "execution_count": null,
      "outputs": []
    },
    {
      "cell_type": "markdown",
      "metadata": {
        "id": "jX3FNMiRIb2p"
      },
      "source": [
        "## Recency"
      ]
    },
    {
      "cell_type": "code",
      "metadata": {
        "colab": {
          "base_uri": "https://localhost:8080/",
          "height": 406
        },
        "id": "fB5tbA2LIaJY",
        "outputId": "c0e78cf9-9867-4ed3-88a1-56c0e6ddaaea"
      },
      "source": [
        "last_transaction = sales_max_purchase[\"LastPurchaseDate\"].max() \n",
        "sales_max_purchase[\"Recency\"] = ( last_transaction - sales_max_purchase[\"LastPurchaseDate\"])\n",
        "sales_max_purchase[\"Recency\"] = [round(x.total_seconds()/86400,2) for x in sales_max_purchase[\"Recency\"]]\n",
        "sales_max_purchase.sort_values(by=\"LastPurchaseDate\")"
      ],
      "execution_count": null,
      "outputs": [
        {
          "output_type": "execute_result",
          "data": {
            "text/html": [
              "<div>\n",
              "<style scoped>\n",
              "    .dataframe tbody tr th:only-of-type {\n",
              "        vertical-align: middle;\n",
              "    }\n",
              "\n",
              "    .dataframe tbody tr th {\n",
              "        vertical-align: top;\n",
              "    }\n",
              "\n",
              "    .dataframe thead th {\n",
              "        text-align: right;\n",
              "    }\n",
              "</style>\n",
              "<table border=\"1\" class=\"dataframe\">\n",
              "  <thead>\n",
              "    <tr style=\"text-align: right;\">\n",
              "      <th></th>\n",
              "      <th>CustomerID</th>\n",
              "      <th>LastPurchaseDate</th>\n",
              "      <th>Recency</th>\n",
              "    </tr>\n",
              "  </thead>\n",
              "  <tbody>\n",
              "    <tr>\n",
              "      <th>1416</th>\n",
              "      <td>1416</td>\n",
              "      <td>2020-07-01 09:10:20.000</td>\n",
              "      <td>152.35</td>\n",
              "    </tr>\n",
              "    <tr>\n",
              "      <th>709</th>\n",
              "      <td>709</td>\n",
              "      <td>2020-07-01 10:16:20.000</td>\n",
              "      <td>152.30</td>\n",
              "    </tr>\n",
              "    <tr>\n",
              "      <th>48</th>\n",
              "      <td>48</td>\n",
              "      <td>2020-07-01 11:00:20.000</td>\n",
              "      <td>152.27</td>\n",
              "    </tr>\n",
              "    <tr>\n",
              "      <th>202</th>\n",
              "      <td>202</td>\n",
              "      <td>2020-07-01 11:20:34.000</td>\n",
              "      <td>152.26</td>\n",
              "    </tr>\n",
              "    <tr>\n",
              "      <th>375</th>\n",
              "      <td>375</td>\n",
              "      <td>2020-07-01 11:55:26.000</td>\n",
              "      <td>152.23</td>\n",
              "    </tr>\n",
              "    <tr>\n",
              "      <th>...</th>\n",
              "      <td>...</td>\n",
              "      <td>...</td>\n",
              "      <td>...</td>\n",
              "    </tr>\n",
              "    <tr>\n",
              "      <th>1372</th>\n",
              "      <td>1372</td>\n",
              "      <td>2020-11-30 15:10:08.995</td>\n",
              "      <td>0.10</td>\n",
              "    </tr>\n",
              "    <tr>\n",
              "      <th>716</th>\n",
              "      <td>716</td>\n",
              "      <td>2020-11-30 15:44:41.995</td>\n",
              "      <td>0.07</td>\n",
              "    </tr>\n",
              "    <tr>\n",
              "      <th>935</th>\n",
              "      <td>935</td>\n",
              "      <td>2020-11-30 16:19:14.995</td>\n",
              "      <td>0.05</td>\n",
              "    </tr>\n",
              "    <tr>\n",
              "      <th>745</th>\n",
              "      <td>745</td>\n",
              "      <td>2020-11-30 16:42:16.995</td>\n",
              "      <td>0.03</td>\n",
              "    </tr>\n",
              "    <tr>\n",
              "      <th>648</th>\n",
              "      <td>648</td>\n",
              "      <td>2020-11-30 17:28:20.995</td>\n",
              "      <td>0.00</td>\n",
              "    </tr>\n",
              "  </tbody>\n",
              "</table>\n",
              "<p>1551 rows × 3 columns</p>\n",
              "</div>"
            ],
            "text/plain": [
              "      CustomerID        LastPurchaseDate  Recency\n",
              "1416        1416 2020-07-01 09:10:20.000   152.35\n",
              "709          709 2020-07-01 10:16:20.000   152.30\n",
              "48            48 2020-07-01 11:00:20.000   152.27\n",
              "202          202 2020-07-01 11:20:34.000   152.26\n",
              "375          375 2020-07-01 11:55:26.000   152.23\n",
              "...          ...                     ...      ...\n",
              "1372        1372 2020-11-30 15:10:08.995     0.10\n",
              "716          716 2020-11-30 15:44:41.995     0.07\n",
              "935          935 2020-11-30 16:19:14.995     0.05\n",
              "745          745 2020-11-30 16:42:16.995     0.03\n",
              "648          648 2020-11-30 17:28:20.995     0.00\n",
              "\n",
              "[1551 rows x 3 columns]"
            ]
          },
          "metadata": {
            "tags": []
          },
          "execution_count": 48
        }
      ]
    },
    {
      "cell_type": "code",
      "metadata": {
        "colab": {
          "base_uri": "https://localhost:8080/",
          "height": 406
        },
        "id": "Hq7H6swmIdhq",
        "outputId": "3a88f7ed-43d7-4ad2-c176-a49dd689b821"
      },
      "source": [
        "rfm_df = pd.merge(sales_non_minus_id, sales_max_purchase, on=\"CustomerID\")\n",
        "rfm_df.drop([\"LastPurchaseDate\"],axis=1, inplace=True)\n",
        "rfm_df"
      ],
      "execution_count": null,
      "outputs": [
        {
          "output_type": "execute_result",
          "data": {
            "text/html": [
              "<div>\n",
              "<style scoped>\n",
              "    .dataframe tbody tr th:only-of-type {\n",
              "        vertical-align: middle;\n",
              "    }\n",
              "\n",
              "    .dataframe tbody tr th {\n",
              "        vertical-align: top;\n",
              "    }\n",
              "\n",
              "    .dataframe thead th {\n",
              "        text-align: right;\n",
              "    }\n",
              "</style>\n",
              "<table border=\"1\" class=\"dataframe\">\n",
              "  <thead>\n",
              "    <tr style=\"text-align: right;\">\n",
              "      <th></th>\n",
              "      <th>CustomerID</th>\n",
              "      <th>Recency</th>\n",
              "    </tr>\n",
              "  </thead>\n",
              "  <tbody>\n",
              "    <tr>\n",
              "      <th>0</th>\n",
              "      <td>1416</td>\n",
              "      <td>152.35</td>\n",
              "    </tr>\n",
              "    <tr>\n",
              "      <th>1</th>\n",
              "      <td>709</td>\n",
              "      <td>152.30</td>\n",
              "    </tr>\n",
              "    <tr>\n",
              "      <th>2</th>\n",
              "      <td>48</td>\n",
              "      <td>152.27</td>\n",
              "    </tr>\n",
              "    <tr>\n",
              "      <th>3</th>\n",
              "      <td>202</td>\n",
              "      <td>152.26</td>\n",
              "    </tr>\n",
              "    <tr>\n",
              "      <th>4</th>\n",
              "      <td>1317</td>\n",
              "      <td>151.20</td>\n",
              "    </tr>\n",
              "    <tr>\n",
              "      <th>...</th>\n",
              "      <td>...</td>\n",
              "      <td>...</td>\n",
              "    </tr>\n",
              "    <tr>\n",
              "      <th>1546</th>\n",
              "      <td>1372</td>\n",
              "      <td>0.10</td>\n",
              "    </tr>\n",
              "    <tr>\n",
              "      <th>1547</th>\n",
              "      <td>716</td>\n",
              "      <td>0.07</td>\n",
              "    </tr>\n",
              "    <tr>\n",
              "      <th>1548</th>\n",
              "      <td>935</td>\n",
              "      <td>0.05</td>\n",
              "    </tr>\n",
              "    <tr>\n",
              "      <th>1549</th>\n",
              "      <td>745</td>\n",
              "      <td>0.03</td>\n",
              "    </tr>\n",
              "    <tr>\n",
              "      <th>1550</th>\n",
              "      <td>648</td>\n",
              "      <td>0.00</td>\n",
              "    </tr>\n",
              "  </tbody>\n",
              "</table>\n",
              "<p>1551 rows × 2 columns</p>\n",
              "</div>"
            ],
            "text/plain": [
              "      CustomerID  Recency\n",
              "0           1416   152.35\n",
              "1            709   152.30\n",
              "2             48   152.27\n",
              "3            202   152.26\n",
              "4           1317   151.20\n",
              "...          ...      ...\n",
              "1546        1372     0.10\n",
              "1547         716     0.07\n",
              "1548         935     0.05\n",
              "1549         745     0.03\n",
              "1550         648     0.00\n",
              "\n",
              "[1551 rows x 2 columns]"
            ]
          },
          "metadata": {
            "tags": []
          },
          "execution_count": 49
        }
      ]
    },
    {
      "cell_type": "code",
      "metadata": {
        "id": "AE6QxAp_A3ug"
      },
      "source": [
        "rfm_df.to_excel(\"/content/drive/My Drive/Dataset_Literata/3. RFM_Recency.xlsx\", index=False)"
      ],
      "execution_count": null,
      "outputs": []
    },
    {
      "cell_type": "code",
      "metadata": {
        "colab": {
          "base_uri": "https://localhost:8080/",
          "height": 542
        },
        "id": "yPCKyUykIiKP",
        "outputId": "c7e52ceb-2664-4795-81fc-85e7eae75cff"
      },
      "source": [
        "plot_data = [\n",
        "    go.Histogram(\n",
        "        x=rfm_df['Recency']\n",
        "    )\n",
        "]\n",
        "\n",
        "plot_layout = go.Layout(\n",
        "        title='Recency'\n",
        "    )\n",
        "fig = go.Figure(data=plot_data, layout=plot_layout)\n",
        "pyoff.iplot(fig)"
      ],
      "execution_count": null,
      "outputs": [
        {
          "output_type": "display_data",
          "data": {
            "text/html": [
              "<html>\n",
              "<head><meta charset=\"utf-8\" /></head>\n",
              "<body>\n",
              "    <div>\n",
              "            <script src=\"https://cdnjs.cloudflare.com/ajax/libs/mathjax/2.7.5/MathJax.js?config=TeX-AMS-MML_SVG\"></script><script type=\"text/javascript\">if (window.MathJax) {MathJax.Hub.Config({SVG: {font: \"STIX-Web\"}});}</script>\n",
              "                <script type=\"text/javascript\">window.PlotlyConfig = {MathJaxConfig: 'local'};</script>\n",
              "        <script src=\"https://cdn.plot.ly/plotly-latest.min.js\"></script>    \n",
              "            <div id=\"0311cd89-e55d-47e0-9424-277a71968e6e\" class=\"plotly-graph-div\" style=\"height:525px; width:100%;\"></div>\n",
              "            <script type=\"text/javascript\">\n",
              "                \n",
              "                    window.PLOTLYENV=window.PLOTLYENV || {};\n",
              "                    \n",
              "                if (document.getElementById(\"0311cd89-e55d-47e0-9424-277a71968e6e\")) {\n",
              "                    Plotly.newPlot(\n",
              "                        '0311cd89-e55d-47e0-9424-277a71968e6e',\n",
              "                        [{\"type\": \"histogram\", \"x\": [152.35, 152.3, 152.27, 152.26, 151.2, 151.15, 150.33, 150.27, 152.23, 148.34, 148.28, 148.27, 152.21, 152.21, 152.2, 152.19, 152.19, 152.18, 152.17, 152.17, 152.16, 152.16, 152.15, 152.12, 152.1, 152.02, 151.99, 151.98, 151.94, 151.9, 151.9, 151.88, 151.87, 151.86, 56.2, 151.2, 151.15, 151.14, 151.13, 151.08, 151.03, 151.01, 150.98, 150.92, 150.91, 150.9, 150.89, 150.89, 150.88, 150.88, 150.88, 150.88, 150.87, 150.87, 150.86, 150.85, 150.33, 150.26, 150.24, 150.21, 150.16, 150.15, 150.13, 150.13, 150.12, 150.11, 150.1, 150.1, 150.09, 150.08, 150.07, 150.06, 150.06, 150.05, 150.03, 149.98, 149.97, 149.97, 149.96, 149.95, 149.91, 149.9, 149.88, 149.87, 149.3, 149.28, 149.26, 149.24, 149.22, 149.19, 149.17, 149.15, 149.13, 149.11, 149.08, 149.06, 149.04, 149.02, 149.0, 148.98, 148.95, 148.95, 148.94, 148.94, 148.93, 148.93, 148.91, 148.89, 148.87, 148.26, 148.25, 148.24, 148.22, 148.21, 148.2, 148.19, 148.17, 148.16, 148.15, 148.14, 148.12, 148.11, 148.1, 148.09, 148.05, 147.97, 147.96, 147.95, 147.93, 147.88, 147.86, 147.34, 147.31, 147.28, 147.25, 147.22, 147.19, 147.16, 147.12, 147.09, 147.06, 147.03, 147.0, 146.97, 146.94, 146.92, 146.93, 146.92, 146.91, 146.9, 146.9, 146.89, 146.88, 146.88, 146.87, 146.87, 146.87, 146.87, 146.87, 146.87, 146.87, 146.86, 146.86, 146.85, 146.33, 146.29, 146.28, 146.25, 146.23, 146.21, 146.18, 146.16, 146.14, 146.11, 146.09, 146.06, 146.04, 146.02, 145.99, 145.97, 145.95, 145.92, 145.9, 145.87, 145.87, 145.86, 145.86, 145.32, 145.25, 145.23, 145.2, 145.18, 145.15, 145.13, 145.11, 145.08, 145.06, 145.03, 145.01, 144.98, 144.96, 144.94, 144.91, 144.91, 144.91, 144.9, 144.9, 144.9, 144.9, 144.9, 144.89, 144.89, 144.89, 144.89, 144.88, 144.88, 144.86, 143.85, 143.35, 143.3, 143.29, 143.28, 143.27, 143.26, 143.25, 143.24, 143.23, 143.22, 143.21, 143.2, 143.19, 143.18, 143.1, 143.09, 143.08, 143.07, 143.06, 143.05, 143.04, 142.93, 142.92, 142.92, 142.91, 142.9, 142.89, 142.88, 123.38, 123.35, 123.32, 123.28, 123.26, 123.25, 123.23, 123.21, 123.18, 123.17, 123.14, 123.11, 123.11, 123.07, 123.04, 123.03, 122.98, 122.98, 122.97, 122.96, 122.94, 122.94, 122.9, 122.9, 122.89, 122.33, 122.23, 122.19, 122.14, 122.12, 122.05, 122.03, 121.99, 121.96, 121.93, 121.92, 121.9, 121.89, 138.04, 121.86, 121.88, 60.39, 60.36, 60.32, 60.29, 60.28, 60.27, 60.05, 60.04, 60.24, 60.22, 60.04, 60.03, 60.21, 60.14, 60.13, 60.13, 60.21, 60.17, 60.09, 60.07, 60.02, 60.01, 59.98, 59.32, 59.3, 59.26, 59.23, 59.21, 59.2, 59.19, 59.14, 59.09, 59.05, 59.01, 59.0, 136.15, 136.11, 58.96, 58.35, 58.3, 58.25, 58.24, 58.33, 58.23, 58.22, 58.21, 58.18, 58.15, 58.12, 58.12, 58.09, 58.05, 58.04, 58.0, 57.34, 57.27, 57.31, 57.2, 57.03, 56.98, 56.95, 56.9, 56.86, 57.12, 57.1, 57.09, 57.05, 56.33, 56.32, 56.29, 55.32, 55.29, 55.27, 55.23, 55.2, 56.04, 56.01, 55.95, 55.94, 55.39, 55.38, 55.36, 56.19, 56.15, 56.15, 56.14, 56.09, 56.05, 56.04, 56.26, 56.23, 56.21, 55.2, 55.19, 55.17, 55.14, 55.1, 55.05, 55.04, 54.97, 54.94, 55.07, 55.01, 54.91, 54.88, 54.88, 54.87, 54.86, 54.33, 54.3, 54.26, 54.21, 54.18, 54.17, 54.13, 54.07, 54.03, 54.0, 52.85, 133.19, 133.18, 52.32, 52.3, 52.26, 52.19, 52.13, 52.09, 52.03, 52.0, 51.99, 51.97, 51.96, 51.89, 51.38, 51.36, 51.35, 51.31, 51.28, 51.28, 51.27, 51.26, 51.23, 51.19, 51.14, 51.06, 51.02, 51.01, 51.11, 51.1, 50.98, 50.95, 50.9, 50.88, 50.86, 50.86, 131.9, 50.85, 131.86, 131.86, 131.85, 50.34, 50.32, 50.28, 50.22, 50.21, 50.19, 50.17, 50.11, 50.05, 50.04, 131.17, 131.15, 50.0, 131.11, 131.09, 131.07, 131.05, 49.34, 49.33, 49.3, 49.27, 49.23, 49.21, 49.2, 49.19, 49.18, 49.16, 49.13, 49.12, 49.1, 49.08, 49.06, 49.04, 49.03, 49.02, 48.99, 48.96, 48.32, 48.31, 48.29, 48.24, 48.2, 48.15, 48.14, 48.13, 48.12, 48.1, 47.95, 47.94, 48.07, 47.98, 47.92, 47.9, 48.03, 48.01, 47.85, 47.37, 47.35, 47.33, 47.3, 47.28, 47.27, 47.25, 47.25, 47.25, 47.23, 47.22, 47.21, 47.19, 47.17, 47.16, 47.13, 47.09, 47.03, 47.02, 46.96, 46.92, 46.88, 46.86, 46.33, 46.34, 46.31, 46.29, 46.28, 46.26, 46.24, 46.22, 46.22, 46.21, 46.2, 46.19, 46.17, 46.14, 46.13, 46.13, 46.09, 46.09, 46.11, 46.06, 46.04, 46.03, 46.01, 45.99, 45.35, 45.33, 93.24, 93.22, 45.28, 93.16, 45.25, 93.14, 93.1, 93.06, 45.19, 45.17, 45.16, 93.01, 45.13, 92.96, 45.1, 92.92, 92.9, 92.88, 92.9, 45.02, 45.0, 44.99, 44.97, 94.24, 94.22, 94.19, 44.91, 94.14, 94.11, 44.88, 94.08, 94.07, 44.86, 94.04, 94.02, 44.32, 93.99, 44.3, 93.94, 93.93, 44.27, 93.9, 44.24, 93.89, 93.89, 93.88, 93.88, 44.19, 44.17, 44.16, 95.29, 95.24, 95.22, 44.12, 95.19, 95.16, 44.08, 44.07, 95.06, 44.05, 95.06, 95.05, 44.01, 44.0, 94.99, 94.96, 43.97, 43.95, 43.94, 43.93, 43.92, 43.91, 94.89, 94.88, 94.88, 96.34, 96.29, 96.27, 96.24, 96.22, 96.19, 96.16, 43.85, 96.11, 96.1, 96.06, 96.06, 43.34, 96.03, 43.31, 95.99, 95.98, 43.24, 43.22, 43.27, 95.94, 70.13, 105.1, 33.27, 105.04, 33.25, 104.98, 64.87, 38.23, 33.2, 33.19, 33.18, 38.2, 38.19, 38.18, 33.14, 33.13, 64.25, 38.12, 38.11, 103.01, 39.17, 66.15, 104.36, 104.32, 104.22, 39.13, 39.12, 66.07, 66.05, 70.21, 39.09, 39.09, 39.08, 103.49, 65.97, 65.34, 39.05, 65.29, 103.28, 103.25, 39.02, 103.2, 65.16, 105.39, 65.1, 70.15, 38.98, 33.33, 65.0, 33.31, 38.3, 66.94, 39.3, 66.92, 66.91, 39.28, 103.22, 39.27, 66.34, 103.17, 66.31, 39.24, 70.28, 66.27, 103.09, 39.21, 66.23, 103.08, 66.2, 39.18, 67.18, 67.17, 40.1, 67.15, 102.02, 102.01, 71.01, 40.05, 67.1, 40.03, 101.95, 101.94, 101.93, 67.05, 39.98, 67.03, 67.02, 39.95, 101.88, 67.0, 66.99, 103.35, 39.9, 39.33, 103.37, 40.92, 40.91, 40.89, 40.87, 40.32, 68.04, 40.3, 68.01, 67.3, 71.08, 40.24, 102.19, 67.26, 40.28, 102.24, 102.16, 102.15, 40.18, 40.17, 40.16, 40.15, 67.2, 40.13, 68.29, 99.92, 41.17, 41.15, 41.13, 68.24, 68.22, 41.07, 101.18, 68.19, 40.96, 40.94, 41.02, 41.0, 71.15, 101.04, 101.03, 68.1, 100.29, 100.27, 71.26, 71.26, 41.92, 41.91, 69.0, 68.98, 41.88, 100.08, 68.94, 41.85, 71.22, 41.33, 68.87, 41.29, 99.98, 68.32, 41.24, 99.94, 69.35, 71.32, 69.32, 42.09, 71.31, 99.19, 42.06, 69.24, 71.3, 99.1, 41.98, 99.08, 42.01, 42.0, 69.14, 100.34, 61.05, 81.15, 34.88, 34.85, 34.87, 34.86, 81.02, 34.34, 80.88, 34.31, 113.23, 113.22, 80.37, 34.27, 60.89, 29.34, 80.23, 29.32, 34.22, 34.21, 34.2, 29.26, 29.27, 80.13, 29.25, 29.24, 29.23, 29.22, 29.21, 29.2, 29.19, 79.23, 79.16, 29.16, 78.97, 78.95, 112.39, 35.08, 61.21, 112.33, 61.23, 61.22, 35.03, 34.99, 112.23, 34.97, 35.02, 112.19, 112.16, 61.12, 61.11, 61.08, 34.92, 81.3, 81.2, 83.88, 30.11, 62.07, 83.34, 83.31, 30.03, 30.05, 62.04, 35.31, 29.99, 83.06, 83.03, 29.94, 61.97, 111.17, 29.9, 82.86, 61.92, 29.85, 35.2, 35.19, 35.18, 61.87, 61.34, 35.15, 111.07, 111.07, 61.3, 35.11, 35.1, 110.38, 36.86, 36.36, 63.07, 36.34, 85.28, 63.04, 85.11, 36.3, 85.06, 63.01, 85.03, 85.01, 36.24, 36.23, 36.22, 110.25, 30.38, 62.3, 36.17, 30.33, 62.27, 84.32, 36.13, 62.22, 30.27, 84.07, 36.08, 84.0, 30.2, 30.18, 30.17, 62.14, 83.94, 63.28, 87.08, 32.06, 32.05, 32.04, 32.03, 86.93, 36.94, 86.9, 63.2, 31.99, 86.28, 31.97, 86.19, 86.2, 86.18, 63.15, 63.14, 36.9, 36.89, 85.98, 36.88, 63.11, 32.24, 89.04, 37.21, 88.35, 37.18, 37.17, 32.19, 32.18, 63.93, 37.12, 32.15, 88.16, 88.07, 32.13, 37.06, 37.05, 37.04, 32.1, 32.09, 32.08, 33.01, 90.2, 64.16, 90.17, 32.97, 32.96, 64.13, 90.02, 32.92, 69.99, 37.98, 89.93, 32.88, 32.34, 32.33, 37.36, 89.31, 32.3, 89.2, 89.14, 37.3, 32.27, 88.9, 64.0, 88.88, 38.14, 33.1, 64.22, 33.05, 38.09, 38.08, 38.07, 42.32, 98.29, 42.3, 98.24, 98.22, 42.27, 98.16, 98.14, 98.11, 42.23, 98.08, 98.06, 42.19, 42.18, 42.17, 42.16, 97.99, 42.14, 97.97, 43.14, 97.29, 43.11, 97.24, 97.22, 43.05, 43.07, 43.04, 97.11, 97.1, 97.06, 97.06, 97.05, 42.96, 97.01, 42.92, 96.98, 42.89, 96.94, 96.93, 96.92, 96.91, 96.89, 95.91, 95.9, 43.19, 95.89, 95.89, 78.94, 34.02, 34.01, 29.1, 78.87, 29.08, 78.31, 78.28, 78.24, 33.94, 78.18, 29.02, 28.31, 78.09, 28.27, 78.03, 78.0, 77.96, 28.18, 77.91, 77.9, 77.89, 28.09, 28.04, 28.06, 77.35, 77.3, 27.97, 77.21, 77.17, 77.07, 27.88, 76.98, 76.94, 27.86, 27.35, 76.33, 27.31, 76.24, 76.18, 76.09, 76.07, 27.21, 76.0, 75.98, 75.93, 27.13, 27.11, 27.09, 75.36, 75.27, 27.03, 75.11, 26.99, 74.97, 26.95, 74.92, 74.9, 74.88, 74.85, 26.25, 74.3, 74.27, 26.19, 74.18, 26.14, 26.12, 26.1, 26.07, 26.05, 26.03, 26.01, 25.99, 73.36, 73.28, 25.92, 73.17, 25.87, 73.07, 25.85, 25.31, 72.95, 72.93, 25.28, 72.9, 25.26, 72.87, 25.24, 72.85, 72.33, 25.21, 25.2, 25.19, 72.2, 72.18, 72.15, 25.15, 72.1, 72.09, 25.12, 25.11, 71.99, 71.96, 71.95, 42.86, 26.89, 26.37, 26.3, 25.07, 25.03, 24.98, 24.95, 24.94, 24.9, 24.32, 24.3, 24.26, 24.22, 24.19, 24.16, 24.15, 24.14, 24.13, 24.09, 24.05, 24.02, 24.01, 24.01, 23.99, 23.32, 23.28, 23.24, 23.21, 23.19, 23.17, 23.12, 23.09, 23.05, 23.04, 23.02, 22.97, 22.92, 22.88, 22.86, 22.85, 22.33, 22.3, 22.25, 22.18, 22.13, 22.12, 22.1, 22.05, 21.98, 21.93, 21.89, 21.87, 21.33, 21.29, 21.26, 21.24, 21.2, 21.19, 21.18, 21.17, 21.13, 21.09, 21.06, 21.02, 20.98, 20.94, 20.33, 20.31, 20.3, 20.28, 20.28, 20.27, 20.27, 20.22, 20.2, 20.18, 20.17, 20.16, 20.15, 20.14, 20.13, 20.12, 20.1, 20.07, 20.05, 20.03, 20.01, 19.99, 19.98, 19.98, 19.97, 19.96, 19.96, 19.95, 19.32, 19.31, 19.27, 19.18, 19.14, 19.13, 19.12, 19.09, 19.06, 19.01, 18.97, 18.95, 18.34, 18.33, 18.28, 18.24, 18.22, 18.21, 18.2, 18.19, 18.15, 18.12, 18.11, 18.08, 18.04, 18.03, 18.01, 17.99, 17.96, 17.93, 17.92, 17.9, 17.33, 17.3, 17.26, 17.19, 17.14, 17.09, 17.07, 17.05, 16.98, 16.86, 16.32, 16.28, 16.21, 16.11, 16.09, 16.07, 16.05, 15.97, 15.93, 15.31, 15.28, 15.25, 15.19, 15.14, 15.12, 15.11, 15.1, 15.06, 15.03, 15.02, 14.97, 14.91, 14.9, 14.89, 14.88, 14.87, 14.86, 14.37, 14.35, 14.31, 14.27, 14.26, 14.25, 14.24, 14.21, 14.18, 14.17, 14.1, 14.08, 14.03, 14.01, 13.97, 13.95, 13.9, 13.31, 13.3, 13.26, 13.19, 13.18, 13.17, 13.13, 13.1, 13.07, 13.06, 13.03, 13.01, 12.95, 12.32, 12.28, 12.24, 12.22, 12.2, 12.15, 12.09, 12.03, 12.01, 11.93, 11.89, 11.35, 11.33, 11.31, 11.3, 11.29, 11.28, 11.25, 11.24, 11.21, 11.16, 11.12, 11.11, 11.1, 11.08, 11.06, 11.02, 10.99, 10.32, 10.31, 10.27, 10.24, 10.22, 10.21, 10.19, 10.14, 10.12, 10.11, 10.1, 10.09, 10.07, 10.03, 9.99, 9.96, 9.95, 9.94, 9.86, 9.85, 9.33, 9.3, 9.23, 9.22, 9.2, 9.19, 9.12, 9.08, 9.04, 8.98, 8.97, 8.33, 8.3, 8.15, 8.13, 8.1, 8.06, 8.01, 7.99, 7.98, 7.91, 7.87, 7.86, 7.33, 7.2, 7.18, 7.16, 7.13, 7.06, 6.98, 6.96, 6.93, 6.91, 6.89, 6.86, 129.36, 129.31, 129.2, 129.17, 129.15, 129.06, 128.96, 128.9, 128.87, 128.85, 5.33, 5.31, 5.22, 5.07, 5.05, 5.03, 5.01, 4.99, 4.97, 4.95, 4.94, 4.92, 4.9, 4.88, 4.86, 4.33, 4.31, 4.24, 4.2, 4.12, 4.11, 4.09, 3.99, 3.93, 3.91, 3.9, 3.88, 3.86, 3.36, 3.34, 3.27, 3.21, 3.11, 3.05, 3.04, 3.02, 2.99, 2.94, 2.89, 2.88, 2.86, 2.85, 2.32, 2.3, 2.26, 2.22, 2.21, 2.2, 2.15, 2.1, 2.07, 2.06, 2.03, 1.98, 1.97, 1.9, 1.89, 1.88, 1.87, 1.85, 1.37, 1.36, 1.31, 1.28, 1.28, 1.25, 1.24, 1.22, 1.19, 1.19, 1.16, 1.13, 1.13, 1.12, 1.1, 1.08, 1.07, 1.04, 1.03, 0.99, 0.99, 0.98, 0.32, 0.31, 0.27, 0.24, 0.23, 0.22, 0.2, 0.16, 0.15, 0.14, 0.12, 0.1, 0.1, 0.07, 0.05, 0.03, 0.0]}],\n",
              "                        {\"template\": {\"data\": {\"bar\": [{\"error_x\": {\"color\": \"#2a3f5f\"}, \"error_y\": {\"color\": \"#2a3f5f\"}, \"marker\": {\"line\": {\"color\": \"#E5ECF6\", \"width\": 0.5}}, \"type\": \"bar\"}], \"barpolar\": [{\"marker\": {\"line\": {\"color\": \"#E5ECF6\", \"width\": 0.5}}, \"type\": \"barpolar\"}], \"carpet\": [{\"aaxis\": {\"endlinecolor\": \"#2a3f5f\", \"gridcolor\": \"white\", \"linecolor\": \"white\", \"minorgridcolor\": \"white\", \"startlinecolor\": \"#2a3f5f\"}, \"baxis\": {\"endlinecolor\": \"#2a3f5f\", \"gridcolor\": \"white\", \"linecolor\": \"white\", \"minorgridcolor\": \"white\", \"startlinecolor\": \"#2a3f5f\"}, \"type\": \"carpet\"}], \"choropleth\": [{\"colorbar\": {\"outlinewidth\": 0, \"ticks\": \"\"}, \"type\": \"choropleth\"}], \"contour\": [{\"colorbar\": {\"outlinewidth\": 0, \"ticks\": \"\"}, \"colorscale\": [[0.0, \"#0d0887\"], [0.1111111111111111, \"#46039f\"], [0.2222222222222222, \"#7201a8\"], [0.3333333333333333, \"#9c179e\"], [0.4444444444444444, \"#bd3786\"], [0.5555555555555556, \"#d8576b\"], [0.6666666666666666, \"#ed7953\"], [0.7777777777777778, \"#fb9f3a\"], [0.8888888888888888, \"#fdca26\"], [1.0, \"#f0f921\"]], \"type\": \"contour\"}], \"contourcarpet\": [{\"colorbar\": {\"outlinewidth\": 0, \"ticks\": \"\"}, \"type\": \"contourcarpet\"}], \"heatmap\": [{\"colorbar\": {\"outlinewidth\": 0, \"ticks\": \"\"}, \"colorscale\": [[0.0, \"#0d0887\"], [0.1111111111111111, \"#46039f\"], [0.2222222222222222, \"#7201a8\"], [0.3333333333333333, \"#9c179e\"], [0.4444444444444444, \"#bd3786\"], [0.5555555555555556, \"#d8576b\"], [0.6666666666666666, \"#ed7953\"], [0.7777777777777778, \"#fb9f3a\"], [0.8888888888888888, \"#fdca26\"], [1.0, \"#f0f921\"]], \"type\": \"heatmap\"}], \"heatmapgl\": [{\"colorbar\": {\"outlinewidth\": 0, \"ticks\": \"\"}, \"colorscale\": [[0.0, \"#0d0887\"], [0.1111111111111111, \"#46039f\"], [0.2222222222222222, \"#7201a8\"], [0.3333333333333333, \"#9c179e\"], [0.4444444444444444, \"#bd3786\"], [0.5555555555555556, \"#d8576b\"], [0.6666666666666666, \"#ed7953\"], [0.7777777777777778, \"#fb9f3a\"], [0.8888888888888888, \"#fdca26\"], [1.0, \"#f0f921\"]], \"type\": \"heatmapgl\"}], \"histogram\": [{\"marker\": {\"colorbar\": {\"outlinewidth\": 0, \"ticks\": \"\"}}, \"type\": \"histogram\"}], \"histogram2d\": [{\"colorbar\": {\"outlinewidth\": 0, \"ticks\": \"\"}, \"colorscale\": [[0.0, \"#0d0887\"], [0.1111111111111111, \"#46039f\"], [0.2222222222222222, \"#7201a8\"], [0.3333333333333333, \"#9c179e\"], [0.4444444444444444, \"#bd3786\"], [0.5555555555555556, \"#d8576b\"], [0.6666666666666666, \"#ed7953\"], [0.7777777777777778, \"#fb9f3a\"], [0.8888888888888888, \"#fdca26\"], [1.0, \"#f0f921\"]], \"type\": \"histogram2d\"}], \"histogram2dcontour\": [{\"colorbar\": {\"outlinewidth\": 0, \"ticks\": \"\"}, \"colorscale\": [[0.0, \"#0d0887\"], [0.1111111111111111, \"#46039f\"], [0.2222222222222222, \"#7201a8\"], [0.3333333333333333, \"#9c179e\"], [0.4444444444444444, \"#bd3786\"], [0.5555555555555556, \"#d8576b\"], [0.6666666666666666, \"#ed7953\"], [0.7777777777777778, \"#fb9f3a\"], [0.8888888888888888, \"#fdca26\"], [1.0, \"#f0f921\"]], \"type\": \"histogram2dcontour\"}], \"mesh3d\": [{\"colorbar\": {\"outlinewidth\": 0, \"ticks\": \"\"}, \"type\": \"mesh3d\"}], \"parcoords\": [{\"line\": {\"colorbar\": {\"outlinewidth\": 0, \"ticks\": \"\"}}, \"type\": \"parcoords\"}], \"pie\": [{\"automargin\": true, \"type\": \"pie\"}], \"scatter\": [{\"marker\": {\"colorbar\": {\"outlinewidth\": 0, \"ticks\": \"\"}}, \"type\": \"scatter\"}], \"scatter3d\": [{\"line\": {\"colorbar\": {\"outlinewidth\": 0, \"ticks\": \"\"}}, \"marker\": {\"colorbar\": {\"outlinewidth\": 0, \"ticks\": \"\"}}, \"type\": \"scatter3d\"}], \"scattercarpet\": [{\"marker\": {\"colorbar\": {\"outlinewidth\": 0, \"ticks\": \"\"}}, \"type\": \"scattercarpet\"}], \"scattergeo\": [{\"marker\": {\"colorbar\": {\"outlinewidth\": 0, \"ticks\": \"\"}}, \"type\": \"scattergeo\"}], \"scattergl\": [{\"marker\": {\"colorbar\": {\"outlinewidth\": 0, \"ticks\": \"\"}}, \"type\": \"scattergl\"}], \"scattermapbox\": [{\"marker\": {\"colorbar\": {\"outlinewidth\": 0, \"ticks\": \"\"}}, \"type\": \"scattermapbox\"}], \"scatterpolar\": [{\"marker\": {\"colorbar\": {\"outlinewidth\": 0, \"ticks\": \"\"}}, \"type\": \"scatterpolar\"}], \"scatterpolargl\": [{\"marker\": {\"colorbar\": {\"outlinewidth\": 0, \"ticks\": \"\"}}, \"type\": \"scatterpolargl\"}], \"scatterternary\": [{\"marker\": {\"colorbar\": {\"outlinewidth\": 0, \"ticks\": \"\"}}, \"type\": \"scatterternary\"}], \"surface\": [{\"colorbar\": {\"outlinewidth\": 0, \"ticks\": \"\"}, \"colorscale\": [[0.0, \"#0d0887\"], [0.1111111111111111, \"#46039f\"], [0.2222222222222222, \"#7201a8\"], [0.3333333333333333, \"#9c179e\"], [0.4444444444444444, \"#bd3786\"], [0.5555555555555556, \"#d8576b\"], [0.6666666666666666, \"#ed7953\"], [0.7777777777777778, \"#fb9f3a\"], [0.8888888888888888, \"#fdca26\"], [1.0, \"#f0f921\"]], \"type\": \"surface\"}], \"table\": [{\"cells\": {\"fill\": {\"color\": \"#EBF0F8\"}, \"line\": {\"color\": \"white\"}}, \"header\": {\"fill\": {\"color\": \"#C8D4E3\"}, \"line\": {\"color\": \"white\"}}, \"type\": \"table\"}]}, \"layout\": {\"annotationdefaults\": {\"arrowcolor\": \"#2a3f5f\", \"arrowhead\": 0, \"arrowwidth\": 1}, \"coloraxis\": {\"colorbar\": {\"outlinewidth\": 0, \"ticks\": \"\"}}, \"colorscale\": {\"diverging\": [[0, \"#8e0152\"], [0.1, \"#c51b7d\"], [0.2, \"#de77ae\"], [0.3, \"#f1b6da\"], [0.4, \"#fde0ef\"], [0.5, \"#f7f7f7\"], [0.6, \"#e6f5d0\"], [0.7, \"#b8e186\"], [0.8, \"#7fbc41\"], [0.9, \"#4d9221\"], [1, \"#276419\"]], \"sequential\": [[0.0, \"#0d0887\"], [0.1111111111111111, \"#46039f\"], [0.2222222222222222, \"#7201a8\"], [0.3333333333333333, \"#9c179e\"], [0.4444444444444444, \"#bd3786\"], [0.5555555555555556, \"#d8576b\"], [0.6666666666666666, \"#ed7953\"], [0.7777777777777778, \"#fb9f3a\"], [0.8888888888888888, \"#fdca26\"], [1.0, \"#f0f921\"]], \"sequentialminus\": [[0.0, \"#0d0887\"], [0.1111111111111111, \"#46039f\"], [0.2222222222222222, \"#7201a8\"], [0.3333333333333333, \"#9c179e\"], [0.4444444444444444, \"#bd3786\"], [0.5555555555555556, \"#d8576b\"], [0.6666666666666666, \"#ed7953\"], [0.7777777777777778, \"#fb9f3a\"], [0.8888888888888888, \"#fdca26\"], [1.0, \"#f0f921\"]]}, \"colorway\": [\"#636efa\", \"#EF553B\", \"#00cc96\", \"#ab63fa\", \"#FFA15A\", \"#19d3f3\", \"#FF6692\", \"#B6E880\", \"#FF97FF\", \"#FECB52\"], \"font\": {\"color\": \"#2a3f5f\"}, \"geo\": {\"bgcolor\": \"white\", \"lakecolor\": \"white\", \"landcolor\": \"#E5ECF6\", \"showlakes\": true, \"showland\": true, \"subunitcolor\": \"white\"}, \"hoverlabel\": {\"align\": \"left\"}, \"hovermode\": \"closest\", \"mapbox\": {\"style\": \"light\"}, \"paper_bgcolor\": \"white\", \"plot_bgcolor\": \"#E5ECF6\", \"polar\": {\"angularaxis\": {\"gridcolor\": \"white\", \"linecolor\": \"white\", \"ticks\": \"\"}, \"bgcolor\": \"#E5ECF6\", \"radialaxis\": {\"gridcolor\": \"white\", \"linecolor\": \"white\", \"ticks\": \"\"}}, \"scene\": {\"xaxis\": {\"backgroundcolor\": \"#E5ECF6\", \"gridcolor\": \"white\", \"gridwidth\": 2, \"linecolor\": \"white\", \"showbackground\": true, \"ticks\": \"\", \"zerolinecolor\": \"white\"}, \"yaxis\": {\"backgroundcolor\": \"#E5ECF6\", \"gridcolor\": \"white\", \"gridwidth\": 2, \"linecolor\": \"white\", \"showbackground\": true, \"ticks\": \"\", \"zerolinecolor\": \"white\"}, \"zaxis\": {\"backgroundcolor\": \"#E5ECF6\", \"gridcolor\": \"white\", \"gridwidth\": 2, \"linecolor\": \"white\", \"showbackground\": true, \"ticks\": \"\", \"zerolinecolor\": \"white\"}}, \"shapedefaults\": {\"line\": {\"color\": \"#2a3f5f\"}}, \"ternary\": {\"aaxis\": {\"gridcolor\": \"white\", \"linecolor\": \"white\", \"ticks\": \"\"}, \"baxis\": {\"gridcolor\": \"white\", \"linecolor\": \"white\", \"ticks\": \"\"}, \"bgcolor\": \"#E5ECF6\", \"caxis\": {\"gridcolor\": \"white\", \"linecolor\": \"white\", \"ticks\": \"\"}}, \"title\": {\"x\": 0.05}, \"xaxis\": {\"automargin\": true, \"gridcolor\": \"white\", \"linecolor\": \"white\", \"ticks\": \"\", \"title\": {\"standoff\": 15}, \"zerolinecolor\": \"white\", \"zerolinewidth\": 2}, \"yaxis\": {\"automargin\": true, \"gridcolor\": \"white\", \"linecolor\": \"white\", \"ticks\": \"\", \"title\": {\"standoff\": 15}, \"zerolinecolor\": \"white\", \"zerolinewidth\": 2}}}, \"title\": {\"text\": \"Recency\"}},\n",
              "                        {\"responsive\": true}\n",
              "                    ).then(function(){\n",
              "                            \n",
              "var gd = document.getElementById('0311cd89-e55d-47e0-9424-277a71968e6e');\n",
              "var x = new MutationObserver(function (mutations, observer) {{\n",
              "        var display = window.getComputedStyle(gd).display;\n",
              "        if (!display || display === 'none') {{\n",
              "            console.log([gd, 'removed!']);\n",
              "            Plotly.purge(gd);\n",
              "            observer.disconnect();\n",
              "        }}\n",
              "}});\n",
              "\n",
              "// Listen for the removal of the full notebook cells\n",
              "var notebookContainer = gd.closest('#notebook-container');\n",
              "if (notebookContainer) {{\n",
              "    x.observe(notebookContainer, {childList: true});\n",
              "}}\n",
              "\n",
              "// Listen for the clearing of the current output cell\n",
              "var outputEl = gd.closest('.output');\n",
              "if (outputEl) {{\n",
              "    x.observe(outputEl, {childList: true});\n",
              "}}\n",
              "\n",
              "                        })\n",
              "                };\n",
              "                \n",
              "            </script>\n",
              "        </div>\n",
              "</body>\n",
              "</html>"
            ]
          },
          "metadata": {
            "tags": []
          }
        }
      ]
    },
    {
      "cell_type": "markdown",
      "metadata": {
        "id": "fwvicJQ4I22i"
      },
      "source": [
        "## Frequency "
      ]
    },
    {
      "cell_type": "code",
      "metadata": {
        "colab": {
          "base_uri": "https://localhost:8080/",
          "height": 406
        },
        "id": "NhyNF3WzIlef",
        "outputId": "3ed9b8b5-18ee-4306-89ac-0ad84bd338b5"
      },
      "source": [
        "sales_freq = pd.DataFrame(sales_non_minus.groupby(\"CustomerID\")[\"No. Invoice\"].nunique().reset_index())\n",
        "sales_freq.columns = [\"CustomerID\",\"Frequency\"]\n",
        "sales_freq.sort_values('Frequency', ascending=False)"
      ],
      "execution_count": null,
      "outputs": [
        {
          "output_type": "execute_result",
          "data": {
            "text/html": [
              "<div>\n",
              "<style scoped>\n",
              "    .dataframe tbody tr th:only-of-type {\n",
              "        vertical-align: middle;\n",
              "    }\n",
              "\n",
              "    .dataframe tbody tr th {\n",
              "        vertical-align: top;\n",
              "    }\n",
              "\n",
              "    .dataframe thead th {\n",
              "        text-align: right;\n",
              "    }\n",
              "</style>\n",
              "<table border=\"1\" class=\"dataframe\">\n",
              "  <thead>\n",
              "    <tr style=\"text-align: right;\">\n",
              "      <th></th>\n",
              "      <th>CustomerID</th>\n",
              "      <th>Frequency</th>\n",
              "    </tr>\n",
              "  </thead>\n",
              "  <tbody>\n",
              "    <tr>\n",
              "      <th>983</th>\n",
              "      <td>983</td>\n",
              "      <td>28</td>\n",
              "    </tr>\n",
              "    <tr>\n",
              "      <th>527</th>\n",
              "      <td>527</td>\n",
              "      <td>14</td>\n",
              "    </tr>\n",
              "    <tr>\n",
              "      <th>887</th>\n",
              "      <td>887</td>\n",
              "      <td>8</td>\n",
              "    </tr>\n",
              "    <tr>\n",
              "      <th>560</th>\n",
              "      <td>560</td>\n",
              "      <td>6</td>\n",
              "    </tr>\n",
              "    <tr>\n",
              "      <th>74</th>\n",
              "      <td>74</td>\n",
              "      <td>5</td>\n",
              "    </tr>\n",
              "    <tr>\n",
              "      <th>...</th>\n",
              "      <td>...</td>\n",
              "      <td>...</td>\n",
              "    </tr>\n",
              "    <tr>\n",
              "      <th>713</th>\n",
              "      <td>713</td>\n",
              "      <td>1</td>\n",
              "    </tr>\n",
              "    <tr>\n",
              "      <th>714</th>\n",
              "      <td>714</td>\n",
              "      <td>1</td>\n",
              "    </tr>\n",
              "    <tr>\n",
              "      <th>715</th>\n",
              "      <td>715</td>\n",
              "      <td>1</td>\n",
              "    </tr>\n",
              "    <tr>\n",
              "      <th>716</th>\n",
              "      <td>716</td>\n",
              "      <td>1</td>\n",
              "    </tr>\n",
              "    <tr>\n",
              "      <th>1550</th>\n",
              "      <td>1550</td>\n",
              "      <td>1</td>\n",
              "    </tr>\n",
              "  </tbody>\n",
              "</table>\n",
              "<p>1551 rows × 2 columns</p>\n",
              "</div>"
            ],
            "text/plain": [
              "      CustomerID  Frequency\n",
              "983          983         28\n",
              "527          527         14\n",
              "887          887          8\n",
              "560          560          6\n",
              "74            74          5\n",
              "...          ...        ...\n",
              "713          713          1\n",
              "714          714          1\n",
              "715          715          1\n",
              "716          716          1\n",
              "1550        1550          1\n",
              "\n",
              "[1551 rows x 2 columns]"
            ]
          },
          "metadata": {
            "tags": []
          },
          "execution_count": 52
        }
      ]
    },
    {
      "cell_type": "code",
      "metadata": {
        "id": "DHCnIwzUBFkx"
      },
      "source": [
        "sales_freq.to_excel(\"/content/drive/My Drive/Dataset_Literata/4. RFM_Frequency.xlsx\", index=False)"
      ],
      "execution_count": null,
      "outputs": []
    },
    {
      "cell_type": "code",
      "metadata": {
        "colab": {
          "base_uri": "https://localhost:8080/",
          "height": 406
        },
        "id": "d0l-0lBDI7Jp",
        "outputId": "caa5bef7-c25e-4ea3-f42a-f3d3fc968293"
      },
      "source": [
        "#merge dataset\n",
        "rfm_df = pd.merge(rfm_df, sales_freq, on=\"CustomerID\")\n",
        "rfm_df"
      ],
      "execution_count": null,
      "outputs": [
        {
          "output_type": "execute_result",
          "data": {
            "text/html": [
              "<div>\n",
              "<style scoped>\n",
              "    .dataframe tbody tr th:only-of-type {\n",
              "        vertical-align: middle;\n",
              "    }\n",
              "\n",
              "    .dataframe tbody tr th {\n",
              "        vertical-align: top;\n",
              "    }\n",
              "\n",
              "    .dataframe thead th {\n",
              "        text-align: right;\n",
              "    }\n",
              "</style>\n",
              "<table border=\"1\" class=\"dataframe\">\n",
              "  <thead>\n",
              "    <tr style=\"text-align: right;\">\n",
              "      <th></th>\n",
              "      <th>CustomerID</th>\n",
              "      <th>Recency</th>\n",
              "      <th>Frequency</th>\n",
              "    </tr>\n",
              "  </thead>\n",
              "  <tbody>\n",
              "    <tr>\n",
              "      <th>0</th>\n",
              "      <td>1416</td>\n",
              "      <td>152.35</td>\n",
              "      <td>1</td>\n",
              "    </tr>\n",
              "    <tr>\n",
              "      <th>1</th>\n",
              "      <td>709</td>\n",
              "      <td>152.30</td>\n",
              "      <td>1</td>\n",
              "    </tr>\n",
              "    <tr>\n",
              "      <th>2</th>\n",
              "      <td>48</td>\n",
              "      <td>152.27</td>\n",
              "      <td>1</td>\n",
              "    </tr>\n",
              "    <tr>\n",
              "      <th>3</th>\n",
              "      <td>202</td>\n",
              "      <td>152.26</td>\n",
              "      <td>1</td>\n",
              "    </tr>\n",
              "    <tr>\n",
              "      <th>4</th>\n",
              "      <td>1317</td>\n",
              "      <td>151.20</td>\n",
              "      <td>2</td>\n",
              "    </tr>\n",
              "    <tr>\n",
              "      <th>...</th>\n",
              "      <td>...</td>\n",
              "      <td>...</td>\n",
              "      <td>...</td>\n",
              "    </tr>\n",
              "    <tr>\n",
              "      <th>1546</th>\n",
              "      <td>1372</td>\n",
              "      <td>0.10</td>\n",
              "      <td>1</td>\n",
              "    </tr>\n",
              "    <tr>\n",
              "      <th>1547</th>\n",
              "      <td>716</td>\n",
              "      <td>0.07</td>\n",
              "      <td>1</td>\n",
              "    </tr>\n",
              "    <tr>\n",
              "      <th>1548</th>\n",
              "      <td>935</td>\n",
              "      <td>0.05</td>\n",
              "      <td>1</td>\n",
              "    </tr>\n",
              "    <tr>\n",
              "      <th>1549</th>\n",
              "      <td>745</td>\n",
              "      <td>0.03</td>\n",
              "      <td>1</td>\n",
              "    </tr>\n",
              "    <tr>\n",
              "      <th>1550</th>\n",
              "      <td>648</td>\n",
              "      <td>0.00</td>\n",
              "      <td>1</td>\n",
              "    </tr>\n",
              "  </tbody>\n",
              "</table>\n",
              "<p>1551 rows × 3 columns</p>\n",
              "</div>"
            ],
            "text/plain": [
              "      CustomerID  Recency  Frequency\n",
              "0           1416   152.35          1\n",
              "1            709   152.30          1\n",
              "2             48   152.27          1\n",
              "3            202   152.26          1\n",
              "4           1317   151.20          2\n",
              "...          ...      ...        ...\n",
              "1546        1372     0.10          1\n",
              "1547         716     0.07          1\n",
              "1548         935     0.05          1\n",
              "1549         745     0.03          1\n",
              "1550         648     0.00          1\n",
              "\n",
              "[1551 rows x 3 columns]"
            ]
          },
          "metadata": {
            "tags": []
          },
          "execution_count": 55
        }
      ]
    },
    {
      "cell_type": "code",
      "metadata": {
        "colab": {
          "base_uri": "https://localhost:8080/",
          "height": 542
        },
        "id": "CUGStdUWI9M1",
        "outputId": "775fec63-4076-4cdf-87cc-a2f8ba1e6544"
      },
      "source": [
        "plot_data = [\n",
        "    go.Histogram(\n",
        "        x=rfm_df['Frequency']\n",
        "    )\n",
        "]\n",
        "\n",
        "plot_layout = go.Layout(\n",
        "        title='Frequency'\n",
        "    )\n",
        "fig = go.Figure(data=plot_data, layout=plot_layout)\n",
        "pyoff.iplot(fig)"
      ],
      "execution_count": null,
      "outputs": [
        {
          "output_type": "display_data",
          "data": {
            "text/html": [
              "<html>\n",
              "<head><meta charset=\"utf-8\" /></head>\n",
              "<body>\n",
              "    <div>\n",
              "            <script src=\"https://cdnjs.cloudflare.com/ajax/libs/mathjax/2.7.5/MathJax.js?config=TeX-AMS-MML_SVG\"></script><script type=\"text/javascript\">if (window.MathJax) {MathJax.Hub.Config({SVG: {font: \"STIX-Web\"}});}</script>\n",
              "                <script type=\"text/javascript\">window.PlotlyConfig = {MathJaxConfig: 'local'};</script>\n",
              "        <script src=\"https://cdn.plot.ly/plotly-latest.min.js\"></script>    \n",
              "            <div id=\"29f748e8-b783-45f6-ae33-6b3c8c1fcb6a\" class=\"plotly-graph-div\" style=\"height:525px; width:100%;\"></div>\n",
              "            <script type=\"text/javascript\">\n",
              "                \n",
              "                    window.PLOTLYENV=window.PLOTLYENV || {};\n",
              "                    \n",
              "                if (document.getElementById(\"29f748e8-b783-45f6-ae33-6b3c8c1fcb6a\")) {\n",
              "                    Plotly.newPlot(\n",
              "                        '29f748e8-b783-45f6-ae33-6b3c8c1fcb6a',\n",
              "                        [{\"type\": \"histogram\", \"x\": [1, 1, 1, 1, 2, 2, 2, 2, 1, 3, 2, 2, 1, 1, 1, 1, 1, 1, 1, 1, 1, 1, 1, 1, 1, 1, 1, 1, 1, 1, 1, 1, 1, 1, 3, 1, 1, 1, 1, 1, 1, 1, 1, 1, 1, 1, 1, 1, 1, 1, 1, 1, 1, 1, 1, 1, 1, 1, 1, 1, 1, 1, 1, 1, 1, 1, 1, 1, 1, 1, 1, 1, 1, 1, 1, 1, 1, 1, 1, 1, 1, 1, 1, 1, 1, 1, 1, 1, 1, 1, 1, 1, 1, 1, 1, 1, 1, 1, 1, 1, 1, 1, 1, 1, 1, 1, 1, 1, 1, 1, 1, 1, 1, 1, 1, 1, 1, 1, 1, 1, 1, 1, 1, 1, 1, 1, 1, 1, 1, 1, 1, 1, 1, 1, 1, 1, 1, 1, 1, 1, 1, 1, 1, 1, 1, 1, 1, 1, 1, 1, 1, 1, 1, 1, 1, 1, 1, 1, 1, 1, 1, 1, 1, 1, 1, 1, 1, 1, 1, 1, 1, 1, 1, 1, 1, 1, 1, 1, 1, 1, 1, 1, 1, 1, 1, 1, 1, 1, 1, 1, 1, 1, 1, 1, 1, 1, 1, 1, 1, 1, 1, 1, 1, 1, 1, 1, 1, 1, 1, 1, 1, 1, 1, 1, 1, 1, 1, 28, 1, 1, 1, 1, 1, 1, 1, 1, 1, 1, 1, 1, 1, 1, 1, 1, 1, 1, 1, 1, 1, 1, 1, 1, 1, 1, 1, 1, 3, 3, 3, 3, 3, 3, 3, 3, 3, 3, 3, 3, 3, 3, 3, 3, 3, 3, 3, 3, 3, 3, 3, 3, 3, 3, 3, 3, 3, 3, 3, 3, 3, 4, 3, 3, 3, 3, 2, 3, 3, 3, 3, 3, 3, 3, 3, 3, 3, 3, 3, 3, 3, 3, 3, 3, 3, 3, 3, 3, 3, 3, 3, 3, 3, 3, 3, 3, 4, 3, 3, 3, 3, 3, 3, 3, 2, 1, 2, 2, 2, 2, 2, 2, 2, 2, 2, 2, 2, 2, 2, 2, 2, 2, 2, 2, 2, 2, 2, 2, 2, 2, 2, 2, 2, 2, 2, 2, 2, 2, 2, 2, 2, 2, 2, 2, 2, 2, 2, 2, 2, 2, 2, 2, 2, 2, 2, 2, 2, 2, 2, 2, 2, 2, 2, 2, 2, 2, 2, 2, 2, 2, 2, 2, 2, 2, 2, 2, 2, 2, 2, 2, 2, 2, 2, 2, 2, 2, 2, 14, 1, 1, 2, 2, 2, 2, 2, 2, 2, 2, 2, 2, 2, 2, 3, 2, 2, 2, 2, 2, 2, 2, 2, 2, 2, 2, 2, 2, 2, 2, 2, 2, 2, 2, 2, 2, 1, 2, 1, 1, 1, 2, 2, 2, 2, 2, 2, 2, 2, 2, 2, 1, 1, 2, 1, 1, 1, 1, 2, 2, 2, 2, 2, 2, 2, 2, 2, 2, 2, 2, 2, 2, 2, 2, 2, 2, 2, 2, 2, 2, 2, 2, 2, 2, 2, 2, 2, 3, 3, 3, 3, 3, 3, 3, 3, 3, 3, 3, 3, 3, 3, 3, 3, 3, 3, 3, 3, 3, 3, 3, 3, 3, 3, 3, 3, 3, 3, 3, 3, 3, 3, 3, 3, 3, 3, 3, 3, 3, 3, 3, 3, 3, 3, 3, 3, 3, 3, 3, 3, 3, 3, 3, 3, 3, 3, 3, 2, 2, 3, 2, 3, 2, 2, 2, 3, 3, 3, 2, 3, 2, 3, 2, 2, 2, 2, 3, 3, 3, 3, 2, 2, 2, 3, 2, 2, 3, 2, 2, 3, 2, 2, 3, 2, 3, 2, 2, 3, 2, 3, 2, 2, 2, 2, 3, 3, 3, 2, 2, 2, 3, 2, 2, 3, 3, 2, 2, 2, 2, 3, 3, 2, 2, 3, 3, 3, 3, 3, 3, 2, 2, 2, 2, 2, 2, 2, 2, 2, 2, 3, 2, 2, 2, 2, 3, 2, 3, 2, 2, 2, 3, 3, 2, 3, 2, 5, 2, 5, 2, 3, 4, 4, 4, 4, 3, 4, 3, 5, 3, 3, 3, 3, 2, 3, 4, 2, 2, 2, 4, 5, 3, 2, 3, 3, 4, 3, 2, 3, 4, 3, 3, 2, 2, 5, 2, 3, 2, 3, 3, 4, 5, 3, 4, 5, 4, 3, 3, 4, 3, 2, 4, 3, 2, 4, 4, 3, 4, 2, 3, 4, 2, 3, 4, 3, 4, 3, 3, 2, 2, 3, 3, 3, 4, 2, 2, 2, 3, 4, 4, 4, 3, 2, 3, 3, 2, 4, 5, 2, 3, 4, 3, 4, 3, 4, 5, 4, 3, 3, 3, 2, 4, 5, 2, 2, 2, 4, 5, 3, 4, 3, 4, 3, 2, 4, 3, 4, 3, 3, 4, 2, 3, 5, 4, 3, 4, 3, 2, 2, 4, 2, 2, 3, 3, 5, 4, 3, 3, 4, 2, 3, 4, 3, 3, 4, 4, 2, 4, 3, 2, 4, 3, 3, 3, 3, 2, 3, 3, 3, 2, 3, 2, 3, 4, 3, 2, 4, 3, 4, 4, 5, 4, 3, 8, 3, 4, 1, 1, 2, 3, 3, 3, 2, 4, 3, 3, 3, 3, 4, 2, 4, 3, 3, 3, 3, 4, 3, 2, 2, 3, 2, 2, 1, 3, 2, 1, 2, 2, 2, 3, 1, 2, 3, 2, 2, 2, 4, 4, 4, 3, 3, 2, 4, 3, 2, 2, 4, 4, 3, 3, 3, 2, 2, 4, 3, 1, 3, 2, 2, 4, 3, 2, 2, 2, 2, 3, 1, 1, 2, 2, 2, 1, 2, 4, 4, 4, 2, 4, 2, 3, 2, 4, 3, 2, 3, 5, 5, 1, 2, 3, 3, 4, 3, 2, 3, 3, 3, 2, 3, 2, 3, 3, 4, 3, 2, 3, 2, 4, 4, 3, 3, 2, 4, 2, 3, 3, 2, 5, 2, 3, 3, 4, 4, 5, 4, 3, 3, 3, 4, 2, 4, 2, 3, 3, 4, 3, 3, 3, 3, 2, 2, 4, 4, 3, 4, 3, 3, 3, 4, 2, 3, 2, 4, 4, 3, 2, 3, 3, 4, 2, 3, 3, 4, 3, 2, 6, 2, 2, 3, 4, 2, 3, 2, 3, 3, 2, 4, 5, 4, 4, 2, 1, 2, 1, 1, 2, 1, 1, 1, 2, 1, 1, 2, 2, 2, 2, 1, 2, 1, 2, 1, 2, 1, 1, 2, 2, 2, 1, 1, 1, 1, 1, 2, 1, 2, 1, 2, 1, 1, 1, 1, 1, 1, 1, 2, 1, 1, 1, 2, 2, 3, 1, 3, 1, 1, 1, 2, 1, 2, 2, 1, 2, 1, 1, 1, 2, 1, 1, 1, 2, 2, 2, 1, 1, 2, 1, 1, 1, 2, 1, 1, 2, 2, 1, 2, 1, 1, 1, 1, 2, 1, 1, 1, 2, 2, 2, 1, 1, 2, 1, 2, 1, 2, 1, 1, 1, 1, 2, 1, 1, 2, 1, 2, 2, 2, 2, 2, 2, 2, 2, 1, 1, 2, 1, 2, 1, 2, 2, 1, 1, 2, 1, 2, 1, 2, 1, 1, 2, 2, 2, 1, 1, 1, 2, 1, 1, 2, 2, 1, 1, 1, 3, 1, 1, 1, 1, 1, 1, 1, 1, 1, 1, 1, 1, 1, 1, 1, 1, 1, 1, 1, 1, 1, 1, 1, 1, 1, 1, 1, 1, 1, 1, 1, 1, 1, 1, 1, 1, 1, 1, 1, 1, 1, 1, 1, 1, 1, 1, 1, 1, 1, 1, 1, 1, 1, 1, 1, 1, 1, 1, 1, 1, 1, 1, 1, 1, 1, 1, 1, 1, 1, 1, 1, 1, 1, 1, 1, 1, 1, 1, 1, 1, 1, 1, 1, 1, 1, 1, 1, 1, 1, 1, 1, 1, 1, 1, 1, 1, 1, 1, 1, 1, 1, 1, 1, 1, 1, 1, 1, 1, 1, 1, 1, 1, 1, 1, 1, 1, 1, 1, 1, 1, 1, 1, 1, 1, 1, 1, 1, 1, 1, 1, 1, 1, 1, 1, 1, 1, 1, 1, 1, 1, 1, 1, 1, 1, 1, 1, 1, 1, 1, 1, 1, 1, 1, 1, 1, 1, 1, 1, 1, 1, 1, 1, 1, 1, 1, 1, 1, 1, 1, 1, 1, 1, 1, 1, 1, 1, 1, 1, 1, 1, 1, 1, 1, 1, 1, 1, 1, 1, 1, 1, 1, 1, 1, 1, 1, 1, 1, 1, 1, 1, 1, 1, 1, 1, 1, 1, 1, 1, 1, 1, 1, 1, 1, 1, 1, 1, 1, 1, 1, 1, 1, 1, 1, 1, 1, 1, 1, 1, 1, 1, 1, 1, 1, 1, 1, 1, 1, 1, 1, 1, 1, 1, 1, 1, 1, 1, 1, 1, 1, 1, 1, 1, 1, 1, 1, 1, 1, 1, 1, 1, 1, 1, 1, 1, 1, 1, 1, 1, 1, 1, 1, 1, 1, 1, 1, 1, 1, 1, 1, 1, 1, 1, 1, 1, 1, 1, 1, 1, 1, 1, 1, 1, 1, 1, 1, 1, 1, 1, 1, 1, 1, 1, 1, 1, 1, 1, 1, 1, 1, 1, 1, 1, 1, 1, 1, 1, 1, 1, 1, 1, 1, 1, 1, 1, 1, 1, 1, 1, 1, 1, 1, 1, 1, 1, 1, 1, 1, 1, 1, 1, 1, 1, 1, 1, 1, 1, 1, 1, 1, 1, 1, 1, 1, 1, 1, 1, 1, 1, 1, 1, 1, 1, 1, 1, 1, 1, 1, 1, 1, 1, 1, 1, 1, 1, 1, 1, 1, 1, 1, 1, 1, 1, 1, 1, 1]}],\n",
              "                        {\"template\": {\"data\": {\"bar\": [{\"error_x\": {\"color\": \"#2a3f5f\"}, \"error_y\": {\"color\": \"#2a3f5f\"}, \"marker\": {\"line\": {\"color\": \"#E5ECF6\", \"width\": 0.5}}, \"type\": \"bar\"}], \"barpolar\": [{\"marker\": {\"line\": {\"color\": \"#E5ECF6\", \"width\": 0.5}}, \"type\": \"barpolar\"}], \"carpet\": [{\"aaxis\": {\"endlinecolor\": \"#2a3f5f\", \"gridcolor\": \"white\", \"linecolor\": \"white\", \"minorgridcolor\": \"white\", \"startlinecolor\": \"#2a3f5f\"}, \"baxis\": {\"endlinecolor\": \"#2a3f5f\", \"gridcolor\": \"white\", \"linecolor\": \"white\", \"minorgridcolor\": \"white\", \"startlinecolor\": \"#2a3f5f\"}, \"type\": \"carpet\"}], \"choropleth\": [{\"colorbar\": {\"outlinewidth\": 0, \"ticks\": \"\"}, \"type\": \"choropleth\"}], \"contour\": [{\"colorbar\": {\"outlinewidth\": 0, \"ticks\": \"\"}, \"colorscale\": [[0.0, \"#0d0887\"], [0.1111111111111111, \"#46039f\"], [0.2222222222222222, \"#7201a8\"], [0.3333333333333333, \"#9c179e\"], [0.4444444444444444, \"#bd3786\"], [0.5555555555555556, \"#d8576b\"], [0.6666666666666666, \"#ed7953\"], [0.7777777777777778, \"#fb9f3a\"], [0.8888888888888888, \"#fdca26\"], [1.0, \"#f0f921\"]], \"type\": \"contour\"}], \"contourcarpet\": [{\"colorbar\": {\"outlinewidth\": 0, \"ticks\": \"\"}, \"type\": \"contourcarpet\"}], \"heatmap\": [{\"colorbar\": {\"outlinewidth\": 0, \"ticks\": \"\"}, \"colorscale\": [[0.0, \"#0d0887\"], [0.1111111111111111, \"#46039f\"], [0.2222222222222222, \"#7201a8\"], [0.3333333333333333, \"#9c179e\"], [0.4444444444444444, \"#bd3786\"], [0.5555555555555556, \"#d8576b\"], [0.6666666666666666, \"#ed7953\"], [0.7777777777777778, \"#fb9f3a\"], [0.8888888888888888, \"#fdca26\"], [1.0, \"#f0f921\"]], \"type\": \"heatmap\"}], \"heatmapgl\": [{\"colorbar\": {\"outlinewidth\": 0, \"ticks\": \"\"}, \"colorscale\": [[0.0, \"#0d0887\"], [0.1111111111111111, \"#46039f\"], [0.2222222222222222, \"#7201a8\"], [0.3333333333333333, \"#9c179e\"], [0.4444444444444444, \"#bd3786\"], [0.5555555555555556, \"#d8576b\"], [0.6666666666666666, \"#ed7953\"], [0.7777777777777778, \"#fb9f3a\"], [0.8888888888888888, \"#fdca26\"], [1.0, \"#f0f921\"]], \"type\": \"heatmapgl\"}], \"histogram\": [{\"marker\": {\"colorbar\": {\"outlinewidth\": 0, \"ticks\": \"\"}}, \"type\": \"histogram\"}], \"histogram2d\": [{\"colorbar\": {\"outlinewidth\": 0, \"ticks\": \"\"}, \"colorscale\": [[0.0, \"#0d0887\"], [0.1111111111111111, \"#46039f\"], [0.2222222222222222, \"#7201a8\"], [0.3333333333333333, \"#9c179e\"], [0.4444444444444444, \"#bd3786\"], [0.5555555555555556, \"#d8576b\"], [0.6666666666666666, \"#ed7953\"], [0.7777777777777778, \"#fb9f3a\"], [0.8888888888888888, \"#fdca26\"], [1.0, \"#f0f921\"]], \"type\": \"histogram2d\"}], \"histogram2dcontour\": [{\"colorbar\": {\"outlinewidth\": 0, \"ticks\": \"\"}, \"colorscale\": [[0.0, \"#0d0887\"], [0.1111111111111111, \"#46039f\"], [0.2222222222222222, \"#7201a8\"], [0.3333333333333333, \"#9c179e\"], [0.4444444444444444, \"#bd3786\"], [0.5555555555555556, \"#d8576b\"], [0.6666666666666666, \"#ed7953\"], [0.7777777777777778, \"#fb9f3a\"], [0.8888888888888888, \"#fdca26\"], [1.0, \"#f0f921\"]], \"type\": \"histogram2dcontour\"}], \"mesh3d\": [{\"colorbar\": {\"outlinewidth\": 0, \"ticks\": \"\"}, \"type\": \"mesh3d\"}], \"parcoords\": [{\"line\": {\"colorbar\": {\"outlinewidth\": 0, \"ticks\": \"\"}}, \"type\": \"parcoords\"}], \"pie\": [{\"automargin\": true, \"type\": \"pie\"}], \"scatter\": [{\"marker\": {\"colorbar\": {\"outlinewidth\": 0, \"ticks\": \"\"}}, \"type\": \"scatter\"}], \"scatter3d\": [{\"line\": {\"colorbar\": {\"outlinewidth\": 0, \"ticks\": \"\"}}, \"marker\": {\"colorbar\": {\"outlinewidth\": 0, \"ticks\": \"\"}}, \"type\": \"scatter3d\"}], \"scattercarpet\": [{\"marker\": {\"colorbar\": {\"outlinewidth\": 0, \"ticks\": \"\"}}, \"type\": \"scattercarpet\"}], \"scattergeo\": [{\"marker\": {\"colorbar\": {\"outlinewidth\": 0, \"ticks\": \"\"}}, \"type\": \"scattergeo\"}], \"scattergl\": [{\"marker\": {\"colorbar\": {\"outlinewidth\": 0, \"ticks\": \"\"}}, \"type\": \"scattergl\"}], \"scattermapbox\": [{\"marker\": {\"colorbar\": {\"outlinewidth\": 0, \"ticks\": \"\"}}, \"type\": \"scattermapbox\"}], \"scatterpolar\": [{\"marker\": {\"colorbar\": {\"outlinewidth\": 0, \"ticks\": \"\"}}, \"type\": \"scatterpolar\"}], \"scatterpolargl\": [{\"marker\": {\"colorbar\": {\"outlinewidth\": 0, \"ticks\": \"\"}}, \"type\": \"scatterpolargl\"}], \"scatterternary\": [{\"marker\": {\"colorbar\": {\"outlinewidth\": 0, \"ticks\": \"\"}}, \"type\": \"scatterternary\"}], \"surface\": [{\"colorbar\": {\"outlinewidth\": 0, \"ticks\": \"\"}, \"colorscale\": [[0.0, \"#0d0887\"], [0.1111111111111111, \"#46039f\"], [0.2222222222222222, \"#7201a8\"], [0.3333333333333333, \"#9c179e\"], [0.4444444444444444, \"#bd3786\"], [0.5555555555555556, \"#d8576b\"], [0.6666666666666666, \"#ed7953\"], [0.7777777777777778, \"#fb9f3a\"], [0.8888888888888888, \"#fdca26\"], [1.0, \"#f0f921\"]], \"type\": \"surface\"}], \"table\": [{\"cells\": {\"fill\": {\"color\": \"#EBF0F8\"}, \"line\": {\"color\": \"white\"}}, \"header\": {\"fill\": {\"color\": \"#C8D4E3\"}, \"line\": {\"color\": \"white\"}}, \"type\": \"table\"}]}, \"layout\": {\"annotationdefaults\": {\"arrowcolor\": \"#2a3f5f\", \"arrowhead\": 0, \"arrowwidth\": 1}, \"coloraxis\": {\"colorbar\": {\"outlinewidth\": 0, \"ticks\": \"\"}}, \"colorscale\": {\"diverging\": [[0, \"#8e0152\"], [0.1, \"#c51b7d\"], [0.2, \"#de77ae\"], [0.3, \"#f1b6da\"], [0.4, \"#fde0ef\"], [0.5, \"#f7f7f7\"], [0.6, \"#e6f5d0\"], [0.7, \"#b8e186\"], [0.8, \"#7fbc41\"], [0.9, \"#4d9221\"], [1, \"#276419\"]], \"sequential\": [[0.0, \"#0d0887\"], [0.1111111111111111, \"#46039f\"], [0.2222222222222222, \"#7201a8\"], [0.3333333333333333, \"#9c179e\"], [0.4444444444444444, \"#bd3786\"], [0.5555555555555556, \"#d8576b\"], [0.6666666666666666, \"#ed7953\"], [0.7777777777777778, \"#fb9f3a\"], [0.8888888888888888, \"#fdca26\"], [1.0, \"#f0f921\"]], \"sequentialminus\": [[0.0, \"#0d0887\"], [0.1111111111111111, \"#46039f\"], [0.2222222222222222, \"#7201a8\"], [0.3333333333333333, \"#9c179e\"], [0.4444444444444444, \"#bd3786\"], [0.5555555555555556, \"#d8576b\"], [0.6666666666666666, \"#ed7953\"], [0.7777777777777778, \"#fb9f3a\"], [0.8888888888888888, \"#fdca26\"], [1.0, \"#f0f921\"]]}, \"colorway\": [\"#636efa\", \"#EF553B\", \"#00cc96\", \"#ab63fa\", \"#FFA15A\", \"#19d3f3\", \"#FF6692\", \"#B6E880\", \"#FF97FF\", \"#FECB52\"], \"font\": {\"color\": \"#2a3f5f\"}, \"geo\": {\"bgcolor\": \"white\", \"lakecolor\": \"white\", \"landcolor\": \"#E5ECF6\", \"showlakes\": true, \"showland\": true, \"subunitcolor\": \"white\"}, \"hoverlabel\": {\"align\": \"left\"}, \"hovermode\": \"closest\", \"mapbox\": {\"style\": \"light\"}, \"paper_bgcolor\": \"white\", \"plot_bgcolor\": \"#E5ECF6\", \"polar\": {\"angularaxis\": {\"gridcolor\": \"white\", \"linecolor\": \"white\", \"ticks\": \"\"}, \"bgcolor\": \"#E5ECF6\", \"radialaxis\": {\"gridcolor\": \"white\", \"linecolor\": \"white\", \"ticks\": \"\"}}, \"scene\": {\"xaxis\": {\"backgroundcolor\": \"#E5ECF6\", \"gridcolor\": \"white\", \"gridwidth\": 2, \"linecolor\": \"white\", \"showbackground\": true, \"ticks\": \"\", \"zerolinecolor\": \"white\"}, \"yaxis\": {\"backgroundcolor\": \"#E5ECF6\", \"gridcolor\": \"white\", \"gridwidth\": 2, \"linecolor\": \"white\", \"showbackground\": true, \"ticks\": \"\", \"zerolinecolor\": \"white\"}, \"zaxis\": {\"backgroundcolor\": \"#E5ECF6\", \"gridcolor\": \"white\", \"gridwidth\": 2, \"linecolor\": \"white\", \"showbackground\": true, \"ticks\": \"\", \"zerolinecolor\": \"white\"}}, \"shapedefaults\": {\"line\": {\"color\": \"#2a3f5f\"}}, \"ternary\": {\"aaxis\": {\"gridcolor\": \"white\", \"linecolor\": \"white\", \"ticks\": \"\"}, \"baxis\": {\"gridcolor\": \"white\", \"linecolor\": \"white\", \"ticks\": \"\"}, \"bgcolor\": \"#E5ECF6\", \"caxis\": {\"gridcolor\": \"white\", \"linecolor\": \"white\", \"ticks\": \"\"}}, \"title\": {\"x\": 0.05}, \"xaxis\": {\"automargin\": true, \"gridcolor\": \"white\", \"linecolor\": \"white\", \"ticks\": \"\", \"title\": {\"standoff\": 15}, \"zerolinecolor\": \"white\", \"zerolinewidth\": 2}, \"yaxis\": {\"automargin\": true, \"gridcolor\": \"white\", \"linecolor\": \"white\", \"ticks\": \"\", \"title\": {\"standoff\": 15}, \"zerolinecolor\": \"white\", \"zerolinewidth\": 2}}}, \"title\": {\"text\": \"Frequency\"}},\n",
              "                        {\"responsive\": true}\n",
              "                    ).then(function(){\n",
              "                            \n",
              "var gd = document.getElementById('29f748e8-b783-45f6-ae33-6b3c8c1fcb6a');\n",
              "var x = new MutationObserver(function (mutations, observer) {{\n",
              "        var display = window.getComputedStyle(gd).display;\n",
              "        if (!display || display === 'none') {{\n",
              "            console.log([gd, 'removed!']);\n",
              "            Plotly.purge(gd);\n",
              "            observer.disconnect();\n",
              "        }}\n",
              "}});\n",
              "\n",
              "// Listen for the removal of the full notebook cells\n",
              "var notebookContainer = gd.closest('#notebook-container');\n",
              "if (notebookContainer) {{\n",
              "    x.observe(notebookContainer, {childList: true});\n",
              "}}\n",
              "\n",
              "// Listen for the clearing of the current output cell\n",
              "var outputEl = gd.closest('.output');\n",
              "if (outputEl) {{\n",
              "    x.observe(outputEl, {childList: true});\n",
              "}}\n",
              "\n",
              "                        })\n",
              "                };\n",
              "                \n",
              "            </script>\n",
              "        </div>\n",
              "</body>\n",
              "</html>"
            ]
          },
          "metadata": {
            "tags": []
          }
        }
      ]
    },
    {
      "cell_type": "markdown",
      "metadata": {
        "id": "ljpTEcMUJGis"
      },
      "source": [
        "## Monetary"
      ]
    },
    {
      "cell_type": "code",
      "metadata": {
        "colab": {
          "base_uri": "https://localhost:8080/",
          "height": 406
        },
        "id": "PhdXnMMsJD1g",
        "outputId": "9e98d930-b909-41cc-85ec-807e8a6a0c17"
      },
      "source": [
        "sales_mon = pd.DataFrame(sales_non_minus.groupby(\"CustomerID\")[\"Total\"].sum().reset_index())\n",
        "sales_mon.columns = [\"CustomerID\",\"Monetary\"]\n",
        "sales_mon.sort_values('Monetary', ascending=False)"
      ],
      "execution_count": null,
      "outputs": [
        {
          "output_type": "execute_result",
          "data": {
            "text/html": [
              "<div>\n",
              "<style scoped>\n",
              "    .dataframe tbody tr th:only-of-type {\n",
              "        vertical-align: middle;\n",
              "    }\n",
              "\n",
              "    .dataframe tbody tr th {\n",
              "        vertical-align: top;\n",
              "    }\n",
              "\n",
              "    .dataframe thead th {\n",
              "        text-align: right;\n",
              "    }\n",
              "</style>\n",
              "<table border=\"1\" class=\"dataframe\">\n",
              "  <thead>\n",
              "    <tr style=\"text-align: right;\">\n",
              "      <th></th>\n",
              "      <th>CustomerID</th>\n",
              "      <th>Monetary</th>\n",
              "    </tr>\n",
              "  </thead>\n",
              "  <tbody>\n",
              "    <tr>\n",
              "      <th>63</th>\n",
              "      <td>63</td>\n",
              "      <td>41782900</td>\n",
              "    </tr>\n",
              "    <tr>\n",
              "      <th>527</th>\n",
              "      <td>527</td>\n",
              "      <td>4287600</td>\n",
              "    </tr>\n",
              "    <tr>\n",
              "      <th>1296</th>\n",
              "      <td>1296</td>\n",
              "      <td>3446000</td>\n",
              "    </tr>\n",
              "    <tr>\n",
              "      <th>921</th>\n",
              "      <td>921</td>\n",
              "      <td>2644700</td>\n",
              "    </tr>\n",
              "    <tr>\n",
              "      <th>983</th>\n",
              "      <td>983</td>\n",
              "      <td>2602300</td>\n",
              "    </tr>\n",
              "    <tr>\n",
              "      <th>...</th>\n",
              "      <td>...</td>\n",
              "      <td>...</td>\n",
              "    </tr>\n",
              "    <tr>\n",
              "      <th>1010</th>\n",
              "      <td>1010</td>\n",
              "      <td>3000</td>\n",
              "    </tr>\n",
              "    <tr>\n",
              "      <th>2</th>\n",
              "      <td>2</td>\n",
              "      <td>2200</td>\n",
              "    </tr>\n",
              "    <tr>\n",
              "      <th>466</th>\n",
              "      <td>466</td>\n",
              "      <td>2200</td>\n",
              "    </tr>\n",
              "    <tr>\n",
              "      <th>199</th>\n",
              "      <td>199</td>\n",
              "      <td>1100</td>\n",
              "    </tr>\n",
              "    <tr>\n",
              "      <th>873</th>\n",
              "      <td>873</td>\n",
              "      <td>1100</td>\n",
              "    </tr>\n",
              "  </tbody>\n",
              "</table>\n",
              "<p>1551 rows × 2 columns</p>\n",
              "</div>"
            ],
            "text/plain": [
              "      CustomerID  Monetary\n",
              "63            63  41782900\n",
              "527          527   4287600\n",
              "1296        1296   3446000\n",
              "921          921   2644700\n",
              "983          983   2602300\n",
              "...          ...       ...\n",
              "1010        1010      3000\n",
              "2              2      2200\n",
              "466          466      2200\n",
              "199          199      1100\n",
              "873          873      1100\n",
              "\n",
              "[1551 rows x 2 columns]"
            ]
          },
          "metadata": {
            "tags": []
          },
          "execution_count": 57
        }
      ]
    },
    {
      "cell_type": "code",
      "metadata": {
        "id": "cHeMRhNIBgyG"
      },
      "source": [
        "sales_mon.to_excel(\"/content/drive/My Drive/Dataset_Literata/5. RFM_Monetary.xlsx\", index=False)"
      ],
      "execution_count": null,
      "outputs": []
    },
    {
      "cell_type": "code",
      "metadata": {
        "colab": {
          "base_uri": "https://localhost:8080/",
          "height": 406
        },
        "id": "rZeERW3NJJ4s",
        "outputId": "b99284f3-ebf2-4b4a-a877-e0d82e73c676"
      },
      "source": [
        "rfm_df = pd.merge(sales_mon, rfm_df, on=\"CustomerID\")\n",
        "rfm_df"
      ],
      "execution_count": null,
      "outputs": [
        {
          "output_type": "execute_result",
          "data": {
            "text/html": [
              "<div>\n",
              "<style scoped>\n",
              "    .dataframe tbody tr th:only-of-type {\n",
              "        vertical-align: middle;\n",
              "    }\n",
              "\n",
              "    .dataframe tbody tr th {\n",
              "        vertical-align: top;\n",
              "    }\n",
              "\n",
              "    .dataframe thead th {\n",
              "        text-align: right;\n",
              "    }\n",
              "</style>\n",
              "<table border=\"1\" class=\"dataframe\">\n",
              "  <thead>\n",
              "    <tr style=\"text-align: right;\">\n",
              "      <th></th>\n",
              "      <th>CustomerID</th>\n",
              "      <th>Monetary</th>\n",
              "      <th>Recency</th>\n",
              "      <th>Frequency</th>\n",
              "    </tr>\n",
              "  </thead>\n",
              "  <tbody>\n",
              "    <tr>\n",
              "      <th>0</th>\n",
              "      <td>0</td>\n",
              "      <td>216000</td>\n",
              "      <td>72.10</td>\n",
              "      <td>1</td>\n",
              "    </tr>\n",
              "    <tr>\n",
              "      <th>1</th>\n",
              "      <td>1</td>\n",
              "      <td>15600</td>\n",
              "      <td>148.11</td>\n",
              "      <td>1</td>\n",
              "    </tr>\n",
              "    <tr>\n",
              "      <th>2</th>\n",
              "      <td>2</td>\n",
              "      <td>2200</td>\n",
              "      <td>4.90</td>\n",
              "      <td>1</td>\n",
              "    </tr>\n",
              "    <tr>\n",
              "      <th>3</th>\n",
              "      <td>3</td>\n",
              "      <td>362900</td>\n",
              "      <td>147.88</td>\n",
              "      <td>1</td>\n",
              "    </tr>\n",
              "    <tr>\n",
              "      <th>4</th>\n",
              "      <td>4</td>\n",
              "      <td>160000</td>\n",
              "      <td>146.09</td>\n",
              "      <td>1</td>\n",
              "    </tr>\n",
              "    <tr>\n",
              "      <th>...</th>\n",
              "      <td>...</td>\n",
              "      <td>...</td>\n",
              "      <td>...</td>\n",
              "      <td>...</td>\n",
              "    </tr>\n",
              "    <tr>\n",
              "      <th>1546</th>\n",
              "      <td>1546</td>\n",
              "      <td>853850</td>\n",
              "      <td>45.99</td>\n",
              "      <td>3</td>\n",
              "    </tr>\n",
              "    <tr>\n",
              "      <th>1547</th>\n",
              "      <td>1547</td>\n",
              "      <td>200000</td>\n",
              "      <td>96.10</td>\n",
              "      <td>2</td>\n",
              "    </tr>\n",
              "    <tr>\n",
              "      <th>1548</th>\n",
              "      <td>1548</td>\n",
              "      <td>215600</td>\n",
              "      <td>57.27</td>\n",
              "      <td>2</td>\n",
              "    </tr>\n",
              "    <tr>\n",
              "      <th>1549</th>\n",
              "      <td>1549</td>\n",
              "      <td>41900</td>\n",
              "      <td>35.10</td>\n",
              "      <td>2</td>\n",
              "    </tr>\n",
              "    <tr>\n",
              "      <th>1550</th>\n",
              "      <td>1550</td>\n",
              "      <td>166800</td>\n",
              "      <td>145.08</td>\n",
              "      <td>1</td>\n",
              "    </tr>\n",
              "  </tbody>\n",
              "</table>\n",
              "<p>1551 rows × 4 columns</p>\n",
              "</div>"
            ],
            "text/plain": [
              "      CustomerID  Monetary  Recency  Frequency\n",
              "0              0    216000    72.10          1\n",
              "1              1     15600   148.11          1\n",
              "2              2      2200     4.90          1\n",
              "3              3    362900   147.88          1\n",
              "4              4    160000   146.09          1\n",
              "...          ...       ...      ...        ...\n",
              "1546        1546    853850    45.99          3\n",
              "1547        1547    200000    96.10          2\n",
              "1548        1548    215600    57.27          2\n",
              "1549        1549     41900    35.10          2\n",
              "1550        1550    166800   145.08          1\n",
              "\n",
              "[1551 rows x 4 columns]"
            ]
          },
          "metadata": {
            "tags": []
          },
          "execution_count": 59
        }
      ]
    },
    {
      "cell_type": "code",
      "metadata": {
        "id": "ls9oc6LABr_h"
      },
      "source": [
        "rfm_df.to_excel(\"/content/drive/My Drive/Dataset_Literata/6. RFM_Complate.xlsx\", index=False)"
      ],
      "execution_count": null,
      "outputs": []
    },
    {
      "cell_type": "code",
      "metadata": {
        "colab": {
          "base_uri": "https://localhost:8080/",
          "height": 542
        },
        "id": "nDoiKS4mJLaK",
        "outputId": "c003df36-f80e-43ef-f4b3-51a014e76d0a"
      },
      "source": [
        "plot_data = [\n",
        "    go.Histogram(\n",
        "        x=rfm_df['Monetary']\n",
        "    )\n",
        "]\n",
        "\n",
        "plot_layout = go.Layout(\n",
        "        title='Monetary'\n",
        "    )\n",
        "fig = go.Figure(data=plot_data, layout=plot_layout)\n",
        "pyoff.iplot(fig)"
      ],
      "execution_count": null,
      "outputs": [
        {
          "output_type": "display_data",
          "data": {
            "text/html": [
              "<html>\n",
              "<head><meta charset=\"utf-8\" /></head>\n",
              "<body>\n",
              "    <div>\n",
              "            <script src=\"https://cdnjs.cloudflare.com/ajax/libs/mathjax/2.7.5/MathJax.js?config=TeX-AMS-MML_SVG\"></script><script type=\"text/javascript\">if (window.MathJax) {MathJax.Hub.Config({SVG: {font: \"STIX-Web\"}});}</script>\n",
              "                <script type=\"text/javascript\">window.PlotlyConfig = {MathJaxConfig: 'local'};</script>\n",
              "        <script src=\"https://cdn.plot.ly/plotly-latest.min.js\"></script>    \n",
              "            <div id=\"1562f287-6476-4bd0-86c9-274ae11d1605\" class=\"plotly-graph-div\" style=\"height:525px; width:100%;\"></div>\n",
              "            <script type=\"text/javascript\">\n",
              "                \n",
              "                    window.PLOTLYENV=window.PLOTLYENV || {};\n",
              "                    \n",
              "                if (document.getElementById(\"1562f287-6476-4bd0-86c9-274ae11d1605\")) {\n",
              "                    Plotly.newPlot(\n",
              "                        '1562f287-6476-4bd0-86c9-274ae11d1605',\n",
              "                        [{\"type\": \"histogram\", \"x\": [216000, 15600, 2200, 362900, 160000, 77100, 44300, 12000, 28900, 544800, 171500, 42300, 98500, 645100, 47700, 286200, 3300, 402100, 432200, 226000, 188800, 914700, 335250, 534600, 1419150, 80600, 813200, 205700, 231400, 158000, 46100, 289700, 80000, 18500, 902000, 758100, 631000, 49000, 198900, 282100, 123600, 81600, 88100, 554950, 509950, 471800, 1397400, 32900, 38000, 520800, 662300, 462900, 826700, 409400, 449200, 160100, 33900, 1158300, 1940900, 139850, 22900, 496000, 82700, 41782900, 33900, 61300, 11700, 460100, 259600, 503950, 31500, 523600, 51550, 248300, 298800, 225000, 343800, 34250, 55000, 170400, 441000, 512700, 96300, 188900, 345500, 359500, 299400, 379600, 123300, 1341600, 492000, 458000, 333000, 772000, 215600, 56100, 334400, 451600, 46800, 342400, 26700, 473000, 134000, 67400, 788100, 532900, 581300, 594050, 215000, 1183800, 420000, 190500, 117300, 402600, 63200, 253000, 102300, 145600, 340000, 194600, 151900, 303800, 1160000, 1017500, 580700, 36000, 860100, 570700, 150200, 192400, 20000, 715700, 311400, 407200, 231300, 53000, 440900, 27300, 865900, 7500, 123700, 194800, 529200, 233500, 34300, 1012000, 30000, 442400, 421800, 188900, 98150, 135300, 655500, 24500, 17100, 11000, 48400, 71800, 1006000, 901500, 112700, 615000, 690650, 32600, 1352850, 123300, 255600, 170800, 312950, 509400, 1864900, 256500, 227800, 183000, 7700, 328500, 22400, 112200, 216700, 84500, 353200, 143800, 160400, 502300, 66000, 274300, 33600, 184200, 683400, 70200, 233800, 204400, 313300, 122300, 334600, 130000, 53700, 628900, 484800, 1100, 210600, 48400, 12200, 61100, 235100, 144000, 186600, 873000, 57600, 231800, 7800, 780700, 176500, 723200, 1319850, 3300, 677300, 265000, 393200, 25000, 125600, 268500, 1022200, 234100, 11900, 169900, 475500, 416400, 36750, 210600, 10200, 265300, 54500, 667700, 1334400, 116100, 21200, 512600, 35300, 179400, 242400, 66600, 410500, 44100, 23800, 79800, 127800, 557500, 177300, 628800, 11200, 401700, 6600, 288750, 573800, 298200, 645700, 6600, 346850, 72800, 337300, 10200, 61800, 172800, 99300, 302600, 519900, 1204900, 7700, 38500, 655500, 5800, 188200, 34600, 14000, 197700, 179200, 886900, 815800, 213900, 83000, 199200, 27000, 24000, 38500, 20500, 478800, 124900, 5700, 1271900, 279900, 202300, 470700, 837500, 310700, 51600, 30800, 354400, 161400, 18000, 109500, 623500, 490000, 1230900, 96800, 55500, 88000, 543200, 1268400, 467300, 34800, 142800, 456000, 127500, 246300, 463500, 360800, 496000, 532000, 30750, 105100, 197900, 105750, 181300, 146900, 62400, 836900, 101200, 657400, 496500, 162000, 49900, 995400, 59800, 140000, 30000, 296250, 453000, 79350, 195400, 149300, 102200, 510100, 286200, 172100, 946000, 576300, 219800, 84600, 599200, 299600, 38100, 412000, 802500, 1016850, 371400, 173900, 20000, 94500, 45000, 620800, 253200, 691000, 244700, 71400, 198800, 514600, 217000, 94400, 745700, 28000, 475000, 144750, 663900, 114900, 106600, 90300, 19600, 234000, 391600, 145100, 307900, 651600, 63400, 1083300, 510300, 491000, 1650600, 199600, 640400, 19500, 661400, 340200, 36000, 24900, 56100, 177600, 320700, 871700, 380400, 399900, 283800, 87300, 57900, 88700, 133400, 42900, 49600, 756900, 481700, 215800, 563820, 23400, 180600, 288900, 159600, 231675, 589000, 177400, 297800, 339600, 102900, 268200, 121900, 49050, 33600, 763700, 136000, 650800, 129400, 286300, 228600, 193200, 416000, 642300, 58200, 17800, 151600, 67700, 30750, 466100, 53800, 1338100, 183250, 556900, 654400, 17100, 1569700, 30000, 104900, 208200, 14000, 110500, 1059300, 497800, 461300, 20000, 549250, 632800, 481500, 227800, 198100, 320100, 558200, 172700, 312800, 2200, 40000, 474050, 40200, 1380550, 218400, 13200, 546900, 351600, 288000, 250100, 443600, 35850, 1100000, 33000, 398000, 130200, 8300, 70100, 223200, 76800, 38550, 1395900, 75000, 79600, 567400, 114000, 943700, 245600, 517600, 710500, 168800, 495800, 949700, 151900, 79800, 470700, 161700, 424300, 51200, 46900, 290700, 8600, 60000, 756800, 718700, 47000, 358300, 120900, 187800, 1211400, 324400, 119500, 90700, 99200, 10000, 13750, 1405000, 506200, 96600, 221800, 4287600, 379300, 438900, 158800, 458500, 308400, 435500, 188100, 18000, 32800, 115800, 212250, 416000, 30000, 60000, 39600, 406000, 766800, 4400, 304200, 44350, 920700, 227500, 112500, 297500, 940700, 23400, 84400, 401500, 319600, 543100, 688300, 101600, 1145800, 336000, 14750, 225200, 50400, 216300, 280000, 751400, 90000, 52800, 136300, 120000, 232800, 1183900, 927700, 598600, 124200, 15300, 354900, 288000, 86900, 561700, 445900, 754100, 125000, 429200, 150500, 260200, 295300, 500900, 301800, 744350, 19500, 455800, 162800, 126200, 421600, 1145900, 132100, 193800, 367600, 113400, 988200, 403200, 654200, 261000, 116000, 672400, 135000, 327650, 6850, 45500, 605600, 46800, 1856800, 406000, 288100, 156600, 104000, 55000, 256500, 18000, 81000, 35000, 144100, 110000, 426100, 70000, 22000, 41700, 53200, 841300, 14400, 290100, 768400, 378300, 364300, 292800, 134200, 588200, 666600, 22800, 340800, 127600, 202100, 680700, 759600, 170500, 114500, 552200, 76900, 163900, 59800, 576700, 56000, 403900, 227100, 112400, 59600, 143800, 202300, 71200, 240600, 1565100, 188400, 78700, 63700, 42300, 72000, 1096250, 39000, 388400, 302300, 157050, 455200, 313700, 41850, 586600, 1724000, 1357300, 8800, 195400, 649200, 691000, 334400, 61400, 9400, 551700, 775400, 614300, 69700, 128400, 11700, 158200, 57400, 11400, 187000, 37800, 738700, 578900, 256200, 139900, 208550, 287600, 591100, 394800, 65700, 1075500, 46900, 261800, 10000, 81550, 229500, 495000, 259200, 252200, 21250, 480000, 324250, 921300, 33000, 182600, 295200, 296800, 148300, 5500, 252000, 1476200, 369400, 808600, 133000, 163200, 364400, 283900, 259800, 150500, 40400, 599200, 73500, 30600, 142800, 63000, 33000, 406900, 8400, 123300, 352700, 362300, 164100, 393400, 16800, 110600, 206400, 72000, 797200, 148200, 885000, 7200, 648200, 946200, 248000, 177700, 693000, 179450, 780000, 745700, 439700, 250700, 428950, 626100, 70200, 79500, 413200, 161600, 7200, 351950, 252300, 848900, 282000, 10900, 20000, 133200, 252000, 246600, 296600, 499500, 178600, 319000, 220200, 193900, 195800, 146200, 24400, 15000, 661500, 395200, 57700, 284800, 622800, 1279550, 118700, 181800, 379700, 104200, 1012000, 324900, 152200, 437800, 831800, 704900, 148400, 236400, 249200, 89800, 215000, 83400, 579600, 67850, 9000, 338800, 455400, 42200, 199000, 103900, 559700, 427200, 415300, 96300, 626100, 19500, 1315700, 592700, 518400, 480900, 305300, 816800, 64800, 272000, 470150, 51000, 397650, 282600, 315000, 27000, 88000, 1118200, 82300, 160400, 654750, 116000, 323000, 410900, 122200, 233300, 7200, 503700, 173000, 7200, 851800, 11200, 450300, 34600, 127100, 222200, 348100, 317300, 601800, 39600, 8900, 420500, 294500, 819400, 107100, 1100, 408400, 711000, 203800, 107100, 61100, 575100, 1175700, 801400, 11200, 108000, 298200, 7200, 278000, 719300, 201300, 472200, 776300, 153400, 11900, 13500, 1039500, 244100, 378400, 214700, 48800, 107100, 212500, 153200, 136000, 890000, 147000, 612200, 1019450, 189350, 23200, 26400, 505000, 126800, 160300, 114400, 45600, 424600, 217700, 394900, 176900, 42400, 108200, 2644700, 585700, 21600, 923800, 347400, 210200, 651700, 266800, 57600, 142300, 143300, 23400, 144100, 17600, 27200, 196400, 760500, 1230950, 1046900, 165700, 1100400, 227300, 110200, 100000, 181700, 29400, 11200, 13200, 1297500, 48300, 5000, 155400, 231200, 36500, 136800, 24100, 5250, 924050, 239900, 348600, 668900, 102450, 750000, 544700, 284100, 809000, 223000, 23150, 456900, 372500, 127000, 1469100, 93100, 389200, 31700, 1086400, 831900, 461900, 110700, 1221900, 144000, 488000, 2602300, 1248800, 27800, 137700, 205700, 289000, 293600, 1026200, 152200, 677800, 145100, 233500, 508000, 240600, 103200, 444350, 354650, 197100, 724400, 855500, 1309700, 473200, 321850, 498300, 771600, 1017700, 230800, 3000, 378700, 28100, 741050, 226400, 69800, 676100, 749600, 132900, 10500, 35700, 87000, 139300, 217500, 754400, 711300, 59900, 67200, 425100, 104100, 247100, 234900, 22200, 455300, 627300, 86200, 226300, 14400, 480900, 33000, 73200, 15000, 16800, 12000, 759700, 705300, 2084350, 232400, 174600, 544200, 98800, 455000, 1197100, 802200, 589000, 642900, 296300, 57300, 1500900, 364100, 154000, 618200, 219600, 61500, 427000, 16500, 2030700, 79800, 529900, 317600, 529200, 247200, 109200, 309700, 42000, 286700, 311500, 308900, 476400, 396600, 188100, 77800, 264800, 1976300, 958300, 246700, 66000, 40300, 257700, 413200, 38700, 213300, 13200, 606500, 747500, 22200, 814600, 336350, 81200, 624000, 242700, 23400, 270300, 352800, 218850, 359500, 10000, 1578800, 79550, 538800, 80200, 375400, 70800, 139200, 252000, 153750, 236400, 889600, 284600, 64500, 74800, 19600, 293800, 153200, 207200, 238300, 46800, 24500, 74800, 40500, 210300, 61500, 318550, 628200, 41600, 474000, 163500, 404650, 55000, 331850, 554000, 551600, 364200, 189000, 20000, 206500, 216000, 7200, 95500, 63650, 4400, 508800, 146400, 196600, 727200, 6800, 35600, 45000, 1240800, 1045400, 4400, 329100, 186600, 696900, 578500, 941800, 47400, 39000, 31800, 8000, 51000, 524750, 11000, 105000, 9900, 1491100, 191500, 572900, 449900, 58500, 385200, 714100, 705300, 3900, 44400, 120300, 1260500, 139200, 589400, 117800, 784500, 509600, 386500, 49500, 432000, 21000, 35400, 275400, 729700, 328150, 298600, 724000, 201700, 485000, 35000, 163000, 1695800, 239600, 261600, 8800, 445600, 118150, 31600, 92400, 316900, 413900, 173200, 160000, 205300, 403700, 647600, 5000, 739800, 117900, 1008000, 563300, 83200, 793900, 693100, 68400, 77800, 209700, 2204400, 135900, 143500, 578600, 346700, 730300, 603400, 192600, 877600, 6100, 609600, 486900, 359400, 50500, 83000, 84100, 22600, 132000, 149500, 128300, 568800, 11400, 376900, 209500, 23800, 110000, 8600, 172800, 314700, 58900, 39000, 241600, 36200, 44300, 145400, 96200, 33250, 192250, 39200, 414000, 49800, 2089900, 254400, 289000, 566800, 295700, 188450, 164000, 465300, 98200, 36400, 308800, 366800, 73200, 28800, 326700, 793800, 202700, 109400, 6600, 27800, 37100, 1064500, 259700, 3446000, 30000, 1048400, 198000, 267400, 249050, 114100, 127500, 90000, 18900, 43400, 21700, 470600, 118400, 90400, 167700, 62200, 40900, 7800, 161400, 222000, 522600, 169000, 159000, 14400, 596800, 70000, 139300, 157500, 506600, 162250, 205000, 409000, 179400, 1184500, 466500, 190400, 794800, 415600, 135500, 234700, 275700, 144800, 326800, 209300, 5000, 40200, 33600, 156600, 291500, 832100, 31400, 125900, 26150, 258750, 226550, 236000, 130200, 6600, 15000, 6000, 13750, 581750, 24000, 27700, 10000, 71350, 446200, 400000, 33900, 151300, 302800, 278200, 175050, 77100, 136500, 257600, 730600, 746300, 217800, 363900, 187000, 286800, 1004400, 879500, 309100, 75000, 357600, 41100, 224400, 22000, 79200, 12000, 102500, 247900, 577100, 88550, 472400, 714400, 461200, 77000, 743800, 196800, 282500, 289400, 198500, 1616800, 694700, 86700, 312500, 20700, 487200, 209000, 440000, 5600, 545100, 33700, 601300, 154200, 440200, 812250, 259700, 276700, 90400, 347800, 690700, 865000, 649200, 418600, 403250, 82200, 646650, 50800, 776350, 168400, 287800, 247700, 266400, 7800, 267900, 293900, 457500, 662400, 275350, 85700, 4400, 71000, 1339200, 349900, 15600, 119700, 57800, 635600, 451700, 64400, 10000, 84600, 957400, 590000, 140400, 273900, 22750, 51000, 20400, 86400, 15600, 884400, 621200, 234100, 15000, 12200, 270000, 1406800, 403900, 331800, 147100, 1381800, 2274800, 505000, 123300, 80900, 1028000, 67400, 228900, 363200, 264000, 212200, 23800, 109600, 144000, 864600, 1133850, 10800, 20000, 61100, 199300, 135000, 287500, 56500, 20400, 859200, 148250, 95400, 107400, 153300, 1007900, 76000, 7800, 246650, 176900, 19850, 811000, 174600, 101900, 249100, 39000, 509100, 170900, 15000, 180500, 5500, 245100, 103500, 63800, 600400, 595500, 204000, 994900, 292800, 40000, 355200, 297200, 155900, 114600, 368900, 75700, 46700, 115000, 130400, 202200, 477100, 307700, 52500, 524700, 173400, 80800, 175200, 24750, 87200, 150100, 853850, 200000, 215600, 41900, 166800]}],\n",
              "                        {\"template\": {\"data\": {\"bar\": [{\"error_x\": {\"color\": \"#2a3f5f\"}, \"error_y\": {\"color\": \"#2a3f5f\"}, \"marker\": {\"line\": {\"color\": \"#E5ECF6\", \"width\": 0.5}}, \"type\": \"bar\"}], \"barpolar\": [{\"marker\": {\"line\": {\"color\": \"#E5ECF6\", \"width\": 0.5}}, \"type\": \"barpolar\"}], \"carpet\": [{\"aaxis\": {\"endlinecolor\": \"#2a3f5f\", \"gridcolor\": \"white\", \"linecolor\": \"white\", \"minorgridcolor\": \"white\", \"startlinecolor\": \"#2a3f5f\"}, \"baxis\": {\"endlinecolor\": \"#2a3f5f\", \"gridcolor\": \"white\", \"linecolor\": \"white\", \"minorgridcolor\": \"white\", \"startlinecolor\": \"#2a3f5f\"}, \"type\": \"carpet\"}], \"choropleth\": [{\"colorbar\": {\"outlinewidth\": 0, \"ticks\": \"\"}, \"type\": \"choropleth\"}], \"contour\": [{\"colorbar\": {\"outlinewidth\": 0, \"ticks\": \"\"}, \"colorscale\": [[0.0, \"#0d0887\"], [0.1111111111111111, \"#46039f\"], [0.2222222222222222, \"#7201a8\"], [0.3333333333333333, \"#9c179e\"], [0.4444444444444444, \"#bd3786\"], [0.5555555555555556, \"#d8576b\"], [0.6666666666666666, \"#ed7953\"], [0.7777777777777778, \"#fb9f3a\"], [0.8888888888888888, \"#fdca26\"], [1.0, \"#f0f921\"]], \"type\": \"contour\"}], \"contourcarpet\": [{\"colorbar\": {\"outlinewidth\": 0, \"ticks\": \"\"}, \"type\": \"contourcarpet\"}], \"heatmap\": [{\"colorbar\": {\"outlinewidth\": 0, \"ticks\": \"\"}, \"colorscale\": [[0.0, \"#0d0887\"], [0.1111111111111111, \"#46039f\"], [0.2222222222222222, \"#7201a8\"], [0.3333333333333333, \"#9c179e\"], [0.4444444444444444, \"#bd3786\"], [0.5555555555555556, \"#d8576b\"], [0.6666666666666666, \"#ed7953\"], [0.7777777777777778, \"#fb9f3a\"], [0.8888888888888888, \"#fdca26\"], [1.0, \"#f0f921\"]], \"type\": \"heatmap\"}], \"heatmapgl\": [{\"colorbar\": {\"outlinewidth\": 0, \"ticks\": \"\"}, \"colorscale\": [[0.0, \"#0d0887\"], [0.1111111111111111, \"#46039f\"], [0.2222222222222222, \"#7201a8\"], [0.3333333333333333, \"#9c179e\"], [0.4444444444444444, \"#bd3786\"], [0.5555555555555556, \"#d8576b\"], [0.6666666666666666, \"#ed7953\"], [0.7777777777777778, \"#fb9f3a\"], [0.8888888888888888, \"#fdca26\"], [1.0, \"#f0f921\"]], \"type\": \"heatmapgl\"}], \"histogram\": [{\"marker\": {\"colorbar\": {\"outlinewidth\": 0, \"ticks\": \"\"}}, \"type\": \"histogram\"}], \"histogram2d\": [{\"colorbar\": {\"outlinewidth\": 0, \"ticks\": \"\"}, \"colorscale\": [[0.0, \"#0d0887\"], [0.1111111111111111, \"#46039f\"], [0.2222222222222222, \"#7201a8\"], [0.3333333333333333, \"#9c179e\"], [0.4444444444444444, \"#bd3786\"], [0.5555555555555556, \"#d8576b\"], [0.6666666666666666, \"#ed7953\"], [0.7777777777777778, \"#fb9f3a\"], [0.8888888888888888, \"#fdca26\"], [1.0, \"#f0f921\"]], \"type\": \"histogram2d\"}], \"histogram2dcontour\": [{\"colorbar\": {\"outlinewidth\": 0, \"ticks\": \"\"}, \"colorscale\": [[0.0, \"#0d0887\"], [0.1111111111111111, \"#46039f\"], [0.2222222222222222, \"#7201a8\"], [0.3333333333333333, \"#9c179e\"], [0.4444444444444444, \"#bd3786\"], [0.5555555555555556, \"#d8576b\"], [0.6666666666666666, \"#ed7953\"], [0.7777777777777778, \"#fb9f3a\"], [0.8888888888888888, \"#fdca26\"], [1.0, \"#f0f921\"]], \"type\": \"histogram2dcontour\"}], \"mesh3d\": [{\"colorbar\": {\"outlinewidth\": 0, \"ticks\": \"\"}, \"type\": \"mesh3d\"}], \"parcoords\": [{\"line\": {\"colorbar\": {\"outlinewidth\": 0, \"ticks\": \"\"}}, \"type\": \"parcoords\"}], \"pie\": [{\"automargin\": true, \"type\": \"pie\"}], \"scatter\": [{\"marker\": {\"colorbar\": {\"outlinewidth\": 0, \"ticks\": \"\"}}, \"type\": \"scatter\"}], \"scatter3d\": [{\"line\": {\"colorbar\": {\"outlinewidth\": 0, \"ticks\": \"\"}}, \"marker\": {\"colorbar\": {\"outlinewidth\": 0, \"ticks\": \"\"}}, \"type\": \"scatter3d\"}], \"scattercarpet\": [{\"marker\": {\"colorbar\": {\"outlinewidth\": 0, \"ticks\": \"\"}}, \"type\": \"scattercarpet\"}], \"scattergeo\": [{\"marker\": {\"colorbar\": {\"outlinewidth\": 0, \"ticks\": \"\"}}, \"type\": \"scattergeo\"}], \"scattergl\": [{\"marker\": {\"colorbar\": {\"outlinewidth\": 0, \"ticks\": \"\"}}, \"type\": \"scattergl\"}], \"scattermapbox\": [{\"marker\": {\"colorbar\": {\"outlinewidth\": 0, \"ticks\": \"\"}}, \"type\": \"scattermapbox\"}], \"scatterpolar\": [{\"marker\": {\"colorbar\": {\"outlinewidth\": 0, \"ticks\": \"\"}}, \"type\": \"scatterpolar\"}], \"scatterpolargl\": [{\"marker\": {\"colorbar\": {\"outlinewidth\": 0, \"ticks\": \"\"}}, \"type\": \"scatterpolargl\"}], \"scatterternary\": [{\"marker\": {\"colorbar\": {\"outlinewidth\": 0, \"ticks\": \"\"}}, \"type\": \"scatterternary\"}], \"surface\": [{\"colorbar\": {\"outlinewidth\": 0, \"ticks\": \"\"}, \"colorscale\": [[0.0, \"#0d0887\"], [0.1111111111111111, \"#46039f\"], [0.2222222222222222, \"#7201a8\"], [0.3333333333333333, \"#9c179e\"], [0.4444444444444444, \"#bd3786\"], [0.5555555555555556, \"#d8576b\"], [0.6666666666666666, \"#ed7953\"], [0.7777777777777778, \"#fb9f3a\"], [0.8888888888888888, \"#fdca26\"], [1.0, \"#f0f921\"]], \"type\": \"surface\"}], \"table\": [{\"cells\": {\"fill\": {\"color\": \"#EBF0F8\"}, \"line\": {\"color\": \"white\"}}, \"header\": {\"fill\": {\"color\": \"#C8D4E3\"}, \"line\": {\"color\": \"white\"}}, \"type\": \"table\"}]}, \"layout\": {\"annotationdefaults\": {\"arrowcolor\": \"#2a3f5f\", \"arrowhead\": 0, \"arrowwidth\": 1}, \"coloraxis\": {\"colorbar\": {\"outlinewidth\": 0, \"ticks\": \"\"}}, \"colorscale\": {\"diverging\": [[0, \"#8e0152\"], [0.1, \"#c51b7d\"], [0.2, \"#de77ae\"], [0.3, \"#f1b6da\"], [0.4, \"#fde0ef\"], [0.5, \"#f7f7f7\"], [0.6, \"#e6f5d0\"], [0.7, \"#b8e186\"], [0.8, \"#7fbc41\"], [0.9, \"#4d9221\"], [1, \"#276419\"]], \"sequential\": [[0.0, \"#0d0887\"], [0.1111111111111111, \"#46039f\"], [0.2222222222222222, \"#7201a8\"], [0.3333333333333333, \"#9c179e\"], [0.4444444444444444, \"#bd3786\"], [0.5555555555555556, \"#d8576b\"], [0.6666666666666666, \"#ed7953\"], [0.7777777777777778, \"#fb9f3a\"], [0.8888888888888888, \"#fdca26\"], [1.0, \"#f0f921\"]], \"sequentialminus\": [[0.0, \"#0d0887\"], [0.1111111111111111, \"#46039f\"], [0.2222222222222222, \"#7201a8\"], [0.3333333333333333, \"#9c179e\"], [0.4444444444444444, \"#bd3786\"], [0.5555555555555556, \"#d8576b\"], [0.6666666666666666, \"#ed7953\"], [0.7777777777777778, \"#fb9f3a\"], [0.8888888888888888, \"#fdca26\"], [1.0, \"#f0f921\"]]}, \"colorway\": [\"#636efa\", \"#EF553B\", \"#00cc96\", \"#ab63fa\", \"#FFA15A\", \"#19d3f3\", \"#FF6692\", \"#B6E880\", \"#FF97FF\", \"#FECB52\"], \"font\": {\"color\": \"#2a3f5f\"}, \"geo\": {\"bgcolor\": \"white\", \"lakecolor\": \"white\", \"landcolor\": \"#E5ECF6\", \"showlakes\": true, \"showland\": true, \"subunitcolor\": \"white\"}, \"hoverlabel\": {\"align\": \"left\"}, \"hovermode\": \"closest\", \"mapbox\": {\"style\": \"light\"}, \"paper_bgcolor\": \"white\", \"plot_bgcolor\": \"#E5ECF6\", \"polar\": {\"angularaxis\": {\"gridcolor\": \"white\", \"linecolor\": \"white\", \"ticks\": \"\"}, \"bgcolor\": \"#E5ECF6\", \"radialaxis\": {\"gridcolor\": \"white\", \"linecolor\": \"white\", \"ticks\": \"\"}}, \"scene\": {\"xaxis\": {\"backgroundcolor\": \"#E5ECF6\", \"gridcolor\": \"white\", \"gridwidth\": 2, \"linecolor\": \"white\", \"showbackground\": true, \"ticks\": \"\", \"zerolinecolor\": \"white\"}, \"yaxis\": {\"backgroundcolor\": \"#E5ECF6\", \"gridcolor\": \"white\", \"gridwidth\": 2, \"linecolor\": \"white\", \"showbackground\": true, \"ticks\": \"\", \"zerolinecolor\": \"white\"}, \"zaxis\": {\"backgroundcolor\": \"#E5ECF6\", \"gridcolor\": \"white\", \"gridwidth\": 2, \"linecolor\": \"white\", \"showbackground\": true, \"ticks\": \"\", \"zerolinecolor\": \"white\"}}, \"shapedefaults\": {\"line\": {\"color\": \"#2a3f5f\"}}, \"ternary\": {\"aaxis\": {\"gridcolor\": \"white\", \"linecolor\": \"white\", \"ticks\": \"\"}, \"baxis\": {\"gridcolor\": \"white\", \"linecolor\": \"white\", \"ticks\": \"\"}, \"bgcolor\": \"#E5ECF6\", \"caxis\": {\"gridcolor\": \"white\", \"linecolor\": \"white\", \"ticks\": \"\"}}, \"title\": {\"x\": 0.05}, \"xaxis\": {\"automargin\": true, \"gridcolor\": \"white\", \"linecolor\": \"white\", \"ticks\": \"\", \"title\": {\"standoff\": 15}, \"zerolinecolor\": \"white\", \"zerolinewidth\": 2}, \"yaxis\": {\"automargin\": true, \"gridcolor\": \"white\", \"linecolor\": \"white\", \"ticks\": \"\", \"title\": {\"standoff\": 15}, \"zerolinecolor\": \"white\", \"zerolinewidth\": 2}}}, \"title\": {\"text\": \"Monetary\"}},\n",
              "                        {\"responsive\": true}\n",
              "                    ).then(function(){\n",
              "                            \n",
              "var gd = document.getElementById('1562f287-6476-4bd0-86c9-274ae11d1605');\n",
              "var x = new MutationObserver(function (mutations, observer) {{\n",
              "        var display = window.getComputedStyle(gd).display;\n",
              "        if (!display || display === 'none') {{\n",
              "            console.log([gd, 'removed!']);\n",
              "            Plotly.purge(gd);\n",
              "            observer.disconnect();\n",
              "        }}\n",
              "}});\n",
              "\n",
              "// Listen for the removal of the full notebook cells\n",
              "var notebookContainer = gd.closest('#notebook-container');\n",
              "if (notebookContainer) {{\n",
              "    x.observe(notebookContainer, {childList: true});\n",
              "}}\n",
              "\n",
              "// Listen for the clearing of the current output cell\n",
              "var outputEl = gd.closest('.output');\n",
              "if (outputEl) {{\n",
              "    x.observe(outputEl, {childList: true});\n",
              "}}\n",
              "\n",
              "                        })\n",
              "                };\n",
              "                \n",
              "            </script>\n",
              "        </div>\n",
              "</body>\n",
              "</html>"
            ]
          },
          "metadata": {
            "tags": []
          }
        }
      ]
    },
    {
      "cell_type": "markdown",
      "metadata": {
        "id": "u98zOzHBJP6R"
      },
      "source": [
        "## Age(Days)"
      ]
    },
    {
      "cell_type": "code",
      "metadata": {
        "id": "sE15m7GxJM4x"
      },
      "source": [
        "last_purchase = sales_non_minus[\"Tanggal_Invoice\"].max()\n",
        "customer_since = sales_non_minus.groupby(\"CustomerID\").Tanggal_Invoice.min().reset_index()\n",
        "customer_since.columns = [\"CustomerID\", \"FirstPurchase\"]\n",
        "customer_since[\"Age(Days)\"] = (last_purchase - customer_since[\"FirstPurchase\"])\n",
        "customer_since[\"Age(Days)\"] = [round(x.total_seconds()/86400,2) for x in customer_since[\"Age(Days)\"]]"
      ],
      "execution_count": null,
      "outputs": []
    },
    {
      "cell_type": "code",
      "metadata": {
        "colab": {
          "base_uri": "https://localhost:8080/",
          "height": 406
        },
        "id": "Gn7T46IHJWsz",
        "outputId": "bab8c2bc-4281-4608-e5c5-c998e1dea39c"
      },
      "source": [
        "#merge dataframe\n",
        "rfm_df = pd.merge(rfm_df, customer_since, on=\"CustomerID\")\n",
        "rfm_df.sort_values('Age(Days)', ascending=False)"
      ],
      "execution_count": null,
      "outputs": [
        {
          "output_type": "execute_result",
          "data": {
            "text/html": [
              "<div>\n",
              "<style scoped>\n",
              "    .dataframe tbody tr th:only-of-type {\n",
              "        vertical-align: middle;\n",
              "    }\n",
              "\n",
              "    .dataframe tbody tr th {\n",
              "        vertical-align: top;\n",
              "    }\n",
              "\n",
              "    .dataframe thead th {\n",
              "        text-align: right;\n",
              "    }\n",
              "</style>\n",
              "<table border=\"1\" class=\"dataframe\">\n",
              "  <thead>\n",
              "    <tr style=\"text-align: right;\">\n",
              "      <th></th>\n",
              "      <th>CustomerID</th>\n",
              "      <th>Monetary</th>\n",
              "      <th>Recency</th>\n",
              "      <th>Frequency</th>\n",
              "      <th>FirstPurchase</th>\n",
              "      <th>Age(Days)</th>\n",
              "    </tr>\n",
              "  </thead>\n",
              "  <tbody>\n",
              "    <tr>\n",
              "      <th>1416</th>\n",
              "      <td>1416</td>\n",
              "      <td>812250</td>\n",
              "      <td>152.35</td>\n",
              "      <td>1</td>\n",
              "      <td>2020-07-01 09:10:20.000</td>\n",
              "      <td>152.35</td>\n",
              "    </tr>\n",
              "    <tr>\n",
              "      <th>709</th>\n",
              "      <td>709</td>\n",
              "      <td>261800</td>\n",
              "      <td>152.30</td>\n",
              "      <td>1</td>\n",
              "      <td>2020-07-01 10:16:20.000</td>\n",
              "      <td>152.30</td>\n",
              "    </tr>\n",
              "    <tr>\n",
              "      <th>48</th>\n",
              "      <td>48</td>\n",
              "      <td>38000</td>\n",
              "      <td>152.27</td>\n",
              "      <td>1</td>\n",
              "      <td>2020-07-01 11:00:20.000</td>\n",
              "      <td>152.27</td>\n",
              "    </tr>\n",
              "    <tr>\n",
              "      <th>202</th>\n",
              "      <td>202</td>\n",
              "      <td>12200</td>\n",
              "      <td>152.26</td>\n",
              "      <td>1</td>\n",
              "      <td>2020-07-01 11:20:34.000</td>\n",
              "      <td>152.26</td>\n",
              "    </tr>\n",
              "    <tr>\n",
              "      <th>1428</th>\n",
              "      <td>1428</td>\n",
              "      <td>50800</td>\n",
              "      <td>151.15</td>\n",
              "      <td>2</td>\n",
              "      <td>2020-07-01 11:31:11.000</td>\n",
              "      <td>152.25</td>\n",
              "    </tr>\n",
              "    <tr>\n",
              "      <th>...</th>\n",
              "      <td>...</td>\n",
              "      <td>...</td>\n",
              "      <td>...</td>\n",
              "      <td>...</td>\n",
              "      <td>...</td>\n",
              "      <td>...</td>\n",
              "    </tr>\n",
              "    <tr>\n",
              "      <th>299</th>\n",
              "      <td>299</td>\n",
              "      <td>18000</td>\n",
              "      <td>0.10</td>\n",
              "      <td>1</td>\n",
              "      <td>2020-11-30 14:58:37.995</td>\n",
              "      <td>0.10</td>\n",
              "    </tr>\n",
              "    <tr>\n",
              "      <th>716</th>\n",
              "      <td>716</td>\n",
              "      <td>21250</td>\n",
              "      <td>0.07</td>\n",
              "      <td>1</td>\n",
              "      <td>2020-11-30 15:44:41.995</td>\n",
              "      <td>0.07</td>\n",
              "    </tr>\n",
              "    <tr>\n",
              "      <th>935</th>\n",
              "      <td>935</td>\n",
              "      <td>27200</td>\n",
              "      <td>0.05</td>\n",
              "      <td>1</td>\n",
              "      <td>2020-11-30 16:19:14.995</td>\n",
              "      <td>0.05</td>\n",
              "    </tr>\n",
              "    <tr>\n",
              "      <th>745</th>\n",
              "      <td>745</td>\n",
              "      <td>123300</td>\n",
              "      <td>0.03</td>\n",
              "      <td>1</td>\n",
              "      <td>2020-11-30 16:42:16.995</td>\n",
              "      <td>0.03</td>\n",
              "    </tr>\n",
              "    <tr>\n",
              "      <th>648</th>\n",
              "      <td>648</td>\n",
              "      <td>114500</td>\n",
              "      <td>0.00</td>\n",
              "      <td>1</td>\n",
              "      <td>2020-11-30 17:28:20.995</td>\n",
              "      <td>0.00</td>\n",
              "    </tr>\n",
              "  </tbody>\n",
              "</table>\n",
              "<p>1551 rows × 6 columns</p>\n",
              "</div>"
            ],
            "text/plain": [
              "      CustomerID  Monetary  ...           FirstPurchase  Age(Days)\n",
              "1416        1416    812250  ... 2020-07-01 09:10:20.000     152.35\n",
              "709          709    261800  ... 2020-07-01 10:16:20.000     152.30\n",
              "48            48     38000  ... 2020-07-01 11:00:20.000     152.27\n",
              "202          202     12200  ... 2020-07-01 11:20:34.000     152.26\n",
              "1428        1428     50800  ... 2020-07-01 11:31:11.000     152.25\n",
              "...          ...       ...  ...                     ...        ...\n",
              "299          299     18000  ... 2020-11-30 14:58:37.995       0.10\n",
              "716          716     21250  ... 2020-11-30 15:44:41.995       0.07\n",
              "935          935     27200  ... 2020-11-30 16:19:14.995       0.05\n",
              "745          745    123300  ... 2020-11-30 16:42:16.995       0.03\n",
              "648          648    114500  ... 2020-11-30 17:28:20.995       0.00\n",
              "\n",
              "[1551 rows x 6 columns]"
            ]
          },
          "metadata": {
            "tags": []
          },
          "execution_count": 64
        }
      ]
    },
    {
      "cell_type": "code",
      "metadata": {
        "id": "R-KXMYCqCCBq"
      },
      "source": [
        "rfm_df.to_excel(\"/content/drive/My Drive/Dataset_Literata/7. RFM-AR_Age+First Purchase.xlsx\", index=False)"
      ],
      "execution_count": null,
      "outputs": []
    },
    {
      "cell_type": "code",
      "metadata": {
        "colab": {
          "base_uri": "https://localhost:8080/",
          "height": 406
        },
        "id": "dx_ghcP3JZ2j",
        "outputId": "d923118f-a12f-42a2-8589-731fe73045e1"
      },
      "source": [
        "rfm_df.drop([\"FirstPurchase\"], axis=1, inplace=True)\r\n",
        "rfm_df"
      ],
      "execution_count": null,
      "outputs": [
        {
          "output_type": "execute_result",
          "data": {
            "text/html": [
              "<div>\n",
              "<style scoped>\n",
              "    .dataframe tbody tr th:only-of-type {\n",
              "        vertical-align: middle;\n",
              "    }\n",
              "\n",
              "    .dataframe tbody tr th {\n",
              "        vertical-align: top;\n",
              "    }\n",
              "\n",
              "    .dataframe thead th {\n",
              "        text-align: right;\n",
              "    }\n",
              "</style>\n",
              "<table border=\"1\" class=\"dataframe\">\n",
              "  <thead>\n",
              "    <tr style=\"text-align: right;\">\n",
              "      <th></th>\n",
              "      <th>CustomerID</th>\n",
              "      <th>Monetary</th>\n",
              "      <th>Recency</th>\n",
              "      <th>Frequency</th>\n",
              "      <th>Age(Days)</th>\n",
              "    </tr>\n",
              "  </thead>\n",
              "  <tbody>\n",
              "    <tr>\n",
              "      <th>0</th>\n",
              "      <td>0</td>\n",
              "      <td>216000</td>\n",
              "      <td>72.10</td>\n",
              "      <td>1</td>\n",
              "      <td>72.10</td>\n",
              "    </tr>\n",
              "    <tr>\n",
              "      <th>1</th>\n",
              "      <td>1</td>\n",
              "      <td>15600</td>\n",
              "      <td>148.11</td>\n",
              "      <td>1</td>\n",
              "      <td>148.11</td>\n",
              "    </tr>\n",
              "    <tr>\n",
              "      <th>2</th>\n",
              "      <td>2</td>\n",
              "      <td>2200</td>\n",
              "      <td>4.90</td>\n",
              "      <td>1</td>\n",
              "      <td>4.90</td>\n",
              "    </tr>\n",
              "    <tr>\n",
              "      <th>3</th>\n",
              "      <td>3</td>\n",
              "      <td>362900</td>\n",
              "      <td>147.88</td>\n",
              "      <td>1</td>\n",
              "      <td>147.88</td>\n",
              "    </tr>\n",
              "    <tr>\n",
              "      <th>4</th>\n",
              "      <td>4</td>\n",
              "      <td>160000</td>\n",
              "      <td>146.09</td>\n",
              "      <td>1</td>\n",
              "      <td>146.09</td>\n",
              "    </tr>\n",
              "    <tr>\n",
              "      <th>...</th>\n",
              "      <td>...</td>\n",
              "      <td>...</td>\n",
              "      <td>...</td>\n",
              "      <td>...</td>\n",
              "      <td>...</td>\n",
              "    </tr>\n",
              "    <tr>\n",
              "      <th>1546</th>\n",
              "      <td>1546</td>\n",
              "      <td>853850</td>\n",
              "      <td>45.99</td>\n",
              "      <td>3</td>\n",
              "      <td>127.25</td>\n",
              "    </tr>\n",
              "    <tr>\n",
              "      <th>1547</th>\n",
              "      <td>1547</td>\n",
              "      <td>200000</td>\n",
              "      <td>96.10</td>\n",
              "      <td>2</td>\n",
              "      <td>124.11</td>\n",
              "    </tr>\n",
              "    <tr>\n",
              "      <th>1548</th>\n",
              "      <td>1548</td>\n",
              "      <td>215600</td>\n",
              "      <td>57.27</td>\n",
              "      <td>2</td>\n",
              "      <td>135.07</td>\n",
              "    </tr>\n",
              "    <tr>\n",
              "      <th>1549</th>\n",
              "      <td>1549</td>\n",
              "      <td>41900</td>\n",
              "      <td>35.10</td>\n",
              "      <td>2</td>\n",
              "      <td>111.05</td>\n",
              "    </tr>\n",
              "    <tr>\n",
              "      <th>1550</th>\n",
              "      <td>1550</td>\n",
              "      <td>166800</td>\n",
              "      <td>145.08</td>\n",
              "      <td>1</td>\n",
              "      <td>145.08</td>\n",
              "    </tr>\n",
              "  </tbody>\n",
              "</table>\n",
              "<p>1551 rows × 5 columns</p>\n",
              "</div>"
            ],
            "text/plain": [
              "      CustomerID  Monetary  Recency  Frequency  Age(Days)\n",
              "0              0    216000    72.10          1      72.10\n",
              "1              1     15600   148.11          1     148.11\n",
              "2              2      2200     4.90          1       4.90\n",
              "3              3    362900   147.88          1     147.88\n",
              "4              4    160000   146.09          1     146.09\n",
              "...          ...       ...      ...        ...        ...\n",
              "1546        1546    853850    45.99          3     127.25\n",
              "1547        1547    200000    96.10          2     124.11\n",
              "1548        1548    215600    57.27          2     135.07\n",
              "1549        1549     41900    35.10          2     111.05\n",
              "1550        1550    166800   145.08          1     145.08\n",
              "\n",
              "[1551 rows x 5 columns]"
            ]
          },
          "metadata": {
            "tags": []
          },
          "execution_count": 66
        }
      ]
    },
    {
      "cell_type": "code",
      "metadata": {
        "id": "wUV-O8GcCZff"
      },
      "source": [
        "rfm_df.to_excel(\"/content/drive/My Drive/Dataset_Literata/8. RFM-AR_Age.xlsx\", index=False)"
      ],
      "execution_count": null,
      "outputs": []
    },
    {
      "cell_type": "code",
      "metadata": {
        "colab": {
          "base_uri": "https://localhost:8080/",
          "height": 406
        },
        "id": "7dkIt3qpAczH",
        "outputId": "898cb805-f801-4dab-8bd1-5b955fa51e59"
      },
      "source": [
        "rfm_df.sort_values('Age(Days)', ascending=False)"
      ],
      "execution_count": null,
      "outputs": [
        {
          "output_type": "execute_result",
          "data": {
            "text/html": [
              "<div>\n",
              "<style scoped>\n",
              "    .dataframe tbody tr th:only-of-type {\n",
              "        vertical-align: middle;\n",
              "    }\n",
              "\n",
              "    .dataframe tbody tr th {\n",
              "        vertical-align: top;\n",
              "    }\n",
              "\n",
              "    .dataframe thead th {\n",
              "        text-align: right;\n",
              "    }\n",
              "</style>\n",
              "<table border=\"1\" class=\"dataframe\">\n",
              "  <thead>\n",
              "    <tr style=\"text-align: right;\">\n",
              "      <th></th>\n",
              "      <th>CustomerID</th>\n",
              "      <th>Monetary</th>\n",
              "      <th>Recency</th>\n",
              "      <th>Frequency</th>\n",
              "      <th>Age(Days)</th>\n",
              "    </tr>\n",
              "  </thead>\n",
              "  <tbody>\n",
              "    <tr>\n",
              "      <th>1416</th>\n",
              "      <td>1416</td>\n",
              "      <td>812250</td>\n",
              "      <td>152.35</td>\n",
              "      <td>1</td>\n",
              "      <td>152.35</td>\n",
              "    </tr>\n",
              "    <tr>\n",
              "      <th>709</th>\n",
              "      <td>709</td>\n",
              "      <td>261800</td>\n",
              "      <td>152.30</td>\n",
              "      <td>1</td>\n",
              "      <td>152.30</td>\n",
              "    </tr>\n",
              "    <tr>\n",
              "      <th>48</th>\n",
              "      <td>48</td>\n",
              "      <td>38000</td>\n",
              "      <td>152.27</td>\n",
              "      <td>1</td>\n",
              "      <td>152.27</td>\n",
              "    </tr>\n",
              "    <tr>\n",
              "      <th>202</th>\n",
              "      <td>202</td>\n",
              "      <td>12200</td>\n",
              "      <td>152.26</td>\n",
              "      <td>1</td>\n",
              "      <td>152.26</td>\n",
              "    </tr>\n",
              "    <tr>\n",
              "      <th>1428</th>\n",
              "      <td>1428</td>\n",
              "      <td>50800</td>\n",
              "      <td>151.15</td>\n",
              "      <td>2</td>\n",
              "      <td>152.25</td>\n",
              "    </tr>\n",
              "    <tr>\n",
              "      <th>...</th>\n",
              "      <td>...</td>\n",
              "      <td>...</td>\n",
              "      <td>...</td>\n",
              "      <td>...</td>\n",
              "      <td>...</td>\n",
              "    </tr>\n",
              "    <tr>\n",
              "      <th>299</th>\n",
              "      <td>299</td>\n",
              "      <td>18000</td>\n",
              "      <td>0.10</td>\n",
              "      <td>1</td>\n",
              "      <td>0.10</td>\n",
              "    </tr>\n",
              "    <tr>\n",
              "      <th>716</th>\n",
              "      <td>716</td>\n",
              "      <td>21250</td>\n",
              "      <td>0.07</td>\n",
              "      <td>1</td>\n",
              "      <td>0.07</td>\n",
              "    </tr>\n",
              "    <tr>\n",
              "      <th>935</th>\n",
              "      <td>935</td>\n",
              "      <td>27200</td>\n",
              "      <td>0.05</td>\n",
              "      <td>1</td>\n",
              "      <td>0.05</td>\n",
              "    </tr>\n",
              "    <tr>\n",
              "      <th>745</th>\n",
              "      <td>745</td>\n",
              "      <td>123300</td>\n",
              "      <td>0.03</td>\n",
              "      <td>1</td>\n",
              "      <td>0.03</td>\n",
              "    </tr>\n",
              "    <tr>\n",
              "      <th>648</th>\n",
              "      <td>648</td>\n",
              "      <td>114500</td>\n",
              "      <td>0.00</td>\n",
              "      <td>1</td>\n",
              "      <td>0.00</td>\n",
              "    </tr>\n",
              "  </tbody>\n",
              "</table>\n",
              "<p>1551 rows × 5 columns</p>\n",
              "</div>"
            ],
            "text/plain": [
              "      CustomerID  Monetary  Recency  Frequency  Age(Days)\n",
              "1416        1416    812250   152.35          1     152.35\n",
              "709          709    261800   152.30          1     152.30\n",
              "48            48     38000   152.27          1     152.27\n",
              "202          202     12200   152.26          1     152.26\n",
              "1428        1428     50800   151.15          2     152.25\n",
              "...          ...       ...      ...        ...        ...\n",
              "299          299     18000     0.10          1       0.10\n",
              "716          716     21250     0.07          1       0.07\n",
              "935          935     27200     0.05          1       0.05\n",
              "745          745    123300     0.03          1       0.03\n",
              "648          648    114500     0.00          1       0.00\n",
              "\n",
              "[1551 rows x 5 columns]"
            ]
          },
          "metadata": {
            "tags": []
          },
          "execution_count": 68
        }
      ]
    },
    {
      "cell_type": "code",
      "metadata": {
        "colab": {
          "base_uri": "https://localhost:8080/",
          "height": 542
        },
        "id": "kGNZinUJJboA",
        "outputId": "f18313d0-0537-4bd9-eae5-bbbd87308f44"
      },
      "source": [
        "plot_data = [\n",
        "    go.Histogram(\n",
        "        x=rfm_df['Age(Days)']\n",
        "    )\n",
        "]\n",
        "\n",
        "plot_layout = go.Layout(\n",
        "        title='Age(Days)'\n",
        "    )\n",
        "fig = go.Figure(data=plot_data, layout=plot_layout)\n",
        "pyoff.iplot(fig)"
      ],
      "execution_count": null,
      "outputs": [
        {
          "output_type": "display_data",
          "data": {
            "text/html": [
              "<html>\n",
              "<head><meta charset=\"utf-8\" /></head>\n",
              "<body>\n",
              "    <div>\n",
              "            <script src=\"https://cdnjs.cloudflare.com/ajax/libs/mathjax/2.7.5/MathJax.js?config=TeX-AMS-MML_SVG\"></script><script type=\"text/javascript\">if (window.MathJax) {MathJax.Hub.Config({SVG: {font: \"STIX-Web\"}});}</script>\n",
              "                <script type=\"text/javascript\">window.PlotlyConfig = {MathJaxConfig: 'local'};</script>\n",
              "        <script src=\"https://cdn.plot.ly/plotly-latest.min.js\"></script>    \n",
              "            <div id=\"4c06b56d-faf1-4425-b2ef-1895698a5e44\" class=\"plotly-graph-div\" style=\"height:525px; width:100%;\"></div>\n",
              "            <script type=\"text/javascript\">\n",
              "                \n",
              "                    window.PLOTLYENV=window.PLOTLYENV || {};\n",
              "                    \n",
              "                if (document.getElementById(\"4c06b56d-faf1-4425-b2ef-1895698a5e44\")) {\n",
              "                    Plotly.newPlot(\n",
              "                        '4c06b56d-faf1-4425-b2ef-1895698a5e44',\n",
              "                        [{\"type\": \"histogram\", \"x\": [72.1, 148.11, 4.9, 147.88, 146.09, 115.35, 95.9, 2.21, 17.99, 131.93, 145.23, 144.91, 110.34, 141.04, 78.92, 21.93, 144.89, 133.28, 98.27, 118.97, 140.99, 73.98, 5.03, 141.86, 19.27, 1.36, 140.87, 140.93, 127.05, 152.15, 132.16, 133.23, 117.27, 14.88, 74.05, 0.22, 134.87, 146.86, 126.21, 125.1, 143.1, 130.39, 145.15, 113.2, 120.35, 134.19, 131.34, 73.99, 152.27, 151.87, 121.18, 139.92, 145.9, 127.38, 109.26, 73.07, 24.98, 1.19, 118.05, 21.09, 2.06, 135.21, 118.04, 56.97, 124.31, 74.18, 4.88, 77.26, 127.85, 111.32, 14.87, 116.19, 20.27, 129.29, 117.24, 150.89, 111.33, 12.32, 131.17, 12.95, 17.26, 133.33, 98.16, 130.22, 141.26, 107.39, 76.01, 112.34, 127.07, 149.04, 119.99, 127.88, 97.1, 111.26, 111.16, 131.09, 120.09, 127.27, 149.13, 4.86, 134.89, 129.04, 128.9, 129.94, 125.19, 139.85, 135.14, 107.17, 129.2, 141.88, 112.3, 140.86, 72.18, 150.21, 129.01, 75.86, 124.08, 11.35, 142.14, 149.91, 98.14, 113.16, 110.06, 114.19, 112.21, 6.89, 129.18, 129.29, 75.11, 145.86, 151.01, 126.25, 134.94, 134.28, 124.27, 152.16, 116.15, 145.13, 76.94, 24.14, 23.17, 14.08, 139.88, 142.11, 148.24, 120.33, 18.01, 146.11, 123.32, 152.23, 126.9, 17.14, 113.34, 21.87, 14.26, 151.99, 78.28, 9.99, 148.05, 0.31, 117.2, 134.06, 24.09, 16.28, 77.92, 12.01, 106.94, 115.31, 78.89, 129.09, 129.01, 117.04, 152.22, 124.2, 75.93, 106.95, 9.2, 24.01, 110.09, 110.25, 11.21, 141.14, 132.21, 141.2, 10.31, 21.26, 126.14, 74.1, 130.06, 13.03, 140.11, 120.23, 133.22, 109.28, 117.19, 141.95, 146.18, 120.05, 109.32, 9.95, 126.15, 6.98, 152.26, 131.9, 105.89, 146.33, 117.22, 18.95, 124.31, 72.06, 19.96, 135.36, 115.3, 115.06, 113.06, 144.89, 108.26, 78.2, 129.29, 0.32, 110.2, 17.19, 26.89, 2.03, 111.08, 130.3, 140.91, 150.88, 21.2, 132.34, 146.87, 109.03, 135.92, 113.32, 152.24, 127.31, 98.06, 135.01, 1.07, 144.96, 129.32, 142.89, 149.9, 3.05, 13.97, 78.94, 120.11, 129.89, 133.2, 134.35, 145.87, 115.09, 112.23, 24.32, 134.14, 135.02, 131.3, 111.07, 22.33, 97.11, 113.17, 150.13, 144.9, 152.19, 140.14, 3.91, 107.87, 149.02, 117.09, 15.11, 22.97, 20.28, 132.2, 16.32, 16.86, 1.31, 9.33, 125.36, 126.99, 111.17, 124.28, 128.87, 13.31, 22.13, 13.07, 14.18, 6.86, 140.35, 1.12, 117.02, 151.2, 127.31, 13.01, 115.12, 110.3, 133.24, 1.25, 110.1, 143.27, 0.1, 76.09, 123.11, 136.02, 150.85, 72.87, 141.12, 149.0, 127.03, 123.24, 15.19, 134.88, 1.88, 114.12, 146.14, 18.28, 131.32, 130.13, 109.27, 8.06, 8.15, 112.28, 120.08, 1.97, 7.13, 118.26, 73.28, 114.09, 131.28, 111.31, 149.11, 146.06, 124.09, 124.18, 120.03, 123.28, 24.16, 112.24, 112.94, 20.07, 127.19, 126.12, 26.37, 111.11, 131.19, 75.88, 116.21, 115.98, 78.18, 134.32, 145.87, 133.33, 9.12, 129.25, 21.89, 113.04, 77.88, 131.36, 148.2, 149.87, 76.98, 134.04, 142.13, 150.05, 124.28, 108.2, 73.36, 115.04, 131.96, 98.29, 108.24, 10.12, 120.91, 77.86, 150.91, 78.09, 152.23, 72.33, 146.9, 0.12, 115.21, 127.35, 107.13, 105.9, 134.0, 121.23, 116.11, 115.07, 78.85, 117.05, 150.24, 149.19, 111.9, 142.32, 151.15, 144.91, 149.98, 152.19, 140.3, 134.96, 127.33, 118.07, 130.34, 3.02, 129.11, 14.24, 127.01, 152.21, 23.21, 10.19, 120.01, 151.14, 107.89, 143.2, 3.11, 126.34, 147.96, 109.28, 134.22, 1.87, 97.24, 142.9, 9.3, 11.06, 117.96, 1.98, 11.31, 123.27, 145.2, 20.01, 135.0, 127.2, 98.34, 129.99, 117.05, 73.14, 95.89, 2.86, 74.85, 118.35, 20.28, 130.97, 15.06, 118.04, 11.28, 116.23, 21.24, 20.03, 142.34, 24.02, 148.14, 19.18, 14.27, 113.03, 140.02, 126.01, 113.09, 111.07, 141.06, 113.01, 140.25, 120.27, 112.39, 123.93, 142.15, 126.05, 130.02, 0.99, 18.03, 108.27, 146.87, 8.3, 143.24, 14.01, 128.07, 115.12, 7.16, 97.29, 115.13, 25.03, 143.28, 150.12, 132.25, 74.97, 147.16, 74.88, 120.11, 13.95, 19.09, 107.12, 149.17, 133.18, 120.15, 21.98, 122.94, 113.12, 129.26, 141.08, 119.24, 72.22, 107.01, 148.91, 150.1, 126.38, 152.16, 128.13, 98.06, 146.88, 140.33, 24.95, 152.17, 109.35, 23.99, 151.98, 78.87, 114.31, 124.23, 109.33, 116.06, 9.86, 20.17, 135.09, 13.9, 1.28, 76.18, 132.33, 150.88, 148.12, 133.2, 125.11, 114.27, 131.03, 141.99, 126.09, 129.33, 76.85, 15.12, 126.13, 152.2, 23.28, 147.22, 143.07, 77.3, 146.16, 110.32, 72.15, 143.08, 6.96, 15.31, 111.24, 131.22, 19.32, 18.24, 120.22, 1.37, 129.06, 141.16, 7.98, 129.23, 126.28, 124.13, 107.03, 107.22, 20.15, 119.14, 14.25, 149.06, 150.06, 117.27, 144.9, 124.94, 10.09, 133.39, 113.25, 132.33, 119.17, 125.33, 78.14, 152.21, 3.99, 139.97, 113.29, 132.14, 126.16, 134.08, 147.03, 119.95, 6.93, 125.38, 98.24, 119.22, 125.28, 22.1, 19.97, 111.06, 146.21, 152.12, 120.16, 127.15, 112.11, 9.08, 115.1, 145.99, 111.07, 150.88, 128.23, 3.21, 77.91, 141.28, 97.16, 74.22, 15.03, 144.9, 96.93, 18.04, 114.07, 146.92, 2.99, 129.96, 74.9, 149.97, 15.25, 150.08, 22.18, 148.17, 118.06, 124.34, 132.3, 3.9, 148.25, 134.99, 77.35, 127.92, 145.25, 110.29, 15.93, 114.35, 126.96, 151.9, 21.19, 118.22, 73.23, 132.14, 135.13, 148.09, 127.86, 125.08, 116.96, 147.25, 0.0, 141.32, 110.35, 3.86, 124.27, 1.22, 130.08, 150.87, 18.19, 149.28, 21.18, 98.1, 150.1, 147.97, 117.08, 109.98, 133.34, 136.01, 0.23, 23.12, 78.9, 114.03, 6.91, 4.24, 7.33, 97.34, 146.87, 117.87, 4.33, 133.2, 73.0, 108.22, 145.01, 96.97, 107.18, 113.1, 132.31, 132.35, 117.19, 146.92, 117.15, 119.1, 134.15, 71.99, 152.17, 26.3, 74.3, 1.9, 110.38, 17.92, 113.31, 129.37, 107.0, 142.15, 21.29, 78.13, 23.02, 72.92, 112.26, 18.11, 20.2, 152.3, 4.92, 20.1, 1.19, 148.15, 146.9, 77.07, 0.07, 151.9, 4.09, 139.95, 150.26, 144.88, 109.89, 133.38, 11.89, 23.04, 112.33, 133.14, 116.2, 142.16, 15.28, 149.08, 77.96, 130.99, 136.0, 97.19, 113.89, 5.22, 14.37, 11.11, 116.04, 126.36, 2.32, 18.08, 96.92, 0.03, 127.11, 123.25, 15.97, 125.94, 143.19, 18.33, 149.97, 109.3, 146.93, 11.24, 112.97, 14.86, 107.08, 12.09, 107.21, 97.99, 108.16, 20.18, 113.33, 133.23, 112.21, 120.1, 119.98, 74.32, 72.93, 8.13, 127.08, 120.9, 4.12, 23.32, 108.31, 109.96, 150.9, 4.99, 146.87, 150.88, 11.25, 144.86, 119.29, 130.19, 125.27, 131.13, 140.28, 110.17, 7.06, 129.95, 150.11, 19.13, 151.88, 125.26, 72.2, 150.07, 108.18, 109.29, 143.35, 13.13, 120.15, 4.95, 148.95, 133.25, 107.34, 117.23, 142.13, 120.96, 4.2, 19.01, 112.21, 14.03, 126.25, 8.97, 112.12, 21.06, 3.36, 120.13, 75.92, 143.21, 98.11, 133.17, 134.88, 10.1, 72.3, 5.07, 147.12, 147.93, 140.89, 113.14, 139.88, 108.33, 109.93, 113.08, 150.13, 115.06, 24.13, 129.36, 15.14, 111.24, 18.21, 2.22, 16.11, 124.04, 130.37, 3.34, 129.06, 144.89, 146.85, 131.01, 9.85, 130.86, 19.96, 116.2, 115.01, 17.9, 107.36, 13.19, 108.37, 130.88, 118.09, 134.3, 119.0, 97.03, 140.18, 11.33, 20.94, 127.23, 123.97, 133.3, 132.31, 9.96, 126.92, 135.29, 143.29, 118.14, 130.11, 113.35, 120.02, 142.12, 143.05, 97.22, 78.04, 1.04, 111.23, 113.27, 129.39, 148.1, 142.11, 143.25, 23.19, 11.08, 111.96, 134.16, 97.14, 111.12, 145.92, 0.27, 130.92, 1.85, 152.02, 107.19, 12.2, 111.18, 112.99, 121.36, 20.33, 148.95, 109.31, 3.88, 112.14, 111.3, 147.28, 78.0, 131.99, 13.1, 143.22, 148.87, 136.11, 133.36, 74.27, 77.9, 116.35, 128.85, 111.14, 130.05, 133.16, 107.03, 135.32, 127.19, 148.93, 97.27, 151.03, 0.05, 133.27, 132.2, 107.27, 106.01, 108.32, 105.91, 146.94, 96.89, 143.26, 117.29, 14.89, 143.04, 145.95, 136.08, 7.2, 131.86, 148.21, 21.17, 1.13, 2.85, 22.88, 1.13, 109.34, 117.26, 114.1, 110.07, 77.85, 141.34, 120.3, 14.35, 120.17, 126.93, 1.1, 98.01, 125.29, 128.35, 142.09, 144.91, 75.27, 9.94, 109.91, 20.12, 109.96, 129.38, 142.02, 1.03, 123.99, 144.86, 114.0, 10.99, 17.3, 130.02, 149.88, 149.95, 125.22, 146.02, 121.03, 116.03, 147.0, 126.31, 113.18, 150.86, 132.08, 121.07, 132.16, 72.86, 109.87, 121.08, 131.85, 22.25, 115.16, 142.13, 77.17, 120.1, 24.15, 149.3, 130.27, 11.16, 136.04, 142.93, 114.22, 121.12, 72.11, 20.14, 22.12, 151.2, 2.88, 13.26, 122.92, 115.07, 24.3, 149.96, 119.02, 112.93, 132.03, 141.22, 20.31, 128.04, 126.25, 2.89, 115.27, 1.89, 141.97, 12.24, 8.01, 146.87, 144.89, 11.3, 134.12, 110.13, 109.25, 117.98, 142.04, 130.26, 107.0, 134.98, 113.11, 113.93, 71.95, 142.14, 97.98, 121.26, 118.94, 124.96, 23.24, 140.23, 127.95, 148.22, 10.14, 150.09, 116.04, 20.22, 113.25, 24.26, 22.05, 140.21, 129.17, 72.09, 17.09, 133.15, 150.33, 127.3, 10.11, 110.22, 134.85, 149.15, 111.08, 140.87, 152.24, 16.21, 147.06, 14.97, 95.89, 107.3, 133.17, 111.09, 151.13, 118.33, 134.26, 125.01, 22.92, 108.39, 0.98, 118.15, 108.29, 147.95, 135.98, 150.92, 22.3, 118.9, 146.87, 106.23, 15.02, 128.12, 2.94, 118.3, 96.94, 24.94, 4.31, 0.2, 132.15, 15.1, 148.98, 11.02, 134.15, 126.19, 108.19, 21.33, 119.34, 133.36, 144.98, 5.05, 75.36, 18.2, 115.02, 97.06, 16.05, 127.99, 141.18, 129.13, 18.34, 119.38, 22.85, 72.03, 123.94, 133.26, 120.0, 8.98, 146.28, 108.28, 18.97, 131.86, 132.29, 4.97, 143.09, 147.09, 0.15, 10.07, 2.15, 96.91, 72.9, 148.89, 124.0, 98.19, 144.9, 127.21, 0.16, 107.02, 117.32, 116.37, 135.25, 71.96, 10.24, 18.12, 21.02, 129.15, 151.94, 145.32, 5.33, 123.17, 142.14, 142.12, 139.9, 97.01, 74.13, 150.98, 140.95, 19.99, 76.0, 130.07, 123.06, 133.35, 125.27, 17.05, 121.25, 123.0, 140.97, 12.22, 145.18, 2.07, 11.1, 118.89, 118.16, 123.1, 72.26, 142.88, 14.91, 140.06, 146.89, 24.22, 14.17, 130.16, 120.22, 146.23, 128.31, 126.39, 130.9, 16.07, 113.05, 113.28, 77.03, 146.86, 111.23, 98.22, 115.96, 19.98, 141.3, 146.25, 74.95, 105.92, 78.31, 16.98, 125.14, 147.34, 125.3, 127.29, 111.2, 117.34, 128.08, 106.06, 113.95, 108.23, 123.22, 14.1, 118.27, 24.01, 129.15, 133.37, 110.38, 118.12, 121.24, 76.33, 132.26, 17.07, 143.3, 2.2, 3.04, 9.22, 74.17, 122.98, 129.2, 150.15, 20.13, 134.36, 126.18, 124.93, 151.86, 107.37, 133.3, 134.25, 133.31, 125.0, 10.27, 5.01, 0.14, 115.24, 143.18, 118.19, 133.14, 9.19, 72.95, 124.07, 1.28, 24.05, 111.1, 98.05, 2.1, 124.01, 131.38, 7.99, 126.96, 119.12, 77.21, 75.16, 119.24, 145.97, 127.12, 132.33, 112.95, 134.86, 116.99, 150.89, 109.02, 12.03, 98.03, 129.11, 111.29, 147.19, 150.06, 97.97, 17.93, 95.89, 132.29, 3.93, 113.21, 124.39, 117.21, 118.9, 7.87, 2.3, 109.36, 152.25, 124.37, 128.15, 113.23, 125.98, 106.98, 126.1, 134.22, 120.04, 24.19, 146.04, 126.22, 146.29, 110.02, 75.04, 148.26, 131.24, 128.08, 146.91, 133.0, 125.04, 146.88, 140.16, 74.0, 14.9, 144.94, 142.92, 141.9, 118.27, 134.1, 20.3, 143.23, 1.08, 19.06, 127.39, 97.06, 120.24, 19.14, 19.95, 133.19, 13.18, 113.15, 10.22, 117.11, 9.23, 128.96, 120.19, 144.88, 7.86, 141.01, 25.07, 141.24, 8.1, 19.31, 121.34, 0.1, 142.12, 129.35, 12.28, 116.01, 10.03, 74.92, 140.09, 117.9, 113.0, 17.33, 21.13, 4.94, 10.21, 148.19, 78.03, 11.29, 132.95, 126.22, 131.05, 111.06, 116.09, 111.21, 95.91, 131.96, 75.98, 150.87, 14.21, 130.25, 73.17, 117.92, 76.89, 17.96, 127.09, 143.06, 128.19, 120.06, 13.06, 19.98, 107.07, 131.07, 142.15, 139.89, 108.36, 152.35, 147.31, 135.24, 145.11, 135.95, 121.05, 116.3, 118.01, 111.09, 114.39, 96.99, 111.28, 152.25, 110.33, 130.94, 76.28, 108.35, 76.07, 148.93, 5.31, 127.93, 131.87, 121.09, 123.13, 1.16, 144.9, 4.11, 152.18, 98.08, 0.99, 7.18, 149.24, 128.28, 141.93, 135.16, 10.32, 146.87, 131.26, 7.91, 134.25, 120.94, 11.12, 145.06, 142.92, 149.26, 113.22, 140.85, 127.36, 133.21, 148.94, 77.89, 112.1, 113.9, 115.19, 97.05, 20.05, 9.04, 140.04, 133.27, 125.22, 118.11, 124.95, 133.29, 13.3, 76.24, 8.33, 110.0, 20.27, 14.31, 23.05, 150.03, 112.36, 0.24, 148.94, 72.85, 13.17, 11.93, 126.97, 24.9, 142.91, 121.29, 12.15, 145.03, 72.88, 119.25, 121.0, 20.98, 131.15, 23.09, 127.09, 22.86, 112.23, 149.22, 19.12, 107.14, 16.09, 123.95, 148.16, 96.98, 18.15, 20.16, 3.27, 141.1, 133.32, 73.01, 109.24, 146.97, 119.99, 152.22, 151.08, 134.34, 2.26, 74.02, 119.04, 147.86, 1.24, 125.0, 131.11, 126.2, 78.24, 120.04, 112.98, 150.16, 134.95, 129.92, 152.1, 145.86, 18.22, 129.31, 127.19, 127.25, 124.11, 135.07, 111.05, 145.08]}],\n",
              "                        {\"template\": {\"data\": {\"bar\": [{\"error_x\": {\"color\": \"#2a3f5f\"}, \"error_y\": {\"color\": \"#2a3f5f\"}, \"marker\": {\"line\": {\"color\": \"#E5ECF6\", \"width\": 0.5}}, \"type\": \"bar\"}], \"barpolar\": [{\"marker\": {\"line\": {\"color\": \"#E5ECF6\", \"width\": 0.5}}, \"type\": \"barpolar\"}], \"carpet\": [{\"aaxis\": {\"endlinecolor\": \"#2a3f5f\", \"gridcolor\": \"white\", \"linecolor\": \"white\", \"minorgridcolor\": \"white\", \"startlinecolor\": \"#2a3f5f\"}, \"baxis\": {\"endlinecolor\": \"#2a3f5f\", \"gridcolor\": \"white\", \"linecolor\": \"white\", \"minorgridcolor\": \"white\", \"startlinecolor\": \"#2a3f5f\"}, \"type\": \"carpet\"}], \"choropleth\": [{\"colorbar\": {\"outlinewidth\": 0, \"ticks\": \"\"}, \"type\": \"choropleth\"}], \"contour\": [{\"colorbar\": {\"outlinewidth\": 0, \"ticks\": \"\"}, \"colorscale\": [[0.0, \"#0d0887\"], [0.1111111111111111, \"#46039f\"], [0.2222222222222222, \"#7201a8\"], [0.3333333333333333, \"#9c179e\"], [0.4444444444444444, \"#bd3786\"], [0.5555555555555556, \"#d8576b\"], [0.6666666666666666, \"#ed7953\"], [0.7777777777777778, \"#fb9f3a\"], [0.8888888888888888, \"#fdca26\"], [1.0, \"#f0f921\"]], \"type\": \"contour\"}], \"contourcarpet\": [{\"colorbar\": {\"outlinewidth\": 0, \"ticks\": \"\"}, \"type\": \"contourcarpet\"}], \"heatmap\": [{\"colorbar\": {\"outlinewidth\": 0, \"ticks\": \"\"}, \"colorscale\": [[0.0, \"#0d0887\"], [0.1111111111111111, \"#46039f\"], [0.2222222222222222, \"#7201a8\"], [0.3333333333333333, \"#9c179e\"], [0.4444444444444444, \"#bd3786\"], [0.5555555555555556, \"#d8576b\"], [0.6666666666666666, \"#ed7953\"], [0.7777777777777778, \"#fb9f3a\"], [0.8888888888888888, \"#fdca26\"], [1.0, \"#f0f921\"]], \"type\": \"heatmap\"}], \"heatmapgl\": [{\"colorbar\": {\"outlinewidth\": 0, \"ticks\": \"\"}, \"colorscale\": [[0.0, \"#0d0887\"], [0.1111111111111111, \"#46039f\"], [0.2222222222222222, \"#7201a8\"], [0.3333333333333333, \"#9c179e\"], [0.4444444444444444, \"#bd3786\"], [0.5555555555555556, \"#d8576b\"], [0.6666666666666666, \"#ed7953\"], [0.7777777777777778, \"#fb9f3a\"], [0.8888888888888888, \"#fdca26\"], [1.0, \"#f0f921\"]], \"type\": \"heatmapgl\"}], \"histogram\": [{\"marker\": {\"colorbar\": {\"outlinewidth\": 0, \"ticks\": \"\"}}, \"type\": \"histogram\"}], \"histogram2d\": [{\"colorbar\": {\"outlinewidth\": 0, \"ticks\": \"\"}, \"colorscale\": [[0.0, \"#0d0887\"], [0.1111111111111111, \"#46039f\"], [0.2222222222222222, \"#7201a8\"], [0.3333333333333333, \"#9c179e\"], [0.4444444444444444, \"#bd3786\"], [0.5555555555555556, \"#d8576b\"], [0.6666666666666666, \"#ed7953\"], [0.7777777777777778, \"#fb9f3a\"], [0.8888888888888888, \"#fdca26\"], [1.0, \"#f0f921\"]], \"type\": \"histogram2d\"}], \"histogram2dcontour\": [{\"colorbar\": {\"outlinewidth\": 0, \"ticks\": \"\"}, \"colorscale\": [[0.0, \"#0d0887\"], [0.1111111111111111, \"#46039f\"], [0.2222222222222222, \"#7201a8\"], [0.3333333333333333, \"#9c179e\"], [0.4444444444444444, \"#bd3786\"], [0.5555555555555556, \"#d8576b\"], [0.6666666666666666, \"#ed7953\"], [0.7777777777777778, \"#fb9f3a\"], [0.8888888888888888, \"#fdca26\"], [1.0, \"#f0f921\"]], \"type\": \"histogram2dcontour\"}], \"mesh3d\": [{\"colorbar\": {\"outlinewidth\": 0, \"ticks\": \"\"}, \"type\": \"mesh3d\"}], \"parcoords\": [{\"line\": {\"colorbar\": {\"outlinewidth\": 0, \"ticks\": \"\"}}, \"type\": \"parcoords\"}], \"pie\": [{\"automargin\": true, \"type\": \"pie\"}], \"scatter\": [{\"marker\": {\"colorbar\": {\"outlinewidth\": 0, \"ticks\": \"\"}}, \"type\": \"scatter\"}], \"scatter3d\": [{\"line\": {\"colorbar\": {\"outlinewidth\": 0, \"ticks\": \"\"}}, \"marker\": {\"colorbar\": {\"outlinewidth\": 0, \"ticks\": \"\"}}, \"type\": \"scatter3d\"}], \"scattercarpet\": [{\"marker\": {\"colorbar\": {\"outlinewidth\": 0, \"ticks\": \"\"}}, \"type\": \"scattercarpet\"}], \"scattergeo\": [{\"marker\": {\"colorbar\": {\"outlinewidth\": 0, \"ticks\": \"\"}}, \"type\": \"scattergeo\"}], \"scattergl\": [{\"marker\": {\"colorbar\": {\"outlinewidth\": 0, \"ticks\": \"\"}}, \"type\": \"scattergl\"}], \"scattermapbox\": [{\"marker\": {\"colorbar\": {\"outlinewidth\": 0, \"ticks\": \"\"}}, \"type\": \"scattermapbox\"}], \"scatterpolar\": [{\"marker\": {\"colorbar\": {\"outlinewidth\": 0, \"ticks\": \"\"}}, \"type\": \"scatterpolar\"}], \"scatterpolargl\": [{\"marker\": {\"colorbar\": {\"outlinewidth\": 0, \"ticks\": \"\"}}, \"type\": \"scatterpolargl\"}], \"scatterternary\": [{\"marker\": {\"colorbar\": {\"outlinewidth\": 0, \"ticks\": \"\"}}, \"type\": \"scatterternary\"}], \"surface\": [{\"colorbar\": {\"outlinewidth\": 0, \"ticks\": \"\"}, \"colorscale\": [[0.0, \"#0d0887\"], [0.1111111111111111, \"#46039f\"], [0.2222222222222222, \"#7201a8\"], [0.3333333333333333, \"#9c179e\"], [0.4444444444444444, \"#bd3786\"], [0.5555555555555556, \"#d8576b\"], [0.6666666666666666, \"#ed7953\"], [0.7777777777777778, \"#fb9f3a\"], [0.8888888888888888, \"#fdca26\"], [1.0, \"#f0f921\"]], \"type\": \"surface\"}], \"table\": [{\"cells\": {\"fill\": {\"color\": \"#EBF0F8\"}, \"line\": {\"color\": \"white\"}}, \"header\": {\"fill\": {\"color\": \"#C8D4E3\"}, \"line\": {\"color\": \"white\"}}, \"type\": \"table\"}]}, \"layout\": {\"annotationdefaults\": {\"arrowcolor\": \"#2a3f5f\", \"arrowhead\": 0, \"arrowwidth\": 1}, \"coloraxis\": {\"colorbar\": {\"outlinewidth\": 0, \"ticks\": \"\"}}, \"colorscale\": {\"diverging\": [[0, \"#8e0152\"], [0.1, \"#c51b7d\"], [0.2, \"#de77ae\"], [0.3, \"#f1b6da\"], [0.4, \"#fde0ef\"], [0.5, \"#f7f7f7\"], [0.6, \"#e6f5d0\"], [0.7, \"#b8e186\"], [0.8, \"#7fbc41\"], [0.9, \"#4d9221\"], [1, \"#276419\"]], \"sequential\": [[0.0, \"#0d0887\"], [0.1111111111111111, \"#46039f\"], [0.2222222222222222, \"#7201a8\"], [0.3333333333333333, \"#9c179e\"], [0.4444444444444444, \"#bd3786\"], [0.5555555555555556, \"#d8576b\"], [0.6666666666666666, \"#ed7953\"], [0.7777777777777778, \"#fb9f3a\"], [0.8888888888888888, \"#fdca26\"], [1.0, \"#f0f921\"]], \"sequentialminus\": [[0.0, \"#0d0887\"], [0.1111111111111111, \"#46039f\"], [0.2222222222222222, \"#7201a8\"], [0.3333333333333333, \"#9c179e\"], [0.4444444444444444, \"#bd3786\"], [0.5555555555555556, \"#d8576b\"], [0.6666666666666666, \"#ed7953\"], [0.7777777777777778, \"#fb9f3a\"], [0.8888888888888888, \"#fdca26\"], [1.0, \"#f0f921\"]]}, \"colorway\": [\"#636efa\", \"#EF553B\", \"#00cc96\", \"#ab63fa\", \"#FFA15A\", \"#19d3f3\", \"#FF6692\", \"#B6E880\", \"#FF97FF\", \"#FECB52\"], \"font\": {\"color\": \"#2a3f5f\"}, \"geo\": {\"bgcolor\": \"white\", \"lakecolor\": \"white\", \"landcolor\": \"#E5ECF6\", \"showlakes\": true, \"showland\": true, \"subunitcolor\": \"white\"}, \"hoverlabel\": {\"align\": \"left\"}, \"hovermode\": \"closest\", \"mapbox\": {\"style\": \"light\"}, \"paper_bgcolor\": \"white\", \"plot_bgcolor\": \"#E5ECF6\", \"polar\": {\"angularaxis\": {\"gridcolor\": \"white\", \"linecolor\": \"white\", \"ticks\": \"\"}, \"bgcolor\": \"#E5ECF6\", \"radialaxis\": {\"gridcolor\": \"white\", \"linecolor\": \"white\", \"ticks\": \"\"}}, \"scene\": {\"xaxis\": {\"backgroundcolor\": \"#E5ECF6\", \"gridcolor\": \"white\", \"gridwidth\": 2, \"linecolor\": \"white\", \"showbackground\": true, \"ticks\": \"\", \"zerolinecolor\": \"white\"}, \"yaxis\": {\"backgroundcolor\": \"#E5ECF6\", \"gridcolor\": \"white\", \"gridwidth\": 2, \"linecolor\": \"white\", \"showbackground\": true, \"ticks\": \"\", \"zerolinecolor\": \"white\"}, \"zaxis\": {\"backgroundcolor\": \"#E5ECF6\", \"gridcolor\": \"white\", \"gridwidth\": 2, \"linecolor\": \"white\", \"showbackground\": true, \"ticks\": \"\", \"zerolinecolor\": \"white\"}}, \"shapedefaults\": {\"line\": {\"color\": \"#2a3f5f\"}}, \"ternary\": {\"aaxis\": {\"gridcolor\": \"white\", \"linecolor\": \"white\", \"ticks\": \"\"}, \"baxis\": {\"gridcolor\": \"white\", \"linecolor\": \"white\", \"ticks\": \"\"}, \"bgcolor\": \"#E5ECF6\", \"caxis\": {\"gridcolor\": \"white\", \"linecolor\": \"white\", \"ticks\": \"\"}}, \"title\": {\"x\": 0.05}, \"xaxis\": {\"automargin\": true, \"gridcolor\": \"white\", \"linecolor\": \"white\", \"ticks\": \"\", \"title\": {\"standoff\": 15}, \"zerolinecolor\": \"white\", \"zerolinewidth\": 2}, \"yaxis\": {\"automargin\": true, \"gridcolor\": \"white\", \"linecolor\": \"white\", \"ticks\": \"\", \"title\": {\"standoff\": 15}, \"zerolinecolor\": \"white\", \"zerolinewidth\": 2}}}, \"title\": {\"text\": \"Age(Days)\"}},\n",
              "                        {\"responsive\": true}\n",
              "                    ).then(function(){\n",
              "                            \n",
              "var gd = document.getElementById('4c06b56d-faf1-4425-b2ef-1895698a5e44');\n",
              "var x = new MutationObserver(function (mutations, observer) {{\n",
              "        var display = window.getComputedStyle(gd).display;\n",
              "        if (!display || display === 'none') {{\n",
              "            console.log([gd, 'removed!']);\n",
              "            Plotly.purge(gd);\n",
              "            observer.disconnect();\n",
              "        }}\n",
              "}});\n",
              "\n",
              "// Listen for the removal of the full notebook cells\n",
              "var notebookContainer = gd.closest('#notebook-container');\n",
              "if (notebookContainer) {{\n",
              "    x.observe(notebookContainer, {childList: true});\n",
              "}}\n",
              "\n",
              "// Listen for the clearing of the current output cell\n",
              "var outputEl = gd.closest('.output');\n",
              "if (outputEl) {{\n",
              "    x.observe(outputEl, {childList: true});\n",
              "}}\n",
              "\n",
              "                        })\n",
              "                };\n",
              "                \n",
              "            </script>\n",
              "        </div>\n",
              "</body>\n",
              "</html>"
            ]
          },
          "metadata": {
            "tags": []
          }
        }
      ]
    },
    {
      "cell_type": "markdown",
      "metadata": {
        "id": "sqwRu5VuJjKp"
      },
      "source": [
        "## Return (Days)"
      ]
    },
    {
      "cell_type": "code",
      "metadata": {
        "colab": {
          "base_uri": "https://localhost:8080/",
          "height": 406
        },
        "id": "AzB01BdGJf98",
        "outputId": "121a9d64-965a-4f14-e107-5edbec90d205"
      },
      "source": [
        "rfm_df = pd.merge(rfm_df, sales_avg_dist, on=\"CustomerID\")\n",
        "rfm_df.rename({\"AvgDistance\":\"Return(Days)\"})"
      ],
      "execution_count": null,
      "outputs": [
        {
          "output_type": "execute_result",
          "data": {
            "text/html": [
              "<div>\n",
              "<style scoped>\n",
              "    .dataframe tbody tr th:only-of-type {\n",
              "        vertical-align: middle;\n",
              "    }\n",
              "\n",
              "    .dataframe tbody tr th {\n",
              "        vertical-align: top;\n",
              "    }\n",
              "\n",
              "    .dataframe thead th {\n",
              "        text-align: right;\n",
              "    }\n",
              "</style>\n",
              "<table border=\"1\" class=\"dataframe\">\n",
              "  <thead>\n",
              "    <tr style=\"text-align: right;\">\n",
              "      <th></th>\n",
              "      <th>CustomerID</th>\n",
              "      <th>Monetary</th>\n",
              "      <th>Recency</th>\n",
              "      <th>Frequency</th>\n",
              "      <th>Age(Days)</th>\n",
              "      <th>avgDistance</th>\n",
              "    </tr>\n",
              "  </thead>\n",
              "  <tbody>\n",
              "    <tr>\n",
              "      <th>0</th>\n",
              "      <td>0</td>\n",
              "      <td>216000</td>\n",
              "      <td>72.10</td>\n",
              "      <td>1</td>\n",
              "      <td>72.10</td>\n",
              "      <td>0.000</td>\n",
              "    </tr>\n",
              "    <tr>\n",
              "      <th>1</th>\n",
              "      <td>1</td>\n",
              "      <td>15600</td>\n",
              "      <td>148.11</td>\n",
              "      <td>1</td>\n",
              "      <td>148.11</td>\n",
              "      <td>0.000</td>\n",
              "    </tr>\n",
              "    <tr>\n",
              "      <th>2</th>\n",
              "      <td>2</td>\n",
              "      <td>2200</td>\n",
              "      <td>4.90</td>\n",
              "      <td>1</td>\n",
              "      <td>4.90</td>\n",
              "      <td>0.000</td>\n",
              "    </tr>\n",
              "    <tr>\n",
              "      <th>3</th>\n",
              "      <td>3</td>\n",
              "      <td>362900</td>\n",
              "      <td>147.88</td>\n",
              "      <td>1</td>\n",
              "      <td>147.88</td>\n",
              "      <td>0.000</td>\n",
              "    </tr>\n",
              "    <tr>\n",
              "      <th>4</th>\n",
              "      <td>4</td>\n",
              "      <td>160000</td>\n",
              "      <td>146.09</td>\n",
              "      <td>1</td>\n",
              "      <td>146.09</td>\n",
              "      <td>0.000</td>\n",
              "    </tr>\n",
              "    <tr>\n",
              "      <th>...</th>\n",
              "      <td>...</td>\n",
              "      <td>...</td>\n",
              "      <td>...</td>\n",
              "      <td>...</td>\n",
              "      <td>...</td>\n",
              "      <td>...</td>\n",
              "    </tr>\n",
              "    <tr>\n",
              "      <th>1546</th>\n",
              "      <td>1546</td>\n",
              "      <td>853850</td>\n",
              "      <td>45.99</td>\n",
              "      <td>3</td>\n",
              "      <td>127.25</td>\n",
              "      <td>33.900</td>\n",
              "    </tr>\n",
              "    <tr>\n",
              "      <th>1547</th>\n",
              "      <td>1547</td>\n",
              "      <td>200000</td>\n",
              "      <td>96.10</td>\n",
              "      <td>2</td>\n",
              "      <td>124.11</td>\n",
              "      <td>14.005</td>\n",
              "    </tr>\n",
              "    <tr>\n",
              "      <th>1548</th>\n",
              "      <td>1548</td>\n",
              "      <td>215600</td>\n",
              "      <td>57.27</td>\n",
              "      <td>2</td>\n",
              "      <td>135.07</td>\n",
              "      <td>38.900</td>\n",
              "    </tr>\n",
              "    <tr>\n",
              "      <th>1549</th>\n",
              "      <td>1549</td>\n",
              "      <td>41900</td>\n",
              "      <td>35.10</td>\n",
              "      <td>2</td>\n",
              "      <td>111.05</td>\n",
              "      <td>37.975</td>\n",
              "    </tr>\n",
              "    <tr>\n",
              "      <th>1550</th>\n",
              "      <td>1550</td>\n",
              "      <td>166800</td>\n",
              "      <td>145.08</td>\n",
              "      <td>1</td>\n",
              "      <td>145.08</td>\n",
              "      <td>0.000</td>\n",
              "    </tr>\n",
              "  </tbody>\n",
              "</table>\n",
              "<p>1551 rows × 6 columns</p>\n",
              "</div>"
            ],
            "text/plain": [
              "      CustomerID  Monetary  Recency  Frequency  Age(Days)  avgDistance\n",
              "0              0    216000    72.10          1      72.10        0.000\n",
              "1              1     15600   148.11          1     148.11        0.000\n",
              "2              2      2200     4.90          1       4.90        0.000\n",
              "3              3    362900   147.88          1     147.88        0.000\n",
              "4              4    160000   146.09          1     146.09        0.000\n",
              "...          ...       ...      ...        ...        ...          ...\n",
              "1546        1546    853850    45.99          3     127.25       33.900\n",
              "1547        1547    200000    96.10          2     124.11       14.005\n",
              "1548        1548    215600    57.27          2     135.07       38.900\n",
              "1549        1549     41900    35.10          2     111.05       37.975\n",
              "1550        1550    166800   145.08          1     145.08        0.000\n",
              "\n",
              "[1551 rows x 6 columns]"
            ]
          },
          "metadata": {
            "tags": []
          },
          "execution_count": 70
        }
      ]
    },
    {
      "cell_type": "code",
      "metadata": {
        "colab": {
          "base_uri": "https://localhost:8080/",
          "height": 406
        },
        "id": "rxPDHF5MF0kp",
        "outputId": "e04e0cdb-28b7-4dda-ca2b-1d54b0260c39"
      },
      "source": [
        "rfm_df.sort_values('avgDistance', ascending=False)"
      ],
      "execution_count": null,
      "outputs": [
        {
          "output_type": "execute_result",
          "data": {
            "text/html": [
              "<div>\n",
              "<style scoped>\n",
              "    .dataframe tbody tr th:only-of-type {\n",
              "        vertical-align: middle;\n",
              "    }\n",
              "\n",
              "    .dataframe tbody tr th {\n",
              "        vertical-align: top;\n",
              "    }\n",
              "\n",
              "    .dataframe thead th {\n",
              "        text-align: right;\n",
              "    }\n",
              "</style>\n",
              "<table border=\"1\" class=\"dataframe\">\n",
              "  <thead>\n",
              "    <tr style=\"text-align: right;\">\n",
              "      <th></th>\n",
              "      <th>CustomerID</th>\n",
              "      <th>Monetary</th>\n",
              "      <th>Recency</th>\n",
              "      <th>Frequency</th>\n",
              "      <th>Age(Days)</th>\n",
              "      <th>avgDistance</th>\n",
              "    </tr>\n",
              "  </thead>\n",
              "  <tbody>\n",
              "    <tr>\n",
              "      <th>987</th>\n",
              "      <td>987</td>\n",
              "      <td>205700</td>\n",
              "      <td>48.14</td>\n",
              "      <td>2</td>\n",
              "      <td>130.02</td>\n",
              "      <td>40.94</td>\n",
              "    </tr>\n",
              "    <tr>\n",
              "      <th>465</th>\n",
              "      <td>465</td>\n",
              "      <td>312800</td>\n",
              "      <td>48.15</td>\n",
              "      <td>2</td>\n",
              "      <td>130.02</td>\n",
              "      <td>40.94</td>\n",
              "    </tr>\n",
              "    <tr>\n",
              "      <th>432</th>\n",
              "      <td>432</td>\n",
              "      <td>193200</td>\n",
              "      <td>48.13</td>\n",
              "      <td>2</td>\n",
              "      <td>129.99</td>\n",
              "      <td>40.93</td>\n",
              "    </tr>\n",
              "    <tr>\n",
              "      <th>617</th>\n",
              "      <td>617</td>\n",
              "      <td>156600</td>\n",
              "      <td>48.12</td>\n",
              "      <td>2</td>\n",
              "      <td>129.96</td>\n",
              "      <td>40.92</td>\n",
              "    </tr>\n",
              "    <tr>\n",
              "      <th>927</th>\n",
              "      <td>927</td>\n",
              "      <td>651700</td>\n",
              "      <td>48.20</td>\n",
              "      <td>2</td>\n",
              "      <td>130.05</td>\n",
              "      <td>40.92</td>\n",
              "    </tr>\n",
              "    <tr>\n",
              "      <th>...</th>\n",
              "      <td>...</td>\n",
              "      <td>...</td>\n",
              "      <td>...</td>\n",
              "      <td>...</td>\n",
              "      <td>...</td>\n",
              "      <td>...</td>\n",
              "    </tr>\n",
              "    <tr>\n",
              "      <th>713</th>\n",
              "      <td>713</td>\n",
              "      <td>495000</td>\n",
              "      <td>148.15</td>\n",
              "      <td>1</td>\n",
              "      <td>148.15</td>\n",
              "      <td>0.00</td>\n",
              "    </tr>\n",
              "    <tr>\n",
              "      <th>714</th>\n",
              "      <td>714</td>\n",
              "      <td>259200</td>\n",
              "      <td>146.90</td>\n",
              "      <td>1</td>\n",
              "      <td>146.90</td>\n",
              "      <td>0.00</td>\n",
              "    </tr>\n",
              "    <tr>\n",
              "      <th>715</th>\n",
              "      <td>715</td>\n",
              "      <td>252200</td>\n",
              "      <td>77.07</td>\n",
              "      <td>1</td>\n",
              "      <td>77.07</td>\n",
              "      <td>0.00</td>\n",
              "    </tr>\n",
              "    <tr>\n",
              "      <th>716</th>\n",
              "      <td>716</td>\n",
              "      <td>21250</td>\n",
              "      <td>0.07</td>\n",
              "      <td>1</td>\n",
              "      <td>0.07</td>\n",
              "      <td>0.00</td>\n",
              "    </tr>\n",
              "    <tr>\n",
              "      <th>1550</th>\n",
              "      <td>1550</td>\n",
              "      <td>166800</td>\n",
              "      <td>145.08</td>\n",
              "      <td>1</td>\n",
              "      <td>145.08</td>\n",
              "      <td>0.00</td>\n",
              "    </tr>\n",
              "  </tbody>\n",
              "</table>\n",
              "<p>1551 rows × 6 columns</p>\n",
              "</div>"
            ],
            "text/plain": [
              "      CustomerID  Monetary  Recency  Frequency  Age(Days)  avgDistance\n",
              "987          987    205700    48.14          2     130.02        40.94\n",
              "465          465    312800    48.15          2     130.02        40.94\n",
              "432          432    193200    48.13          2     129.99        40.93\n",
              "617          617    156600    48.12          2     129.96        40.92\n",
              "927          927    651700    48.20          2     130.05        40.92\n",
              "...          ...       ...      ...        ...        ...          ...\n",
              "713          713    495000   148.15          1     148.15         0.00\n",
              "714          714    259200   146.90          1     146.90         0.00\n",
              "715          715    252200    77.07          1      77.07         0.00\n",
              "716          716     21250     0.07          1       0.07         0.00\n",
              "1550        1550    166800   145.08          1     145.08         0.00\n",
              "\n",
              "[1551 rows x 6 columns]"
            ]
          },
          "metadata": {
            "tags": []
          },
          "execution_count": 71
        }
      ]
    },
    {
      "cell_type": "code",
      "metadata": {
        "id": "OKEq5hspCvIe"
      },
      "source": [
        "rfm_df.to_excel(\"/content/drive/My Drive/Dataset_Literata/9. RFM-AR_Return.xlsx\", index=False)"
      ],
      "execution_count": null,
      "outputs": []
    },
    {
      "cell_type": "code",
      "metadata": {
        "colab": {
          "base_uri": "https://localhost:8080/",
          "height": 542
        },
        "id": "cAjMh-R2Jniv",
        "outputId": "b0661452-9d88-46fc-f667-f8a21cd802e6"
      },
      "source": [
        "plot_data = [\n",
        "    go.Histogram(\n",
        "        x=rfm_df['avgDistance']\n",
        "    )\n",
        "]\n",
        "\n",
        "plot_layout = go.Layout(\n",
        "        title='Return(Days)'\n",
        "    )\n",
        "fig = go.Figure(data=plot_data, layout=plot_layout)\n",
        "pyoff.iplot(fig)"
      ],
      "execution_count": null,
      "outputs": [
        {
          "output_type": "display_data",
          "data": {
            "text/html": [
              "<html>\n",
              "<head><meta charset=\"utf-8\" /></head>\n",
              "<body>\n",
              "    <div>\n",
              "            <script src=\"https://cdnjs.cloudflare.com/ajax/libs/mathjax/2.7.5/MathJax.js?config=TeX-AMS-MML_SVG\"></script><script type=\"text/javascript\">if (window.MathJax) {MathJax.Hub.Config({SVG: {font: \"STIX-Web\"}});}</script>\n",
              "                <script type=\"text/javascript\">window.PlotlyConfig = {MathJaxConfig: 'local'};</script>\n",
              "        <script src=\"https://cdn.plot.ly/plotly-latest.min.js\"></script>    \n",
              "            <div id=\"89485df7-c73e-4eef-940a-e4286c50c4fa\" class=\"plotly-graph-div\" style=\"height:525px; width:100%;\"></div>\n",
              "            <script type=\"text/javascript\">\n",
              "                \n",
              "                    window.PLOTLYENV=window.PLOTLYENV || {};\n",
              "                    \n",
              "                if (document.getElementById(\"89485df7-c73e-4eef-940a-e4286c50c4fa\")) {\n",
              "                    Plotly.newPlot(\n",
              "                        '89485df7-c73e-4eef-940a-e4286c50c4fa',\n",
              "                        [{\"type\": \"histogram\", \"x\": [0.0, 0.0, 0.0, 0.0, 0.0, 7.53, 0.0, 0.0, 0.0, 40.535, 0.0, 0.0, 12.615, 3.06, 22.45, 0.0, 0.0, 39.205, 27.99, 15.88, 3.12, 24.0, 0.0, 3.54, 0.0, 0.0, 3.71, 3.67, 17.025, 0.0, 40.57, 39.525, 14.97, 0.0, 23.99, 0.0, 39.265, 0.0, 32.16, 15.025, 0.0, 40.615, 0.0, 32.86, 8.67, 39.415, 40.53, 23.995, 0.0, 0.0, 21.174999999999997, 3.69, 0.0, 35.47, 11.49, 0.0, 0.0, 0.0, 10.07, 0.0, 0.0, 38.56, 8.08, 1.0, 14.715, 0.0, 0.0, 24.64, 35.9, 24.605, 0.0, 22.515, 0.0, 38.24, 14.97, 0.0, 13.725, 0.0, 0.0, 0.0, 0.0, 39.19, 0.0, 40.595, 3.05, 11.12, 24.405, 25.565, 34.04, 0.0, 14.73, 35.89, 0.0, 16.975, 5.34, 0.0, 16.79, 35.41, 0.0, 0.0, 38.895, 38.15, 0.0, 38.65, 15.065, 1.85, 38.55, 21.535, 38.19, 3.55, 25.535, 3.79, 0.0, 0.0, 38.13, 24.39, 14.01, 0.0, 3.03, 0.0, 0.0, 16.465, 21.87, 7.5, 0.025, 0.0, 19.09, 38.23, 0.0, 0.0, 0.0, 32.15, 38.91, 39.12, 14.025, 0.0, 7.485, 0.0, 0.0, 0.0, 0.0, 0.0, 3.72, 3.19, 0.0, 17.35, 0.0, 0.0, 14.12, 0.0, 32.56, 0.0, 0.0, 0.0, 0.0, 0.0, 0.0, 0.0, 0.0, 0.0, 15.0, 38.9, 0.0, 0.0, 24.87, 0.0, 9.03, 7.52, 4.9, 38.19, 38.14, 14.92, 1.97, 14.02, 0.0, 18.08, 0.0, 0.0, 12.885, 0.0, 0.0, 3.06, 40.49, 3.06, 0.0, 0.0, 16.095, 24.0, 40.91, 0.0, 3.14, 8.01, 39.545, 11.195, 9.405, 3.12, 0.0, 16.82, 22.35, 0.0, 32.17, 0.0, 0.0, 0.0, 17.925, 0.0, 15.0, 0.0, 13.98, 23.47, 0.0, 38.575, 15.06, 7.54, 18.955, 0.0, 20.12, 22.13, 38.23, 0.0, 22.63, 0.0, 0.0, 0.0, 24.865, 40.6, 3.65, 0.0, 0.0, 40.185, 0.0, 23.01, 38.855, 16.165, 0.985, 35.42, 0.0, 38.905, 0.0, 0.0, 38.22, 0.0, 0.0, 0.0, 0.0, 0.0, 16.74, 38.65, 39.585, 39.53, 0.0, 15.05, 0.0, 0.0, 39.005, 38.855, 40.545, 0.0, 0.0, 0.0, 32.91, 0.0, 0.0, 0.0, 3.15, 0.0, 20.63, 0.0, 7.465, 0.0, 0.0, 0.0, 40.51, 0.0, 0.0, 0.0, 0.0, 31.51, 34.04, 0.0, 13.995, 0.0, 0.0, 0.0, 0.0, 0.0, 0.0, 3.3, 0.0, 22.9, 17.02, 35.42, 0.0, 15.05, 12.645, 39.515, 0.0, 22.61, 0.0, 0.0, 0.0, 17.810000000000002, 38.86, 0.0, 0.0, 1.54, 0.0, 34.05, 22.95, 0.0, 38.9, 0.0, 14.96, 0.0, 0.0, 40.55, 40.585, 22.96, 0.0, 0.0, 25.53, 8.4, 0.0, 0.0, 8.125, 0.0, 14.98, 40.54, 21.2, 0.0, 0.0, 14.015, 28.04, 7.325, 14.14, 0.0, 26.16, 16.985, 0.0, 17.015, 32.21, 0.0, 24.6, 40.58, 24.385, 21.015, 7.475, 0.0, 39.545, 0.0, 39.185, 0.0, 38.22, 0.0, 33.03, 24.915, 40.52, 0.0, 0.0, 0.0, 38.905, 3.12, 0.0, 14.005, 22.439999999999998, 0.0, 8.975, 40.54, 0.0, 10.04, 0.0, 14.97, 24.9, 0.0, 0.0, 0.0, 0.0, 0.0, 0.0, 21.07, 35.45, 17.24, 17.935000000000002, 38.895, 16.29, 14.95, 15.05, 4.9, 20.98, 0.0, 0.0, 0.0, 3.12, 0.0, 0.0, 0.0, 0.0, 3.27, 39.03, 35.43, 23.545, 40.605, 0.0, 38.21, 0.0, 17.02, 0.0, 0.0, 0.0, 14.69, 0.0, 20.57, 0.0, 0.0, 16.06, 0.0, 22.93, 39.42, 0.0, 0.0, 0.0, 0.0, 0.0, 7.305, 0.0, 0.0, 18.565, 0.0, 0.0, 38.98, 16.98, 28.015, 40.93, 14.92, 23.63, 0.0, 0.0, 0.0, 16.28, 0.0, 40.845, 0.0, 16.2, 0.0, 14.89, 0.0, 0.0, 3.01, 0.0, 0.0, 0.0, 0.0, 33.05, 1.84, 16.065, 18.96, 0.0, 3.06, 33.04, 3.23, 7.955, 0.0, 13.995, 2.98, 16.08, 40.94, 0.0, 0.0, 20.06, 0.0, 0.0, 0.0, 0.0, 35.97, 7.52, 0.0, 0.0, 21.945, 0.0, 0.0, 0.0, 40.495, 0.0, 0.0, 0.0, 8.31, 0.0, 0.0, 37.15, 0.0, 0.0, 16.56, 0.0, 22.0, 32.94, 38.23, 3.02, 8.01, 23.515, 8.935, 0.0, 0.0, 32.11, 0.0, 35.98, 27.93, 0.0, 3.28, 0.0, 0.0, 11.135, 0.0, 0.0, 0.0, 15.04, 14.02, 23.035, 22.46, 0.0, 0.0, 38.875, 0.0, 0.0, 0.0, 0.01, 0.0, 0.0, 0.055, 15.025, 15.03, 40.845, 3.16, 32.2, 38.19, 24.75, 0.0, 16.1, 0.0, 0.0, 0.0, 0.0, 0.0, 0.0, 12.63, 0.0, 0.0, 0.0, 0.0, 21.1, 40.585, 0.0, 0.0, 16.22, 0.0, 38.17, 3.06, 0.0, 38.21, 32.12, 14.01, 11.82, 17.15, 0.0, 7.985, 0.0, 0.0, 0.0, 21.060000000000002, 0.0, 30.04, 0.0, 39.095, 0.0, 40.185, 15.99, 29.98, 24.565, 0.0, 0.0, 3.67, 16.13, 40.52, 16.085, 0.0, 0.0, 14.79, 0.0, 31.51, 0.0, 21.810000000000002, 15.03, 0.0, 0.0, 24.88, 0.0, 0.0, 16.47, 34.04, 10.07, 0.0, 21.935, 0.0, 26.18, 0.0, 35.96, 0.0, 0.0, 3.05, 27.045, 24.02, 0.0, 0.0, 0.0, 0.0, 7.49, 0.0, 0.0, 40.92, 0.0, 0.0, 0.0, 0.0, 0.0, 0.0, 10.05, 14.73, 40.495, 0.0, 0.0, 39.005, 0.0, 35.91, 0.0, 25.3, 0.0, 15.05, 17.035, 0.0, 0.0, 16.23, 23.655, 40.52, 38.56, 0.0, 35.89, 30.05, 14.88, 0.0, 0.0, 3.05, 12.535, 0.0, 14.02, 0.0, 40.885, 0.0, 0.0, 0.0, 0.0, 27.935, 0.0, 0.0, 7.465, 25.93, 39.15, 38.88, 0.0, 0.0, 22.445, 13.69, 0.0, 0.0, 0.0, 27.105, 0.0, 7.25, 0.0, 0.0, 23.84, 22.16, 0.0, 27.04, 17.21, 33.03, 40.48, 40.18, 7.505, 0.0, 14.9, 23.515, 39.0, 0.0, 0.0, 0.0, 0.0, 0.0, 0.0, 0.0, 20.04, 38.21, 21.490000000000002, 2.96, 0.0, 24.91, 0.0, 23.815, 38.615, 0.0, 0.0, 0.0, 0.0, 0.0, 0.0, 0.0, 0.0, 0.0, 0.0, 0.0, 0.0, 3.67, 0.0, 0.0, 21.76, 39.095, 0.0, 0.0, 0.0, 40.505, 14.96, 2.98, 0.0, 0.0, 0.0, 40.84, 38.885, 27.07, 6.775, 0.0, 0.0, 0.0, 14.93, 16.065, 0.0, 0.0, 0.0, 0.0, 17.01, 18.54, 0.0, 16.035, 0.0, 0.0, 0.0, 11.19, 0.0, 0.0, 16.9, 0.0, 11.43, 0.0, 8.595, 0.0, 20.23, 0.0, 16.115, 39.53, 13.085, 10.805, 24.92, 24.035, 0.0, 0.0, 34.02, 14.96, 0.0, 0.0, 12.49, 25.98, 0.0, 0.0, 0.0, 0.0, 0.0, 0.0, 16.04, 40.585, 15.035, 40.565, 3.25, 25.25, 0.0, 38.61, 0.0, 0.0, 0.0, 15.05, 0.0, 0.0, 22.435000000000002, 23.035, 0.0, 0.0, 21.765, 0.0, 0.0, 39.495, 8.585, 9.025, 3.06, 14.67, 0.0, 0.0, 0.0, 0.0, 16.07, 0.0, 10.12, 0.0, 0.0, 16.61, 24.395, 0.0, 0.0, 40.43, 38.915, 0.0, 23.545, 0.0, 0.0, 0.0, 3.66, 32.93, 3.7, 20.01, 25.97, 16.475, 0.0, 21.060000000000002, 0.0, 0.0, 0.0, 28.12, 0.0, 0.0, 0.0, 14.005, 40.62, 0.0, 0.0, 0.0, 0.0, 40.84, 0.0, 40.84, 0.0, 14.98, 7.535, 0.0, 17.18, 0.0, 9.67, 40.845, 16.18, 39.55, 7.955, 27.03, 3.19, 0.0, 0.0, 33.93, 40.365, 39.195, 40.475, 0.0, 34.03, 38.57, 0.0, 8.095, 40.895, 10.06, 14.67, 3.14, 0.0, 0.0, 24.885, 0.0, 14.085, 0.0, 38.17, 0.0, 3.17, 0.0, 0.0, 0.0, 0.0, 38.985, 27.05, 24.6, 0.0, 0.0, 40.855, 0.0, 0.0, 17.21, 0.0, 20.92, 33.72, 16.22, 0.0, 0.0, 22.37, 0.0, 25.51, 13.975, 0.0, 0.0, 40.545, 0.0, 0.0, 0.0, 0.0, 39.115, 0.0, 0.0, 8.215, 0.0, 14.14, 40.92, 40.45, 8.86, 38.57, 34.0, 0.0, 27.08, 0.0, 0.0, 39.47, 40.53, 11.11, 20.895, 20.01, 15.57, 0.0, 0.0, 0.0, 16.34, 0.0, 0.0, 0.0, 38.555, 0.0, 0.0, 0.0, 0.0, 0.0, 0.0, 0.0, 0.0, 13.625, 9.025, 14.96, 25.81, 24.885, 3.05, 10.725000000000001, 0.0, 27.06, 17.015, 0.0, 27.92, 15.025, 37.47, 3.18, 0.0, 0.0, 0.0, 15.93, 0.0, 12.985, 38.19, 3.16, 0.0, 14.005, 0.02, 7.455, 0.0, 0.0, 40.94, 0.0, 0.0, 30.12, 0.0, 14.66, 14.97, 0.0, 16.06, 19.4, 0.0, 40.55, 16.2, 40.55, 23.81, 12.965, 10.615, 0.0, 0.0, 15.05, 3.08, 0.0, 16.78, 0.0, 0.0, 40.595, 0.0, 38.845, 0.0, 15.0, 23.665, 23.475, 0.0, 0.0, 0.0, 0.0, 0.0, 22.53, 8.7, 0.0, 0.0, 9.969999999999999, 16.99, 40.545, 1.525, 0.0, 35.97, 16.06, 0.0, 15.05, 0.0, 3.13, 0.0, 0.0, 0.0, 0.0, 0.0, 39.015, 15.535, 23.01, 14.59, 3.16, 40.6, 18.06, 39.015, 32.94, 21.32, 0.0, 3.01, 27.92, 8.11, 9.95, 30.04, 0.0, 3.22, 35.91, 0.0, 0.0, 0.0, 22.439999999999998, 0.0, 16.165, 0.0, 0.0, 3.2, 0.0, 0.0, 0.0, 40.48, 0.0, 35.43, 0.0, 39.925, 39.28, 0.0, 24.605, 3.75, 0.955, 0.0, 0.0, 0.0, 26.35, 18.645, 40.43, 37.955, 0.0, 10.07, 39.12, 15.01, 0.0, 12.17, 0.0, 23.575000000000003, 20.04, 0.0, 38.82, 0.0, 0.0, 15.83, 0.0, 0.09, 0.0, 35.9, 0.0, 16.25, 0.0, 0.0, 0.0, 0.0, 40.57, 0.0, 0.0, 0.0, 39.0, 16.08, 20.23, 0.0, 16.08, 39.125, 0.0, 0.0, 0.0, 0.0, 15.06, 0.0, 0.0, 35.94, 3.06, 38.15, 0.0, 9.755, 0.0, 23.46, 27.97, 39.48, 20.39, 0.0, 0.0, 20.0, 0.0, 0.0, 40.505, 0.0, 0.0, 0.0, 0.0, 0.0, 0.0, 0.0, 0.0, 0.0, 14.005, 27.965, 0.0, 33.94, 0.0, 8.905, 23.1, 16.44, 38.565, 0.0, 0.0, 0.0, 0.0, 0.0, 0.0, 0.0, 0.0, 14.11, 3.05, 3.09, 3.7, 0.0, 24.005, 0.0, 3.68, 0.0, 0.0, 40.89, 17.455000000000002, 39.15, 30.0, 0.0, 16.24, 17.36, 3.65, 0.0, 0.0, 0.0, 0.0, 23.465, 16.18, 18.87, 23.53, 0.0, 0.0, 3.13, 0.0, 0.0, 0.0, 40.585, 23.6, 0.0, 37.45, 32.09, 40.85, 0.0, 33.02, 0.0, 24.575, 0.0, 28.15, 0.0, 8.995000000000001, 0.0, 3.05, 0.0, 24.0, 10.295, 0.0, 0.0, 40.545, 0.0, 15.0, 35.43, 16.78, 16.37, 35.95, 36.0, 14.89, 10.08, 18.595, 0.0, 16.24, 0.0, 19.08, 39.105, 36.755, 8.09, 8.13, 0.0, 40.495, 0.0, 0.0, 0.0, 0.0, 0.0, 24.01, 12.68, 0.0, 0.0, 0.0, 39.525, 32.17, 30.04, 0.0, 8.585, 39.205, 39.15, 39.155, 30.05, 0.0, 0.0, 0.0, 15.04, 0.0, 16.2, 40.525, 0.0, 0.0, 28.02, 0.0, 0.0, 26.7, 27.93, 0.0, 28.0, 40.52, 0.0, 17.03, 9.975, 0.0, 24.065, 16.02, 0.0, 16.99, 0.0, 33.91, 39.27, 14.89, 0.0, 22.91, 0.0, 27.925, 38.21, 13.995, 0.0, 0.0, 0.0, 0.0, 0.0, 40.505, 0.0, 16.42, 29.5, 15.0, 7.915, 0.0, 0.0, 22.22, 0.525, 14.74, 35.92, 0.0, 16.05, 9.04, 16.1, 39.42, 8.42, 0.0, 0.0, 16.075, 0.0, 25.84, 24.025, 0.0, 40.565, 35.97, 0.0, 40.485, 30.03, 0.0, 3.17, 23.985, 0.0, 0.0, 0.0, 3.09, 8.12, 39.025, 0.0, 0.0, 0.0, 0.0, 35.46, 0.0, 7.965, 0.0, 0.0, 0.0, 0.0, 18.924999999999997, 0.0, 7.44, 0.0, 0.0, 16.34, 0.0, 0.0, 3.12, 0.0, 3.05, 0.0, 0.0, 8.115, 0.0, 3.15, 38.24, 0.0, 7.485, 0.0, 0.0, 3.12, 14.62, 19.295, 0.0, 0.0, 0.0, 0.0, 0.0, 0.0, 0.0, 40.47, 16.07, 0.0, 37.975, 15.04, 14.09, 0.0, 40.545, 0.0, 0.0, 0.0, 40.605, 0.0, 22.83, 24.515, 0.0, 17.015, 0.0, 35.95, 8.405, 0.0, 0.0, 17.21, 0.0, 2.99, 3.7, 22.195, 0.0, 0.0, 38.56, 0.0, 38.86, 21.14, 22.485, 16.14, 37.955, 8.51, 27.035, 16.715, 0.55, 25.25, 40.86, 24.49, 10.0, 0.0, 0.0, 0.0, 35.9, 40.51, 25.5, 18.595, 0.0, 0.0, 0.0, 0.0, 0.0, 0.0, 0.0, 0.0, 35.94, 3.1, 38.555, 0.0, 0.0, 40.545, 0.0, 39.15, 28.35, 0.0, 0.0, 0.0, 0.0, 0.0, 1.9, 35.46, 39.57, 0.0, 0.0, 15.445, 14.85, 15.02, 0.0, 0.0, 0.0, 3.67, 39.205, 30.1, 8.09, 30.04, 39.205, 0.0, 0.0, 0.0, 12.965, 0.0, 0.0, 0.0, 0.0, 26.18, 0.0, 0.0, 0.0, 0.0, 0.0, 17.025, 0.0, 0.0, 16.22, 0.0, 0.0, 23.81, 9.715, 14.66, 0.0, 0.0, 0.0, 34.04, 0.0, 38.63, 0.0, 0.0, 8.605, 0.0, 28.03, 0.0, 0.0, 0.0, 0.0, 0.0, 3.08, 39.125, 23.58, 11.525, 0.0, 14.76, 1.97, 0.0, 39.535, 0.0, 23.98, 15.94, 0.0, 0.0, 15.02, 0.0, 16.085, 0.0, 16.93, 16.875, 0.0, 39.045, 38.65, 0.0, 0.0, 0.0, 0.0, 16.985, 33.9, 14.005, 38.9, 37.975, 0.0]}],\n",
              "                        {\"template\": {\"data\": {\"bar\": [{\"error_x\": {\"color\": \"#2a3f5f\"}, \"error_y\": {\"color\": \"#2a3f5f\"}, \"marker\": {\"line\": {\"color\": \"#E5ECF6\", \"width\": 0.5}}, \"type\": \"bar\"}], \"barpolar\": [{\"marker\": {\"line\": {\"color\": \"#E5ECF6\", \"width\": 0.5}}, \"type\": \"barpolar\"}], \"carpet\": [{\"aaxis\": {\"endlinecolor\": \"#2a3f5f\", \"gridcolor\": \"white\", \"linecolor\": \"white\", \"minorgridcolor\": \"white\", \"startlinecolor\": \"#2a3f5f\"}, \"baxis\": {\"endlinecolor\": \"#2a3f5f\", \"gridcolor\": \"white\", \"linecolor\": \"white\", \"minorgridcolor\": \"white\", \"startlinecolor\": \"#2a3f5f\"}, \"type\": \"carpet\"}], \"choropleth\": [{\"colorbar\": {\"outlinewidth\": 0, \"ticks\": \"\"}, \"type\": \"choropleth\"}], \"contour\": [{\"colorbar\": {\"outlinewidth\": 0, \"ticks\": \"\"}, \"colorscale\": [[0.0, \"#0d0887\"], [0.1111111111111111, \"#46039f\"], [0.2222222222222222, \"#7201a8\"], [0.3333333333333333, \"#9c179e\"], [0.4444444444444444, \"#bd3786\"], [0.5555555555555556, \"#d8576b\"], [0.6666666666666666, \"#ed7953\"], [0.7777777777777778, \"#fb9f3a\"], [0.8888888888888888, \"#fdca26\"], [1.0, \"#f0f921\"]], \"type\": \"contour\"}], \"contourcarpet\": [{\"colorbar\": {\"outlinewidth\": 0, \"ticks\": \"\"}, \"type\": \"contourcarpet\"}], \"heatmap\": [{\"colorbar\": {\"outlinewidth\": 0, \"ticks\": \"\"}, \"colorscale\": [[0.0, \"#0d0887\"], [0.1111111111111111, \"#46039f\"], [0.2222222222222222, \"#7201a8\"], [0.3333333333333333, \"#9c179e\"], [0.4444444444444444, \"#bd3786\"], [0.5555555555555556, \"#d8576b\"], [0.6666666666666666, \"#ed7953\"], [0.7777777777777778, \"#fb9f3a\"], [0.8888888888888888, \"#fdca26\"], [1.0, \"#f0f921\"]], \"type\": \"heatmap\"}], \"heatmapgl\": [{\"colorbar\": {\"outlinewidth\": 0, \"ticks\": \"\"}, \"colorscale\": [[0.0, \"#0d0887\"], [0.1111111111111111, \"#46039f\"], [0.2222222222222222, \"#7201a8\"], [0.3333333333333333, \"#9c179e\"], [0.4444444444444444, \"#bd3786\"], [0.5555555555555556, \"#d8576b\"], [0.6666666666666666, \"#ed7953\"], [0.7777777777777778, \"#fb9f3a\"], [0.8888888888888888, \"#fdca26\"], [1.0, \"#f0f921\"]], \"type\": \"heatmapgl\"}], \"histogram\": [{\"marker\": {\"colorbar\": {\"outlinewidth\": 0, \"ticks\": \"\"}}, \"type\": \"histogram\"}], \"histogram2d\": [{\"colorbar\": {\"outlinewidth\": 0, \"ticks\": \"\"}, \"colorscale\": [[0.0, \"#0d0887\"], [0.1111111111111111, \"#46039f\"], [0.2222222222222222, \"#7201a8\"], [0.3333333333333333, \"#9c179e\"], [0.4444444444444444, \"#bd3786\"], [0.5555555555555556, \"#d8576b\"], [0.6666666666666666, \"#ed7953\"], [0.7777777777777778, \"#fb9f3a\"], [0.8888888888888888, \"#fdca26\"], [1.0, \"#f0f921\"]], \"type\": \"histogram2d\"}], \"histogram2dcontour\": [{\"colorbar\": {\"outlinewidth\": 0, \"ticks\": \"\"}, \"colorscale\": [[0.0, \"#0d0887\"], [0.1111111111111111, \"#46039f\"], [0.2222222222222222, \"#7201a8\"], [0.3333333333333333, \"#9c179e\"], [0.4444444444444444, \"#bd3786\"], [0.5555555555555556, \"#d8576b\"], [0.6666666666666666, \"#ed7953\"], [0.7777777777777778, \"#fb9f3a\"], [0.8888888888888888, \"#fdca26\"], [1.0, \"#f0f921\"]], \"type\": \"histogram2dcontour\"}], \"mesh3d\": [{\"colorbar\": {\"outlinewidth\": 0, \"ticks\": \"\"}, \"type\": \"mesh3d\"}], \"parcoords\": [{\"line\": {\"colorbar\": {\"outlinewidth\": 0, \"ticks\": \"\"}}, \"type\": \"parcoords\"}], \"pie\": [{\"automargin\": true, \"type\": \"pie\"}], \"scatter\": [{\"marker\": {\"colorbar\": {\"outlinewidth\": 0, \"ticks\": \"\"}}, \"type\": \"scatter\"}], \"scatter3d\": [{\"line\": {\"colorbar\": {\"outlinewidth\": 0, \"ticks\": \"\"}}, \"marker\": {\"colorbar\": {\"outlinewidth\": 0, \"ticks\": \"\"}}, \"type\": \"scatter3d\"}], \"scattercarpet\": [{\"marker\": {\"colorbar\": {\"outlinewidth\": 0, \"ticks\": \"\"}}, \"type\": \"scattercarpet\"}], \"scattergeo\": [{\"marker\": {\"colorbar\": {\"outlinewidth\": 0, \"ticks\": \"\"}}, \"type\": \"scattergeo\"}], \"scattergl\": [{\"marker\": {\"colorbar\": {\"outlinewidth\": 0, \"ticks\": \"\"}}, \"type\": \"scattergl\"}], \"scattermapbox\": [{\"marker\": {\"colorbar\": {\"outlinewidth\": 0, \"ticks\": \"\"}}, \"type\": \"scattermapbox\"}], \"scatterpolar\": [{\"marker\": {\"colorbar\": {\"outlinewidth\": 0, \"ticks\": \"\"}}, \"type\": \"scatterpolar\"}], \"scatterpolargl\": [{\"marker\": {\"colorbar\": {\"outlinewidth\": 0, \"ticks\": \"\"}}, \"type\": \"scatterpolargl\"}], \"scatterternary\": [{\"marker\": {\"colorbar\": {\"outlinewidth\": 0, \"ticks\": \"\"}}, \"type\": \"scatterternary\"}], \"surface\": [{\"colorbar\": {\"outlinewidth\": 0, \"ticks\": \"\"}, \"colorscale\": [[0.0, \"#0d0887\"], [0.1111111111111111, \"#46039f\"], [0.2222222222222222, \"#7201a8\"], [0.3333333333333333, \"#9c179e\"], [0.4444444444444444, \"#bd3786\"], [0.5555555555555556, \"#d8576b\"], [0.6666666666666666, \"#ed7953\"], [0.7777777777777778, \"#fb9f3a\"], [0.8888888888888888, \"#fdca26\"], [1.0, \"#f0f921\"]], \"type\": \"surface\"}], \"table\": [{\"cells\": {\"fill\": {\"color\": \"#EBF0F8\"}, \"line\": {\"color\": \"white\"}}, \"header\": {\"fill\": {\"color\": \"#C8D4E3\"}, \"line\": {\"color\": \"white\"}}, \"type\": \"table\"}]}, \"layout\": {\"annotationdefaults\": {\"arrowcolor\": \"#2a3f5f\", \"arrowhead\": 0, \"arrowwidth\": 1}, \"coloraxis\": {\"colorbar\": {\"outlinewidth\": 0, \"ticks\": \"\"}}, \"colorscale\": {\"diverging\": [[0, \"#8e0152\"], [0.1, \"#c51b7d\"], [0.2, \"#de77ae\"], [0.3, \"#f1b6da\"], [0.4, \"#fde0ef\"], [0.5, \"#f7f7f7\"], [0.6, \"#e6f5d0\"], [0.7, \"#b8e186\"], [0.8, \"#7fbc41\"], [0.9, \"#4d9221\"], [1, \"#276419\"]], \"sequential\": [[0.0, \"#0d0887\"], [0.1111111111111111, \"#46039f\"], [0.2222222222222222, \"#7201a8\"], [0.3333333333333333, \"#9c179e\"], [0.4444444444444444, \"#bd3786\"], [0.5555555555555556, \"#d8576b\"], [0.6666666666666666, \"#ed7953\"], [0.7777777777777778, \"#fb9f3a\"], [0.8888888888888888, \"#fdca26\"], [1.0, \"#f0f921\"]], \"sequentialminus\": [[0.0, \"#0d0887\"], [0.1111111111111111, \"#46039f\"], [0.2222222222222222, \"#7201a8\"], [0.3333333333333333, \"#9c179e\"], [0.4444444444444444, \"#bd3786\"], [0.5555555555555556, \"#d8576b\"], [0.6666666666666666, \"#ed7953\"], [0.7777777777777778, \"#fb9f3a\"], [0.8888888888888888, \"#fdca26\"], [1.0, \"#f0f921\"]]}, \"colorway\": [\"#636efa\", \"#EF553B\", \"#00cc96\", \"#ab63fa\", \"#FFA15A\", \"#19d3f3\", \"#FF6692\", \"#B6E880\", \"#FF97FF\", \"#FECB52\"], \"font\": {\"color\": \"#2a3f5f\"}, \"geo\": {\"bgcolor\": \"white\", \"lakecolor\": \"white\", \"landcolor\": \"#E5ECF6\", \"showlakes\": true, \"showland\": true, \"subunitcolor\": \"white\"}, \"hoverlabel\": {\"align\": \"left\"}, \"hovermode\": \"closest\", \"mapbox\": {\"style\": \"light\"}, \"paper_bgcolor\": \"white\", \"plot_bgcolor\": \"#E5ECF6\", \"polar\": {\"angularaxis\": {\"gridcolor\": \"white\", \"linecolor\": \"white\", \"ticks\": \"\"}, \"bgcolor\": \"#E5ECF6\", \"radialaxis\": {\"gridcolor\": \"white\", \"linecolor\": \"white\", \"ticks\": \"\"}}, \"scene\": {\"xaxis\": {\"backgroundcolor\": \"#E5ECF6\", \"gridcolor\": \"white\", \"gridwidth\": 2, \"linecolor\": \"white\", \"showbackground\": true, \"ticks\": \"\", \"zerolinecolor\": \"white\"}, \"yaxis\": {\"backgroundcolor\": \"#E5ECF6\", \"gridcolor\": \"white\", \"gridwidth\": 2, \"linecolor\": \"white\", \"showbackground\": true, \"ticks\": \"\", \"zerolinecolor\": \"white\"}, \"zaxis\": {\"backgroundcolor\": \"#E5ECF6\", \"gridcolor\": \"white\", \"gridwidth\": 2, \"linecolor\": \"white\", \"showbackground\": true, \"ticks\": \"\", \"zerolinecolor\": \"white\"}}, \"shapedefaults\": {\"line\": {\"color\": \"#2a3f5f\"}}, \"ternary\": {\"aaxis\": {\"gridcolor\": \"white\", \"linecolor\": \"white\", \"ticks\": \"\"}, \"baxis\": {\"gridcolor\": \"white\", \"linecolor\": \"white\", \"ticks\": \"\"}, \"bgcolor\": \"#E5ECF6\", \"caxis\": {\"gridcolor\": \"white\", \"linecolor\": \"white\", \"ticks\": \"\"}}, \"title\": {\"x\": 0.05}, \"xaxis\": {\"automargin\": true, \"gridcolor\": \"white\", \"linecolor\": \"white\", \"ticks\": \"\", \"title\": {\"standoff\": 15}, \"zerolinecolor\": \"white\", \"zerolinewidth\": 2}, \"yaxis\": {\"automargin\": true, \"gridcolor\": \"white\", \"linecolor\": \"white\", \"ticks\": \"\", \"title\": {\"standoff\": 15}, \"zerolinecolor\": \"white\", \"zerolinewidth\": 2}}}, \"title\": {\"text\": \"Return(Days)\"}},\n",
              "                        {\"responsive\": true}\n",
              "                    ).then(function(){\n",
              "                            \n",
              "var gd = document.getElementById('89485df7-c73e-4eef-940a-e4286c50c4fa');\n",
              "var x = new MutationObserver(function (mutations, observer) {{\n",
              "        var display = window.getComputedStyle(gd).display;\n",
              "        if (!display || display === 'none') {{\n",
              "            console.log([gd, 'removed!']);\n",
              "            Plotly.purge(gd);\n",
              "            observer.disconnect();\n",
              "        }}\n",
              "}});\n",
              "\n",
              "// Listen for the removal of the full notebook cells\n",
              "var notebookContainer = gd.closest('#notebook-container');\n",
              "if (notebookContainer) {{\n",
              "    x.observe(notebookContainer, {childList: true});\n",
              "}}\n",
              "\n",
              "// Listen for the clearing of the current output cell\n",
              "var outputEl = gd.closest('.output');\n",
              "if (outputEl) {{\n",
              "    x.observe(outputEl, {childList: true});\n",
              "}}\n",
              "\n",
              "                        })\n",
              "                };\n",
              "                \n",
              "            </script>\n",
              "        </div>\n",
              "</body>\n",
              "</html>"
            ]
          },
          "metadata": {
            "tags": []
          }
        }
      ]
    },
    {
      "cell_type": "markdown",
      "metadata": {
        "id": "MvbUGohuJ9kp"
      },
      "source": [
        "## Clustering with RFM-AR"
      ]
    },
    {
      "cell_type": "code",
      "metadata": {
        "colab": {
          "base_uri": "https://localhost:8080/",
          "height": 290
        },
        "id": "Cwd3CIzXJ53Q",
        "outputId": "fc80eb93-e3d7-417a-9c74-56af9d5a5b91"
      },
      "source": [
        "sse = {}\n",
        "recency_df = rfm_df[[\"Recency\"]]\n",
        "for i in range(1,10):\n",
        "    model = KMeans(n_clusters=i, max_iter=1000).fit(recency_df)\n",
        "    recency_df[\"recency_c\"] = model.labels_\n",
        "    sse[i] = model.inertia_\n",
        "plt.figure()\n",
        "plt.plot(list(sse.keys()), list(sse.values()))\n",
        "plt.xlabel(\"N Cluster\")\n",
        "plt.show()"
      ],
      "execution_count": null,
      "outputs": [
        {
          "output_type": "display_data",
          "data": {
            "image/png": "[encoded data removed]",
            "text/plain": [
              "<Figure size 432x288 with 1 Axes>"
            ]
          },
          "metadata": {
            "tags": [],
            "needs_background": "light"
          }
        }
      ]
    },
    {
      "cell_type": "code",
      "metadata": {
        "colab": {
          "base_uri": "https://localhost:8080/",
          "height": 290
        },
        "id": "71yJg6RwJ_ro",
        "outputId": "a6327635-464a-46ac-f60f-9d11b7fec176"
      },
      "source": [
        "sse = {}\n",
        "frequency_df = rfm_df[[\"Frequency\"]]\n",
        "for i in range(1,10):\n",
        "    model = KMeans(n_clusters=i, max_iter=1000).fit(recency_df)\n",
        "    frequency_df[\"frequency_c\"] = model.labels_\n",
        "    sse[i] = model.inertia_\n",
        "plt.figure()\n",
        "plt.plot(list(sse.keys()), list(sse.values()))\n",
        "plt.xlabel(\"N Cluster\")\n",
        "plt.show()"
      ],
      "execution_count": null,
      "outputs": [
        {
          "output_type": "display_data",
          "data": {
            "image/png": "[encoded data removed]",
            "text/plain": [
              "<Figure size 432x288 with 1 Axes>"
            ]
          },
          "metadata": {
            "tags": [],
            "needs_background": "light"
          }
        }
      ]
    },
    {
      "cell_type": "code",
      "metadata": {
        "colab": {
          "base_uri": "https://localhost:8080/",
          "height": 290
        },
        "id": "V8MI30wUKiTS",
        "outputId": "124f55b2-33b5-49bf-c183-a97ace4faaf6"
      },
      "source": [
        "sse = {}\n",
        "monetary_df = rfm_df[[\"Monetary\"]]\n",
        "for i in range(1,10):\n",
        "    model = KMeans(n_clusters=i, max_iter=1000).fit(recency_df)\n",
        "    monetary_df[\"monetary_c\"] = model.labels_\n",
        "    sse[i] = model.inertia_\n",
        "plt.figure()\n",
        "plt.plot(list(sse.keys()), list(sse.values()))\n",
        "plt.xlabel(\"N Cluster\")\n",
        "plt.show()"
      ],
      "execution_count": null,
      "outputs": [
        {
          "output_type": "display_data",
          "data": {
            "image/png": "[encoded data removed]",
            "text/plain": [
              "<Figure size 432x288 with 1 Axes>"
            ]
          },
          "metadata": {
            "tags": [],
            "needs_background": "light"
          }
        }
      ]
    },
    {
      "cell_type": "code",
      "metadata": {
        "colab": {
          "base_uri": "https://localhost:8080/",
          "height": 290
        },
        "id": "sSeEt1UkKj6H",
        "outputId": "018a8279-db88-4bb1-9fce-d4b8fdbedffd"
      },
      "source": [
        "sse = {}\n",
        "frequency_df = rfm_df[[\"Age(Days)\"]]\n",
        "for i in range(1,10):\n",
        "    model = KMeans(n_clusters=i, max_iter=1000).fit(recency_df)\n",
        "    frequency_df[\"age_c\"] = model.labels_\n",
        "    sse[i] = model.inertia_\n",
        "plt.figure()\n",
        "plt.plot(list(sse.keys()), list(sse.values()))\n",
        "plt.xlabel(\"N Cluster\")\n",
        "plt.show()"
      ],
      "execution_count": null,
      "outputs": [
        {
          "output_type": "display_data",
          "data": {
            "image/png": "[encoded data removed]",
            "text/plain": [
              "<Figure size 432x288 with 1 Axes>"
            ]
          },
          "metadata": {
            "tags": [],
            "needs_background": "light"
          }
        }
      ]
    },
    {
      "cell_type": "code",
      "metadata": {
        "colab": {
          "base_uri": "https://localhost:8080/",
          "height": 290
        },
        "id": "xQ0hC2LvKvm-",
        "outputId": "f0c778c0-7a80-4753-f222-9072b4b3ef6e"
      },
      "source": [
        "#rename column\n",
        "rfm_df.rename({\"avgDistance\":\"Return(Days)\"},axis=1,inplace=True)\n",
        "\n",
        "sse = {}\n",
        "frequency_df = rfm_df[[\"Return(Days)\"]]\n",
        "for i in range(1,10):\n",
        "    model = KMeans(n_clusters=i, max_iter=1000).fit(recency_df)\n",
        "    frequency_df[\"return_c\"] = model.labels_\n",
        "    sse[i] = model.inertia_\n",
        "plt.figure()\n",
        "plt.plot(list(sse.keys()), list(sse.values()))\n",
        "plt.xlabel(\"N Cluster\")\n",
        "plt.show()"
      ],
      "execution_count": null,
      "outputs": [
        {
          "output_type": "display_data",
          "data": {
            "image/png": "[encoded data removed]",
            "text/plain": [
              "<Figure size 432x288 with 1 Axes>"
            ]
          },
          "metadata": {
            "tags": [],
            "needs_background": "light"
          }
        }
      ]
    },
    {
      "cell_type": "code",
      "metadata": {
        "colab": {
          "base_uri": "https://localhost:8080/",
          "height": 406
        },
        "id": "Ql5CUjn7K9VL",
        "outputId": "b7000b72-1061-4cbf-ecbf-a68ea329e04c"
      },
      "source": [
        "rfm_df.sort_values('Frequency', ascending=False)"
      ],
      "execution_count": null,
      "outputs": [
        {
          "output_type": "execute_result",
          "data": {
            "text/html": [
              "<div>\n",
              "<style scoped>\n",
              "    .dataframe tbody tr th:only-of-type {\n",
              "        vertical-align: middle;\n",
              "    }\n",
              "\n",
              "    .dataframe tbody tr th {\n",
              "        vertical-align: top;\n",
              "    }\n",
              "\n",
              "    .dataframe thead th {\n",
              "        text-align: right;\n",
              "    }\n",
              "</style>\n",
              "<table border=\"1\" class=\"dataframe\">\n",
              "  <thead>\n",
              "    <tr style=\"text-align: right;\">\n",
              "      <th></th>\n",
              "      <th>CustomerID</th>\n",
              "      <th>Monetary</th>\n",
              "      <th>Recency</th>\n",
              "      <th>Frequency</th>\n",
              "      <th>Age(Days)</th>\n",
              "      <th>Return(Days)</th>\n",
              "    </tr>\n",
              "  </thead>\n",
              "  <tbody>\n",
              "    <tr>\n",
              "      <th>983</th>\n",
              "      <td>983</td>\n",
              "      <td>2602300</td>\n",
              "      <td>143.85</td>\n",
              "      <td>28</td>\n",
              "      <td>144.86</td>\n",
              "      <td>0.020</td>\n",
              "    </tr>\n",
              "    <tr>\n",
              "      <th>527</th>\n",
              "      <td>527</td>\n",
              "      <td>4287600</td>\n",
              "      <td>52.85</td>\n",
              "      <td>14</td>\n",
              "      <td>133.20</td>\n",
              "      <td>0.055</td>\n",
              "    </tr>\n",
              "    <tr>\n",
              "      <th>887</th>\n",
              "      <td>887</td>\n",
              "      <td>719300</td>\n",
              "      <td>34.34</td>\n",
              "      <td>8</td>\n",
              "      <td>113.27</td>\n",
              "      <td>0.000</td>\n",
              "    </tr>\n",
              "    <tr>\n",
              "      <th>560</th>\n",
              "      <td>560</td>\n",
              "      <td>1145800</td>\n",
              "      <td>32.30</td>\n",
              "      <td>6</td>\n",
              "      <td>107.03</td>\n",
              "      <td>11.820</td>\n",
              "    </tr>\n",
              "    <tr>\n",
              "      <th>74</th>\n",
              "      <td>74</td>\n",
              "      <td>298800</td>\n",
              "      <td>40.30</td>\n",
              "      <td>5</td>\n",
              "      <td>117.24</td>\n",
              "      <td>14.970</td>\n",
              "    </tr>\n",
              "    <tr>\n",
              "      <th>...</th>\n",
              "      <td>...</td>\n",
              "      <td>...</td>\n",
              "      <td>...</td>\n",
              "      <td>...</td>\n",
              "      <td>...</td>\n",
              "      <td>...</td>\n",
              "    </tr>\n",
              "    <tr>\n",
              "      <th>713</th>\n",
              "      <td>713</td>\n",
              "      <td>495000</td>\n",
              "      <td>148.15</td>\n",
              "      <td>1</td>\n",
              "      <td>148.15</td>\n",
              "      <td>0.000</td>\n",
              "    </tr>\n",
              "    <tr>\n",
              "      <th>714</th>\n",
              "      <td>714</td>\n",
              "      <td>259200</td>\n",
              "      <td>146.90</td>\n",
              "      <td>1</td>\n",
              "      <td>146.90</td>\n",
              "      <td>0.000</td>\n",
              "    </tr>\n",
              "    <tr>\n",
              "      <th>715</th>\n",
              "      <td>715</td>\n",
              "      <td>252200</td>\n",
              "      <td>77.07</td>\n",
              "      <td>1</td>\n",
              "      <td>77.07</td>\n",
              "      <td>0.000</td>\n",
              "    </tr>\n",
              "    <tr>\n",
              "      <th>716</th>\n",
              "      <td>716</td>\n",
              "      <td>21250</td>\n",
              "      <td>0.07</td>\n",
              "      <td>1</td>\n",
              "      <td>0.07</td>\n",
              "      <td>0.000</td>\n",
              "    </tr>\n",
              "    <tr>\n",
              "      <th>1550</th>\n",
              "      <td>1550</td>\n",
              "      <td>166800</td>\n",
              "      <td>145.08</td>\n",
              "      <td>1</td>\n",
              "      <td>145.08</td>\n",
              "      <td>0.000</td>\n",
              "    </tr>\n",
              "  </tbody>\n",
              "</table>\n",
              "<p>1551 rows × 6 columns</p>\n",
              "</div>"
            ],
            "text/plain": [
              "      CustomerID  Monetary  Recency  Frequency  Age(Days)  Return(Days)\n",
              "983          983   2602300   143.85         28     144.86         0.020\n",
              "527          527   4287600    52.85         14     133.20         0.055\n",
              "887          887    719300    34.34          8     113.27         0.000\n",
              "560          560   1145800    32.30          6     107.03        11.820\n",
              "74            74    298800    40.30          5     117.24        14.970\n",
              "...          ...       ...      ...        ...        ...           ...\n",
              "713          713    495000   148.15          1     148.15         0.000\n",
              "714          714    259200   146.90          1     146.90         0.000\n",
              "715          715    252200    77.07          1      77.07         0.000\n",
              "716          716     21250     0.07          1       0.07         0.000\n",
              "1550        1550    166800   145.08          1     145.08         0.000\n",
              "\n",
              "[1551 rows x 6 columns]"
            ]
          },
          "metadata": {
            "tags": []
          },
          "execution_count": 79
        }
      ]
    },
    {
      "cell_type": "code",
      "metadata": {
        "id": "S-Z07DbFDDeL"
      },
      "source": [
        "rfm_df.to_excel(\"/content/drive/My Drive/Dataset_Literata/10. RFM-AR_Complate.xlsx\", index=False)"
      ],
      "execution_count": null,
      "outputs": []
    },
    {
      "cell_type": "markdown",
      "metadata": {
        "id": "JaE2l6_sLtBU"
      },
      "source": [
        "## Clustering With K-MEANS"
      ]
    },
    {
      "cell_type": "code",
      "metadata": {
        "id": "pHlPHkIVLnV_"
      },
      "source": [
        "#define function to reorder cluster\n",
        "def reorder_cluster(var,target_var,df,ascending):\n",
        "    \n",
        "    #grouping by recency group\n",
        "    df_new = df.groupby(var)[target_var].mean().reset_index()\n",
        "    #sort values and set index\n",
        "    df_new = df_new.sort_values(by=target_var,ascending=ascending).reset_index(drop=True)  \n",
        "    \n",
        "    #replace cluster with index\n",
        "    df_new['index'] = df_new.index\n",
        "    df_final = pd.merge(df,df_new[[var,'index']], on=var)    \n",
        "    df_final = df_final.drop([var],axis=1)\n",
        "    df_final = df_final.rename(columns={\"index\":var})\n",
        "    return df_final"
      ],
      "execution_count": null,
      "outputs": []
    },
    {
      "cell_type": "code",
      "metadata": {
        "id": "LjekqHwwLrc7"
      },
      "source": [
        "model = KMeans(n_clusters=4, max_iter=1000)\n",
        "model.fit(rfm_df[[\"Recency\"]])\n",
        "rfm_df[\"recency_c2\"] = model.predict(rfm_df[[\"Recency\"]])\n",
        "rfm_df = reorder_cluster(\"recency_c2\",\"Recency\",rfm_df,ascending=False)"
      ],
      "execution_count": null,
      "outputs": []
    },
    {
      "cell_type": "code",
      "metadata": {
        "id": "k9FB9VZfLwpe"
      },
      "source": [
        "model = KMeans(n_clusters=4, max_iter=1000)\n",
        "model.fit(rfm_df[[\"Frequency\"]])\n",
        "rfm_df[\"frequency_c2\"] = model.predict(rfm_df[[\"Frequency\"]])\n",
        "rfm_df = reorder_cluster(\"frequency_c2\",\"Frequency\",rfm_df,ascending=True)"
      ],
      "execution_count": null,
      "outputs": []
    },
    {
      "cell_type": "code",
      "metadata": {
        "id": "F5miuVbCLxlm"
      },
      "source": [
        "model = KMeans(n_clusters=4, max_iter=1000)\n",
        "model.fit(rfm_df[[\"Monetary\"]])\n",
        "rfm_df[\"monetary_c2\"] = model.predict(rfm_df[[\"Monetary\"]])\n",
        "rfm_df = reorder_cluster(\"monetary_c2\",\"Monetary\",rfm_df,ascending=True)"
      ],
      "execution_count": null,
      "outputs": []
    },
    {
      "cell_type": "code",
      "metadata": {
        "id": "QpkdpOqnLyfm"
      },
      "source": [
        "model = KMeans(n_clusters=4, max_iter=1000)\n",
        "model.fit(rfm_df[[\"Age(Days)\"]])\n",
        "rfm_df[\"age_c2\"] = model.predict(rfm_df[[\"Age(Days)\"]])\n",
        "rfm_df = reorder_cluster(\"age_c2\",\"Age(Days)\",rfm_df,ascending=True)"
      ],
      "execution_count": null,
      "outputs": []
    },
    {
      "cell_type": "code",
      "metadata": {
        "colab": {
          "base_uri": "https://localhost:8080/",
          "height": 197
        },
        "id": "Wy6K3uiILzaz",
        "outputId": "849b8fa2-d923-4c14-b1d8-53162c9d7ecf"
      },
      "source": [
        "rfm_df.groupby(\"recency_c2\")[\"Recency\"].describe()"
      ],
      "execution_count": null,
      "outputs": [
        {
          "output_type": "execute_result",
          "data": {
            "text/html": [
              "<div>\n",
              "<style scoped>\n",
              "    .dataframe tbody tr th:only-of-type {\n",
              "        vertical-align: middle;\n",
              "    }\n",
              "\n",
              "    .dataframe tbody tr th {\n",
              "        vertical-align: top;\n",
              "    }\n",
              "\n",
              "    .dataframe thead th {\n",
              "        text-align: right;\n",
              "    }\n",
              "</style>\n",
              "<table border=\"1\" class=\"dataframe\">\n",
              "  <thead>\n",
              "    <tr style=\"text-align: right;\">\n",
              "      <th></th>\n",
              "      <th>count</th>\n",
              "      <th>mean</th>\n",
              "      <th>std</th>\n",
              "      <th>min</th>\n",
              "      <th>25%</th>\n",
              "      <th>50%</th>\n",
              "      <th>75%</th>\n",
              "      <th>max</th>\n",
              "    </tr>\n",
              "    <tr>\n",
              "      <th>recency_c2</th>\n",
              "      <th></th>\n",
              "      <th></th>\n",
              "      <th></th>\n",
              "      <th></th>\n",
              "      <th></th>\n",
              "      <th></th>\n",
              "      <th></th>\n",
              "      <th></th>\n",
              "    </tr>\n",
              "  </thead>\n",
              "  <tbody>\n",
              "    <tr>\n",
              "      <th>0</th>\n",
              "      <td>310.0</td>\n",
              "      <td>143.267000</td>\n",
              "      <td>9.471416</td>\n",
              "      <td>121.86</td>\n",
              "      <td>143.0925</td>\n",
              "      <td>146.87</td>\n",
              "      <td>149.895</td>\n",
              "      <td>152.35</td>\n",
              "    </tr>\n",
              "    <tr>\n",
              "      <th>1</th>\n",
              "      <td>258.0</td>\n",
              "      <td>89.563101</td>\n",
              "      <td>11.538293</td>\n",
              "      <td>69.99</td>\n",
              "      <td>78.1125</td>\n",
              "      <td>93.19</td>\n",
              "      <td>97.235</td>\n",
              "      <td>113.23</td>\n",
              "    </tr>\n",
              "    <tr>\n",
              "      <th>2</th>\n",
              "      <td>521.0</td>\n",
              "      <td>49.777409</td>\n",
              "      <td>9.804257</td>\n",
              "      <td>32.88</td>\n",
              "      <td>42.0600</td>\n",
              "      <td>49.02</td>\n",
              "      <td>58.000</td>\n",
              "      <td>69.35</td>\n",
              "    </tr>\n",
              "    <tr>\n",
              "      <th>3</th>\n",
              "      <td>462.0</td>\n",
              "      <td>15.617814</td>\n",
              "      <td>9.409776</td>\n",
              "      <td>0.00</td>\n",
              "      <td>7.9950</td>\n",
              "      <td>15.95</td>\n",
              "      <td>23.185</td>\n",
              "      <td>32.34</td>\n",
              "    </tr>\n",
              "  </tbody>\n",
              "</table>\n",
              "</div>"
            ],
            "text/plain": [
              "            count        mean        std  ...     50%      75%     max\n",
              "recency_c2                                ...                         \n",
              "0           310.0  143.267000   9.471416  ...  146.87  149.895  152.35\n",
              "1           258.0   89.563101  11.538293  ...   93.19   97.235  113.23\n",
              "2           521.0   49.777409   9.804257  ...   49.02   58.000   69.35\n",
              "3           462.0   15.617814   9.409776  ...   15.95   23.185   32.34\n",
              "\n",
              "[4 rows x 8 columns]"
            ]
          },
          "metadata": {
            "tags": []
          },
          "execution_count": 86
        }
      ]
    },
    {
      "cell_type": "code",
      "metadata": {
        "id": "-Uaz8M0qDot_"
      },
      "source": [
        "rfm_df.to_excel(\"/content/drive/My Drive/Dataset_Literata/11. Recency_Describe.xlsx\", index=False)"
      ],
      "execution_count": null,
      "outputs": []
    },
    {
      "cell_type": "code",
      "metadata": {
        "colab": {
          "base_uri": "https://localhost:8080/",
          "height": 197
        },
        "id": "QW6WQ-kiL7lC",
        "outputId": "b50b2e0a-9047-495e-cb1f-097a1769a410"
      },
      "source": [
        "rfm_df.groupby(\"frequency_c2\")[\"Frequency\"].describe()"
      ],
      "execution_count": null,
      "outputs": [
        {
          "output_type": "execute_result",
          "data": {
            "text/html": [
              "<div>\n",
              "<style scoped>\n",
              "    .dataframe tbody tr th:only-of-type {\n",
              "        vertical-align: middle;\n",
              "    }\n",
              "\n",
              "    .dataframe tbody tr th {\n",
              "        vertical-align: top;\n",
              "    }\n",
              "\n",
              "    .dataframe thead th {\n",
              "        text-align: right;\n",
              "    }\n",
              "</style>\n",
              "<table border=\"1\" class=\"dataframe\">\n",
              "  <thead>\n",
              "    <tr style=\"text-align: right;\">\n",
              "      <th></th>\n",
              "      <th>count</th>\n",
              "      <th>mean</th>\n",
              "      <th>std</th>\n",
              "      <th>min</th>\n",
              "      <th>25%</th>\n",
              "      <th>50%</th>\n",
              "      <th>75%</th>\n",
              "      <th>max</th>\n",
              "    </tr>\n",
              "    <tr>\n",
              "      <th>frequency_c2</th>\n",
              "      <th></th>\n",
              "      <th></th>\n",
              "      <th></th>\n",
              "      <th></th>\n",
              "      <th></th>\n",
              "      <th></th>\n",
              "      <th></th>\n",
              "      <th></th>\n",
              "    </tr>\n",
              "  </thead>\n",
              "  <tbody>\n",
              "    <tr>\n",
              "      <th>0</th>\n",
              "      <td>731.0</td>\n",
              "      <td>1.000000</td>\n",
              "      <td>0.000000</td>\n",
              "      <td>1.0</td>\n",
              "      <td>1.0</td>\n",
              "      <td>1.0</td>\n",
              "      <td>1.0</td>\n",
              "      <td>1.0</td>\n",
              "    </tr>\n",
              "    <tr>\n",
              "      <th>1</th>\n",
              "      <td>385.0</td>\n",
              "      <td>2.000000</td>\n",
              "      <td>0.000000</td>\n",
              "      <td>2.0</td>\n",
              "      <td>2.0</td>\n",
              "      <td>2.0</td>\n",
              "      <td>2.0</td>\n",
              "      <td>2.0</td>\n",
              "    </tr>\n",
              "    <tr>\n",
              "      <th>2</th>\n",
              "      <td>433.0</td>\n",
              "      <td>3.323326</td>\n",
              "      <td>0.606169</td>\n",
              "      <td>3.0</td>\n",
              "      <td>3.0</td>\n",
              "      <td>3.0</td>\n",
              "      <td>4.0</td>\n",
              "      <td>8.0</td>\n",
              "    </tr>\n",
              "    <tr>\n",
              "      <th>3</th>\n",
              "      <td>2.0</td>\n",
              "      <td>21.000000</td>\n",
              "      <td>9.899495</td>\n",
              "      <td>14.0</td>\n",
              "      <td>17.5</td>\n",
              "      <td>21.0</td>\n",
              "      <td>24.5</td>\n",
              "      <td>28.0</td>\n",
              "    </tr>\n",
              "  </tbody>\n",
              "</table>\n",
              "</div>"
            ],
            "text/plain": [
              "              count       mean       std   min   25%   50%   75%   max\n",
              "frequency_c2                                                          \n",
              "0             731.0   1.000000  0.000000   1.0   1.0   1.0   1.0   1.0\n",
              "1             385.0   2.000000  0.000000   2.0   2.0   2.0   2.0   2.0\n",
              "2             433.0   3.323326  0.606169   3.0   3.0   3.0   4.0   8.0\n",
              "3               2.0  21.000000  9.899495  14.0  17.5  21.0  24.5  28.0"
            ]
          },
          "metadata": {
            "tags": []
          },
          "execution_count": 88
        }
      ]
    },
    {
      "cell_type": "code",
      "metadata": {
        "id": "S7tvN_LiDy8R"
      },
      "source": [
        "rfm_df.to_excel(\"/content/drive/My Drive/Dataset_Literata/12. Frequency_Describe.xlsx\", index=False)"
      ],
      "execution_count": null,
      "outputs": []
    },
    {
      "cell_type": "code",
      "metadata": {
        "colab": {
          "base_uri": "https://localhost:8080/",
          "height": 197
        },
        "id": "bblRMewLMJxM",
        "outputId": "da05d539-3172-45ac-8f71-f3d0530a5e2e"
      },
      "source": [
        "rfm_df.groupby(\"monetary_c2\")[\"Monetary\"].describe()"
      ],
      "execution_count": null,
      "outputs": [
        {
          "output_type": "execute_result",
          "data": {
            "text/html": [
              "<div>\n",
              "<style scoped>\n",
              "    .dataframe tbody tr th:only-of-type {\n",
              "        vertical-align: middle;\n",
              "    }\n",
              "\n",
              "    .dataframe tbody tr th {\n",
              "        vertical-align: top;\n",
              "    }\n",
              "\n",
              "    .dataframe thead th {\n",
              "        text-align: right;\n",
              "    }\n",
              "</style>\n",
              "<table border=\"1\" class=\"dataframe\">\n",
              "  <thead>\n",
              "    <tr style=\"text-align: right;\">\n",
              "      <th></th>\n",
              "      <th>count</th>\n",
              "      <th>mean</th>\n",
              "      <th>std</th>\n",
              "      <th>min</th>\n",
              "      <th>25%</th>\n",
              "      <th>50%</th>\n",
              "      <th>75%</th>\n",
              "      <th>max</th>\n",
              "    </tr>\n",
              "    <tr>\n",
              "      <th>monetary_c2</th>\n",
              "      <th></th>\n",
              "      <th></th>\n",
              "      <th></th>\n",
              "      <th></th>\n",
              "      <th></th>\n",
              "      <th></th>\n",
              "      <th></th>\n",
              "      <th></th>\n",
              "    </tr>\n",
              "  </thead>\n",
              "  <tbody>\n",
              "    <tr>\n",
              "      <th>0</th>\n",
              "      <td>1063.0</td>\n",
              "      <td>1.426978e+05</td>\n",
              "      <td>106172.331634</td>\n",
              "      <td>1100.0</td>\n",
              "      <td>45550.0</td>\n",
              "      <td>125900.0</td>\n",
              "      <td>224700.0</td>\n",
              "      <td>380400.0</td>\n",
              "    </tr>\n",
              "    <tr>\n",
              "      <th>1</th>\n",
              "      <td>418.0</td>\n",
              "      <td>6.215358e+05</td>\n",
              "      <td>176678.465617</td>\n",
              "      <td>385200.0</td>\n",
              "      <td>472250.0</td>\n",
              "      <td>587400.0</td>\n",
              "      <td>745700.0</td>\n",
              "      <td>1064500.0</td>\n",
              "    </tr>\n",
              "    <tr>\n",
              "      <th>2</th>\n",
              "      <td>69.0</td>\n",
              "      <td>1.517876e+06</td>\n",
              "      <td>546614.480408</td>\n",
              "      <td>1075500.0</td>\n",
              "      <td>1204900.0</td>\n",
              "      <td>1339200.0</td>\n",
              "      <td>1578800.0</td>\n",
              "      <td>4287600.0</td>\n",
              "    </tr>\n",
              "    <tr>\n",
              "      <th>3</th>\n",
              "      <td>1.0</td>\n",
              "      <td>4.178290e+07</td>\n",
              "      <td>NaN</td>\n",
              "      <td>41782900.0</td>\n",
              "      <td>41782900.0</td>\n",
              "      <td>41782900.0</td>\n",
              "      <td>41782900.0</td>\n",
              "      <td>41782900.0</td>\n",
              "    </tr>\n",
              "  </tbody>\n",
              "</table>\n",
              "</div>"
            ],
            "text/plain": [
              "              count          mean  ...         75%         max\n",
              "monetary_c2                        ...                        \n",
              "0            1063.0  1.426978e+05  ...    224700.0    380400.0\n",
              "1             418.0  6.215358e+05  ...    745700.0   1064500.0\n",
              "2              69.0  1.517876e+06  ...   1578800.0   4287600.0\n",
              "3               1.0  4.178290e+07  ...  41782900.0  41782900.0\n",
              "\n",
              "[4 rows x 8 columns]"
            ]
          },
          "metadata": {
            "tags": []
          },
          "execution_count": 91
        }
      ]
    },
    {
      "cell_type": "code",
      "metadata": {
        "id": "bA0QVeWsD4kb"
      },
      "source": [
        "rfm_df.to_excel(\"/content/drive/My Drive/Dataset_Literata/13. Monetary_Describe.xlsx\", index=False)"
      ],
      "execution_count": null,
      "outputs": []
    },
    {
      "cell_type": "markdown",
      "metadata": {
        "id": "UG4QL4XroVr0"
      },
      "source": [
        "## Scoring"
      ]
    },
    {
      "cell_type": "markdown",
      "metadata": {
        "id": "cKv8mVTTMPJY"
      },
      "source": [
        "## Overall Scoring"
      ]
    },
    {
      "cell_type": "code",
      "metadata": {
        "id": "8H7M6fSfMSk-"
      },
      "source": [
        "rfm_df[\"Score\"] = rfm_df[\"recency_c2\"] + rfm_df[\"frequency_c2\"] + rfm_df[\"monetary_c2\"] + rfm_df[\"age_c2\"]"
      ],
      "execution_count": null,
      "outputs": []
    },
    {
      "cell_type": "code",
      "metadata": {
        "colab": {
          "base_uri": "https://localhost:8080/",
          "height": 317
        },
        "id": "KkKby24aMTJU",
        "outputId": "27d1f7fb-6662-42bf-c264-f467cb4ad14b"
      },
      "source": [
        "rfm_df.groupby(\"Score\", as_index=False)[[\"Recency\",\"Frequency\", \"Monetary\",\"Age(Days)\",\"Return(Days)\"]].mean()"
      ],
      "execution_count": null,
      "outputs": [
        {
          "output_type": "execute_result",
          "data": {
            "text/html": [
              "<div>\n",
              "<style scoped>\n",
              "    .dataframe tbody tr th:only-of-type {\n",
              "        vertical-align: middle;\n",
              "    }\n",
              "\n",
              "    .dataframe tbody tr th {\n",
              "        vertical-align: top;\n",
              "    }\n",
              "\n",
              "    .dataframe thead th {\n",
              "        text-align: right;\n",
              "    }\n",
              "</style>\n",
              "<table border=\"1\" class=\"dataframe\">\n",
              "  <thead>\n",
              "    <tr style=\"text-align: right;\">\n",
              "      <th></th>\n",
              "      <th>Score</th>\n",
              "      <th>Recency</th>\n",
              "      <th>Frequency</th>\n",
              "      <th>Monetary</th>\n",
              "      <th>Age(Days)</th>\n",
              "      <th>Return(Days)</th>\n",
              "    </tr>\n",
              "  </thead>\n",
              "  <tbody>\n",
              "    <tr>\n",
              "      <th>0</th>\n",
              "      <td>2</td>\n",
              "      <td>87.860375</td>\n",
              "      <td>1.000000</td>\n",
              "      <td>1.303331e+05</td>\n",
              "      <td>87.860375</td>\n",
              "      <td>0.000000</td>\n",
              "    </tr>\n",
              "    <tr>\n",
              "      <th>1</th>\n",
              "      <td>3</td>\n",
              "      <td>66.342779</td>\n",
              "      <td>1.000000</td>\n",
              "      <td>1.167242e+05</td>\n",
              "      <td>66.342779</td>\n",
              "      <td>0.000000</td>\n",
              "    </tr>\n",
              "    <tr>\n",
              "      <th>2</th>\n",
              "      <td>4</td>\n",
              "      <td>83.895779</td>\n",
              "      <td>1.623116</td>\n",
              "      <td>3.416319e+05</td>\n",
              "      <td>101.231558</td>\n",
              "      <td>8.667864</td>\n",
              "    </tr>\n",
              "    <tr>\n",
              "      <th>3</th>\n",
              "      <td>5</td>\n",
              "      <td>71.625469</td>\n",
              "      <td>2.125000</td>\n",
              "      <td>4.231730e+05</td>\n",
              "      <td>110.028359</td>\n",
              "      <td>17.786289</td>\n",
              "    </tr>\n",
              "    <tr>\n",
              "      <th>4</th>\n",
              "      <td>6</td>\n",
              "      <td>56.750963</td>\n",
              "      <td>2.655556</td>\n",
              "      <td>3.182242e+05</td>\n",
              "      <td>122.983148</td>\n",
              "      <td>26.920593</td>\n",
              "    </tr>\n",
              "    <tr>\n",
              "      <th>5</th>\n",
              "      <td>7</td>\n",
              "      <td>49.510901</td>\n",
              "      <td>3.153153</td>\n",
              "      <td>5.969489e+05</td>\n",
              "      <td>123.380405</td>\n",
              "      <td>24.378311</td>\n",
              "    </tr>\n",
              "    <tr>\n",
              "      <th>6</th>\n",
              "      <td>8</td>\n",
              "      <td>46.847703</td>\n",
              "      <td>3.581081</td>\n",
              "      <td>1.597187e+06</td>\n",
              "      <td>120.909189</td>\n",
              "      <td>16.783176</td>\n",
              "    </tr>\n",
              "    <tr>\n",
              "      <th>7</th>\n",
              "      <td>9</td>\n",
              "      <td>38.327500</td>\n",
              "      <td>3.833333</td>\n",
              "      <td>1.546392e+06</td>\n",
              "      <td>117.245000</td>\n",
              "      <td>17.146667</td>\n",
              "    </tr>\n",
              "    <tr>\n",
              "      <th>8</th>\n",
              "      <td>10</td>\n",
              "      <td>52.850000</td>\n",
              "      <td>14.000000</td>\n",
              "      <td>4.287600e+06</td>\n",
              "      <td>133.200000</td>\n",
              "      <td>0.055000</td>\n",
              "    </tr>\n",
              "  </tbody>\n",
              "</table>\n",
              "</div>"
            ],
            "text/plain": [
              "   Score    Recency  Frequency      Monetary   Age(Days)  Return(Days)\n",
              "0      2  87.860375   1.000000  1.303331e+05   87.860375      0.000000\n",
              "1      3  66.342779   1.000000  1.167242e+05   66.342779      0.000000\n",
              "2      4  83.895779   1.623116  3.416319e+05  101.231558      8.667864\n",
              "3      5  71.625469   2.125000  4.231730e+05  110.028359     17.786289\n",
              "4      6  56.750963   2.655556  3.182242e+05  122.983148     26.920593\n",
              "5      7  49.510901   3.153153  5.969489e+05  123.380405     24.378311\n",
              "6      8  46.847703   3.581081  1.597187e+06  120.909189     16.783176\n",
              "7      9  38.327500   3.833333  1.546392e+06  117.245000     17.146667\n",
              "8     10  52.850000  14.000000  4.287600e+06  133.200000      0.055000"
            ]
          },
          "metadata": {
            "tags": []
          },
          "execution_count": 94
        }
      ]
    },
    {
      "cell_type": "code",
      "metadata": {
        "colab": {
          "base_uri": "https://localhost:8080/",
          "height": 406
        },
        "id": "iH1CHwxGGoKz",
        "outputId": "342a9f53-518b-4468-d722-6f848c9725c3"
      },
      "source": [
        "rfm_df.sort_values('Score', ascending=False)"
      ],
      "execution_count": null,
      "outputs": [
        {
          "output_type": "execute_result",
          "data": {
            "text/html": [
              "<div>\n",
              "<style scoped>\n",
              "    .dataframe tbody tr th:only-of-type {\n",
              "        vertical-align: middle;\n",
              "    }\n",
              "\n",
              "    .dataframe tbody tr th {\n",
              "        vertical-align: top;\n",
              "    }\n",
              "\n",
              "    .dataframe thead th {\n",
              "        text-align: right;\n",
              "    }\n",
              "</style>\n",
              "<table border=\"1\" class=\"dataframe\">\n",
              "  <thead>\n",
              "    <tr style=\"text-align: right;\">\n",
              "      <th></th>\n",
              "      <th>CustomerID</th>\n",
              "      <th>Monetary</th>\n",
              "      <th>Recency</th>\n",
              "      <th>Frequency</th>\n",
              "      <th>Age(Days)</th>\n",
              "      <th>Return(Days)</th>\n",
              "      <th>recency_c2</th>\n",
              "      <th>frequency_c2</th>\n",
              "      <th>monetary_c2</th>\n",
              "      <th>age_c2</th>\n",
              "      <th>Score</th>\n",
              "    </tr>\n",
              "  </thead>\n",
              "  <tbody>\n",
              "    <tr>\n",
              "      <th>1175</th>\n",
              "      <td>527</td>\n",
              "      <td>4287600</td>\n",
              "      <td>52.85</td>\n",
              "      <td>14</td>\n",
              "      <td>133.20</td>\n",
              "      <td>0.055</td>\n",
              "      <td>2</td>\n",
              "      <td>3</td>\n",
              "      <td>2</td>\n",
              "      <td>3</td>\n",
              "      <td>10</td>\n",
              "    </tr>\n",
              "    <tr>\n",
              "      <th>676</th>\n",
              "      <td>1232</td>\n",
              "      <td>2204400</td>\n",
              "      <td>29.94</td>\n",
              "      <td>4</td>\n",
              "      <td>111.20</td>\n",
              "      <td>16.780</td>\n",
              "      <td>3</td>\n",
              "      <td>2</td>\n",
              "      <td>2</td>\n",
              "      <td>2</td>\n",
              "      <td>9</td>\n",
              "    </tr>\n",
              "    <tr>\n",
              "      <th>671</th>\n",
              "      <td>516</td>\n",
              "      <td>1211400</td>\n",
              "      <td>32.05</td>\n",
              "      <td>4</td>\n",
              "      <td>109.33</td>\n",
              "      <td>23.035</td>\n",
              "      <td>3</td>\n",
              "      <td>2</td>\n",
              "      <td>2</td>\n",
              "      <td>2</td>\n",
              "      <td>9</td>\n",
              "    </tr>\n",
              "    <tr>\n",
              "      <th>673</th>\n",
              "      <td>679</td>\n",
              "      <td>1357300</td>\n",
              "      <td>32.13</td>\n",
              "      <td>4</td>\n",
              "      <td>108.22</td>\n",
              "      <td>22.160</td>\n",
              "      <td>3</td>\n",
              "      <td>2</td>\n",
              "      <td>2</td>\n",
              "      <td>2</td>\n",
              "      <td>9</td>\n",
              "    </tr>\n",
              "    <tr>\n",
              "      <th>674</th>\n",
              "      <td>976</td>\n",
              "      <td>1086400</td>\n",
              "      <td>30.17</td>\n",
              "      <td>4</td>\n",
              "      <td>109.91</td>\n",
              "      <td>15.930</td>\n",
              "      <td>3</td>\n",
              "      <td>2</td>\n",
              "      <td>2</td>\n",
              "      <td>2</td>\n",
              "      <td>9</td>\n",
              "    </tr>\n",
              "    <tr>\n",
              "      <th>...</th>\n",
              "      <td>...</td>\n",
              "      <td>...</td>\n",
              "      <td>...</td>\n",
              "      <td>...</td>\n",
              "      <td>...</td>\n",
              "      <td>...</td>\n",
              "      <td>...</td>\n",
              "      <td>...</td>\n",
              "      <td>...</td>\n",
              "      <td>...</td>\n",
              "      <td>...</td>\n",
              "    </tr>\n",
              "    <tr>\n",
              "      <th>56</th>\n",
              "      <td>1226</td>\n",
              "      <td>83200</td>\n",
              "      <td>78.31</td>\n",
              "      <td>1</td>\n",
              "      <td>78.31</td>\n",
              "      <td>0.000</td>\n",
              "      <td>1</td>\n",
              "      <td>0</td>\n",
              "      <td>0</td>\n",
              "      <td>1</td>\n",
              "      <td>2</td>\n",
              "    </tr>\n",
              "    <tr>\n",
              "      <th>57</th>\n",
              "      <td>1247</td>\n",
              "      <td>84100</td>\n",
              "      <td>76.33</td>\n",
              "      <td>1</td>\n",
              "      <td>76.33</td>\n",
              "      <td>0.000</td>\n",
              "      <td>1</td>\n",
              "      <td>0</td>\n",
              "      <td>0</td>\n",
              "      <td>1</td>\n",
              "      <td>2</td>\n",
              "    </tr>\n",
              "    <tr>\n",
              "      <th>58</th>\n",
              "      <td>1305</td>\n",
              "      <td>18900</td>\n",
              "      <td>97.97</td>\n",
              "      <td>1</td>\n",
              "      <td>97.97</td>\n",
              "      <td>0.000</td>\n",
              "      <td>1</td>\n",
              "      <td>0</td>\n",
              "      <td>0</td>\n",
              "      <td>1</td>\n",
              "      <td>2</td>\n",
              "    </tr>\n",
              "    <tr>\n",
              "      <th>59</th>\n",
              "      <td>1307</td>\n",
              "      <td>21700</td>\n",
              "      <td>95.89</td>\n",
              "      <td>1</td>\n",
              "      <td>95.89</td>\n",
              "      <td>0.000</td>\n",
              "      <td>1</td>\n",
              "      <td>0</td>\n",
              "      <td>0</td>\n",
              "      <td>1</td>\n",
              "      <td>2</td>\n",
              "    </tr>\n",
              "    <tr>\n",
              "      <th>0</th>\n",
              "      <td>0</td>\n",
              "      <td>216000</td>\n",
              "      <td>72.10</td>\n",
              "      <td>1</td>\n",
              "      <td>72.10</td>\n",
              "      <td>0.000</td>\n",
              "      <td>1</td>\n",
              "      <td>0</td>\n",
              "      <td>0</td>\n",
              "      <td>1</td>\n",
              "      <td>2</td>\n",
              "    </tr>\n",
              "  </tbody>\n",
              "</table>\n",
              "<p>1551 rows × 11 columns</p>\n",
              "</div>"
            ],
            "text/plain": [
              "      CustomerID  Monetary  Recency  ...  monetary_c2  age_c2  Score\n",
              "1175         527   4287600    52.85  ...            2       3     10\n",
              "676         1232   2204400    29.94  ...            2       2      9\n",
              "671          516   1211400    32.05  ...            2       2      9\n",
              "673          679   1357300    32.13  ...            2       2      9\n",
              "674          976   1086400    30.17  ...            2       2      9\n",
              "...          ...       ...      ...  ...          ...     ...    ...\n",
              "56          1226     83200    78.31  ...            0       1      2\n",
              "57          1247     84100    76.33  ...            0       1      2\n",
              "58          1305     18900    97.97  ...            0       1      2\n",
              "59          1307     21700    95.89  ...            0       1      2\n",
              "0              0    216000    72.10  ...            0       1      2\n",
              "\n",
              "[1551 rows x 11 columns]"
            ]
          },
          "metadata": {
            "tags": []
          },
          "execution_count": 95
        }
      ]
    },
    {
      "cell_type": "code",
      "metadata": {
        "id": "lhXT71U7EIEJ"
      },
      "source": [
        "rfm_df.to_excel(\"/content/drive/My Drive/Dataset_Literata/14. RFM_Scoring.xlsx\", index=False)"
      ],
      "execution_count": null,
      "outputs": []
    },
    {
      "cell_type": "code",
      "metadata": {
        "id": "Z5HRLgfjMXal"
      },
      "source": [
        "rfm_df[\"Cluster\"] = [\"A\" if x >= 9 else \"B\" if ((x < 9) & (x >=4)) else \"C\" for x in rfm_df[\"Score\"]]"
      ],
      "execution_count": null,
      "outputs": []
    },
    {
      "cell_type": "code",
      "metadata": {
        "colab": {
          "base_uri": "https://localhost:8080/",
          "height": 406
        },
        "id": "-4FcJbw5NlB3",
        "outputId": "3b1404d7-e02e-4c90-dcbb-63c485c68a60"
      },
      "source": [
        "rfm_df.sort_values('Score', ascending=False)"
      ],
      "execution_count": null,
      "outputs": [
        {
          "output_type": "execute_result",
          "data": {
            "text/html": [
              "<div>\n",
              "<style scoped>\n",
              "    .dataframe tbody tr th:only-of-type {\n",
              "        vertical-align: middle;\n",
              "    }\n",
              "\n",
              "    .dataframe tbody tr th {\n",
              "        vertical-align: top;\n",
              "    }\n",
              "\n",
              "    .dataframe thead th {\n",
              "        text-align: right;\n",
              "    }\n",
              "</style>\n",
              "<table border=\"1\" class=\"dataframe\">\n",
              "  <thead>\n",
              "    <tr style=\"text-align: right;\">\n",
              "      <th></th>\n",
              "      <th>CustomerID</th>\n",
              "      <th>Monetary</th>\n",
              "      <th>Recency</th>\n",
              "      <th>Frequency</th>\n",
              "      <th>Age(Days)</th>\n",
              "      <th>Return(Days)</th>\n",
              "      <th>recency_c2</th>\n",
              "      <th>frequency_c2</th>\n",
              "      <th>monetary_c2</th>\n",
              "      <th>age_c2</th>\n",
              "      <th>Score</th>\n",
              "      <th>Cluster</th>\n",
              "    </tr>\n",
              "  </thead>\n",
              "  <tbody>\n",
              "    <tr>\n",
              "      <th>1175</th>\n",
              "      <td>527</td>\n",
              "      <td>4287600</td>\n",
              "      <td>52.85</td>\n",
              "      <td>14</td>\n",
              "      <td>133.20</td>\n",
              "      <td>0.055</td>\n",
              "      <td>2</td>\n",
              "      <td>3</td>\n",
              "      <td>2</td>\n",
              "      <td>3</td>\n",
              "      <td>10</td>\n",
              "      <td>A</td>\n",
              "    </tr>\n",
              "    <tr>\n",
              "      <th>676</th>\n",
              "      <td>1232</td>\n",
              "      <td>2204400</td>\n",
              "      <td>29.94</td>\n",
              "      <td>4</td>\n",
              "      <td>111.20</td>\n",
              "      <td>16.780</td>\n",
              "      <td>3</td>\n",
              "      <td>2</td>\n",
              "      <td>2</td>\n",
              "      <td>2</td>\n",
              "      <td>9</td>\n",
              "      <td>A</td>\n",
              "    </tr>\n",
              "    <tr>\n",
              "      <th>671</th>\n",
              "      <td>516</td>\n",
              "      <td>1211400</td>\n",
              "      <td>32.05</td>\n",
              "      <td>4</td>\n",
              "      <td>109.33</td>\n",
              "      <td>23.035</td>\n",
              "      <td>3</td>\n",
              "      <td>2</td>\n",
              "      <td>2</td>\n",
              "      <td>2</td>\n",
              "      <td>9</td>\n",
              "      <td>A</td>\n",
              "    </tr>\n",
              "    <tr>\n",
              "      <th>673</th>\n",
              "      <td>679</td>\n",
              "      <td>1357300</td>\n",
              "      <td>32.13</td>\n",
              "      <td>4</td>\n",
              "      <td>108.22</td>\n",
              "      <td>22.160</td>\n",
              "      <td>3</td>\n",
              "      <td>2</td>\n",
              "      <td>2</td>\n",
              "      <td>2</td>\n",
              "      <td>9</td>\n",
              "      <td>A</td>\n",
              "    </tr>\n",
              "    <tr>\n",
              "      <th>674</th>\n",
              "      <td>976</td>\n",
              "      <td>1086400</td>\n",
              "      <td>30.17</td>\n",
              "      <td>4</td>\n",
              "      <td>109.91</td>\n",
              "      <td>15.930</td>\n",
              "      <td>3</td>\n",
              "      <td>2</td>\n",
              "      <td>2</td>\n",
              "      <td>2</td>\n",
              "      <td>9</td>\n",
              "      <td>A</td>\n",
              "    </tr>\n",
              "    <tr>\n",
              "      <th>...</th>\n",
              "      <td>...</td>\n",
              "      <td>...</td>\n",
              "      <td>...</td>\n",
              "      <td>...</td>\n",
              "      <td>...</td>\n",
              "      <td>...</td>\n",
              "      <td>...</td>\n",
              "      <td>...</td>\n",
              "      <td>...</td>\n",
              "      <td>...</td>\n",
              "      <td>...</td>\n",
              "      <td>...</td>\n",
              "    </tr>\n",
              "    <tr>\n",
              "      <th>56</th>\n",
              "      <td>1226</td>\n",
              "      <td>83200</td>\n",
              "      <td>78.31</td>\n",
              "      <td>1</td>\n",
              "      <td>78.31</td>\n",
              "      <td>0.000</td>\n",
              "      <td>1</td>\n",
              "      <td>0</td>\n",
              "      <td>0</td>\n",
              "      <td>1</td>\n",
              "      <td>2</td>\n",
              "      <td>C</td>\n",
              "    </tr>\n",
              "    <tr>\n",
              "      <th>57</th>\n",
              "      <td>1247</td>\n",
              "      <td>84100</td>\n",
              "      <td>76.33</td>\n",
              "      <td>1</td>\n",
              "      <td>76.33</td>\n",
              "      <td>0.000</td>\n",
              "      <td>1</td>\n",
              "      <td>0</td>\n",
              "      <td>0</td>\n",
              "      <td>1</td>\n",
              "      <td>2</td>\n",
              "      <td>C</td>\n",
              "    </tr>\n",
              "    <tr>\n",
              "      <th>58</th>\n",
              "      <td>1305</td>\n",
              "      <td>18900</td>\n",
              "      <td>97.97</td>\n",
              "      <td>1</td>\n",
              "      <td>97.97</td>\n",
              "      <td>0.000</td>\n",
              "      <td>1</td>\n",
              "      <td>0</td>\n",
              "      <td>0</td>\n",
              "      <td>1</td>\n",
              "      <td>2</td>\n",
              "      <td>C</td>\n",
              "    </tr>\n",
              "    <tr>\n",
              "      <th>59</th>\n",
              "      <td>1307</td>\n",
              "      <td>21700</td>\n",
              "      <td>95.89</td>\n",
              "      <td>1</td>\n",
              "      <td>95.89</td>\n",
              "      <td>0.000</td>\n",
              "      <td>1</td>\n",
              "      <td>0</td>\n",
              "      <td>0</td>\n",
              "      <td>1</td>\n",
              "      <td>2</td>\n",
              "      <td>C</td>\n",
              "    </tr>\n",
              "    <tr>\n",
              "      <th>0</th>\n",
              "      <td>0</td>\n",
              "      <td>216000</td>\n",
              "      <td>72.10</td>\n",
              "      <td>1</td>\n",
              "      <td>72.10</td>\n",
              "      <td>0.000</td>\n",
              "      <td>1</td>\n",
              "      <td>0</td>\n",
              "      <td>0</td>\n",
              "      <td>1</td>\n",
              "      <td>2</td>\n",
              "      <td>C</td>\n",
              "    </tr>\n",
              "  </tbody>\n",
              "</table>\n",
              "<p>1551 rows × 12 columns</p>\n",
              "</div>"
            ],
            "text/plain": [
              "      CustomerID  Monetary  Recency  ...  age_c2  Score  Cluster\n",
              "1175         527   4287600    52.85  ...       3     10        A\n",
              "676         1232   2204400    29.94  ...       2      9        A\n",
              "671          516   1211400    32.05  ...       2      9        A\n",
              "673          679   1357300    32.13  ...       2      9        A\n",
              "674          976   1086400    30.17  ...       2      9        A\n",
              "...          ...       ...      ...  ...     ...    ...      ...\n",
              "56          1226     83200    78.31  ...       1      2        C\n",
              "57          1247     84100    76.33  ...       1      2        C\n",
              "58          1305     18900    97.97  ...       1      2        C\n",
              "59          1307     21700    95.89  ...       1      2        C\n",
              "0              0    216000    72.10  ...       1      2        C\n",
              "\n",
              "[1551 rows x 12 columns]"
            ]
          },
          "metadata": {
            "tags": []
          },
          "execution_count": 98
        }
      ]
    },
    {
      "cell_type": "code",
      "metadata": {
        "id": "PeDX7G5hEVFI"
      },
      "source": [
        "rfm_df.to_excel(\"/content/drive/My Drive/Dataset_Literata/15. RFM_Grade.xlsx\", index=False)"
      ],
      "execution_count": null,
      "outputs": []
    },
    {
      "cell_type": "markdown",
      "metadata": {
        "id": "AnvX3IzaMgRR"
      },
      "source": [
        "## Obcserve The Clusters"
      ]
    },
    {
      "cell_type": "code",
      "metadata": {
        "colab": {
          "base_uri": "https://localhost:8080/",
          "height": 542
        },
        "id": "ofovGGKnMdMY",
        "outputId": "40900deb-66ec-4829-ca20-b99754ba4719"
      },
      "source": [
        "plot_data = [\n",
        "    go.Scatter(\n",
        "        x=rfm_df.query(\"Cluster == 'A'\")['Frequency'],\n",
        "        y=rfm_df.query(\"Cluster == 'A'\")['Monetary'],\n",
        "        mode='markers',\n",
        "        name='High',\n",
        "        marker= dict(size= 7,\n",
        "            line= dict(width=1),\n",
        "            color= 'blue',\n",
        "            opacity= 0.8\n",
        "           )\n",
        "    ),\n",
        "     go.Scatter(\n",
        "        x=rfm_df.query(\"Cluster == 'B'\")['Frequency'],\n",
        "        y=rfm_df.query(\"Cluster == 'B'\")['Monetary'],\n",
        "        mode='markers',\n",
        "        name='Mid',\n",
        "         marker= dict(size= 9,\n",
        "            line= dict(width=1),\n",
        "            color= 'green',\n",
        "            opacity= 0.5\n",
        "           )\n",
        "    ),\n",
        "    \n",
        "     go.Scatter(\n",
        "        x=rfm_df.query(\"Cluster == 'C'\")['Frequency'],\n",
        "        y=rfm_df.query(\"Cluster == 'C'\")['Monetary'],\n",
        "        mode='markers',\n",
        "        name='Low',\n",
        "        marker= dict(size= 11,\n",
        "            line= dict(width=1),\n",
        "            color= 'red',\n",
        "            opacity= 0.9\n",
        "           )\n",
        "    ),\n",
        "     go.Scatter(\n",
        "        x=rfm_df.query(\"Cluster == 'D'\")['Frequency'],\n",
        "        y=rfm_df.query(\"Cluster == 'D'\")['Monetary'],\n",
        "        mode='markers',\n",
        "        name='Low',\n",
        "         marker= dict(size= 9,\n",
        "            line= dict(width=1),\n",
        "            color= 'red',\n",
        "            opacity= 0.5\n",
        "           )\n",
        "    ),\n",
        "\n",
        "\n",
        "]\n",
        "\n",
        "plot_layout = go.Layout(\n",
        "        yaxis= {'title': \"Monetary\"},\n",
        "        xaxis= {'title': \"Frequency\"},\n",
        "        title='Segments'\n",
        "    )\n",
        "fig = go.Figure(data=plot_data, layout=plot_layout)\n",
        "pyoff.iplot(fig)"
      ],
      "execution_count": null,
      "outputs": [
        {
          "output_type": "display_data",
          "data": {
            "text/html": [
              "<html>\n",
              "<head><meta charset=\"utf-8\" /></head>\n",
              "<body>\n",
              "    <div>\n",
              "            <script src=\"https://cdnjs.cloudflare.com/ajax/libs/mathjax/2.7.5/MathJax.js?config=TeX-AMS-MML_SVG\"></script><script type=\"text/javascript\">if (window.MathJax) {MathJax.Hub.Config({SVG: {font: \"STIX-Web\"}});}</script>\n",
              "                <script type=\"text/javascript\">window.PlotlyConfig = {MathJaxConfig: 'local'};</script>\n",
              "        <script src=\"https://cdn.plot.ly/plotly-latest.min.js\"></script>    \n",
              "            <div id=\"f8fdabf5-81e1-4da8-a4d7-08c585b3e9a7\" class=\"plotly-graph-div\" style=\"height:525px; width:100%;\"></div>\n",
              "            <script type=\"text/javascript\">\n",
              "                \n",
              "                    window.PLOTLYENV=window.PLOTLYENV || {};\n",
              "                    \n",
              "                if (document.getElementById(\"f8fdabf5-81e1-4da8-a4d7-08c585b3e9a7\")) {\n",
              "                    Plotly.newPlot(\n",
              "                        'f8fdabf5-81e1-4da8-a4d7-08c585b3e9a7',\n",
              "                        [{\"marker\": {\"color\": \"blue\", \"line\": {\"width\": 1}, \"opacity\": 0.8, \"size\": 7}, \"mode\": \"markers\", \"name\": \"High\", \"type\": \"scatter\", \"x\": [4, 3, 4, 6, 4, 4, 5, 4, 3, 3, 3, 3, 14], \"y\": [1319850, 1395900, 1211400, 1145800, 1357300, 1086400, 2084350, 2204400, 1184500, 1315700, 1976300, 2274800, 4287600]}, {\"marker\": {\"color\": \"green\", \"line\": {\"width\": 1}, \"opacity\": 0.5, \"size\": 9}, \"mode\": \"markers\", \"name\": \"Mid\", \"type\": \"scatter\", \"x\": [2, 2, 2, 2, 2, 2, 2, 2, 2, 2, 2, 2, 2, 2, 2, 2, 2, 2, 2, 2, 2, 2, 2, 2, 2, 2, 2, 2, 2, 2, 2, 2, 2, 2, 2, 2, 2, 2, 2, 2, 2, 2, 3, 2, 2, 2, 2, 2, 2, 2, 2, 2, 2, 2, 2, 2, 2, 2, 2, 2, 2, 2, 1, 2, 2, 3, 3, 2, 2, 2, 2, 2, 2, 2, 2, 2, 2, 2, 2, 2, 2, 2, 2, 2, 2, 2, 2, 2, 2, 2, 2, 2, 2, 2, 2, 2, 2, 2, 2, 2, 2, 2, 2, 2, 2, 2, 2, 2, 2, 2, 2, 2, 2, 2, 2, 2, 2, 2, 2, 2, 2, 2, 2, 2, 2, 2, 2, 2, 2, 2, 2, 2, 2, 2, 2, 2, 2, 2, 2, 2, 2, 2, 2, 2, 2, 2, 2, 2, 2, 2, 2, 2, 2, 2, 2, 2, 2, 2, 2, 2, 2, 2, 2, 2, 2, 2, 2, 2, 2, 2, 2, 2, 2, 2, 2, 2, 2, 2, 2, 2, 2, 2, 2, 2, 2, 2, 2, 2, 2, 2, 2, 2, 2, 2, 2, 2, 2, 3, 3, 3, 3, 3, 3, 3, 3, 3, 3, 3, 3, 3, 4, 4, 3, 4, 3, 3, 3, 4, 3, 3, 3, 3, 3, 5, 4, 3, 3, 3, 3, 3, 3, 3, 3, 3, 4, 3, 4, 3, 3, 3, 3, 3, 3, 3, 3, 3, 3, 4, 3, 3, 4, 3, 3, 3, 3, 3, 3, 4, 3, 3, 3, 3, 4, 3, 4, 4, 4, 3, 3, 3, 3, 3, 4, 4, 3, 3, 3, 3, 4, 3, 4, 3, 3, 3, 3, 3, 3, 4, 3, 3, 3, 3, 3, 3, 3, 3, 3, 3, 3, 3, 3, 3, 3, 3, 4, 3, 3, 4, 4, 4, 3, 3, 3, 3, 3, 3, 3, 3, 3, 3, 4, 3, 3, 3, 3, 3, 3, 3, 3, 4, 3, 4, 3, 4, 3, 3, 2, 2, 2, 2, 2, 2, 2, 2, 2, 2, 2, 2, 2, 2, 2, 2, 2, 2, 2, 2, 2, 2, 2, 2, 2, 2, 2, 2, 2, 2, 2, 2, 2, 2, 2, 2, 2, 2, 2, 2, 2, 2, 2, 2, 2, 3, 3, 3, 3, 3, 3, 3, 3, 3, 3, 3, 3, 4, 4, 3, 3, 3, 3, 4, 3, 3, 4, 3, 3, 4, 3, 3, 3, 3, 4, 4, 3, 4, 4, 3, 4, 3, 4, 5, 3, 3, 3, 4, 3, 3, 3, 3, 3, 5, 3, 4, 3, 3, 3, 3, 4, 3, 3, 3, 3, 4, 3, 4, 3, 4, 4, 3, 3, 4, 4, 5, 3, 3, 3, 4, 3, 5, 3, 3, 3, 3, 3, 3, 5, 3, 3, 4, 3, 3, 5, 4, 3, 3, 3, 3, 4, 5, 4, 5, 3, 4, 3, 4, 3, 4, 4, 3, 4, 3, 3, 3, 3, 3, 3, 4, 8, 3, 3, 3, 4, 3, 3, 3, 4, 5, 4, 4, 3, 4, 4, 4, 4, 4, 3, 3, 3, 4, 3, 4, 3, 3, 5, 4, 3, 3, 4, 4, 3, 4, 3, 3, 5, 3, 3, 3, 3, 3, 5, 5, 3, 3, 4, 4, 4, 3, 4, 3, 4, 3, 3, 3, 3, 5, 5, 3, 3, 3, 3, 2, 2, 2, 2, 3, 4, 3, 3, 4, 5, 3, 3, 3, 3, 3, 4, 3, 4, 5, 4, 3, 4, 4, 3, 4, 3, 3, 4, 3, 3, 2, 2, 2, 2, 2, 2, 2, 2, 2, 2, 2, 2, 2, 2, 2, 2, 2, 2, 2, 2, 2, 2, 2, 2, 2, 2, 2, 2, 2, 2, 2, 2, 2, 2, 2, 2, 2, 2, 2, 2, 2, 2, 2, 2, 2, 2, 2, 2, 2, 2, 2, 2, 2, 2, 2, 2, 2, 2, 2, 2, 2, 2, 2, 2, 2, 2, 2, 2, 2, 2, 2, 2, 2, 2, 2, 2, 2, 2, 2, 2, 2, 2, 2, 2, 2, 2, 2, 2, 2, 2, 3, 3, 3, 3, 3, 3, 3, 3, 3, 4, 3, 3, 3, 3, 3, 3, 3, 3, 3, 3, 3, 3, 3, 3, 3, 3, 3, 3, 3, 3, 3, 1, 1, 1, 1, 1, 1, 1, 1, 1, 1, 1, 1, 1, 1, 1, 1, 1, 1, 1, 1, 1, 1, 1, 1, 1, 1, 1, 1, 1, 1, 1, 1, 1, 1, 2, 2, 2, 2, 2, 2, 2, 2, 2, 2, 2, 2, 2, 2, 2, 2, 2, 2, 2, 2, 2, 2, 2, 2, 2, 2, 2, 2, 2, 2, 2, 2, 2, 2, 2, 2, 2, 2, 2, 2, 2, 2, 2, 2, 2, 2, 2, 3, 3, 3, 3, 3, 3, 3, 3, 3, 3, 3, 3, 3, 3, 3, 3, 3, 3, 3, 3, 3, 3, 3, 3, 3, 3, 4, 3, 3, 3, 3, 3, 3, 3, 3, 3, 3, 3, 3, 3, 1, 1, 1, 1, 1, 2, 2, 2, 2, 2, 2, 3, 3, 3, 3, 28, 1, 1, 1, 1, 1, 1, 1, 1, 1, 1, 1, 1, 1, 1, 1, 1, 1, 1, 1, 1, 1, 1, 1, 1, 1, 1, 1, 1, 1, 1, 1, 1, 1, 1, 1, 1, 1, 1, 1, 1, 1, 1, 1, 1, 1, 1], \"y\": [32900, 299400, 253000, 184200, 231800, 172100, 371400, 144750, 188100, 124200, 327650, 287600, 298200, 102450, 132900, 331850, 298600, 173200, 376900, 202700, 209300, 287800, 107400, 155900, 47700, 265000, 228600, 51200, 135000, 143800, 72000, 157050, 195400, 150500, 317300, 378400, 144100, 296300, 257700, 98200, 267400, 82200, 312950, 914700, 902000, 460100, 642300, 495800, 666600, 394800, 626100, 455400, 415300, 724400, 385200, 1008000, 466500, 694700, 600400, 432200, 456900, 1045400, 1405000, 1352850, 1724000, 1650600, 41782900, 77100, 98500, 231400, 282100, 82700, 33900, 343800, 102300, 303800, 231300, 255600, 170800, 183000, 216700, 33600, 204400, 122300, 57600, 7700, 83000, 310700, 197900, 146900, 49900, 59800, 195400, 244700, 133400, 288900, 121900, 286300, 227800, 320100, 172700, 351600, 223200, 168800, 187800, 379300, 32800, 101600, 225200, 301800, 110000, 364300, 76900, 59800, 240600, 313700, 9400, 40400, 63000, 352700, 72000, 248000, 178600, 152200, 249200, 215000, 173000, 348100, 107100, 278000, 114400, 210200, 57600, 223000, 372500, 104100, 57300, 22200, 19600, 77800, 50500, 83000, 241600, 28800, 27800, 114100, 90400, 40900, 169000, 70000, 139300, 291500, 130200, 27700, 136500, 363900, 247900, 312500, 209000, 247700, 80900, 212200, 287500, 249100, 46700, 130400, 307700, 150100, 200000, 81600, 188900, 379600, 11900, 169900, 360800, 105100, 283800, 193200, 312800, 156600, 56000, 65700, 82300, 294500, 61100, 214700, 160300, 205700, 28100, 264800, 213300, 120300, 239600, 359400, 88550, 289400, 41900, 176500, 140000, 232800, 378300, 189350, 145100, 226300, 209500, 62200, 114600, 215600, 337300, 110500, 256200, 252300, 305300, 336350, 242700, 316900, 205300, 309100, 226000, 80000, 198900, 259600, 248300, 298800, 359500, 123300, 334400, 67400, 215000, 63200, 98150, 112700, 256500, 328500, 334600, 210600, 235100, 186600, 125600, 265300, 116100, 242400, 127800, 202300, 354400, 296250, 149300, 71400, 145100, 307900, 199600, 380400, 57900, 231675, 67700, 245600, 120900, 324400, 308400, 84400, 336000, 52800, 86900, 260200, 132100, 367600, 144100, 290100, 202100, 295200, 369400, 142800, 362300, 250700, 161600, 296600, 193900, 146200, 379700, 338800, 272000, 282600, 127100, 201300, 143300, 165700, 181700, 239900, 348600, 127000, 110700, 240600, 354650, 230800, 232400, 98800, 364100, 219600, 308900, 359500, 375400, 293800, 207200, 210300, 364200, 206500, 329100, 275400, 328150, 261600, 118150, 209700, 135900, 143500, 346700, 314700, 58900, 96200, 295700, 308800, 326700, 109400, 249050, 167700, 222000, 159000, 275700, 226550, 293900, 275350, 273900, 270000, 123300, 153300, 176900, 173400, 509950, 449200, 788100, 1017500, 580700, 440900, 723200, 453000, 576300, 745700, 497800, 949700, 756800, 406000, 445900, 393400, 885000, 395200, 816800, 450300, 923800, 461900, 488000, 508000, 855500, 627300, 696900, 730300, 596800, 506600, 409000, 714400, 595500, 396600, 420000, 683400, 455800, 499500, 651700, 1046900, 809000, 544200, 693100, 418600, 811000, 421800, 655500, 401700, 836900, 661400, 481700, 421600, 588200, 649200, 1039500, 676100, 413900, 503950, 772000, 484800, 677300, 519900, 496000, 510100, 1016850, 563820, 461300, 632800, 691000, 648200, 693000, 848900, 1019450, 505000, 924050, 705300, 1064500, 581750, 646650, 554950, 662300, 409400, 523600, 492000, 458000, 451600, 473000, 594050, 860100, 570700, 715700, 1012000, 509400, 628900, 393200, 667700, 557500, 886900, 815800, 837500, 623500, 543200, 456000, 657400, 995400, 946000, 412000, 514600, 475000, 391600, 651600, 510300, 491000, 399900, 763700, 416000, 556900, 474050, 546900, 443600, 567400, 943700, 517600, 470700, 424300, 438900, 435500, 920700, 940700, 543100, 688300, 751400, 927700, 598600, 429200, 500900, 988200, 654200, 841300, 680700, 759600, 775400, 614300, 738700, 578900, 780000, 439700, 428950, 413200, 622800, 437800, 704900, 579600, 592700, 480900, 503700, 851800, 420500, 408400, 575100, 719300, 890000, 612200, 668900, 544700, 1026200, 677800, 498300, 749600, 754400, 711300, 425100, 455300, 802200, 529900, 413200, 606500, 624000, 538800, 628200, 474000, 404650, 554000, 578500, 941800, 589400, 784500, 509600, 729700, 445600, 647600, 563300, 578600, 603400, 877600, 609600, 414000, 465300, 1048400, 415600, 446200, 746300, 879500, 472400, 487200, 545100, 440200, 690700, 865000, 649200, 403250, 776350, 662400, 635600, 621200, 403900, 1028000, 859200, 1007900, 509100, 994900, 477100, 853850, 1856800, 1118200, 1248800, 1240800, 1491100, 1940900, 1160000, 1864900, 1271900, 1268400, 1083300, 1338100, 1145900, 1565100, 1096250, 1279550, 1175700, 1230950, 1100400, 1309700, 1197100, 1500900, 2030700, 1578800, 1260500, 2089900, 3446000, 1616800, 1406800, 1133850, 227800, 55500, 50800, 292800, 46100, 289700, 26700, 311400, 160400, 313300, 210600, 54500, 177300, 298200, 188200, 51600, 34800, 101200, 286200, 84600, 299600, 173900, 217000, 63400, 129400, 99200, 158800, 227500, 120000, 41700, 22800, 340800, 188400, 78700, 334400, 61400, 69700, 296800, 283900, 259800, 319000, 324900, 103900, 233300, 34600, 222200, 107100, 244100, 212500, 217700, 266800, 142300, 196400, 197100, 226400, 247100, 286700, 188100, 38700, 270300, 236400, 74800, 238300, 95500, 47400, 139200, 31600, 22600, 172800, 36200, 44300, 145400, 254400, 366800, 37100, 259700, 157500, 234700, 102500, 77000, 276700, 347800, 168400, 64400, 140400, 234100, 67400, 63800, 355200, 215600, 345500, 340000, 233500, 188900, 143800, 130000, 253200, 340200, 139900, 234900, 174600, 41600, 191500, 156600, 278200, 103500, 188800, 205700, 190500, 233800, 99300, 124900, 279900, 320700, 290700, 288000, 220200, 247200, 326800, 151300, 154200, 520800, 826700, 402600, 442400, 1006000, 416400, 410500, 496500, 599200, 691000, 663900, 640400, 416000, 403200, 406000, 403900, 455200, 551700, 495000, 480000, 797200, 661500, 1012000, 626100, 472200, 473200, 508800, 714100, 432000, 724000, 400000, 577100, 812250, 864600, 532900, 958300, 522600, 544800, 402100, 631000, 471800, 496000, 512700, 581300, 407200, 615000, 780700, 512600, 628800, 573800, 645700, 490000, 463500, 620800, 871700, 589000, 466100, 398000, 561700, 754100, 426100, 586600, 745700, 559700, 410900, 819400, 711000, 760500, 444350, 759700, 455000, 747500, 551600, 486900, 470600, 794800, 832100, 457500, 957400, 505000, 524700, 534600, 502300, 558200, 710500, 458500, 401500, 672400, 552200, 808600, 831800, 801400, 776300, 750000, 771600, 480900, 642900, 572900, 739800, 730600, 601300, 451700, 645100, 813200, 462900, 529200, 475500, 1059300, 549250, 481500, 506200, 921300, 518400, 601800, 618200, 449900, 705300, 386500, 485000, 1004400, 884400, 1341600, 1204900, 1230900, 1100000, 1339200, 1334400, 1397400, 1183900, 1476200, 2644700, 1297500, 1183800, 1569700, 1469100, 1221900, 2602300, 758100, 441000, 901500, 690650, 873000, 1022200, 655500, 478800, 470700, 467300, 532000, 802500, 756900, 650800, 654400, 718700, 744350, 768400, 576700, 388400, 591100, 599200, 406900, 946200, 427200, 470150, 397650, 394900, 831900, 741050, 427000, 529200, 476400, 814600, 889600, 727200, 793900, 568800, 440000, 590000, 1419150, 1158300, 1380550, 1075500, 1695800, 1381800]}, {\"marker\": {\"color\": \"red\", \"line\": {\"width\": 1}, \"opacity\": 0.9, \"size\": 11}, \"mode\": \"markers\", \"name\": \"Low\", \"type\": \"scatter\", \"x\": [1, 1, 1, 1, 1, 1, 1, 1, 1, 1, 1, 1, 1, 1, 1, 1, 1, 1, 1, 1, 1, 1, 1, 1, 1, 1, 1, 1, 1, 1, 1, 1, 1, 1, 1, 1, 1, 1, 1, 1, 1, 1, 1, 1, 1, 1, 1, 1, 1, 1, 1, 1, 1, 1, 1, 1, 1, 1, 1, 1, 1, 1, 1, 1, 1, 1, 1, 1, 1, 1, 1, 1, 1, 1, 1, 1, 1, 1, 1, 1, 1, 1, 1, 1, 1, 1, 1, 1, 1, 1, 1, 1, 1, 1, 1, 1, 1, 1, 1, 1, 1, 1, 1, 1, 1, 1, 1, 1, 1, 1, 1, 1, 1, 1, 1, 1, 1, 1, 1, 1, 1, 1, 1, 1, 1, 1, 1, 1, 1, 1, 1, 1, 1, 1, 1, 1, 1, 1, 1, 1, 1, 1, 1, 1, 1, 1, 1, 1, 1, 1, 1, 1, 1, 1, 1, 1, 1, 1, 1, 1, 1, 1, 1, 1, 1, 1, 1, 1, 1, 1, 1, 1, 1, 1, 1, 1, 1, 1, 1, 1, 1, 1, 1, 1, 1, 1, 1, 1, 1, 1, 1, 1, 1, 1, 1, 1, 1, 1, 1, 1, 1, 1, 1, 1, 1, 1, 1, 1, 1, 1, 1, 1, 1, 1, 1, 1, 1, 1, 1, 1, 1, 1, 1, 1, 1, 1, 1, 1, 1, 1, 1, 1, 1, 1, 1, 1, 1, 1, 1, 1, 1, 1, 1, 1, 1, 1, 1, 1, 1, 1, 1, 1, 1, 1, 1, 1, 1, 1, 1, 1, 1, 1, 1, 1, 1, 1, 1, 1, 1, 1, 1, 1, 1, 1, 1, 1, 1, 1, 1, 1, 1, 1, 1, 1, 1, 1, 1, 1, 1, 1, 1, 1, 1, 1, 1, 1, 1, 1, 1, 1, 1, 1, 1, 1, 1, 1, 1, 1, 1, 1, 1, 1, 1, 1, 1, 1, 1, 1, 1, 1, 1, 1, 1, 1, 1, 1, 1, 1, 1, 1, 1, 1, 1, 1, 1, 1, 1, 1, 1, 1, 1, 1, 1, 1, 1, 1, 1, 1, 1, 1, 1, 1, 1, 1, 1, 1, 1, 1, 1, 1, 1, 1, 1, 1, 1, 1, 1, 1, 1, 1, 1, 1, 1, 1, 1, 1, 1, 1, 1, 1, 1, 1, 1, 1, 1, 1, 1, 1, 1, 1, 1, 1, 1, 1, 1, 1, 1, 1, 1, 1, 1, 1, 1, 1, 1, 1, 1, 1, 1, 1, 1, 1, 1, 1, 1, 1, 1, 1, 1, 1, 1, 1, 1, 1, 1, 1, 1, 1, 1, 1, 1, 1, 1, 1, 1, 1, 1, 1, 1, 1, 1, 1, 1, 1, 1, 1, 1, 1, 1, 1, 1, 1, 1, 1, 1, 1, 1, 1, 1, 1, 1, 1, 1, 1, 1, 1, 1, 1, 1, 1, 1, 1, 1, 1, 1, 1, 1, 1, 1, 1, 1, 1, 1, 1, 1, 1, 1, 1, 1, 1, 1, 1, 1, 1, 1, 1, 1, 1, 1, 1, 1, 1, 1, 1, 1, 1, 1, 1, 1, 1, 1, 1, 1, 1, 1, 1, 1, 1, 1, 1, 1, 1, 1, 1, 1, 1, 1, 1, 1, 1, 1, 1, 1, 1, 1, 1, 1, 1, 1, 1, 1, 1, 1, 1, 1, 1, 1, 1, 1, 1, 1, 1, 1, 1, 1, 1, 1, 1, 1, 1, 1, 1, 1, 1, 1, 1, 1, 1, 1, 1, 1, 1, 1, 1, 1, 1, 1, 1, 1, 1, 1, 1, 1, 1, 1, 1, 1, 1, 1, 1, 1, 1, 1, 1, 1, 1, 1, 1, 1, 1, 1, 1, 1, 1, 1, 1, 1, 1, 1, 1, 1, 1, 1, 1, 1, 1, 1, 1, 1, 1, 1, 1, 1, 1, 1, 1, 1, 1, 1, 1, 1, 1, 1, 1, 1, 1, 1, 1, 1, 1, 1, 1, 1, 1, 1], \"y\": [216000, 44300, 160100, 61300, 96300, 333000, 117300, 151900, 150200, 48400, 7700, 21200, 79800, 72800, 109500, 96800, 62400, 219800, 45000, 198800, 94400, 114900, 90300, 297800, 58200, 151600, 250100, 130200, 70100, 358300, 60000, 295300, 116000, 104000, 53200, 128400, 57400, 252200, 364400, 8400, 177700, 70200, 57700, 199000, 108000, 21600, 110200, 309700, 70800, 74800, 61500, 6800, 35600, 39000, 58500, 44400, 83200, 84100, 18900, 21700, 236000, 286800, 79200, 198500, 266400, 349900, 12200, 331800, 363200, 61100, 15000, 202200, 865900, 766800, 605600, 424600, 585700, 389200, 1017700, 589000, 403700, 566800, 793800, 461200, 743800, 84500, 6600, 6600, 213900, 20000, 198100, 187000, 252000, 14400, 15600, 134000, 199200, 51000, 347400, 109200, 23800, 71350, 87200, 654750, 524750, 15600, 362900, 160000, 171500, 42300, 3300, 158000, 49000, 123600, 88100, 38000, 225000, 55000, 56100, 46800, 194600, 192400, 20000, 53000, 27300, 34300, 11000, 53700, 12200, 61100, 144000, 3300, 10200, 179400, 66600, 11200, 10200, 61800, 172800, 161400, 88000, 127500, 162000, 20000, 94500, 106600, 19600, 19500, 36000, 24900, 56100, 177600, 42900, 215800, 23400, 159600, 339600, 136000, 104900, 40200, 218400, 33000, 8300, 75000, 79600, 151900, 79800, 161700, 46900, 60000, 47000, 96600, 221800, 115800, 30000, 39600, 4400, 216300, 280000, 90000, 15300, 125000, 162800, 126200, 113400, 45500, 55000, 18000, 35000, 22000, 14400, 292800, 127600, 170500, 112400, 202300, 71200, 8800, 11700, 261800, 259200, 33000, 182600, 163200, 16800, 206400, 282000, 20000, 133200, 246600, 24400, 284800, 118700, 42200, 19500, 64800, 116000, 323000, 203800, 11200, 153400, 48800, 136000, 26400, 45600, 176900, 42400, 108200, 23400, 17600, 227300, 100000, 11200, 13200, 5000, 155400, 93100, 289000, 293600, 152200, 233500, 103200, 378700, 69800, 87000, 67200, 15000, 16800, 61500, 16500, 311500, 77800, 66000, 13200, 23400, 352800, 10000, 284600, 46800, 20000, 7200, 4400, 45000, 4400, 11000, 105000, 35000, 8800, 160000, 117900, 68400, 149500, 110000, 39000, 49800, 6600, 30000, 127500, 90000, 205000, 179400, 190400, 135500, 144800, 40200, 33600, 125900, 6000, 22000, 196800, 20700, 33700, 259700, 90400, 7800, 4400, 57800, 84600, 51000, 20400, 86400, 15000, 20000, 20400, 95400, 7800, 174600, 170900, 204000, 40000, 368900, 115000, 52500, 80800, 175200, 166800, 2200, 12000, 28900, 286200, 335250, 80600, 18500, 33900, 139850, 22900, 11700, 31500, 51550, 34250, 170400, 342400, 145600, 36000, 7500, 123700, 194800, 30000, 135300, 24500, 17100, 71800, 32600, 123300, 22400, 112200, 353200, 66000, 274300, 70200, 1100, 48400, 7800, 25000, 268500, 234100, 36750, 35300, 44100, 23800, 288750, 346850, 302600, 38500, 5800, 34600, 14000, 197700, 179200, 27000, 24000, 38500, 20500, 5700, 30800, 18000, 142800, 246300, 30750, 105750, 181300, 30000, 79350, 102200, 38100, 28000, 234000, 87300, 88700, 49600, 180600, 177400, 102900, 268200, 49050, 33600, 17800, 30750, 53800, 183250, 17100, 30000, 208200, 14000, 2200, 40000, 13200, 288000, 35850, 76800, 38550, 114000, 8600, 119500, 90700, 10000, 13750, 18000, 212250, 304200, 44350, 112500, 297500, 23400, 319600, 14750, 50400, 136300, 354900, 150500, 19500, 193800, 261000, 6850, 46800, 288100, 256500, 81000, 70000, 134200, 114500, 163900, 227100, 59600, 63700, 42300, 39000, 302300, 41850, 158200, 11400, 37800, 208550, 46900, 10000, 81550, 229500, 21250, 324250, 148300, 5500, 133000, 73500, 30600, 33000, 123300, 164100, 110600, 148200, 7200, 179450, 79500, 7200, 351950, 10900, 252000, 195800, 15000, 181800, 104200, 148400, 236400, 89800, 83400, 67850, 9000, 96300, 315000, 27000, 88000, 160400, 122200, 7200, 7200, 11200, 39600, 8900, 1100, 7200, 11900, 13500, 107100, 153200, 147000, 23200, 126800, 27200, 29400, 48300, 231200, 36500, 136800, 24100, 5250, 284100, 23150, 31700, 144000, 27800, 137700, 321850, 3000, 10500, 35700, 139300, 217500, 59900, 22200, 86200, 14400, 33000, 73200, 12000, 154000, 79800, 317600, 42000, 246700, 40300, 81200, 218850, 79550, 80200, 139200, 252000, 153750, 64500, 153200, 24500, 40500, 318550, 163500, 55000, 189000, 216000, 63650, 146400, 196600, 186600, 31800, 8000, 51000, 9900, 3900, 117800, 49500, 21000, 35400, 201700, 163000, 92400, 5000, 192600, 6100, 132000, 128300, 11400, 8600, 33250, 192250, 39200, 289000, 188450, 164000, 36400, 73200, 198000, 43400, 118400, 7800, 161400, 162250, 5000, 31400, 26150, 258750, 6600, 15000, 13750, 24000, 10000, 33900, 302800, 175050, 77100, 257600, 217800, 187000, 75000, 357600, 41100, 224400, 12000, 282500, 86700, 5600, 267900, 85700, 71000, 15600, 119700, 10000, 22750, 147100, 228900, 264000, 23800, 109600, 144000, 10800, 199300, 135000, 56500, 148250, 76000, 246650, 19850, 101900, 39000, 180500, 5500, 245100, 297200, 75700, 24750]}, {\"marker\": {\"color\": \"red\", \"line\": {\"width\": 1}, \"opacity\": 0.5, \"size\": 9}, \"mode\": \"markers\", \"name\": \"Low\", \"type\": \"scatter\", \"x\": [], \"y\": []}],\n",
              "                        {\"template\": {\"data\": {\"bar\": [{\"error_x\": {\"color\": \"#2a3f5f\"}, \"error_y\": {\"color\": \"#2a3f5f\"}, \"marker\": {\"line\": {\"color\": \"#E5ECF6\", \"width\": 0.5}}, \"type\": \"bar\"}], \"barpolar\": [{\"marker\": {\"line\": {\"color\": \"#E5ECF6\", \"width\": 0.5}}, \"type\": \"barpolar\"}], \"carpet\": [{\"aaxis\": {\"endlinecolor\": \"#2a3f5f\", \"gridcolor\": \"white\", \"linecolor\": \"white\", \"minorgridcolor\": \"white\", \"startlinecolor\": \"#2a3f5f\"}, \"baxis\": {\"endlinecolor\": \"#2a3f5f\", \"gridcolor\": \"white\", \"linecolor\": \"white\", \"minorgridcolor\": \"white\", \"startlinecolor\": \"#2a3f5f\"}, \"type\": \"carpet\"}], \"choropleth\": [{\"colorbar\": {\"outlinewidth\": 0, \"ticks\": \"\"}, \"type\": \"choropleth\"}], \"contour\": [{\"colorbar\": {\"outlinewidth\": 0, \"ticks\": \"\"}, \"colorscale\": [[0.0, \"#0d0887\"], [0.1111111111111111, \"#46039f\"], [0.2222222222222222, \"#7201a8\"], [0.3333333333333333, \"#9c179e\"], [0.4444444444444444, \"#bd3786\"], [0.5555555555555556, \"#d8576b\"], [0.6666666666666666, \"#ed7953\"], [0.7777777777777778, \"#fb9f3a\"], [0.8888888888888888, \"#fdca26\"], [1.0, \"#f0f921\"]], \"type\": \"contour\"}], \"contourcarpet\": [{\"colorbar\": {\"outlinewidth\": 0, \"ticks\": \"\"}, \"type\": \"contourcarpet\"}], \"heatmap\": [{\"colorbar\": {\"outlinewidth\": 0, \"ticks\": \"\"}, \"colorscale\": [[0.0, \"#0d0887\"], [0.1111111111111111, \"#46039f\"], [0.2222222222222222, \"#7201a8\"], [0.3333333333333333, \"#9c179e\"], [0.4444444444444444, \"#bd3786\"], [0.5555555555555556, \"#d8576b\"], [0.6666666666666666, \"#ed7953\"], [0.7777777777777778, \"#fb9f3a\"], [0.8888888888888888, \"#fdca26\"], [1.0, \"#f0f921\"]], \"type\": \"heatmap\"}], \"heatmapgl\": [{\"colorbar\": {\"outlinewidth\": 0, \"ticks\": \"\"}, \"colorscale\": [[0.0, \"#0d0887\"], [0.1111111111111111, \"#46039f\"], [0.2222222222222222, \"#7201a8\"], [0.3333333333333333, \"#9c179e\"], [0.4444444444444444, \"#bd3786\"], [0.5555555555555556, \"#d8576b\"], [0.6666666666666666, \"#ed7953\"], [0.7777777777777778, \"#fb9f3a\"], [0.8888888888888888, \"#fdca26\"], [1.0, \"#f0f921\"]], \"type\": \"heatmapgl\"}], \"histogram\": [{\"marker\": {\"colorbar\": {\"outlinewidth\": 0, \"ticks\": \"\"}}, \"type\": \"histogram\"}], \"histogram2d\": [{\"colorbar\": {\"outlinewidth\": 0, \"ticks\": \"\"}, \"colorscale\": [[0.0, \"#0d0887\"], [0.1111111111111111, \"#46039f\"], [0.2222222222222222, \"#7201a8\"], [0.3333333333333333, \"#9c179e\"], [0.4444444444444444, \"#bd3786\"], [0.5555555555555556, \"#d8576b\"], [0.6666666666666666, \"#ed7953\"], [0.7777777777777778, \"#fb9f3a\"], [0.8888888888888888, \"#fdca26\"], [1.0, \"#f0f921\"]], \"type\": \"histogram2d\"}], \"histogram2dcontour\": [{\"colorbar\": {\"outlinewidth\": 0, \"ticks\": \"\"}, \"colorscale\": [[0.0, \"#0d0887\"], [0.1111111111111111, \"#46039f\"], [0.2222222222222222, \"#7201a8\"], [0.3333333333333333, \"#9c179e\"], [0.4444444444444444, \"#bd3786\"], [0.5555555555555556, \"#d8576b\"], [0.6666666666666666, \"#ed7953\"], [0.7777777777777778, \"#fb9f3a\"], [0.8888888888888888, \"#fdca26\"], [1.0, \"#f0f921\"]], \"type\": \"histogram2dcontour\"}], \"mesh3d\": [{\"colorbar\": {\"outlinewidth\": 0, \"ticks\": \"\"}, \"type\": \"mesh3d\"}], \"parcoords\": [{\"line\": {\"colorbar\": {\"outlinewidth\": 0, \"ticks\": \"\"}}, \"type\": \"parcoords\"}], \"pie\": [{\"automargin\": true, \"type\": \"pie\"}], \"scatter\": [{\"marker\": {\"colorbar\": {\"outlinewidth\": 0, \"ticks\": \"\"}}, \"type\": \"scatter\"}], \"scatter3d\": [{\"line\": {\"colorbar\": {\"outlinewidth\": 0, \"ticks\": \"\"}}, \"marker\": {\"colorbar\": {\"outlinewidth\": 0, \"ticks\": \"\"}}, \"type\": \"scatter3d\"}], \"scattercarpet\": [{\"marker\": {\"colorbar\": {\"outlinewidth\": 0, \"ticks\": \"\"}}, \"type\": \"scattercarpet\"}], \"scattergeo\": [{\"marker\": {\"colorbar\": {\"outlinewidth\": 0, \"ticks\": \"\"}}, \"type\": \"scattergeo\"}], \"scattergl\": [{\"marker\": {\"colorbar\": {\"outlinewidth\": 0, \"ticks\": \"\"}}, \"type\": \"scattergl\"}], \"scattermapbox\": [{\"marker\": {\"colorbar\": {\"outlinewidth\": 0, \"ticks\": \"\"}}, \"type\": \"scattermapbox\"}], \"scatterpolar\": [{\"marker\": {\"colorbar\": {\"outlinewidth\": 0, \"ticks\": \"\"}}, \"type\": \"scatterpolar\"}], \"scatterpolargl\": [{\"marker\": {\"colorbar\": {\"outlinewidth\": 0, \"ticks\": \"\"}}, \"type\": \"scatterpolargl\"}], \"scatterternary\": [{\"marker\": {\"colorbar\": {\"outlinewidth\": 0, \"ticks\": \"\"}}, \"type\": \"scatterternary\"}], \"surface\": [{\"colorbar\": {\"outlinewidth\": 0, \"ticks\": \"\"}, \"colorscale\": [[0.0, \"#0d0887\"], [0.1111111111111111, \"#46039f\"], [0.2222222222222222, \"#7201a8\"], [0.3333333333333333, \"#9c179e\"], [0.4444444444444444, \"#bd3786\"], [0.5555555555555556, \"#d8576b\"], [0.6666666666666666, \"#ed7953\"], [0.7777777777777778, \"#fb9f3a\"], [0.8888888888888888, \"#fdca26\"], [1.0, \"#f0f921\"]], \"type\": \"surface\"}], \"table\": [{\"cells\": {\"fill\": {\"color\": \"#EBF0F8\"}, \"line\": {\"color\": \"white\"}}, \"header\": {\"fill\": {\"color\": \"#C8D4E3\"}, \"line\": {\"color\": \"white\"}}, \"type\": \"table\"}]}, \"layout\": {\"annotationdefaults\": {\"arrowcolor\": \"#2a3f5f\", \"arrowhead\": 0, \"arrowwidth\": 1}, \"coloraxis\": {\"colorbar\": {\"outlinewidth\": 0, \"ticks\": \"\"}}, \"colorscale\": {\"diverging\": [[0, \"#8e0152\"], [0.1, \"#c51b7d\"], [0.2, \"#de77ae\"], [0.3, \"#f1b6da\"], [0.4, \"#fde0ef\"], [0.5, \"#f7f7f7\"], [0.6, \"#e6f5d0\"], [0.7, \"#b8e186\"], [0.8, \"#7fbc41\"], [0.9, \"#4d9221\"], [1, \"#276419\"]], \"sequential\": [[0.0, \"#0d0887\"], [0.1111111111111111, \"#46039f\"], [0.2222222222222222, \"#7201a8\"], [0.3333333333333333, \"#9c179e\"], [0.4444444444444444, \"#bd3786\"], [0.5555555555555556, \"#d8576b\"], [0.6666666666666666, \"#ed7953\"], [0.7777777777777778, \"#fb9f3a\"], [0.8888888888888888, \"#fdca26\"], [1.0, \"#f0f921\"]], \"sequentialminus\": [[0.0, \"#0d0887\"], [0.1111111111111111, \"#46039f\"], [0.2222222222222222, \"#7201a8\"], [0.3333333333333333, \"#9c179e\"], [0.4444444444444444, \"#bd3786\"], [0.5555555555555556, \"#d8576b\"], [0.6666666666666666, \"#ed7953\"], [0.7777777777777778, \"#fb9f3a\"], [0.8888888888888888, \"#fdca26\"], [1.0, \"#f0f921\"]]}, \"colorway\": [\"#636efa\", \"#EF553B\", \"#00cc96\", \"#ab63fa\", \"#FFA15A\", \"#19d3f3\", \"#FF6692\", \"#B6E880\", \"#FF97FF\", \"#FECB52\"], \"font\": {\"color\": \"#2a3f5f\"}, \"geo\": {\"bgcolor\": \"white\", \"lakecolor\": \"white\", \"landcolor\": \"#E5ECF6\", \"showlakes\": true, \"showland\": true, \"subunitcolor\": \"white\"}, \"hoverlabel\": {\"align\": \"left\"}, \"hovermode\": \"closest\", \"mapbox\": {\"style\": \"light\"}, \"paper_bgcolor\": \"white\", \"plot_bgcolor\": \"#E5ECF6\", \"polar\": {\"angularaxis\": {\"gridcolor\": \"white\", \"linecolor\": \"white\", \"ticks\": \"\"}, \"bgcolor\": \"#E5ECF6\", \"radialaxis\": {\"gridcolor\": \"white\", \"linecolor\": \"white\", \"ticks\": \"\"}}, \"scene\": {\"xaxis\": {\"backgroundcolor\": \"#E5ECF6\", \"gridcolor\": \"white\", \"gridwidth\": 2, \"linecolor\": \"white\", \"showbackground\": true, \"ticks\": \"\", \"zerolinecolor\": \"white\"}, \"yaxis\": {\"backgroundcolor\": \"#E5ECF6\", \"gridcolor\": \"white\", \"gridwidth\": 2, \"linecolor\": \"white\", \"showbackground\": true, \"ticks\": \"\", \"zerolinecolor\": \"white\"}, \"zaxis\": {\"backgroundcolor\": \"#E5ECF6\", \"gridcolor\": \"white\", \"gridwidth\": 2, \"linecolor\": \"white\", \"showbackground\": true, \"ticks\": \"\", \"zerolinecolor\": \"white\"}}, \"shapedefaults\": {\"line\": {\"color\": \"#2a3f5f\"}}, \"ternary\": {\"aaxis\": {\"gridcolor\": \"white\", \"linecolor\": \"white\", \"ticks\": \"\"}, \"baxis\": {\"gridcolor\": \"white\", \"linecolor\": \"white\", \"ticks\": \"\"}, \"bgcolor\": \"#E5ECF6\", \"caxis\": {\"gridcolor\": \"white\", \"linecolor\": \"white\", \"ticks\": \"\"}}, \"title\": {\"x\": 0.05}, \"xaxis\": {\"automargin\": true, \"gridcolor\": \"white\", \"linecolor\": \"white\", \"ticks\": \"\", \"title\": {\"standoff\": 15}, \"zerolinecolor\": \"white\", \"zerolinewidth\": 2}, \"yaxis\": {\"automargin\": true, \"gridcolor\": \"white\", \"linecolor\": \"white\", \"ticks\": \"\", \"title\": {\"standoff\": 15}, \"zerolinecolor\": \"white\", \"zerolinewidth\": 2}}}, \"title\": {\"text\": \"Segments\"}, \"xaxis\": {\"title\": {\"text\": \"Frequency\"}}, \"yaxis\": {\"title\": {\"text\": \"Monetary\"}}},\n",
              "                        {\"responsive\": true}\n",
              "                    ).then(function(){\n",
              "                            \n",
              "var gd = document.getElementById('f8fdabf5-81e1-4da8-a4d7-08c585b3e9a7');\n",
              "var x = new MutationObserver(function (mutations, observer) {{\n",
              "        var display = window.getComputedStyle(gd).display;\n",
              "        if (!display || display === 'none') {{\n",
              "            console.log([gd, 'removed!']);\n",
              "            Plotly.purge(gd);\n",
              "            observer.disconnect();\n",
              "        }}\n",
              "}});\n",
              "\n",
              "// Listen for the removal of the full notebook cells\n",
              "var notebookContainer = gd.closest('#notebook-container');\n",
              "if (notebookContainer) {{\n",
              "    x.observe(notebookContainer, {childList: true});\n",
              "}}\n",
              "\n",
              "// Listen for the clearing of the current output cell\n",
              "var outputEl = gd.closest('.output');\n",
              "if (outputEl) {{\n",
              "    x.observe(outputEl, {childList: true});\n",
              "}}\n",
              "\n",
              "                        })\n",
              "                };\n",
              "                \n",
              "            </script>\n",
              "        </div>\n",
              "</body>\n",
              "</html>"
            ]
          },
          "metadata": {
            "tags": []
          }
        }
      ]
    },
    {
      "cell_type": "code",
      "metadata": {
        "colab": {
          "base_uri": "https://localhost:8080/",
          "height": 542
        },
        "id": "JYtJ59kiMkLJ",
        "outputId": "6d5f6c44-987c-4d9b-9f04-40d7a241cf4d"
      },
      "source": [
        "plot_data = [\n",
        "    go.Scatter(\n",
        "        x=rfm_df.query(\"Cluster == 'A'\")['Recency'],\n",
        "        y=rfm_df.query(\"Cluster == 'A'\")['Monetary'],\n",
        "        mode='markers',\n",
        "        name='High',\n",
        "        marker= dict(size= 7,\n",
        "            line= dict(width=1),\n",
        "            color= 'blue',\n",
        "            opacity= 0.8\n",
        "           )\n",
        "    ),\n",
        "     go.Scatter(\n",
        "        x=rfm_df.query(\"Cluster == 'B'\")['Recency'],\n",
        "        y=rfm_df.query(\"Cluster == 'B'\")['Monetary'],\n",
        "        mode='markers',\n",
        "        name='Mid',\n",
        "         marker= dict(size= 9,\n",
        "            line= dict(width=1),\n",
        "            color= 'green',\n",
        "            opacity= 0.5\n",
        "           )\n",
        "    ),\n",
        "    \n",
        "     go.Scatter(\n",
        "        x=rfm_df.query(\"Cluster == 'C'\")['Recency'],\n",
        "        y=rfm_df.query(\"Cluster == 'C'\")['Monetary'],\n",
        "        mode='markers',\n",
        "        name='Low',\n",
        "        marker= dict(size= 11,\n",
        "            line= dict(width=1),\n",
        "            color= 'red',\n",
        "            opacity= 0.9\n",
        "           )\n",
        "    )\n",
        "\n",
        "\n",
        "]\n",
        "\n",
        "plot_layout = go.Layout(\n",
        "        yaxis= {'title': \"Monetary\"},\n",
        "        xaxis= {'title': \"Recency\"},\n",
        "        title='Segments'\n",
        "    )\n",
        "fig = go.Figure(data=plot_data, layout=plot_layout)\n",
        "pyoff.iplot(fig)"
      ],
      "execution_count": null,
      "outputs": [
        {
          "output_type": "display_data",
          "data": {
            "text/html": [
              "<html>\n",
              "<head><meta charset=\"utf-8\" /></head>\n",
              "<body>\n",
              "    <div>\n",
              "            <script src=\"https://cdnjs.cloudflare.com/ajax/libs/mathjax/2.7.5/MathJax.js?config=TeX-AMS-MML_SVG\"></script><script type=\"text/javascript\">if (window.MathJax) {MathJax.Hub.Config({SVG: {font: \"STIX-Web\"}});}</script>\n",
              "                <script type=\"text/javascript\">window.PlotlyConfig = {MathJaxConfig: 'local'};</script>\n",
              "        <script src=\"https://cdn.plot.ly/plotly-latest.min.js\"></script>    \n",
              "            <div id=\"38bd949a-6cd0-43a1-946a-9234edc1b717\" class=\"plotly-graph-div\" style=\"height:525px; width:100%;\"></div>\n",
              "            <script type=\"text/javascript\">\n",
              "                \n",
              "                    window.PLOTLYENV=window.PLOTLYENV || {};\n",
              "                    \n",
              "                if (document.getElementById(\"38bd949a-6cd0-43a1-946a-9234edc1b717\")) {\n",
              "                    Plotly.newPlot(\n",
              "                        '38bd949a-6cd0-43a1-946a-9234edc1b717',\n",
              "                        [{\"marker\": {\"color\": \"blue\", \"line\": {\"width\": 1}, \"opacity\": 0.8, \"size\": 7}, \"mode\": \"markers\", \"name\": \"High\", \"type\": \"scatter\", \"x\": [29.25, 32.34, 32.05, 32.3, 32.13, 30.17, 31.97, 29.94, 30.27, 60.24, 60.04, 59.23, 52.85], \"y\": [1319850, 1395900, 1211400, 1145800, 1357300, 1086400, 2084350, 2204400, 1184500, 1315700, 1976300, 2274800, 4287600]}, {\"marker\": {\"color\": \"green\", \"line\": {\"width\": 1}, \"opacity\": 0.5, \"size\": 9}, \"mode\": \"markers\", \"name\": \"Mid\", \"type\": \"scatter\", \"x\": [26.01, 27.21, 27.09, 26.1, 25.12, 27.11, 28.04, 28.06, 27.35, 29.02, 26.19, 28.31, 28.27, 28.09, 25.15, 25.11, 25.2, 27.88, 26.14, 27.03, 26.03, 27.31, 25.26, 26.05, 34.02, 33.94, 42.32, 42.19, 43.07, 42.23, 34.01, 43.14, 42.89, 43.05, 42.96, 43.04, 43.11, 42.14, 43.19, 42.18, 42.17, 42.92, 29.1, 25.99, 26.07, 27.97, 25.87, 25.19, 25.92, 25.28, 26.25, 27.13, 25.21, 25.24, 26.12, 26.95, 26.99, 27.86, 25.85, 42.3, 42.16, 42.27, 76.18, 28.18, 25.31, 29.08, 42.86, 100.29, 85.11, 93.01, 95.05, 101.88, 94.88, 83.88, 96.06, 80.23, 96.22, 88.88, 100.27, 96.16, 84.32, 93.94, 104.22, 86.9, 96.34, 102.16, 96.29, 85.01, 103.28, 102.01, 96.06, 105.39, 93.16, 96.27, 92.96, 94.22, 103.35, 93.24, 104.36, 95.94, 93.89, 100.08, 103.49, 103.22, 96.19, 95.06, 93.93, 96.11, 103.17, 95.22, 94.88, 92.88, 85.28, 96.24, 102.15, 103.37, 102.19, 100.34, 94.24, 93.1, 86.93, 90.02, 95.19, 90.17, 112.19, 94.11, 99.94, 103.09, 101.95, 83.06, 83.34, 82.86, 89.31, 92.9, 95.24, 78.95, 105.04, 94.99, 94.02, 95.29, 101.94, 104.98, 90.2, 92.9, 93.14, 83.31, 80.37, 103.08, 94.89, 88.9, 93.9, 102.02, 104.32, 102.24, 105.1, 101.04, 94.08, 93.06, 103.25, 88.35, 101.93, 84.07, 92.92, 89.93, 94.96, 94.04, 79.23, 93.22, 96.1, 49.16, 49.03, 61.21, 61.34, 49.1, 48.96, 61.22, 49.12, 48.13, 48.15, 48.12, 48.31, 35.03, 49.13, 43.24, 48.32, 61.92, 61.12, 48.14, 49.08, 61.87, 35.19, 48.29, 48.99, 36.86, 35.11, 49.04, 35.1, 71.26, 86.18, 80.88, 71.32, 70.13, 71.15, 71.26, 85.03, 71.08, 70.28, 29.9, 29.34, 29.22, 32.27, 32.19, 30.18, 32.24, 32.18, 29.24, 29.99, 29.2, 39.21, 40.32, 44.86, 46.17, 47.33, 40.3, 33.01, 45.16, 65.29, 47.95, 47.25, 47.13, 45.0, 40.24, 40.16, 64.0, 67.26, 44.3, 38.07, 67.3, 62.3, 36.88, 46.11, 47.85, 65.97, 46.06, 62.27, 34.99, 44.27, 37.06, 46.09, 32.88, 40.18, 46.09, 47.22, 63.2, 67.18, 34.21, 69.32, 40.94, 44.24, 47.17, 64.13, 43.93, 34.86, 44.19, 61.08, 41.85, 67.03, 36.24, 46.19, 62.14, 68.24, 41.02, 63.14, 65.34, 38.11, 66.92, 36.17, 48.1, 39.09, 39.08, 41.29, 35.31, 67.05, 47.98, 45.28, 37.17, 40.89, 68.04, 69.24, 47.03, 47.92, 60.89, 38.2, 39.05, 66.99, 37.3, 43.95, 46.22, 46.04, 66.2, 40.1, 37.05, 39.3, 41.24, 38.98, 63.93, 45.33, 39.18, 36.34, 39.13, 44.99, 46.03, 40.92, 46.31, 42.01, 44.32, 43.92, 43.97, 43.34, 43.31, 66.31, 39.28, 47.21, 43.91, 63.28, 46.86, 44.0, 46.14, 46.22, 36.36, 64.25, 34.92, 44.08, 66.91, 45.19, 47.94, 103.01, 86.28, 95.06, 99.19, 112.16, 101.18, 99.98, 78.97, 101.03, 88.16, 93.89, 89.14, 87.08, 85.06, 93.99, 93.88, 79.16, 95.16, 80.13, 89.04, 99.92, 84.0, 95.98, 94.19, 83.94, 94.14, 89.2, 88.07, 93.88, 103.2, 94.07, 83.03, 86.19, 30.38, 61.23, 48.24, 61.3, 49.02, 48.2, 64.22, 66.05, 49.06, 44.05, 35.18, 34.97, 86.2, 81.15, 71.22, 71.3, 81.2, 70.15, 70.21, 71.01, 69.99, 81.3, 71.31, 81.02, 30.11, 30.05, 32.04, 32.15, 32.08, 31.99, 29.85, 29.23, 32.09, 29.27, 29.21, 29.26, 32.33, 32.1, 30.2, 29.19, 32.03, 32.06, 30.33, 29.16, 29.32, 30.03, 34.27, 38.23, 46.13, 41.07, 33.33, 46.2, 46.01, 47.16, 37.98, 47.25, 47.37, 44.88, 39.17, 47.19, 39.02, 47.35, 34.85, 48.07, 44.17, 45.1, 68.94, 63.07, 45.13, 42.06, 62.07, 43.85, 41.13, 47.28, 68.32, 38.12, 41.91, 38.08, 68.19, 41.33, 39.98, 63.15, 40.17, 41.15, 37.12, 46.28, 41.88, 39.09, 36.23, 47.3, 44.97, 46.33, 42.09, 48.01, 62.04, 39.12, 47.27, 44.91, 40.87, 66.34, 44.16, 38.3, 39.27, 35.15, 46.92, 46.21, 44.01, 40.13, 40.28, 39.24, 34.87, 47.9, 34.88, 35.02, 33.31, 45.17, 37.04, 68.01, 33.13, 61.11, 34.22, 37.18, 68.22, 64.16, 45.35, 45.02, 61.05, 34.34, 32.92, 61.97, 36.13, 66.15, 44.07, 38.18, 68.98, 33.2, 36.22, 68.87, 66.27, 46.26, 42.0, 34.31, 32.97, 67.17, 40.03, 46.34, 46.24, 47.23, 66.94, 43.27, 40.91, 68.29, 44.12, 33.25, 63.01, 67.1, 47.02, 68.1, 33.05, 33.1, 36.89, 67.15, 47.25, 41.92, 35.2, 63.11, 46.29, 66.07, 48.03, 39.33, 40.96, 46.88, 37.36, 37.21, 38.19, 41.17, 67.0, 69.35, 36.3, 33.19, 46.96, 46.13, 69.0, 43.94, 33.27, 33.14, 43.22, 65.0, 65.16, 45.99, 99.1, 96.03, 99.08, 95.99, 85.98, 67.02, 62.22, 47.09, 40.15, 36.9, 64.87, 39.95, 45.25, 36.08, 41.98, 36.94, 65.1, 32.96, 38.09, 33.18, 34.2, 66.23, 41.0, 38.14, 63.04, 40.05, 67.2, 39.9, 69.14, 35.08, 148.28, 138.04, 151.15, 148.27, 51.02, 54.18, 57.1, 57.12, 51.23, 54.13, 51.97, 58.22, 54.03, 57.31, 51.19, 54.21, 57.09, 50.19, 50.04, 55.23, 54.97, 50.32, 50.88, 56.21, 57.03, 57.34, 49.34, 50.05, 55.2, 56.98, 51.11, 58.0, 55.04, 58.25, 51.35, 51.99, 56.15, 55.19, 49.3, 58.24, 50.0, 54.26, 52.3, 49.18, 49.19, 55.2, 51.36, 56.19, 49.21, 50.9, 52.26, 58.18, 54.33, 51.06, 58.35, 50.95, 52.19, 56.29, 52.32, 58.33, 51.01, 56.15, 55.1, 51.28, 58.12, 55.05, 49.2, 51.27, 55.32, 54.88, 55.95, 55.01, 52.09, 50.34, 51.89, 56.32, 55.39, 52.03, 52.0, 50.86, 58.12, 58.23, 49.23, 58.05, 55.94, 54.07, 54.88, 55.07, 55.27, 57.27, 122.03, 123.21, 122.98, 148.34, 121.89, 122.9, 123.11, 123.35, 123.28, 121.96, 122.97, 121.92, 123.18, 122.89, 121.99, 121.86, 60.29, 60.05, 60.03, 59.32, 59.98, 60.14, 56.2, 60.13, 60.13, 59.2, 60.21, 60.07, 60.01, 60.32, 59.05, 151.87, 145.9, 150.21, 146.11, 148.05, 150.88, 149.9, 149.11, 145.87, 150.05, 150.91, 150.24, 147.22, 150.88, 146.92, 150.87, 146.87, 146.92, 148.15, 151.9, 146.93, 151.88, 148.95, 147.12, 148.1, 131.85, 147.09, 150.98, 145.18, 142.88, 144.88, 131.05, 152.35, 150.03, 136.15, 150.33, 151.2, 50.86, 54.87, 56.33, 55.36, 58.09, 54.94, 58.04, 56.04, 56.26, 58.21, 57.2, 55.29, 56.14, 50.21, 58.3, 50.22, 56.23, 56.9, 55.38, 49.27, 51.26, 51.1, 56.04, 51.31, 54.0, 54.17, 57.05, 49.33, 54.91, 58.15, 51.14, 50.98, 56.09, 56.95, 56.01, 54.3, 55.17, 51.28, 50.11, 56.05, 50.85, 50.17, 54.86, 56.86, 122.23, 121.93, 123.26, 121.88, 122.94, 121.9, 122.05, 122.14, 123.32, 123.17, 123.11, 123.03, 122.19, 123.14, 122.94, 123.23, 123.07, 122.12, 123.04, 123.25, 122.9, 60.36, 60.22, 59.14, 59.0, 60.04, 59.21, 60.39, 60.17, 51.38, 59.19, 59.01, 60.02, 60.09, 59.09, 60.27, 60.28, 59.26, 59.3, 60.21, 149.04, 149.02, 150.85, 143.28, 152.18, 150.27, 50.28, 51.96, 52.13, 55.14, 58.96, 122.33, 123.38, 122.98, 122.96, 143.85, 0.22, 17.26, 0.31, 24.09, 18.95, 26.89, 22.97, 6.86, 13.01, 15.19, 8.06, 21.89, 10.19, 20.01, 21.24, 23.99, 22.1, 15.93, 1.22, 4.24, 23.02, 5.22, 18.08, 12.09, 10.1, 24.13, 15.14, 13.1, 20.12, 11.16, 10.14, 22.05, 10.11, 22.92, 15.1, 2.15, 16.98, 3.04, 13.06, 7.91, 19.27, 1.19, 8.3, 18.11, 14.17, 9.04], \"y\": [32900, 299400, 253000, 184200, 231800, 172100, 371400, 144750, 188100, 124200, 327650, 287600, 298200, 102450, 132900, 331850, 298600, 173200, 376900, 202700, 209300, 287800, 107400, 155900, 47700, 265000, 228600, 51200, 135000, 143800, 72000, 157050, 195400, 150500, 317300, 378400, 144100, 296300, 257700, 98200, 267400, 82200, 312950, 914700, 902000, 460100, 642300, 495800, 666600, 394800, 626100, 455400, 415300, 724400, 385200, 1008000, 466500, 694700, 600400, 432200, 456900, 1045400, 1405000, 1352850, 1724000, 1650600, 41782900, 77100, 98500, 231400, 282100, 82700, 33900, 343800, 102300, 303800, 231300, 255600, 170800, 183000, 216700, 33600, 204400, 122300, 57600, 7700, 83000, 310700, 197900, 146900, 49900, 59800, 195400, 244700, 133400, 288900, 121900, 286300, 227800, 320100, 172700, 351600, 223200, 168800, 187800, 379300, 32800, 101600, 225200, 301800, 110000, 364300, 76900, 59800, 240600, 313700, 9400, 40400, 63000, 352700, 72000, 248000, 178600, 152200, 249200, 215000, 173000, 348100, 107100, 278000, 114400, 210200, 57600, 223000, 372500, 104100, 57300, 22200, 19600, 77800, 50500, 83000, 241600, 28800, 27800, 114100, 90400, 40900, 169000, 70000, 139300, 291500, 130200, 27700, 136500, 363900, 247900, 312500, 209000, 247700, 80900, 212200, 287500, 249100, 46700, 130400, 307700, 150100, 200000, 81600, 188900, 379600, 11900, 169900, 360800, 105100, 283800, 193200, 312800, 156600, 56000, 65700, 82300, 294500, 61100, 214700, 160300, 205700, 28100, 264800, 213300, 120300, 239600, 359400, 88550, 289400, 41900, 176500, 140000, 232800, 378300, 189350, 145100, 226300, 209500, 62200, 114600, 215600, 337300, 110500, 256200, 252300, 305300, 336350, 242700, 316900, 205300, 309100, 226000, 80000, 198900, 259600, 248300, 298800, 359500, 123300, 334400, 67400, 215000, 63200, 98150, 112700, 256500, 328500, 334600, 210600, 235100, 186600, 125600, 265300, 116100, 242400, 127800, 202300, 354400, 296250, 149300, 71400, 145100, 307900, 199600, 380400, 57900, 231675, 67700, 245600, 120900, 324400, 308400, 84400, 336000, 52800, 86900, 260200, 132100, 367600, 144100, 290100, 202100, 295200, 369400, 142800, 362300, 250700, 161600, 296600, 193900, 146200, 379700, 338800, 272000, 282600, 127100, 201300, 143300, 165700, 181700, 239900, 348600, 127000, 110700, 240600, 354650, 230800, 232400, 98800, 364100, 219600, 308900, 359500, 375400, 293800, 207200, 210300, 364200, 206500, 329100, 275400, 328150, 261600, 118150, 209700, 135900, 143500, 346700, 314700, 58900, 96200, 295700, 308800, 326700, 109400, 249050, 167700, 222000, 159000, 275700, 226550, 293900, 275350, 273900, 270000, 123300, 153300, 176900, 173400, 509950, 449200, 788100, 1017500, 580700, 440900, 723200, 453000, 576300, 745700, 497800, 949700, 756800, 406000, 445900, 393400, 885000, 395200, 816800, 450300, 923800, 461900, 488000, 508000, 855500, 627300, 696900, 730300, 596800, 506600, 409000, 714400, 595500, 396600, 420000, 683400, 455800, 499500, 651700, 1046900, 809000, 544200, 693100, 418600, 811000, 421800, 655500, 401700, 836900, 661400, 481700, 421600, 588200, 649200, 1039500, 676100, 413900, 503950, 772000, 484800, 677300, 519900, 496000, 510100, 1016850, 563820, 461300, 632800, 691000, 648200, 693000, 848900, 1019450, 505000, 924050, 705300, 1064500, 581750, 646650, 554950, 662300, 409400, 523600, 492000, 458000, 451600, 473000, 594050, 860100, 570700, 715700, 1012000, 509400, 628900, 393200, 667700, 557500, 886900, 815800, 837500, 623500, 543200, 456000, 657400, 995400, 946000, 412000, 514600, 475000, 391600, 651600, 510300, 491000, 399900, 763700, 416000, 556900, 474050, 546900, 443600, 567400, 943700, 517600, 470700, 424300, 438900, 435500, 920700, 940700, 543100, 688300, 751400, 927700, 598600, 429200, 500900, 988200, 654200, 841300, 680700, 759600, 775400, 614300, 738700, 578900, 780000, 439700, 428950, 413200, 622800, 437800, 704900, 579600, 592700, 480900, 503700, 851800, 420500, 408400, 575100, 719300, 890000, 612200, 668900, 544700, 1026200, 677800, 498300, 749600, 754400, 711300, 425100, 455300, 802200, 529900, 413200, 606500, 624000, 538800, 628200, 474000, 404650, 554000, 578500, 941800, 589400, 784500, 509600, 729700, 445600, 647600, 563300, 578600, 603400, 877600, 609600, 414000, 465300, 1048400, 415600, 446200, 746300, 879500, 472400, 487200, 545100, 440200, 690700, 865000, 649200, 403250, 776350, 662400, 635600, 621200, 403900, 1028000, 859200, 1007900, 509100, 994900, 477100, 853850, 1856800, 1118200, 1248800, 1240800, 1491100, 1940900, 1160000, 1864900, 1271900, 1268400, 1083300, 1338100, 1145900, 1565100, 1096250, 1279550, 1175700, 1230950, 1100400, 1309700, 1197100, 1500900, 2030700, 1578800, 1260500, 2089900, 3446000, 1616800, 1406800, 1133850, 227800, 55500, 50800, 292800, 46100, 289700, 26700, 311400, 160400, 313300, 210600, 54500, 177300, 298200, 188200, 51600, 34800, 101200, 286200, 84600, 299600, 173900, 217000, 63400, 129400, 99200, 158800, 227500, 120000, 41700, 22800, 340800, 188400, 78700, 334400, 61400, 69700, 296800, 283900, 259800, 319000, 324900, 103900, 233300, 34600, 222200, 107100, 244100, 212500, 217700, 266800, 142300, 196400, 197100, 226400, 247100, 286700, 188100, 38700, 270300, 236400, 74800, 238300, 95500, 47400, 139200, 31600, 22600, 172800, 36200, 44300, 145400, 254400, 366800, 37100, 259700, 157500, 234700, 102500, 77000, 276700, 347800, 168400, 64400, 140400, 234100, 67400, 63800, 355200, 215600, 345500, 340000, 233500, 188900, 143800, 130000, 253200, 340200, 139900, 234900, 174600, 41600, 191500, 156600, 278200, 103500, 188800, 205700, 190500, 233800, 99300, 124900, 279900, 320700, 290700, 288000, 220200, 247200, 326800, 151300, 154200, 520800, 826700, 402600, 442400, 1006000, 416400, 410500, 496500, 599200, 691000, 663900, 640400, 416000, 403200, 406000, 403900, 455200, 551700, 495000, 480000, 797200, 661500, 1012000, 626100, 472200, 473200, 508800, 714100, 432000, 724000, 400000, 577100, 812250, 864600, 532900, 958300, 522600, 544800, 402100, 631000, 471800, 496000, 512700, 581300, 407200, 615000, 780700, 512600, 628800, 573800, 645700, 490000, 463500, 620800, 871700, 589000, 466100, 398000, 561700, 754100, 426100, 586600, 745700, 559700, 410900, 819400, 711000, 760500, 444350, 759700, 455000, 747500, 551600, 486900, 470600, 794800, 832100, 457500, 957400, 505000, 524700, 534600, 502300, 558200, 710500, 458500, 401500, 672400, 552200, 808600, 831800, 801400, 776300, 750000, 771600, 480900, 642900, 572900, 739800, 730600, 601300, 451700, 645100, 813200, 462900, 529200, 475500, 1059300, 549250, 481500, 506200, 921300, 518400, 601800, 618200, 449900, 705300, 386500, 485000, 1004400, 884400, 1341600, 1204900, 1230900, 1100000, 1339200, 1334400, 1397400, 1183900, 1476200, 2644700, 1297500, 1183800, 1569700, 1469100, 1221900, 2602300, 758100, 441000, 901500, 690650, 873000, 1022200, 655500, 478800, 470700, 467300, 532000, 802500, 756900, 650800, 654400, 718700, 744350, 768400, 576700, 388400, 591100, 599200, 406900, 946200, 427200, 470150, 397650, 394900, 831900, 741050, 427000, 529200, 476400, 814600, 889600, 727200, 793900, 568800, 440000, 590000, 1419150, 1158300, 1380550, 1075500, 1695800, 1381800]}, {\"marker\": {\"color\": \"red\", \"line\": {\"width\": 1}, \"opacity\": 0.9, \"size\": 11}, \"mode\": \"markers\", \"name\": \"Low\", \"type\": \"scatter\", \"x\": [72.1, 95.9, 73.07, 74.18, 98.16, 97.1, 72.18, 98.14, 75.11, 78.28, 75.93, 98.06, 78.94, 97.11, 76.09, 72.87, 73.28, 78.18, 76.98, 73.36, 98.29, 78.09, 72.33, 97.24, 95.89, 74.85, 97.29, 74.97, 74.88, 78.87, 77.3, 98.24, 77.91, 74.9, 77.35, 71.99, 74.3, 77.07, 77.96, 96.92, 97.99, 72.93, 72.2, 98.11, 97.22, 77.9, 96.89, 72.09, 96.94, 75.36, 97.06, 96.91, 72.9, 71.96, 97.01, 76.0, 78.31, 76.33, 97.97, 95.89, 97.06, 74.92, 78.03, 73.17, 76.07, 98.08, 77.89, 97.05, 76.24, 72.85, 96.98, 78.24, 76.94, 72.15, 96.93, 78.0, 74.27, 75.27, 77.17, 71.95, 98.22, 72.95, 77.21, 95.91, 75.98, 110.25, 112.23, 111.07, 111.17, 111.07, 112.39, 110.38, 112.33, 113.23, 113.22, 128.9, 128.87, 129.36, 128.85, 129.17, 129.2, 128.96, 129.31, 129.06, 129.15, 148.11, 147.88, 146.09, 145.23, 144.91, 144.89, 152.15, 146.86, 143.1, 145.15, 152.27, 150.89, 131.17, 131.09, 149.13, 149.91, 145.86, 151.01, 152.16, 145.13, 148.24, 151.99, 146.18, 152.26, 131.9, 146.33, 144.89, 146.87, 144.96, 142.89, 145.87, 150.13, 144.9, 152.19, 143.27, 149.0, 146.14, 146.06, 148.2, 149.87, 152.23, 146.9, 149.19, 151.15, 144.91, 149.98, 152.19, 152.21, 151.14, 143.2, 147.96, 142.9, 145.2, 148.14, 146.87, 143.24, 150.12, 147.16, 149.17, 133.18, 148.91, 150.1, 152.16, 146.88, 152.17, 151.98, 150.88, 148.12, 152.2, 143.07, 146.16, 143.08, 149.06, 150.06, 144.9, 152.21, 147.03, 146.21, 152.12, 145.99, 144.9, 149.97, 150.08, 148.17, 148.25, 145.25, 151.9, 148.09, 147.25, 149.28, 150.1, 147.97, 145.01, 152.17, 152.3, 146.9, 150.26, 144.88, 149.08, 143.19, 149.97, 150.9, 146.87, 150.88, 144.86, 150.11, 150.07, 143.35, 143.21, 147.93, 150.13, 144.89, 146.85, 143.29, 143.05, 143.25, 145.92, 152.02, 148.95, 147.28, 143.22, 148.87, 136.11, 148.93, 151.03, 146.94, 143.26, 143.04, 145.95, 131.86, 148.21, 144.91, 149.88, 149.95, 146.02, 147.0, 150.86, 149.3, 142.93, 151.2, 149.96, 146.87, 144.89, 148.22, 150.09, 150.33, 149.15, 147.06, 151.13, 147.95, 150.92, 146.87, 148.98, 144.98, 146.28, 131.86, 143.09, 148.89, 144.9, 151.94, 145.32, 146.89, 146.23, 146.86, 146.25, 147.34, 143.3, 150.15, 151.86, 143.18, 145.97, 150.89, 147.19, 150.06, 146.04, 146.29, 148.26, 146.91, 146.88, 144.94, 142.92, 143.23, 133.19, 148.19, 150.87, 143.06, 131.07, 147.31, 145.11, 148.93, 144.9, 149.24, 146.87, 145.06, 142.92, 149.26, 148.94, 148.94, 142.91, 145.03, 131.15, 149.22, 148.16, 146.97, 151.08, 147.86, 131.11, 150.16, 152.1, 145.86, 145.08, 4.9, 2.21, 17.99, 21.93, 5.03, 1.36, 14.88, 24.98, 21.09, 2.06, 4.88, 14.87, 20.27, 12.32, 12.95, 4.86, 11.35, 6.89, 24.14, 23.17, 14.08, 18.01, 17.14, 21.87, 14.26, 9.99, 16.28, 12.01, 9.2, 24.01, 11.21, 10.31, 21.26, 13.03, 9.95, 6.98, 19.96, 0.32, 17.19, 2.03, 21.2, 1.07, 3.05, 13.97, 24.32, 22.33, 3.91, 15.11, 20.28, 16.32, 16.86, 1.31, 9.33, 13.31, 22.13, 13.07, 14.18, 1.12, 1.25, 0.1, 1.88, 18.28, 8.15, 1.97, 7.13, 24.16, 20.07, 26.37, 9.12, 10.12, 0.12, 3.02, 14.24, 23.21, 3.11, 1.87, 9.3, 11.06, 1.98, 11.31, 2.86, 20.28, 15.06, 11.28, 20.03, 24.02, 19.18, 14.27, 0.99, 18.03, 14.01, 7.16, 25.03, 13.95, 19.09, 21.98, 24.95, 9.86, 20.17, 13.9, 1.28, 15.12, 23.28, 6.96, 15.31, 19.32, 18.24, 1.37, 7.98, 20.15, 14.25, 10.09, 3.99, 6.93, 19.97, 9.08, 3.21, 15.03, 18.04, 2.99, 15.25, 22.18, 3.9, 21.19, 0.0, 3.86, 18.19, 21.18, 0.23, 23.12, 6.91, 7.33, 4.33, 26.3, 1.9, 17.92, 21.29, 20.2, 4.92, 20.1, 1.19, 0.07, 4.09, 11.89, 23.04, 15.28, 14.37, 11.11, 2.32, 0.03, 15.97, 18.33, 11.24, 14.86, 20.18, 8.13, 4.12, 23.32, 4.99, 11.25, 7.06, 19.13, 13.13, 4.95, 4.2, 19.01, 14.03, 8.97, 21.06, 3.36, 5.07, 18.21, 2.22, 16.11, 3.34, 9.85, 19.96, 17.9, 13.19, 11.33, 20.94, 9.96, 1.04, 23.19, 11.08, 0.27, 1.85, 12.2, 20.33, 3.88, 0.05, 14.89, 7.2, 21.17, 1.13, 2.85, 22.88, 1.13, 14.35, 1.1, 9.94, 1.03, 10.99, 17.3, 22.25, 24.15, 20.14, 22.12, 2.88, 13.26, 24.3, 20.31, 2.89, 1.89, 12.24, 8.01, 11.3, 23.24, 20.22, 24.26, 17.09, 16.21, 14.97, 0.98, 22.3, 15.02, 2.94, 24.94, 4.31, 0.2, 11.02, 21.33, 5.05, 18.2, 16.05, 18.34, 22.85, 8.98, 18.97, 4.97, 0.15, 10.07, 0.16, 10.24, 18.12, 21.02, 5.33, 19.99, 17.05, 12.22, 2.07, 11.1, 14.91, 24.22, 16.07, 19.98, 14.1, 24.01, 17.07, 2.2, 9.22, 20.13, 10.27, 5.01, 0.14, 9.19, 1.28, 24.05, 2.1, 7.99, 12.03, 17.93, 3.93, 7.87, 2.3, 24.19, 14.9, 20.3, 1.08, 19.06, 19.14, 19.95, 13.18, 10.22, 9.23, 7.86, 25.07, 8.1, 19.31, 0.1, 12.28, 10.03, 17.33, 21.13, 4.94, 10.21, 11.29, 14.21, 17.96, 19.98, 5.31, 1.16, 4.11, 0.99, 7.18, 10.32, 11.12, 20.05, 13.3, 8.33, 20.27, 14.31, 23.05, 0.24, 13.17, 11.93, 24.9, 12.15, 20.98, 23.09, 22.86, 19.12, 16.09, 18.15, 20.16, 3.27, 2.26, 1.24, 18.22], \"y\": [216000, 44300, 160100, 61300, 96300, 333000, 117300, 151900, 150200, 48400, 7700, 21200, 79800, 72800, 109500, 96800, 62400, 219800, 45000, 198800, 94400, 114900, 90300, 297800, 58200, 151600, 250100, 130200, 70100, 358300, 60000, 295300, 116000, 104000, 53200, 128400, 57400, 252200, 364400, 8400, 177700, 70200, 57700, 199000, 108000, 21600, 110200, 309700, 70800, 74800, 61500, 6800, 35600, 39000, 58500, 44400, 83200, 84100, 18900, 21700, 236000, 286800, 79200, 198500, 266400, 349900, 12200, 331800, 363200, 61100, 15000, 202200, 865900, 766800, 605600, 424600, 585700, 389200, 1017700, 589000, 403700, 566800, 793800, 461200, 743800, 84500, 6600, 6600, 213900, 20000, 198100, 187000, 252000, 14400, 15600, 134000, 199200, 51000, 347400, 109200, 23800, 71350, 87200, 654750, 524750, 15600, 362900, 160000, 171500, 42300, 3300, 158000, 49000, 123600, 88100, 38000, 225000, 55000, 56100, 46800, 194600, 192400, 20000, 53000, 27300, 34300, 11000, 53700, 12200, 61100, 144000, 3300, 10200, 179400, 66600, 11200, 10200, 61800, 172800, 161400, 88000, 127500, 162000, 20000, 94500, 106600, 19600, 19500, 36000, 24900, 56100, 177600, 42900, 215800, 23400, 159600, 339600, 136000, 104900, 40200, 218400, 33000, 8300, 75000, 79600, 151900, 79800, 161700, 46900, 60000, 47000, 96600, 221800, 115800, 30000, 39600, 4400, 216300, 280000, 90000, 15300, 125000, 162800, 126200, 113400, 45500, 55000, 18000, 35000, 22000, 14400, 292800, 127600, 170500, 112400, 202300, 71200, 8800, 11700, 261800, 259200, 33000, 182600, 163200, 16800, 206400, 282000, 20000, 133200, 246600, 24400, 284800, 118700, 42200, 19500, 64800, 116000, 323000, 203800, 11200, 153400, 48800, 136000, 26400, 45600, 176900, 42400, 108200, 23400, 17600, 227300, 100000, 11200, 13200, 5000, 155400, 93100, 289000, 293600, 152200, 233500, 103200, 378700, 69800, 87000, 67200, 15000, 16800, 61500, 16500, 311500, 77800, 66000, 13200, 23400, 352800, 10000, 284600, 46800, 20000, 7200, 4400, 45000, 4400, 11000, 105000, 35000, 8800, 160000, 117900, 68400, 149500, 110000, 39000, 49800, 6600, 30000, 127500, 90000, 205000, 179400, 190400, 135500, 144800, 40200, 33600, 125900, 6000, 22000, 196800, 20700, 33700, 259700, 90400, 7800, 4400, 57800, 84600, 51000, 20400, 86400, 15000, 20000, 20400, 95400, 7800, 174600, 170900, 204000, 40000, 368900, 115000, 52500, 80800, 175200, 166800, 2200, 12000, 28900, 286200, 335250, 80600, 18500, 33900, 139850, 22900, 11700, 31500, 51550, 34250, 170400, 342400, 145600, 36000, 7500, 123700, 194800, 30000, 135300, 24500, 17100, 71800, 32600, 123300, 22400, 112200, 353200, 66000, 274300, 70200, 1100, 48400, 7800, 25000, 268500, 234100, 36750, 35300, 44100, 23800, 288750, 346850, 302600, 38500, 5800, 34600, 14000, 197700, 179200, 27000, 24000, 38500, 20500, 5700, 30800, 18000, 142800, 246300, 30750, 105750, 181300, 30000, 79350, 102200, 38100, 28000, 234000, 87300, 88700, 49600, 180600, 177400, 102900, 268200, 49050, 33600, 17800, 30750, 53800, 183250, 17100, 30000, 208200, 14000, 2200, 40000, 13200, 288000, 35850, 76800, 38550, 114000, 8600, 119500, 90700, 10000, 13750, 18000, 212250, 304200, 44350, 112500, 297500, 23400, 319600, 14750, 50400, 136300, 354900, 150500, 19500, 193800, 261000, 6850, 46800, 288100, 256500, 81000, 70000, 134200, 114500, 163900, 227100, 59600, 63700, 42300, 39000, 302300, 41850, 158200, 11400, 37800, 208550, 46900, 10000, 81550, 229500, 21250, 324250, 148300, 5500, 133000, 73500, 30600, 33000, 123300, 164100, 110600, 148200, 7200, 179450, 79500, 7200, 351950, 10900, 252000, 195800, 15000, 181800, 104200, 148400, 236400, 89800, 83400, 67850, 9000, 96300, 315000, 27000, 88000, 160400, 122200, 7200, 7200, 11200, 39600, 8900, 1100, 7200, 11900, 13500, 107100, 153200, 147000, 23200, 126800, 27200, 29400, 48300, 231200, 36500, 136800, 24100, 5250, 284100, 23150, 31700, 144000, 27800, 137700, 321850, 3000, 10500, 35700, 139300, 217500, 59900, 22200, 86200, 14400, 33000, 73200, 12000, 154000, 79800, 317600, 42000, 246700, 40300, 81200, 218850, 79550, 80200, 139200, 252000, 153750, 64500, 153200, 24500, 40500, 318550, 163500, 55000, 189000, 216000, 63650, 146400, 196600, 186600, 31800, 8000, 51000, 9900, 3900, 117800, 49500, 21000, 35400, 201700, 163000, 92400, 5000, 192600, 6100, 132000, 128300, 11400, 8600, 33250, 192250, 39200, 289000, 188450, 164000, 36400, 73200, 198000, 43400, 118400, 7800, 161400, 162250, 5000, 31400, 26150, 258750, 6600, 15000, 13750, 24000, 10000, 33900, 302800, 175050, 77100, 257600, 217800, 187000, 75000, 357600, 41100, 224400, 12000, 282500, 86700, 5600, 267900, 85700, 71000, 15600, 119700, 10000, 22750, 147100, 228900, 264000, 23800, 109600, 144000, 10800, 199300, 135000, 56500, 148250, 76000, 246650, 19850, 101900, 39000, 180500, 5500, 245100, 297200, 75700, 24750]}],\n",
              "                        {\"template\": {\"data\": {\"bar\": [{\"error_x\": {\"color\": \"#2a3f5f\"}, \"error_y\": {\"color\": \"#2a3f5f\"}, \"marker\": {\"line\": {\"color\": \"#E5ECF6\", \"width\": 0.5}}, \"type\": \"bar\"}], \"barpolar\": [{\"marker\": {\"line\": {\"color\": \"#E5ECF6\", \"width\": 0.5}}, \"type\": \"barpolar\"}], \"carpet\": [{\"aaxis\": {\"endlinecolor\": \"#2a3f5f\", \"gridcolor\": \"white\", \"linecolor\": \"white\", \"minorgridcolor\": \"white\", \"startlinecolor\": \"#2a3f5f\"}, \"baxis\": {\"endlinecolor\": \"#2a3f5f\", \"gridcolor\": \"white\", \"linecolor\": \"white\", \"minorgridcolor\": \"white\", \"startlinecolor\": \"#2a3f5f\"}, \"type\": \"carpet\"}], \"choropleth\": [{\"colorbar\": {\"outlinewidth\": 0, \"ticks\": \"\"}, \"type\": \"choropleth\"}], \"contour\": [{\"colorbar\": {\"outlinewidth\": 0, \"ticks\": \"\"}, \"colorscale\": [[0.0, \"#0d0887\"], [0.1111111111111111, \"#46039f\"], [0.2222222222222222, \"#7201a8\"], [0.3333333333333333, \"#9c179e\"], [0.4444444444444444, \"#bd3786\"], [0.5555555555555556, \"#d8576b\"], [0.6666666666666666, \"#ed7953\"], [0.7777777777777778, \"#fb9f3a\"], [0.8888888888888888, \"#fdca26\"], [1.0, \"#f0f921\"]], \"type\": \"contour\"}], \"contourcarpet\": [{\"colorbar\": {\"outlinewidth\": 0, \"ticks\": \"\"}, \"type\": \"contourcarpet\"}], \"heatmap\": [{\"colorbar\": {\"outlinewidth\": 0, \"ticks\": \"\"}, \"colorscale\": [[0.0, \"#0d0887\"], [0.1111111111111111, \"#46039f\"], [0.2222222222222222, \"#7201a8\"], [0.3333333333333333, \"#9c179e\"], [0.4444444444444444, \"#bd3786\"], [0.5555555555555556, \"#d8576b\"], [0.6666666666666666, \"#ed7953\"], [0.7777777777777778, \"#fb9f3a\"], [0.8888888888888888, \"#fdca26\"], [1.0, \"#f0f921\"]], \"type\": \"heatmap\"}], \"heatmapgl\": [{\"colorbar\": {\"outlinewidth\": 0, \"ticks\": \"\"}, \"colorscale\": [[0.0, \"#0d0887\"], [0.1111111111111111, \"#46039f\"], [0.2222222222222222, \"#7201a8\"], [0.3333333333333333, \"#9c179e\"], [0.4444444444444444, \"#bd3786\"], [0.5555555555555556, \"#d8576b\"], [0.6666666666666666, \"#ed7953\"], [0.7777777777777778, \"#fb9f3a\"], [0.8888888888888888, \"#fdca26\"], [1.0, \"#f0f921\"]], \"type\": \"heatmapgl\"}], \"histogram\": [{\"marker\": {\"colorbar\": {\"outlinewidth\": 0, \"ticks\": \"\"}}, \"type\": \"histogram\"}], \"histogram2d\": [{\"colorbar\": {\"outlinewidth\": 0, \"ticks\": \"\"}, \"colorscale\": [[0.0, \"#0d0887\"], [0.1111111111111111, \"#46039f\"], [0.2222222222222222, \"#7201a8\"], [0.3333333333333333, \"#9c179e\"], [0.4444444444444444, \"#bd3786\"], [0.5555555555555556, \"#d8576b\"], [0.6666666666666666, \"#ed7953\"], [0.7777777777777778, \"#fb9f3a\"], [0.8888888888888888, \"#fdca26\"], [1.0, \"#f0f921\"]], \"type\": \"histogram2d\"}], \"histogram2dcontour\": [{\"colorbar\": {\"outlinewidth\": 0, \"ticks\": \"\"}, \"colorscale\": [[0.0, \"#0d0887\"], [0.1111111111111111, \"#46039f\"], [0.2222222222222222, \"#7201a8\"], [0.3333333333333333, \"#9c179e\"], [0.4444444444444444, \"#bd3786\"], [0.5555555555555556, \"#d8576b\"], [0.6666666666666666, \"#ed7953\"], [0.7777777777777778, \"#fb9f3a\"], [0.8888888888888888, \"#fdca26\"], [1.0, \"#f0f921\"]], \"type\": \"histogram2dcontour\"}], \"mesh3d\": [{\"colorbar\": {\"outlinewidth\": 0, \"ticks\": \"\"}, \"type\": \"mesh3d\"}], \"parcoords\": [{\"line\": {\"colorbar\": {\"outlinewidth\": 0, \"ticks\": \"\"}}, \"type\": \"parcoords\"}], \"pie\": [{\"automargin\": true, \"type\": \"pie\"}], \"scatter\": [{\"marker\": {\"colorbar\": {\"outlinewidth\": 0, \"ticks\": \"\"}}, \"type\": \"scatter\"}], \"scatter3d\": [{\"line\": {\"colorbar\": {\"outlinewidth\": 0, \"ticks\": \"\"}}, \"marker\": {\"colorbar\": {\"outlinewidth\": 0, \"ticks\": \"\"}}, \"type\": \"scatter3d\"}], \"scattercarpet\": [{\"marker\": {\"colorbar\": {\"outlinewidth\": 0, \"ticks\": \"\"}}, \"type\": \"scattercarpet\"}], \"scattergeo\": [{\"marker\": {\"colorbar\": {\"outlinewidth\": 0, \"ticks\": \"\"}}, \"type\": \"scattergeo\"}], \"scattergl\": [{\"marker\": {\"colorbar\": {\"outlinewidth\": 0, \"ticks\": \"\"}}, \"type\": \"scattergl\"}], \"scattermapbox\": [{\"marker\": {\"colorbar\": {\"outlinewidth\": 0, \"ticks\": \"\"}}, \"type\": \"scattermapbox\"}], \"scatterpolar\": [{\"marker\": {\"colorbar\": {\"outlinewidth\": 0, \"ticks\": \"\"}}, \"type\": \"scatterpolar\"}], \"scatterpolargl\": [{\"marker\": {\"colorbar\": {\"outlinewidth\": 0, \"ticks\": \"\"}}, \"type\": \"scatterpolargl\"}], \"scatterternary\": [{\"marker\": {\"colorbar\": {\"outlinewidth\": 0, \"ticks\": \"\"}}, \"type\": \"scatterternary\"}], \"surface\": [{\"colorbar\": {\"outlinewidth\": 0, \"ticks\": \"\"}, \"colorscale\": [[0.0, \"#0d0887\"], [0.1111111111111111, \"#46039f\"], [0.2222222222222222, \"#7201a8\"], [0.3333333333333333, \"#9c179e\"], [0.4444444444444444, \"#bd3786\"], [0.5555555555555556, \"#d8576b\"], [0.6666666666666666, \"#ed7953\"], [0.7777777777777778, \"#fb9f3a\"], [0.8888888888888888, \"#fdca26\"], [1.0, \"#f0f921\"]], \"type\": \"surface\"}], \"table\": [{\"cells\": {\"fill\": {\"color\": \"#EBF0F8\"}, \"line\": {\"color\": \"white\"}}, \"header\": {\"fill\": {\"color\": \"#C8D4E3\"}, \"line\": {\"color\": \"white\"}}, \"type\": \"table\"}]}, \"layout\": {\"annotationdefaults\": {\"arrowcolor\": \"#2a3f5f\", \"arrowhead\": 0, \"arrowwidth\": 1}, \"coloraxis\": {\"colorbar\": {\"outlinewidth\": 0, \"ticks\": \"\"}}, \"colorscale\": {\"diverging\": [[0, \"#8e0152\"], [0.1, \"#c51b7d\"], [0.2, \"#de77ae\"], [0.3, \"#f1b6da\"], [0.4, \"#fde0ef\"], [0.5, \"#f7f7f7\"], [0.6, \"#e6f5d0\"], [0.7, \"#b8e186\"], [0.8, \"#7fbc41\"], [0.9, \"#4d9221\"], [1, \"#276419\"]], \"sequential\": [[0.0, \"#0d0887\"], [0.1111111111111111, \"#46039f\"], [0.2222222222222222, \"#7201a8\"], [0.3333333333333333, \"#9c179e\"], [0.4444444444444444, \"#bd3786\"], [0.5555555555555556, \"#d8576b\"], [0.6666666666666666, \"#ed7953\"], [0.7777777777777778, \"#fb9f3a\"], [0.8888888888888888, \"#fdca26\"], [1.0, \"#f0f921\"]], \"sequentialminus\": [[0.0, \"#0d0887\"], [0.1111111111111111, \"#46039f\"], [0.2222222222222222, \"#7201a8\"], [0.3333333333333333, \"#9c179e\"], [0.4444444444444444, \"#bd3786\"], [0.5555555555555556, \"#d8576b\"], [0.6666666666666666, \"#ed7953\"], [0.7777777777777778, \"#fb9f3a\"], [0.8888888888888888, \"#fdca26\"], [1.0, \"#f0f921\"]]}, \"colorway\": [\"#636efa\", \"#EF553B\", \"#00cc96\", \"#ab63fa\", \"#FFA15A\", \"#19d3f3\", \"#FF6692\", \"#B6E880\", \"#FF97FF\", \"#FECB52\"], \"font\": {\"color\": \"#2a3f5f\"}, \"geo\": {\"bgcolor\": \"white\", \"lakecolor\": \"white\", \"landcolor\": \"#E5ECF6\", \"showlakes\": true, \"showland\": true, \"subunitcolor\": \"white\"}, \"hoverlabel\": {\"align\": \"left\"}, \"hovermode\": \"closest\", \"mapbox\": {\"style\": \"light\"}, \"paper_bgcolor\": \"white\", \"plot_bgcolor\": \"#E5ECF6\", \"polar\": {\"angularaxis\": {\"gridcolor\": \"white\", \"linecolor\": \"white\", \"ticks\": \"\"}, \"bgcolor\": \"#E5ECF6\", \"radialaxis\": {\"gridcolor\": \"white\", \"linecolor\": \"white\", \"ticks\": \"\"}}, \"scene\": {\"xaxis\": {\"backgroundcolor\": \"#E5ECF6\", \"gridcolor\": \"white\", \"gridwidth\": 2, \"linecolor\": \"white\", \"showbackground\": true, \"ticks\": \"\", \"zerolinecolor\": \"white\"}, \"yaxis\": {\"backgroundcolor\": \"#E5ECF6\", \"gridcolor\": \"white\", \"gridwidth\": 2, \"linecolor\": \"white\", \"showbackground\": true, \"ticks\": \"\", \"zerolinecolor\": \"white\"}, \"zaxis\": {\"backgroundcolor\": \"#E5ECF6\", \"gridcolor\": \"white\", \"gridwidth\": 2, \"linecolor\": \"white\", \"showbackground\": true, \"ticks\": \"\", \"zerolinecolor\": \"white\"}}, \"shapedefaults\": {\"line\": {\"color\": \"#2a3f5f\"}}, \"ternary\": {\"aaxis\": {\"gridcolor\": \"white\", \"linecolor\": \"white\", \"ticks\": \"\"}, \"baxis\": {\"gridcolor\": \"white\", \"linecolor\": \"white\", \"ticks\": \"\"}, \"bgcolor\": \"#E5ECF6\", \"caxis\": {\"gridcolor\": \"white\", \"linecolor\": \"white\", \"ticks\": \"\"}}, \"title\": {\"x\": 0.05}, \"xaxis\": {\"automargin\": true, \"gridcolor\": \"white\", \"linecolor\": \"white\", \"ticks\": \"\", \"title\": {\"standoff\": 15}, \"zerolinecolor\": \"white\", \"zerolinewidth\": 2}, \"yaxis\": {\"automargin\": true, \"gridcolor\": \"white\", \"linecolor\": \"white\", \"ticks\": \"\", \"title\": {\"standoff\": 15}, \"zerolinecolor\": \"white\", \"zerolinewidth\": 2}}}, \"title\": {\"text\": \"Segments\"}, \"xaxis\": {\"title\": {\"text\": \"Recency\"}}, \"yaxis\": {\"title\": {\"text\": \"Monetary\"}}},\n",
              "                        {\"responsive\": true}\n",
              "                    ).then(function(){\n",
              "                            \n",
              "var gd = document.getElementById('38bd949a-6cd0-43a1-946a-9234edc1b717');\n",
              "var x = new MutationObserver(function (mutations, observer) {{\n",
              "        var display = window.getComputedStyle(gd).display;\n",
              "        if (!display || display === 'none') {{\n",
              "            console.log([gd, 'removed!']);\n",
              "            Plotly.purge(gd);\n",
              "            observer.disconnect();\n",
              "        }}\n",
              "}});\n",
              "\n",
              "// Listen for the removal of the full notebook cells\n",
              "var notebookContainer = gd.closest('#notebook-container');\n",
              "if (notebookContainer) {{\n",
              "    x.observe(notebookContainer, {childList: true});\n",
              "}}\n",
              "\n",
              "// Listen for the clearing of the current output cell\n",
              "var outputEl = gd.closest('.output');\n",
              "if (outputEl) {{\n",
              "    x.observe(outputEl, {childList: true});\n",
              "}}\n",
              "\n",
              "                        })\n",
              "                };\n",
              "                \n",
              "            </script>\n",
              "        </div>\n",
              "</body>\n",
              "</html>"
            ]
          },
          "metadata": {
            "tags": []
          }
        }
      ]
    },
    {
      "cell_type": "code",
      "metadata": {
        "colab": {
          "base_uri": "https://localhost:8080/",
          "height": 542
        },
        "id": "c3Vxq-W4NJC_",
        "outputId": "9d11f603-d0e4-4334-fb78-a2a8c468139f"
      },
      "source": [
        "plot_data = [\n",
        "    go.Scatter(\n",
        "        x=rfm_df.query(\"Cluster == 'A'\")['Age(Days)'],\n",
        "        y=rfm_df.query(\"Cluster == 'A'\")['Monetary'],\n",
        "        mode='markers',\n",
        "        name='High',\n",
        "        marker= dict(size= 7,\n",
        "            line= dict(width=1),\n",
        "            color= 'blue',\n",
        "            opacity= 0.8\n",
        "           )\n",
        "    ),\n",
        "     go.Scatter(\n",
        "        x=rfm_df.query(\"Cluster == 'B'\")['Age(Days)'],\n",
        "        y=rfm_df.query(\"Cluster == 'B'\")['Monetary'],\n",
        "        mode='markers',\n",
        "        name='Mid',\n",
        "         marker= dict(size= 9,\n",
        "            line= dict(width=1),\n",
        "            color= 'green',\n",
        "            opacity= 0.5\n",
        "           )\n",
        "    ),\n",
        "    \n",
        "     go.Scatter(\n",
        "        x=rfm_df.query(\"Cluster == 'C'\")['Age(Days)'],\n",
        "        y=rfm_df.query(\"Cluster == 'C'\")['Monetary'],\n",
        "        mode='markers',\n",
        "        name='Low',\n",
        "        marker= dict(size= 11,\n",
        "            line= dict(width=1),\n",
        "            color= 'red',\n",
        "            opacity= 0.9\n",
        "           )\n",
        "    )\n",
        "\n",
        "\n",
        "]\n",
        "\n",
        "plot_layout = go.Layout(\n",
        "        yaxis= {'title': \"Monetary\"},\n",
        "        xaxis= {'title': \"Age(Days)\"},\n",
        "        title='Segments'\n",
        "    )\n",
        "fig = go.Figure(data=plot_data, layout=plot_layout)\n",
        "pyoff.iplot(fig)"
      ],
      "execution_count": null,
      "outputs": [
        {
          "output_type": "display_data",
          "data": {
            "text/html": [
              "<html>\n",
              "<head><meta charset=\"utf-8\" /></head>\n",
              "<body>\n",
              "    <div>\n",
              "            <script src=\"https://cdnjs.cloudflare.com/ajax/libs/mathjax/2.7.5/MathJax.js?config=TeX-AMS-MML_SVG\"></script><script type=\"text/javascript\">if (window.MathJax) {MathJax.Hub.Config({SVG: {font: \"STIX-Web\"}});}</script>\n",
              "                <script type=\"text/javascript\">window.PlotlyConfig = {MathJaxConfig: 'local'};</script>\n",
              "        <script src=\"https://cdn.plot.ly/plotly-latest.min.js\"></script>    \n",
              "            <div id=\"9535748b-d974-49d6-8427-7b8961764c65\" class=\"plotly-graph-div\" style=\"height:525px; width:100%;\"></div>\n",
              "            <script type=\"text/javascript\">\n",
              "                \n",
              "                    window.PLOTLYENV=window.PLOTLYENV || {};\n",
              "                    \n",
              "                if (document.getElementById(\"9535748b-d974-49d6-8427-7b8961764c65\")) {\n",
              "                    Plotly.newPlot(\n",
              "                        '9535748b-d974-49d6-8427-7b8961764c65',\n",
              "                        [{\"marker\": {\"color\": \"blue\", \"line\": {\"width\": 1}, \"opacity\": 0.8, \"size\": 7}, \"mode\": \"markers\", \"name\": \"High\", \"type\": \"scatter\", \"x\": [113.06, 107.12, 109.33, 107.03, 108.22, 109.91, 109.25, 111.2, 110.02, 140.89, 140.87, 140.04, 133.2], \"y\": [1319850, 1395900, 1211400, 1145800, 1357300, 1086400, 2084350, 2204400, 1184500, 1315700, 1976300, 2274800, 4287600]}, {\"marker\": {\"color\": \"green\", \"line\": {\"width\": 1}, \"opacity\": 0.5, \"size\": 9}, \"mode\": \"markers\", \"name\": \"Mid\", \"type\": \"scatter\", \"x\": [73.99, 76.01, 75.86, 74.1, 72.06, 75.88, 77.88, 77.86, 76.85, 78.14, 74.22, 78.13, 78.04, 77.85, 72.11, 72.03, 72.26, 77.03, 74.17, 75.16, 74.0, 76.28, 72.88, 74.02, 78.92, 78.2, 98.34, 98.06, 97.16, 98.1, 78.9, 97.34, 96.97, 97.19, 97.03, 97.14, 97.27, 97.98, 95.89, 98.05, 98.03, 96.99, 78.89, 73.98, 74.05, 77.26, 73.14, 72.22, 73.23, 72.92, 74.32, 75.92, 72.3, 72.86, 74.13, 74.95, 75.04, 76.89, 73.01, 98.27, 98.01, 98.19, 76.18, 77.92, 73.0, 78.85, 56.97, 115.35, 110.34, 127.05, 125.1, 118.04, 124.31, 111.33, 124.08, 113.16, 124.27, 106.94, 115.31, 124.2, 110.09, 126.14, 120.23, 109.28, 124.31, 117.09, 124.28, 110.3, 120.08, 118.26, 124.09, 120.03, 127.19, 124.28, 127.01, 126.34, 117.96, 127.2, 120.27, 123.93, 126.05, 115.12, 120.11, 119.24, 124.23, 125.11, 126.13, 124.13, 119.14, 125.28, 124.34, 126.96, 110.35, 124.27, 117.08, 117.87, 117.19, 113.89, 126.36, 127.11, 109.3, 107.21, 125.27, 107.34, 112.21, 126.25, 115.01, 119.0, 118.14, 111.23, 111.3, 111.14, 107.03, 126.93, 125.29, 112.93, 121.26, 125.01, 126.19, 125.3, 118.12, 121.24, 107.37, 126.96, 127.12, 111.29, 113.21, 118.9, 124.37, 106.98, 126.1, 118.27, 120.24, 117.11, 121.34, 116.01, 126.22, 127.09, 120.06, 108.35, 118.11, 110.0, 126.97, 107.14, 125.0, 126.2, 112.98, 127.19, 124.11, 130.39, 130.22, 112.34, 111.08, 130.3, 130.13, 112.28, 130.34, 129.99, 130.02, 129.96, 130.08, 112.26, 130.37, 123.97, 130.11, 111.12, 112.14, 130.02, 130.27, 111.08, 111.09, 130.07, 130.16, 110.38, 111.06, 130.25, 111.05, 115.3, 123.28, 113.25, 114.35, 121.36, 116.03, 115.27, 122.98, 117.21, 119.04, 111.16, 113.17, 113.03, 107.0, 108.31, 109.93, 108.39, 108.29, 113.05, 111.23, 113.0, 118.97, 117.27, 126.21, 127.85, 129.29, 117.24, 107.39, 127.07, 120.09, 129.94, 129.2, 129.01, 126.9, 117.2, 117.04, 106.95, 117.19, 126.15, 105.89, 117.22, 110.2, 109.03, 127.31, 129.32, 120.11, 127.31, 110.1, 112.24, 126.12, 108.2, 127.35, 107.13, 117.05, 127.33, 129.11, 109.28, 118.35, 113.12, 114.31, 116.06, 126.09, 129.06, 107.22, 124.94, 113.29, 125.38, 112.11, 115.1, 118.06, 110.29, 127.86, 109.89, 116.2, 116.04, 123.25, 120.1, 120.9, 119.29, 110.17, 129.95, 120.15, 120.13, 115.06, 111.24, 118.09, 129.39, 127.19, 108.32, 117.29, 117.26, 114.1, 128.35, 129.38, 113.18, 121.07, 120.1, 117.98, 107.0, 124.96, 127.95, 127.3, 118.9, 118.3, 108.19, 119.34, 115.02, 120.0, 108.28, 127.21, 118.89, 123.1, 120.22, 126.39, 127.29, 117.34, 128.08, 113.95, 126.18, 124.93, 125.0, 124.07, 124.01, 119.12, 119.24, 129.11, 124.39, 109.36, 128.15, 125.04, 127.39, 127.93, 123.13, 120.94, 112.1, 125.22, 119.25, 127.09, 129.92, 120.35, 109.26, 125.19, 114.19, 112.21, 116.15, 115.06, 112.94, 115.98, 108.24, 126.01, 107.01, 109.35, 110.32, 126.16, 125.94, 112.97, 125.26, 113.08, 108.37, 116.35, 109.96, 123.99, 126.31, 109.87, 126.25, 107.02, 108.23, 125.98, 120.04, 126.22, 111.21, 109.24, 110.22, 112.3, 130.06, 111.06, 130.19, 130.05, 106.01, 120.17, 130.26, 125.14, 111.09, 112.23, 123.32, 113.34, 115.09, 114.09, 111.9, 120.01, 120.16, 118.22, 107.18, 111.96, 114.22, 113.28, 111.32, 111.26, 109.32, 108.26, 107.87, 109.27, 111.11, 113.04, 107.89, 113.09, 113.01, 113.1, 107.08, 108.16, 109.96, 112.99, 109.31, 109.34, 110.13, 112.95, 113.15, 111.28, 113.2, 121.18, 127.38, 116.19, 119.99, 127.88, 127.27, 129.04, 107.17, 129.18, 129.29, 126.25, 120.33, 129.09, 120.05, 129.29, 113.32, 129.89, 125.36, 126.99, 115.12, 123.11, 127.03, 114.12, 111.31, 124.18, 116.21, 129.25, 115.04, 120.91, 115.21, 105.9, 116.11, 115.07, 118.07, 123.27, 117.05, 116.23, 108.27, 128.07, 115.13, 120.15, 122.94, 129.26, 126.38, 128.13, 114.27, 129.33, 111.24, 120.22, 129.23, 126.28, 117.27, 119.17, 125.33, 119.95, 119.22, 111.07, 128.23, 127.92, 125.08, 116.96, 117.15, 119.1, 113.31, 129.37, 113.33, 112.21, 119.98, 127.08, 108.18, 117.23, 120.96, 112.12, 113.14, 108.33, 116.2, 107.36, 127.23, 126.92, 113.35, 113.27, 107.19, 111.18, 110.07, 120.3, 125.22, 121.03, 115.16, 121.12, 122.92, 115.07, 119.02, 128.04, 113.93, 113.25, 107.3, 118.33, 118.15, 128.12, 127.99, 129.13, 119.38, 123.94, 117.32, 116.37, 125.27, 121.25, 123.0, 118.16, 128.31, 115.96, 105.92, 106.06, 123.22, 118.27, 129.15, 115.24, 111.1, 109.02, 128.08, 120.19, 129.35, 117.9, 116.09, 128.19, 107.07, 108.36, 121.05, 116.3, 118.01, 114.39, 110.33, 121.09, 128.28, 127.36, 115.19, 124.95, 121.29, 121.0, 123.95, 119.99, 120.04, 127.25, 114.07, 124.04, 114.0, 124.0, 123.17, 118.05, 110.06, 129.01, 117.02, 123.24, 121.23, 118.04, 127.15, 109.98, 114.03, 109.29, 120.02, 107.27, 105.91, 121.08, 113.11, 118.94, 116.04, 106.23, 123.06, 118.19, 116.99, 117.92, 113.9, 112.36, 152.22, 141.12, 152.25, 152.22, 132.16, 133.23, 134.89, 134.94, 132.21, 133.22, 132.34, 135.92, 133.2, 135.02, 132.2, 133.24, 134.88, 131.28, 131.19, 134.32, 133.33, 131.36, 131.96, 134.0, 135.0, 135.09, 131.03, 131.22, 133.39, 134.99, 132.14, 135.13, 133.34, 136.01, 132.31, 132.35, 134.15, 133.38, 130.99, 136.0, 131.13, 133.25, 133.17, 130.86, 130.88, 134.3, 132.31, 134.16, 130.92, 131.99, 133.16, 135.32, 133.27, 132.16, 136.04, 132.03, 133.15, 134.85, 133.17, 135.98, 132.15, 134.15, 133.36, 132.29, 135.25, 133.35, 130.9, 132.26, 134.36, 133.3, 134.25, 133.31, 133.14, 131.38, 132.33, 134.86, 134.22, 133.0, 132.95, 131.96, 135.24, 135.95, 130.94, 135.16, 134.25, 133.21, 133.29, 133.32, 134.34, 135.07, 141.26, 142.14, 142.11, 152.23, 141.14, 141.95, 142.13, 142.32, 142.15, 141.22, 142.04, 141.18, 142.14, 141.9, 141.24, 141.1, 140.99, 140.93, 140.86, 140.11, 140.14, 140.35, 151.2, 140.3, 140.33, 139.97, 140.28, 140.21, 140.16, 141.01, 139.89, 151.87, 145.9, 150.21, 146.11, 148.05, 150.88, 149.9, 149.11, 145.87, 150.05, 150.91, 150.24, 147.22, 150.88, 146.92, 150.87, 146.87, 146.92, 148.15, 151.9, 146.93, 151.88, 148.95, 147.12, 148.1, 131.85, 147.09, 150.98, 145.18, 142.88, 144.88, 131.05, 152.35, 150.03, 139.85, 152.24, 152.25, 131.93, 133.28, 134.87, 134.19, 135.21, 133.33, 135.14, 134.28, 134.06, 135.36, 135.01, 134.35, 134.14, 131.3, 136.02, 131.32, 134.04, 134.96, 134.22, 130.97, 132.25, 132.14, 134.08, 132.3, 133.2, 133.23, 134.88, 131.01, 133.3, 135.29, 132.2, 132.08, 134.12, 134.98, 134.26, 133.26, 133.37, 132.29, 131.24, 134.1, 131.87, 131.26, 133.27, 134.95, 141.86, 141.2, 142.15, 141.08, 141.99, 141.16, 141.28, 141.32, 142.16, 142.13, 142.12, 142.11, 141.34, 142.13, 141.97, 142.14, 142.12, 141.3, 142.12, 142.15, 141.93, 141.04, 140.87, 139.92, 139.88, 140.91, 140.02, 141.06, 140.25, 132.33, 139.95, 139.88, 140.18, 140.23, 139.9, 140.95, 140.97, 140.06, 140.09, 140.85, 149.04, 149.02, 150.85, 143.28, 152.18, 152.24, 131.34, 132.33, 133.14, 133.36, 136.08, 141.88, 142.34, 142.09, 142.02, 144.86, 0.22, 17.26, 0.31, 24.09, 18.95, 26.89, 22.97, 6.86, 13.01, 15.19, 8.06, 21.89, 10.19, 20.01, 21.24, 23.99, 22.1, 15.93, 1.22, 4.24, 23.02, 5.22, 18.08, 12.09, 10.1, 24.13, 15.14, 13.1, 20.12, 11.16, 10.14, 22.05, 10.11, 22.92, 15.1, 2.15, 16.98, 3.04, 13.06, 7.91, 19.27, 1.19, 8.3, 18.11, 14.17, 9.04], \"y\": [32900, 299400, 253000, 184200, 231800, 172100, 371400, 144750, 188100, 124200, 327650, 287600, 298200, 102450, 132900, 331850, 298600, 173200, 376900, 202700, 209300, 287800, 107400, 155900, 47700, 265000, 228600, 51200, 135000, 143800, 72000, 157050, 195400, 150500, 317300, 378400, 144100, 296300, 257700, 98200, 267400, 82200, 312950, 914700, 902000, 460100, 642300, 495800, 666600, 394800, 626100, 455400, 415300, 724400, 385200, 1008000, 466500, 694700, 600400, 432200, 456900, 1045400, 1405000, 1352850, 1724000, 1650600, 41782900, 77100, 98500, 231400, 282100, 82700, 33900, 343800, 102300, 303800, 231300, 255600, 170800, 183000, 216700, 33600, 204400, 122300, 57600, 7700, 83000, 310700, 197900, 146900, 49900, 59800, 195400, 244700, 133400, 288900, 121900, 286300, 227800, 320100, 172700, 351600, 223200, 168800, 187800, 379300, 32800, 101600, 225200, 301800, 110000, 364300, 76900, 59800, 240600, 313700, 9400, 40400, 63000, 352700, 72000, 248000, 178600, 152200, 249200, 215000, 173000, 348100, 107100, 278000, 114400, 210200, 57600, 223000, 372500, 104100, 57300, 22200, 19600, 77800, 50500, 83000, 241600, 28800, 27800, 114100, 90400, 40900, 169000, 70000, 139300, 291500, 130200, 27700, 136500, 363900, 247900, 312500, 209000, 247700, 80900, 212200, 287500, 249100, 46700, 130400, 307700, 150100, 200000, 81600, 188900, 379600, 11900, 169900, 360800, 105100, 283800, 193200, 312800, 156600, 56000, 65700, 82300, 294500, 61100, 214700, 160300, 205700, 28100, 264800, 213300, 120300, 239600, 359400, 88550, 289400, 41900, 176500, 140000, 232800, 378300, 189350, 145100, 226300, 209500, 62200, 114600, 215600, 337300, 110500, 256200, 252300, 305300, 336350, 242700, 316900, 205300, 309100, 226000, 80000, 198900, 259600, 248300, 298800, 359500, 123300, 334400, 67400, 215000, 63200, 98150, 112700, 256500, 328500, 334600, 210600, 235100, 186600, 125600, 265300, 116100, 242400, 127800, 202300, 354400, 296250, 149300, 71400, 145100, 307900, 199600, 380400, 57900, 231675, 67700, 245600, 120900, 324400, 308400, 84400, 336000, 52800, 86900, 260200, 132100, 367600, 144100, 290100, 202100, 295200, 369400, 142800, 362300, 250700, 161600, 296600, 193900, 146200, 379700, 338800, 272000, 282600, 127100, 201300, 143300, 165700, 181700, 239900, 348600, 127000, 110700, 240600, 354650, 230800, 232400, 98800, 364100, 219600, 308900, 359500, 375400, 293800, 207200, 210300, 364200, 206500, 329100, 275400, 328150, 261600, 118150, 209700, 135900, 143500, 346700, 314700, 58900, 96200, 295700, 308800, 326700, 109400, 249050, 167700, 222000, 159000, 275700, 226550, 293900, 275350, 273900, 270000, 123300, 153300, 176900, 173400, 509950, 449200, 788100, 1017500, 580700, 440900, 723200, 453000, 576300, 745700, 497800, 949700, 756800, 406000, 445900, 393400, 885000, 395200, 816800, 450300, 923800, 461900, 488000, 508000, 855500, 627300, 696900, 730300, 596800, 506600, 409000, 714400, 595500, 396600, 420000, 683400, 455800, 499500, 651700, 1046900, 809000, 544200, 693100, 418600, 811000, 421800, 655500, 401700, 836900, 661400, 481700, 421600, 588200, 649200, 1039500, 676100, 413900, 503950, 772000, 484800, 677300, 519900, 496000, 510100, 1016850, 563820, 461300, 632800, 691000, 648200, 693000, 848900, 1019450, 505000, 924050, 705300, 1064500, 581750, 646650, 554950, 662300, 409400, 523600, 492000, 458000, 451600, 473000, 594050, 860100, 570700, 715700, 1012000, 509400, 628900, 393200, 667700, 557500, 886900, 815800, 837500, 623500, 543200, 456000, 657400, 995400, 946000, 412000, 514600, 475000, 391600, 651600, 510300, 491000, 399900, 763700, 416000, 556900, 474050, 546900, 443600, 567400, 943700, 517600, 470700, 424300, 438900, 435500, 920700, 940700, 543100, 688300, 751400, 927700, 598600, 429200, 500900, 988200, 654200, 841300, 680700, 759600, 775400, 614300, 738700, 578900, 780000, 439700, 428950, 413200, 622800, 437800, 704900, 579600, 592700, 480900, 503700, 851800, 420500, 408400, 575100, 719300, 890000, 612200, 668900, 544700, 1026200, 677800, 498300, 749600, 754400, 711300, 425100, 455300, 802200, 529900, 413200, 606500, 624000, 538800, 628200, 474000, 404650, 554000, 578500, 941800, 589400, 784500, 509600, 729700, 445600, 647600, 563300, 578600, 603400, 877600, 609600, 414000, 465300, 1048400, 415600, 446200, 746300, 879500, 472400, 487200, 545100, 440200, 690700, 865000, 649200, 403250, 776350, 662400, 635600, 621200, 403900, 1028000, 859200, 1007900, 509100, 994900, 477100, 853850, 1856800, 1118200, 1248800, 1240800, 1491100, 1940900, 1160000, 1864900, 1271900, 1268400, 1083300, 1338100, 1145900, 1565100, 1096250, 1279550, 1175700, 1230950, 1100400, 1309700, 1197100, 1500900, 2030700, 1578800, 1260500, 2089900, 3446000, 1616800, 1406800, 1133850, 227800, 55500, 50800, 292800, 46100, 289700, 26700, 311400, 160400, 313300, 210600, 54500, 177300, 298200, 188200, 51600, 34800, 101200, 286200, 84600, 299600, 173900, 217000, 63400, 129400, 99200, 158800, 227500, 120000, 41700, 22800, 340800, 188400, 78700, 334400, 61400, 69700, 296800, 283900, 259800, 319000, 324900, 103900, 233300, 34600, 222200, 107100, 244100, 212500, 217700, 266800, 142300, 196400, 197100, 226400, 247100, 286700, 188100, 38700, 270300, 236400, 74800, 238300, 95500, 47400, 139200, 31600, 22600, 172800, 36200, 44300, 145400, 254400, 366800, 37100, 259700, 157500, 234700, 102500, 77000, 276700, 347800, 168400, 64400, 140400, 234100, 67400, 63800, 355200, 215600, 345500, 340000, 233500, 188900, 143800, 130000, 253200, 340200, 139900, 234900, 174600, 41600, 191500, 156600, 278200, 103500, 188800, 205700, 190500, 233800, 99300, 124900, 279900, 320700, 290700, 288000, 220200, 247200, 326800, 151300, 154200, 520800, 826700, 402600, 442400, 1006000, 416400, 410500, 496500, 599200, 691000, 663900, 640400, 416000, 403200, 406000, 403900, 455200, 551700, 495000, 480000, 797200, 661500, 1012000, 626100, 472200, 473200, 508800, 714100, 432000, 724000, 400000, 577100, 812250, 864600, 532900, 958300, 522600, 544800, 402100, 631000, 471800, 496000, 512700, 581300, 407200, 615000, 780700, 512600, 628800, 573800, 645700, 490000, 463500, 620800, 871700, 589000, 466100, 398000, 561700, 754100, 426100, 586600, 745700, 559700, 410900, 819400, 711000, 760500, 444350, 759700, 455000, 747500, 551600, 486900, 470600, 794800, 832100, 457500, 957400, 505000, 524700, 534600, 502300, 558200, 710500, 458500, 401500, 672400, 552200, 808600, 831800, 801400, 776300, 750000, 771600, 480900, 642900, 572900, 739800, 730600, 601300, 451700, 645100, 813200, 462900, 529200, 475500, 1059300, 549250, 481500, 506200, 921300, 518400, 601800, 618200, 449900, 705300, 386500, 485000, 1004400, 884400, 1341600, 1204900, 1230900, 1100000, 1339200, 1334400, 1397400, 1183900, 1476200, 2644700, 1297500, 1183800, 1569700, 1469100, 1221900, 2602300, 758100, 441000, 901500, 690650, 873000, 1022200, 655500, 478800, 470700, 467300, 532000, 802500, 756900, 650800, 654400, 718700, 744350, 768400, 576700, 388400, 591100, 599200, 406900, 946200, 427200, 470150, 397650, 394900, 831900, 741050, 427000, 529200, 476400, 814600, 889600, 727200, 793900, 568800, 440000, 590000, 1419150, 1158300, 1380550, 1075500, 1695800, 1381800]}, {\"marker\": {\"color\": \"red\", \"line\": {\"width\": 1}, \"opacity\": 0.9, \"size\": 11}, \"mode\": \"markers\", \"name\": \"Low\", \"type\": \"scatter\", \"x\": [72.1, 95.9, 73.07, 74.18, 98.16, 97.1, 72.18, 98.14, 75.11, 78.28, 75.93, 98.06, 78.94, 97.11, 76.09, 72.87, 73.28, 78.18, 76.98, 73.36, 98.29, 78.09, 72.33, 97.24, 95.89, 74.85, 97.29, 74.97, 74.88, 78.87, 77.3, 98.24, 77.91, 74.9, 77.35, 71.99, 74.3, 77.07, 77.96, 96.92, 97.99, 72.93, 72.2, 98.11, 97.22, 77.9, 96.89, 72.09, 96.94, 75.36, 97.06, 96.91, 72.9, 71.96, 97.01, 76.0, 78.31, 76.33, 97.97, 95.89, 97.06, 74.92, 78.03, 73.17, 76.07, 98.08, 77.89, 97.05, 76.24, 72.85, 96.98, 78.24, 76.94, 72.15, 96.93, 78.0, 74.27, 75.27, 77.17, 71.95, 98.22, 72.95, 77.21, 95.91, 75.98, 110.25, 112.23, 111.07, 111.17, 111.07, 112.39, 110.38, 112.33, 113.23, 113.22, 128.9, 128.87, 129.36, 128.85, 129.17, 129.2, 128.96, 129.31, 129.06, 129.15, 148.11, 147.88, 146.09, 145.23, 144.91, 144.89, 152.15, 146.86, 143.1, 145.15, 152.27, 150.89, 131.17, 131.09, 149.13, 149.91, 145.86, 151.01, 152.16, 145.13, 148.24, 151.99, 146.18, 152.26, 131.9, 146.33, 144.89, 146.87, 144.96, 142.89, 145.87, 150.13, 144.9, 152.19, 143.27, 149.0, 146.14, 146.06, 148.2, 149.87, 152.23, 146.9, 149.19, 151.15, 144.91, 149.98, 152.19, 152.21, 151.14, 143.2, 147.96, 142.9, 145.2, 148.14, 146.87, 143.24, 150.12, 147.16, 149.17, 133.18, 148.91, 150.1, 152.16, 146.88, 152.17, 151.98, 150.88, 148.12, 152.2, 143.07, 146.16, 143.08, 149.06, 150.06, 144.9, 152.21, 147.03, 146.21, 152.12, 145.99, 144.9, 149.97, 150.08, 148.17, 148.25, 145.25, 151.9, 148.09, 147.25, 149.28, 150.1, 147.97, 145.01, 152.17, 152.3, 146.9, 150.26, 144.88, 149.08, 143.19, 149.97, 150.9, 146.87, 150.88, 144.86, 150.11, 150.07, 143.35, 143.21, 147.93, 150.13, 144.89, 146.85, 143.29, 143.05, 143.25, 145.92, 152.02, 148.95, 147.28, 143.22, 148.87, 136.11, 148.93, 151.03, 146.94, 143.26, 143.04, 145.95, 131.86, 148.21, 144.91, 149.88, 149.95, 146.02, 147.0, 150.86, 149.3, 142.93, 151.2, 149.96, 146.87, 144.89, 148.22, 150.09, 150.33, 149.15, 147.06, 151.13, 147.95, 150.92, 146.87, 148.98, 144.98, 146.28, 131.86, 143.09, 148.89, 144.9, 151.94, 145.32, 146.89, 146.23, 146.86, 146.25, 147.34, 143.3, 150.15, 151.86, 143.18, 145.97, 150.89, 147.19, 150.06, 146.04, 146.29, 148.26, 146.91, 146.88, 144.94, 142.92, 143.23, 133.19, 148.19, 150.87, 143.06, 131.07, 147.31, 145.11, 148.93, 144.9, 149.24, 146.87, 145.06, 142.92, 149.26, 148.94, 148.94, 142.91, 145.03, 131.15, 149.22, 148.16, 146.97, 151.08, 147.86, 131.11, 150.16, 152.1, 145.86, 145.08, 4.9, 2.21, 17.99, 21.93, 5.03, 1.36, 14.88, 24.98, 21.09, 2.06, 4.88, 14.87, 20.27, 12.32, 12.95, 4.86, 11.35, 6.89, 24.14, 23.17, 14.08, 18.01, 17.14, 21.87, 14.26, 9.99, 16.28, 12.01, 9.2, 24.01, 11.21, 10.31, 21.26, 13.03, 9.95, 6.98, 19.96, 0.32, 17.19, 2.03, 21.2, 1.07, 3.05, 13.97, 24.32, 22.33, 3.91, 15.11, 20.28, 16.32, 16.86, 1.31, 9.33, 13.31, 22.13, 13.07, 14.18, 1.12, 1.25, 0.1, 1.88, 18.28, 8.15, 1.97, 7.13, 24.16, 20.07, 26.37, 9.12, 10.12, 0.12, 3.02, 14.24, 23.21, 3.11, 1.87, 9.3, 11.06, 1.98, 11.31, 2.86, 20.28, 15.06, 11.28, 20.03, 24.02, 19.18, 14.27, 0.99, 18.03, 14.01, 7.16, 25.03, 13.95, 19.09, 21.98, 24.95, 9.86, 20.17, 13.9, 1.28, 15.12, 23.28, 6.96, 15.31, 19.32, 18.24, 1.37, 7.98, 20.15, 14.25, 10.09, 3.99, 6.93, 19.97, 9.08, 3.21, 15.03, 18.04, 2.99, 15.25, 22.18, 3.9, 21.19, 0.0, 3.86, 18.19, 21.18, 0.23, 23.12, 6.91, 7.33, 4.33, 26.3, 1.9, 17.92, 21.29, 20.2, 4.92, 20.1, 1.19, 0.07, 4.09, 11.89, 23.04, 15.28, 14.37, 11.11, 2.32, 0.03, 15.97, 18.33, 11.24, 14.86, 20.18, 8.13, 4.12, 23.32, 4.99, 11.25, 7.06, 19.13, 13.13, 4.95, 4.2, 19.01, 14.03, 8.97, 21.06, 3.36, 5.07, 18.21, 2.22, 16.11, 3.34, 9.85, 19.96, 17.9, 13.19, 11.33, 20.94, 9.96, 1.04, 23.19, 11.08, 0.27, 1.85, 12.2, 20.33, 3.88, 0.05, 14.89, 7.2, 21.17, 1.13, 2.85, 22.88, 1.13, 14.35, 1.1, 9.94, 1.03, 10.99, 17.3, 22.25, 24.15, 20.14, 22.12, 2.88, 13.26, 24.3, 20.31, 2.89, 1.89, 12.24, 8.01, 11.3, 23.24, 20.22, 24.26, 17.09, 16.21, 14.97, 0.98, 22.3, 15.02, 2.94, 24.94, 4.31, 0.2, 11.02, 21.33, 5.05, 18.2, 16.05, 18.34, 22.85, 8.98, 18.97, 4.97, 0.15, 10.07, 0.16, 10.24, 18.12, 21.02, 5.33, 19.99, 17.05, 12.22, 2.07, 11.1, 14.91, 24.22, 16.07, 19.98, 14.1, 24.01, 17.07, 2.2, 9.22, 20.13, 10.27, 5.01, 0.14, 9.19, 1.28, 24.05, 2.1, 7.99, 12.03, 17.93, 3.93, 7.87, 2.3, 24.19, 14.9, 20.3, 1.08, 19.06, 19.14, 19.95, 13.18, 10.22, 9.23, 7.86, 25.07, 8.1, 19.31, 0.1, 12.28, 10.03, 17.33, 21.13, 4.94, 10.21, 11.29, 14.21, 17.96, 19.98, 5.31, 1.16, 4.11, 0.99, 7.18, 10.32, 11.12, 20.05, 13.3, 8.33, 20.27, 14.31, 23.05, 0.24, 13.17, 11.93, 24.9, 12.15, 20.98, 23.09, 22.86, 19.12, 16.09, 18.15, 20.16, 3.27, 2.26, 1.24, 18.22], \"y\": [216000, 44300, 160100, 61300, 96300, 333000, 117300, 151900, 150200, 48400, 7700, 21200, 79800, 72800, 109500, 96800, 62400, 219800, 45000, 198800, 94400, 114900, 90300, 297800, 58200, 151600, 250100, 130200, 70100, 358300, 60000, 295300, 116000, 104000, 53200, 128400, 57400, 252200, 364400, 8400, 177700, 70200, 57700, 199000, 108000, 21600, 110200, 309700, 70800, 74800, 61500, 6800, 35600, 39000, 58500, 44400, 83200, 84100, 18900, 21700, 236000, 286800, 79200, 198500, 266400, 349900, 12200, 331800, 363200, 61100, 15000, 202200, 865900, 766800, 605600, 424600, 585700, 389200, 1017700, 589000, 403700, 566800, 793800, 461200, 743800, 84500, 6600, 6600, 213900, 20000, 198100, 187000, 252000, 14400, 15600, 134000, 199200, 51000, 347400, 109200, 23800, 71350, 87200, 654750, 524750, 15600, 362900, 160000, 171500, 42300, 3300, 158000, 49000, 123600, 88100, 38000, 225000, 55000, 56100, 46800, 194600, 192400, 20000, 53000, 27300, 34300, 11000, 53700, 12200, 61100, 144000, 3300, 10200, 179400, 66600, 11200, 10200, 61800, 172800, 161400, 88000, 127500, 162000, 20000, 94500, 106600, 19600, 19500, 36000, 24900, 56100, 177600, 42900, 215800, 23400, 159600, 339600, 136000, 104900, 40200, 218400, 33000, 8300, 75000, 79600, 151900, 79800, 161700, 46900, 60000, 47000, 96600, 221800, 115800, 30000, 39600, 4400, 216300, 280000, 90000, 15300, 125000, 162800, 126200, 113400, 45500, 55000, 18000, 35000, 22000, 14400, 292800, 127600, 170500, 112400, 202300, 71200, 8800, 11700, 261800, 259200, 33000, 182600, 163200, 16800, 206400, 282000, 20000, 133200, 246600, 24400, 284800, 118700, 42200, 19500, 64800, 116000, 323000, 203800, 11200, 153400, 48800, 136000, 26400, 45600, 176900, 42400, 108200, 23400, 17600, 227300, 100000, 11200, 13200, 5000, 155400, 93100, 289000, 293600, 152200, 233500, 103200, 378700, 69800, 87000, 67200, 15000, 16800, 61500, 16500, 311500, 77800, 66000, 13200, 23400, 352800, 10000, 284600, 46800, 20000, 7200, 4400, 45000, 4400, 11000, 105000, 35000, 8800, 160000, 117900, 68400, 149500, 110000, 39000, 49800, 6600, 30000, 127500, 90000, 205000, 179400, 190400, 135500, 144800, 40200, 33600, 125900, 6000, 22000, 196800, 20700, 33700, 259700, 90400, 7800, 4400, 57800, 84600, 51000, 20400, 86400, 15000, 20000, 20400, 95400, 7800, 174600, 170900, 204000, 40000, 368900, 115000, 52500, 80800, 175200, 166800, 2200, 12000, 28900, 286200, 335250, 80600, 18500, 33900, 139850, 22900, 11700, 31500, 51550, 34250, 170400, 342400, 145600, 36000, 7500, 123700, 194800, 30000, 135300, 24500, 17100, 71800, 32600, 123300, 22400, 112200, 353200, 66000, 274300, 70200, 1100, 48400, 7800, 25000, 268500, 234100, 36750, 35300, 44100, 23800, 288750, 346850, 302600, 38500, 5800, 34600, 14000, 197700, 179200, 27000, 24000, 38500, 20500, 5700, 30800, 18000, 142800, 246300, 30750, 105750, 181300, 30000, 79350, 102200, 38100, 28000, 234000, 87300, 88700, 49600, 180600, 177400, 102900, 268200, 49050, 33600, 17800, 30750, 53800, 183250, 17100, 30000, 208200, 14000, 2200, 40000, 13200, 288000, 35850, 76800, 38550, 114000, 8600, 119500, 90700, 10000, 13750, 18000, 212250, 304200, 44350, 112500, 297500, 23400, 319600, 14750, 50400, 136300, 354900, 150500, 19500, 193800, 261000, 6850, 46800, 288100, 256500, 81000, 70000, 134200, 114500, 163900, 227100, 59600, 63700, 42300, 39000, 302300, 41850, 158200, 11400, 37800, 208550, 46900, 10000, 81550, 229500, 21250, 324250, 148300, 5500, 133000, 73500, 30600, 33000, 123300, 164100, 110600, 148200, 7200, 179450, 79500, 7200, 351950, 10900, 252000, 195800, 15000, 181800, 104200, 148400, 236400, 89800, 83400, 67850, 9000, 96300, 315000, 27000, 88000, 160400, 122200, 7200, 7200, 11200, 39600, 8900, 1100, 7200, 11900, 13500, 107100, 153200, 147000, 23200, 126800, 27200, 29400, 48300, 231200, 36500, 136800, 24100, 5250, 284100, 23150, 31700, 144000, 27800, 137700, 321850, 3000, 10500, 35700, 139300, 217500, 59900, 22200, 86200, 14400, 33000, 73200, 12000, 154000, 79800, 317600, 42000, 246700, 40300, 81200, 218850, 79550, 80200, 139200, 252000, 153750, 64500, 153200, 24500, 40500, 318550, 163500, 55000, 189000, 216000, 63650, 146400, 196600, 186600, 31800, 8000, 51000, 9900, 3900, 117800, 49500, 21000, 35400, 201700, 163000, 92400, 5000, 192600, 6100, 132000, 128300, 11400, 8600, 33250, 192250, 39200, 289000, 188450, 164000, 36400, 73200, 198000, 43400, 118400, 7800, 161400, 162250, 5000, 31400, 26150, 258750, 6600, 15000, 13750, 24000, 10000, 33900, 302800, 175050, 77100, 257600, 217800, 187000, 75000, 357600, 41100, 224400, 12000, 282500, 86700, 5600, 267900, 85700, 71000, 15600, 119700, 10000, 22750, 147100, 228900, 264000, 23800, 109600, 144000, 10800, 199300, 135000, 56500, 148250, 76000, 246650, 19850, 101900, 39000, 180500, 5500, 245100, 297200, 75700, 24750]}],\n",
              "                        {\"template\": {\"data\": {\"bar\": [{\"error_x\": {\"color\": \"#2a3f5f\"}, \"error_y\": {\"color\": \"#2a3f5f\"}, \"marker\": {\"line\": {\"color\": \"#E5ECF6\", \"width\": 0.5}}, \"type\": \"bar\"}], \"barpolar\": [{\"marker\": {\"line\": {\"color\": \"#E5ECF6\", \"width\": 0.5}}, \"type\": \"barpolar\"}], \"carpet\": [{\"aaxis\": {\"endlinecolor\": \"#2a3f5f\", \"gridcolor\": \"white\", \"linecolor\": \"white\", \"minorgridcolor\": \"white\", \"startlinecolor\": \"#2a3f5f\"}, \"baxis\": {\"endlinecolor\": \"#2a3f5f\", \"gridcolor\": \"white\", \"linecolor\": \"white\", \"minorgridcolor\": \"white\", \"startlinecolor\": \"#2a3f5f\"}, \"type\": \"carpet\"}], \"choropleth\": [{\"colorbar\": {\"outlinewidth\": 0, \"ticks\": \"\"}, \"type\": \"choropleth\"}], \"contour\": [{\"colorbar\": {\"outlinewidth\": 0, \"ticks\": \"\"}, \"colorscale\": [[0.0, \"#0d0887\"], [0.1111111111111111, \"#46039f\"], [0.2222222222222222, \"#7201a8\"], [0.3333333333333333, \"#9c179e\"], [0.4444444444444444, \"#bd3786\"], [0.5555555555555556, \"#d8576b\"], [0.6666666666666666, \"#ed7953\"], [0.7777777777777778, \"#fb9f3a\"], [0.8888888888888888, \"#fdca26\"], [1.0, \"#f0f921\"]], \"type\": \"contour\"}], \"contourcarpet\": [{\"colorbar\": {\"outlinewidth\": 0, \"ticks\": \"\"}, \"type\": \"contourcarpet\"}], \"heatmap\": [{\"colorbar\": {\"outlinewidth\": 0, \"ticks\": \"\"}, \"colorscale\": [[0.0, \"#0d0887\"], [0.1111111111111111, \"#46039f\"], [0.2222222222222222, \"#7201a8\"], [0.3333333333333333, \"#9c179e\"], [0.4444444444444444, \"#bd3786\"], [0.5555555555555556, \"#d8576b\"], [0.6666666666666666, \"#ed7953\"], [0.7777777777777778, \"#fb9f3a\"], [0.8888888888888888, \"#fdca26\"], [1.0, \"#f0f921\"]], \"type\": \"heatmap\"}], \"heatmapgl\": [{\"colorbar\": {\"outlinewidth\": 0, \"ticks\": \"\"}, \"colorscale\": [[0.0, \"#0d0887\"], [0.1111111111111111, \"#46039f\"], [0.2222222222222222, \"#7201a8\"], [0.3333333333333333, \"#9c179e\"], [0.4444444444444444, \"#bd3786\"], [0.5555555555555556, \"#d8576b\"], [0.6666666666666666, \"#ed7953\"], [0.7777777777777778, \"#fb9f3a\"], [0.8888888888888888, \"#fdca26\"], [1.0, \"#f0f921\"]], \"type\": \"heatmapgl\"}], \"histogram\": [{\"marker\": {\"colorbar\": {\"outlinewidth\": 0, \"ticks\": \"\"}}, \"type\": \"histogram\"}], \"histogram2d\": [{\"colorbar\": {\"outlinewidth\": 0, \"ticks\": \"\"}, \"colorscale\": [[0.0, \"#0d0887\"], [0.1111111111111111, \"#46039f\"], [0.2222222222222222, \"#7201a8\"], [0.3333333333333333, \"#9c179e\"], [0.4444444444444444, \"#bd3786\"], [0.5555555555555556, \"#d8576b\"], [0.6666666666666666, \"#ed7953\"], [0.7777777777777778, \"#fb9f3a\"], [0.8888888888888888, \"#fdca26\"], [1.0, \"#f0f921\"]], \"type\": \"histogram2d\"}], \"histogram2dcontour\": [{\"colorbar\": {\"outlinewidth\": 0, \"ticks\": \"\"}, \"colorscale\": [[0.0, \"#0d0887\"], [0.1111111111111111, \"#46039f\"], [0.2222222222222222, \"#7201a8\"], [0.3333333333333333, \"#9c179e\"], [0.4444444444444444, \"#bd3786\"], [0.5555555555555556, \"#d8576b\"], [0.6666666666666666, \"#ed7953\"], [0.7777777777777778, \"#fb9f3a\"], [0.8888888888888888, \"#fdca26\"], [1.0, \"#f0f921\"]], \"type\": \"histogram2dcontour\"}], \"mesh3d\": [{\"colorbar\": {\"outlinewidth\": 0, \"ticks\": \"\"}, \"type\": \"mesh3d\"}], \"parcoords\": [{\"line\": {\"colorbar\": {\"outlinewidth\": 0, \"ticks\": \"\"}}, \"type\": \"parcoords\"}], \"pie\": [{\"automargin\": true, \"type\": \"pie\"}], \"scatter\": [{\"marker\": {\"colorbar\": {\"outlinewidth\": 0, \"ticks\": \"\"}}, \"type\": \"scatter\"}], \"scatter3d\": [{\"line\": {\"colorbar\": {\"outlinewidth\": 0, \"ticks\": \"\"}}, \"marker\": {\"colorbar\": {\"outlinewidth\": 0, \"ticks\": \"\"}}, \"type\": \"scatter3d\"}], \"scattercarpet\": [{\"marker\": {\"colorbar\": {\"outlinewidth\": 0, \"ticks\": \"\"}}, \"type\": \"scattercarpet\"}], \"scattergeo\": [{\"marker\": {\"colorbar\": {\"outlinewidth\": 0, \"ticks\": \"\"}}, \"type\": \"scattergeo\"}], \"scattergl\": [{\"marker\": {\"colorbar\": {\"outlinewidth\": 0, \"ticks\": \"\"}}, \"type\": \"scattergl\"}], \"scattermapbox\": [{\"marker\": {\"colorbar\": {\"outlinewidth\": 0, \"ticks\": \"\"}}, \"type\": \"scattermapbox\"}], \"scatterpolar\": [{\"marker\": {\"colorbar\": {\"outlinewidth\": 0, \"ticks\": \"\"}}, \"type\": \"scatterpolar\"}], \"scatterpolargl\": [{\"marker\": {\"colorbar\": {\"outlinewidth\": 0, \"ticks\": \"\"}}, \"type\": \"scatterpolargl\"}], \"scatterternary\": [{\"marker\": {\"colorbar\": {\"outlinewidth\": 0, \"ticks\": \"\"}}, \"type\": \"scatterternary\"}], \"surface\": [{\"colorbar\": {\"outlinewidth\": 0, \"ticks\": \"\"}, \"colorscale\": [[0.0, \"#0d0887\"], [0.1111111111111111, \"#46039f\"], [0.2222222222222222, \"#7201a8\"], [0.3333333333333333, \"#9c179e\"], [0.4444444444444444, \"#bd3786\"], [0.5555555555555556, \"#d8576b\"], [0.6666666666666666, \"#ed7953\"], [0.7777777777777778, \"#fb9f3a\"], [0.8888888888888888, \"#fdca26\"], [1.0, \"#f0f921\"]], \"type\": \"surface\"}], \"table\": [{\"cells\": {\"fill\": {\"color\": \"#EBF0F8\"}, \"line\": {\"color\": \"white\"}}, \"header\": {\"fill\": {\"color\": \"#C8D4E3\"}, \"line\": {\"color\": \"white\"}}, \"type\": \"table\"}]}, \"layout\": {\"annotationdefaults\": {\"arrowcolor\": \"#2a3f5f\", \"arrowhead\": 0, \"arrowwidth\": 1}, \"coloraxis\": {\"colorbar\": {\"outlinewidth\": 0, \"ticks\": \"\"}}, \"colorscale\": {\"diverging\": [[0, \"#8e0152\"], [0.1, \"#c51b7d\"], [0.2, \"#de77ae\"], [0.3, \"#f1b6da\"], [0.4, \"#fde0ef\"], [0.5, \"#f7f7f7\"], [0.6, \"#e6f5d0\"], [0.7, \"#b8e186\"], [0.8, \"#7fbc41\"], [0.9, \"#4d9221\"], [1, \"#276419\"]], \"sequential\": [[0.0, \"#0d0887\"], [0.1111111111111111, \"#46039f\"], [0.2222222222222222, \"#7201a8\"], [0.3333333333333333, \"#9c179e\"], [0.4444444444444444, \"#bd3786\"], [0.5555555555555556, \"#d8576b\"], [0.6666666666666666, \"#ed7953\"], [0.7777777777777778, \"#fb9f3a\"], [0.8888888888888888, \"#fdca26\"], [1.0, \"#f0f921\"]], \"sequentialminus\": [[0.0, \"#0d0887\"], [0.1111111111111111, \"#46039f\"], [0.2222222222222222, \"#7201a8\"], [0.3333333333333333, \"#9c179e\"], [0.4444444444444444, \"#bd3786\"], [0.5555555555555556, \"#d8576b\"], [0.6666666666666666, \"#ed7953\"], [0.7777777777777778, \"#fb9f3a\"], [0.8888888888888888, \"#fdca26\"], [1.0, \"#f0f921\"]]}, \"colorway\": [\"#636efa\", \"#EF553B\", \"#00cc96\", \"#ab63fa\", \"#FFA15A\", \"#19d3f3\", \"#FF6692\", \"#B6E880\", \"#FF97FF\", \"#FECB52\"], \"font\": {\"color\": \"#2a3f5f\"}, \"geo\": {\"bgcolor\": \"white\", \"lakecolor\": \"white\", \"landcolor\": \"#E5ECF6\", \"showlakes\": true, \"showland\": true, \"subunitcolor\": \"white\"}, \"hoverlabel\": {\"align\": \"left\"}, \"hovermode\": \"closest\", \"mapbox\": {\"style\": \"light\"}, \"paper_bgcolor\": \"white\", \"plot_bgcolor\": \"#E5ECF6\", \"polar\": {\"angularaxis\": {\"gridcolor\": \"white\", \"linecolor\": \"white\", \"ticks\": \"\"}, \"bgcolor\": \"#E5ECF6\", \"radialaxis\": {\"gridcolor\": \"white\", \"linecolor\": \"white\", \"ticks\": \"\"}}, \"scene\": {\"xaxis\": {\"backgroundcolor\": \"#E5ECF6\", \"gridcolor\": \"white\", \"gridwidth\": 2, \"linecolor\": \"white\", \"showbackground\": true, \"ticks\": \"\", \"zerolinecolor\": \"white\"}, \"yaxis\": {\"backgroundcolor\": \"#E5ECF6\", \"gridcolor\": \"white\", \"gridwidth\": 2, \"linecolor\": \"white\", \"showbackground\": true, \"ticks\": \"\", \"zerolinecolor\": \"white\"}, \"zaxis\": {\"backgroundcolor\": \"#E5ECF6\", \"gridcolor\": \"white\", \"gridwidth\": 2, \"linecolor\": \"white\", \"showbackground\": true, \"ticks\": \"\", \"zerolinecolor\": \"white\"}}, \"shapedefaults\": {\"line\": {\"color\": \"#2a3f5f\"}}, \"ternary\": {\"aaxis\": {\"gridcolor\": \"white\", \"linecolor\": \"white\", \"ticks\": \"\"}, \"baxis\": {\"gridcolor\": \"white\", \"linecolor\": \"white\", \"ticks\": \"\"}, \"bgcolor\": \"#E5ECF6\", \"caxis\": {\"gridcolor\": \"white\", \"linecolor\": \"white\", \"ticks\": \"\"}}, \"title\": {\"x\": 0.05}, \"xaxis\": {\"automargin\": true, \"gridcolor\": \"white\", \"linecolor\": \"white\", \"ticks\": \"\", \"title\": {\"standoff\": 15}, \"zerolinecolor\": \"white\", \"zerolinewidth\": 2}, \"yaxis\": {\"automargin\": true, \"gridcolor\": \"white\", \"linecolor\": \"white\", \"ticks\": \"\", \"title\": {\"standoff\": 15}, \"zerolinecolor\": \"white\", \"zerolinewidth\": 2}}}, \"title\": {\"text\": \"Segments\"}, \"xaxis\": {\"title\": {\"text\": \"Age(Days)\"}}, \"yaxis\": {\"title\": {\"text\": \"Monetary\"}}},\n",
              "                        {\"responsive\": true}\n",
              "                    ).then(function(){\n",
              "                            \n",
              "var gd = document.getElementById('9535748b-d974-49d6-8427-7b8961764c65');\n",
              "var x = new MutationObserver(function (mutations, observer) {{\n",
              "        var display = window.getComputedStyle(gd).display;\n",
              "        if (!display || display === 'none') {{\n",
              "            console.log([gd, 'removed!']);\n",
              "            Plotly.purge(gd);\n",
              "            observer.disconnect();\n",
              "        }}\n",
              "}});\n",
              "\n",
              "// Listen for the removal of the full notebook cells\n",
              "var notebookContainer = gd.closest('#notebook-container');\n",
              "if (notebookContainer) {{\n",
              "    x.observe(notebookContainer, {childList: true});\n",
              "}}\n",
              "\n",
              "// Listen for the clearing of the current output cell\n",
              "var outputEl = gd.closest('.output');\n",
              "if (outputEl) {{\n",
              "    x.observe(outputEl, {childList: true});\n",
              "}}\n",
              "\n",
              "                        })\n",
              "                };\n",
              "                \n",
              "            </script>\n",
              "        </div>\n",
              "</body>\n",
              "</html>"
            ]
          },
          "metadata": {
            "tags": []
          }
        }
      ]
    }
  ]
}